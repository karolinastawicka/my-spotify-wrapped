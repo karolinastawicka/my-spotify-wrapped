{
 "cells": [
  {
   "cell_type": "code",
   "execution_count": 1,
   "id": "14476111",
   "metadata": {},
   "outputs": [],
   "source": [
    "import pandas as pd\n",
    "import numpy as np\n",
    "from datetime import datetime\n",
    "from pytz import timezone\n",
    "import matplotlib.pyplot as plt\n",
    "import matplotlib.dates as mdates\n",
    "from matplotlib.dates import DateFormatter"
   ]
  },
  {
   "cell_type": "code",
   "execution_count": 2,
   "id": "5be7a387",
   "metadata": {},
   "outputs": [],
   "source": [
    "data_dir = '/Users/Karolina/ProjectsDataScience/data_science_environment/data/'\n",
    "file_list = ['MyDataSpotify/StreamingHistory1.json',\n",
    "             'MyDataSpotify/StreamingHistory2.json',\n",
    "             'MyDataSpotify/StreamingHistory3.json',\n",
    "             'MyDataSpotify/StreamingHistory4.json']\n",
    "\n",
    "dfs = [] # an empty list to store the data frames\n",
    "for file in file_list:\n",
    "    data = pd.read_json(data_dir+file) # read data frame from json file\n",
    "    dfs.append(data) # append the data frame to the list\n",
    "\n",
    "df = pd.concat(dfs, ignore_index=True) # concatenate all the data frames in the list."
   ]
  },
  {
   "cell_type": "code",
   "execution_count": 3,
   "id": "ea4531ba",
   "metadata": {},
   "outputs": [
    {
     "data": {
      "text/html": [
       "<div>\n",
       "<style scoped>\n",
       "    .dataframe tbody tr th:only-of-type {\n",
       "        vertical-align: middle;\n",
       "    }\n",
       "\n",
       "    .dataframe tbody tr th {\n",
       "        vertical-align: top;\n",
       "    }\n",
       "\n",
       "    .dataframe thead th {\n",
       "        text-align: right;\n",
       "    }\n",
       "</style>\n",
       "<table border=\"1\" class=\"dataframe\">\n",
       "  <thead>\n",
       "    <tr style=\"text-align: right;\">\n",
       "      <th></th>\n",
       "      <th>endTime</th>\n",
       "      <th>artistName</th>\n",
       "      <th>trackName</th>\n",
       "      <th>msPlayed</th>\n",
       "    </tr>\n",
       "  </thead>\n",
       "  <tbody>\n",
       "    <tr>\n",
       "      <th>0</th>\n",
       "      <td>2021-01-23 14:36</td>\n",
       "      <td>Billie Eilish</td>\n",
       "      <td>Lo Vas A Olvidar (with ROSALÍA)</td>\n",
       "      <td>203464</td>\n",
       "    </tr>\n",
       "    <tr>\n",
       "      <th>1</th>\n",
       "      <td>2021-01-23 14:39</td>\n",
       "      <td>Billie Eilish</td>\n",
       "      <td>Lo Vas A Olvidar (with ROSALÍA)</td>\n",
       "      <td>203464</td>\n",
       "    </tr>\n",
       "    <tr>\n",
       "      <th>2</th>\n",
       "      <td>2021-01-23 14:43</td>\n",
       "      <td>Billie Eilish</td>\n",
       "      <td>Lo Vas A Olvidar (with ROSALÍA)</td>\n",
       "      <td>203464</td>\n",
       "    </tr>\n",
       "    <tr>\n",
       "      <th>3</th>\n",
       "      <td>2021-01-23 14:46</td>\n",
       "      <td>Billie Eilish</td>\n",
       "      <td>Lo Vas A Olvidar (with ROSALÍA)</td>\n",
       "      <td>203464</td>\n",
       "    </tr>\n",
       "    <tr>\n",
       "      <th>4</th>\n",
       "      <td>2021-01-23 14:50</td>\n",
       "      <td>Billie Eilish</td>\n",
       "      <td>Lo Vas A Olvidar (with ROSALÍA)</td>\n",
       "      <td>203464</td>\n",
       "    </tr>\n",
       "  </tbody>\n",
       "</table>\n",
       "</div>"
      ],
      "text/plain": [
       "            endTime     artistName                        trackName  msPlayed\n",
       "0  2021-01-23 14:36  Billie Eilish  Lo Vas A Olvidar (with ROSALÍA)    203464\n",
       "1  2021-01-23 14:39  Billie Eilish  Lo Vas A Olvidar (with ROSALÍA)    203464\n",
       "2  2021-01-23 14:43  Billie Eilish  Lo Vas A Olvidar (with ROSALÍA)    203464\n",
       "3  2021-01-23 14:46  Billie Eilish  Lo Vas A Olvidar (with ROSALÍA)    203464\n",
       "4  2021-01-23 14:50  Billie Eilish  Lo Vas A Olvidar (with ROSALÍA)    203464"
      ]
     },
     "execution_count": 3,
     "metadata": {},
     "output_type": "execute_result"
    }
   ],
   "source": [
    "df.head()"
   ]
  },
  {
   "cell_type": "code",
   "execution_count": 4,
   "id": "05a226a9",
   "metadata": {},
   "outputs": [
    {
     "name": "stdout",
     "output_type": "stream",
     "text": [
      "<class 'pandas.core.frame.DataFrame'>\n",
      "RangeIndex: 37735 entries, 0 to 37734\n",
      "Data columns (total 4 columns):\n",
      " #   Column      Non-Null Count  Dtype \n",
      "---  ------      --------------  ----- \n",
      " 0   endTime     37735 non-null  object\n",
      " 1   artistName  37735 non-null  object\n",
      " 2   trackName   37735 non-null  object\n",
      " 3   msPlayed    37735 non-null  int64 \n",
      "dtypes: int64(1), object(3)\n",
      "memory usage: 1.2+ MB\n"
     ]
    }
   ],
   "source": [
    "df.info()"
   ]
  },
  {
   "cell_type": "code",
   "execution_count": 5,
   "id": "37c94705",
   "metadata": {},
   "outputs": [
    {
     "name": "stdout",
     "output_type": "stream",
     "text": [
      "<class 'pandas.core.frame.DataFrame'>\n",
      "RangeIndex: 37735 entries, 0 to 37734\n",
      "Data columns (total 6 columns):\n",
      " #   Column       Non-Null Count  Dtype                        \n",
      "---  ------       --------------  -----                        \n",
      " 0   endTime      37735 non-null  datetime64[ns]               \n",
      " 1   artistName   37735 non-null  object                       \n",
      " 2   trackName    37735 non-null  object                       \n",
      " 3   msPlayed     37735 non-null  int64                        \n",
      " 4   endTimeTz    37735 non-null  datetime64[ns, UTC]          \n",
      " 5   endTimeTzEU  37735 non-null  datetime64[ns, Europe/Berlin]\n",
      "dtypes: datetime64[ns, Europe/Berlin](1), datetime64[ns, UTC](1), datetime64[ns](1), int64(1), object(2)\n",
      "memory usage: 1.7+ MB\n"
     ]
    }
   ],
   "source": [
    "df.endTime = pd.to_datetime(df.endTime, infer_datetime_format=True) \n",
    "\n",
    "#Set the current time to US Pacific timezone\n",
    "df['endTimeTz']= df.endTime.dt.tz_localize(tz='UTC')\n",
    "\n",
    "#convert US Pacific to Europe/Berlin Timezone\n",
    "df['endTimeTzEU']=df.endTimeTz.dt.tz_convert(tz='Europe/Berlin')\n",
    "\n",
    "df.info()"
   ]
  },
  {
   "cell_type": "code",
   "execution_count": 6,
   "id": "fdc9b28b",
   "metadata": {},
   "outputs": [
    {
     "name": "stderr",
     "output_type": "stream",
     "text": [
      "/opt/anaconda3/lib/python3.8/site-packages/pandas/core/arrays/datetimes.py:1101: UserWarning: Converting to PeriodArray/Index representation will drop timezone information.\n",
      "  warnings.warn(\n"
     ]
    }
   ],
   "source": [
    "df['hour'] = df.endTimeTzEU.dt.hour\n",
    "df['month'] = df['endTimeTzEU'].dt.to_period('M').apply(lambda r: r.start_time)\n",
    "\n",
    "\n",
    "df['sPlayed'] = df['msPlayed']/(1000)\n",
    "df['mPlayed'] = df['sPlayed']/(60)\n",
    "df['hPlayed'] = df['sPlayed']/(60*60)"
   ]
  },
  {
   "cell_type": "code",
   "execution_count": 7,
   "id": "0453e016",
   "metadata": {},
   "outputs": [
    {
     "data": {
      "text/html": [
       "<div>\n",
       "<style scoped>\n",
       "    .dataframe tbody tr th:only-of-type {\n",
       "        vertical-align: middle;\n",
       "    }\n",
       "\n",
       "    .dataframe tbody tr th {\n",
       "        vertical-align: top;\n",
       "    }\n",
       "\n",
       "    .dataframe thead th {\n",
       "        text-align: right;\n",
       "    }\n",
       "</style>\n",
       "<table border=\"1\" class=\"dataframe\">\n",
       "  <thead>\n",
       "    <tr style=\"text-align: right;\">\n",
       "      <th></th>\n",
       "      <th>endTime</th>\n",
       "      <th>artistName</th>\n",
       "      <th>trackName</th>\n",
       "      <th>msPlayed</th>\n",
       "      <th>endTimeTz</th>\n",
       "      <th>endTimeTzEU</th>\n",
       "      <th>hour</th>\n",
       "      <th>month</th>\n",
       "      <th>sPlayed</th>\n",
       "      <th>mPlayed</th>\n",
       "      <th>hPlayed</th>\n",
       "    </tr>\n",
       "  </thead>\n",
       "  <tbody>\n",
       "    <tr>\n",
       "      <th>0</th>\n",
       "      <td>2021-01-23 14:36:00</td>\n",
       "      <td>Billie Eilish</td>\n",
       "      <td>Lo Vas A Olvidar (with ROSALÍA)</td>\n",
       "      <td>203464</td>\n",
       "      <td>2021-01-23 14:36:00+00:00</td>\n",
       "      <td>2021-01-23 15:36:00+01:00</td>\n",
       "      <td>15</td>\n",
       "      <td>2021-01-01</td>\n",
       "      <td>203.464</td>\n",
       "      <td>3.391067</td>\n",
       "      <td>0.056518</td>\n",
       "    </tr>\n",
       "    <tr>\n",
       "      <th>1</th>\n",
       "      <td>2021-01-23 14:39:00</td>\n",
       "      <td>Billie Eilish</td>\n",
       "      <td>Lo Vas A Olvidar (with ROSALÍA)</td>\n",
       "      <td>203464</td>\n",
       "      <td>2021-01-23 14:39:00+00:00</td>\n",
       "      <td>2021-01-23 15:39:00+01:00</td>\n",
       "      <td>15</td>\n",
       "      <td>2021-01-01</td>\n",
       "      <td>203.464</td>\n",
       "      <td>3.391067</td>\n",
       "      <td>0.056518</td>\n",
       "    </tr>\n",
       "    <tr>\n",
       "      <th>2</th>\n",
       "      <td>2021-01-23 14:43:00</td>\n",
       "      <td>Billie Eilish</td>\n",
       "      <td>Lo Vas A Olvidar (with ROSALÍA)</td>\n",
       "      <td>203464</td>\n",
       "      <td>2021-01-23 14:43:00+00:00</td>\n",
       "      <td>2021-01-23 15:43:00+01:00</td>\n",
       "      <td>15</td>\n",
       "      <td>2021-01-01</td>\n",
       "      <td>203.464</td>\n",
       "      <td>3.391067</td>\n",
       "      <td>0.056518</td>\n",
       "    </tr>\n",
       "    <tr>\n",
       "      <th>3</th>\n",
       "      <td>2021-01-23 14:46:00</td>\n",
       "      <td>Billie Eilish</td>\n",
       "      <td>Lo Vas A Olvidar (with ROSALÍA)</td>\n",
       "      <td>203464</td>\n",
       "      <td>2021-01-23 14:46:00+00:00</td>\n",
       "      <td>2021-01-23 15:46:00+01:00</td>\n",
       "      <td>15</td>\n",
       "      <td>2021-01-01</td>\n",
       "      <td>203.464</td>\n",
       "      <td>3.391067</td>\n",
       "      <td>0.056518</td>\n",
       "    </tr>\n",
       "    <tr>\n",
       "      <th>4</th>\n",
       "      <td>2021-01-23 14:50:00</td>\n",
       "      <td>Billie Eilish</td>\n",
       "      <td>Lo Vas A Olvidar (with ROSALÍA)</td>\n",
       "      <td>203464</td>\n",
       "      <td>2021-01-23 14:50:00+00:00</td>\n",
       "      <td>2021-01-23 15:50:00+01:00</td>\n",
       "      <td>15</td>\n",
       "      <td>2021-01-01</td>\n",
       "      <td>203.464</td>\n",
       "      <td>3.391067</td>\n",
       "      <td>0.056518</td>\n",
       "    </tr>\n",
       "  </tbody>\n",
       "</table>\n",
       "</div>"
      ],
      "text/plain": [
       "              endTime     artistName                        trackName  \\\n",
       "0 2021-01-23 14:36:00  Billie Eilish  Lo Vas A Olvidar (with ROSALÍA)   \n",
       "1 2021-01-23 14:39:00  Billie Eilish  Lo Vas A Olvidar (with ROSALÍA)   \n",
       "2 2021-01-23 14:43:00  Billie Eilish  Lo Vas A Olvidar (with ROSALÍA)   \n",
       "3 2021-01-23 14:46:00  Billie Eilish  Lo Vas A Olvidar (with ROSALÍA)   \n",
       "4 2021-01-23 14:50:00  Billie Eilish  Lo Vas A Olvidar (with ROSALÍA)   \n",
       "\n",
       "   msPlayed                 endTimeTz               endTimeTzEU  hour  \\\n",
       "0    203464 2021-01-23 14:36:00+00:00 2021-01-23 15:36:00+01:00    15   \n",
       "1    203464 2021-01-23 14:39:00+00:00 2021-01-23 15:39:00+01:00    15   \n",
       "2    203464 2021-01-23 14:43:00+00:00 2021-01-23 15:43:00+01:00    15   \n",
       "3    203464 2021-01-23 14:46:00+00:00 2021-01-23 15:46:00+01:00    15   \n",
       "4    203464 2021-01-23 14:50:00+00:00 2021-01-23 15:50:00+01:00    15   \n",
       "\n",
       "       month  sPlayed   mPlayed   hPlayed  \n",
       "0 2021-01-01  203.464  3.391067  0.056518  \n",
       "1 2021-01-01  203.464  3.391067  0.056518  \n",
       "2 2021-01-01  203.464  3.391067  0.056518  \n",
       "3 2021-01-01  203.464  3.391067  0.056518  \n",
       "4 2021-01-01  203.464  3.391067  0.056518  "
      ]
     },
     "execution_count": 7,
     "metadata": {},
     "output_type": "execute_result"
    }
   ],
   "source": [
    "df.head()"
   ]
  },
  {
   "cell_type": "code",
   "execution_count": 8,
   "id": "49032c15",
   "metadata": {},
   "outputs": [
    {
     "data": {
      "text/html": [
       "<div>\n",
       "<style scoped>\n",
       "    .dataframe tbody tr th:only-of-type {\n",
       "        vertical-align: middle;\n",
       "    }\n",
       "\n",
       "    .dataframe tbody tr th {\n",
       "        vertical-align: top;\n",
       "    }\n",
       "\n",
       "    .dataframe thead th {\n",
       "        text-align: right;\n",
       "    }\n",
       "</style>\n",
       "<table border=\"1\" class=\"dataframe\">\n",
       "  <thead>\n",
       "    <tr style=\"text-align: right;\">\n",
       "      <th></th>\n",
       "      <th>mPlayed</th>\n",
       "    </tr>\n",
       "    <tr>\n",
       "      <th>month</th>\n",
       "      <th></th>\n",
       "    </tr>\n",
       "  </thead>\n",
       "  <tbody>\n",
       "    <tr>\n",
       "      <th>2021-01-01</th>\n",
       "      <td>2557.524400</td>\n",
       "    </tr>\n",
       "    <tr>\n",
       "      <th>2021-02-01</th>\n",
       "      <td>8701.312250</td>\n",
       "    </tr>\n",
       "    <tr>\n",
       "      <th>2021-03-01</th>\n",
       "      <td>10572.627633</td>\n",
       "    </tr>\n",
       "    <tr>\n",
       "      <th>2021-04-01</th>\n",
       "      <td>8702.578650</td>\n",
       "    </tr>\n",
       "    <tr>\n",
       "      <th>2021-05-01</th>\n",
       "      <td>10382.081483</td>\n",
       "    </tr>\n",
       "    <tr>\n",
       "      <th>2021-06-01</th>\n",
       "      <td>7191.195233</td>\n",
       "    </tr>\n",
       "    <tr>\n",
       "      <th>2021-07-01</th>\n",
       "      <td>8133.350600</td>\n",
       "    </tr>\n",
       "    <tr>\n",
       "      <th>2021-08-01</th>\n",
       "      <td>8246.205717</td>\n",
       "    </tr>\n",
       "    <tr>\n",
       "      <th>2021-09-01</th>\n",
       "      <td>7072.260817</td>\n",
       "    </tr>\n",
       "    <tr>\n",
       "      <th>2021-10-01</th>\n",
       "      <td>11062.421783</td>\n",
       "    </tr>\n",
       "    <tr>\n",
       "      <th>2021-11-01</th>\n",
       "      <td>5738.195317</td>\n",
       "    </tr>\n",
       "  </tbody>\n",
       "</table>\n",
       "</div>"
      ],
      "text/plain": [
       "                 mPlayed\n",
       "month                   \n",
       "2021-01-01   2557.524400\n",
       "2021-02-01   8701.312250\n",
       "2021-03-01  10572.627633\n",
       "2021-04-01   8702.578650\n",
       "2021-05-01  10382.081483\n",
       "2021-06-01   7191.195233\n",
       "2021-07-01   8133.350600\n",
       "2021-08-01   8246.205717\n",
       "2021-09-01   7072.260817\n",
       "2021-10-01  11062.421783\n",
       "2021-11-01   5738.195317"
      ]
     },
     "execution_count": 8,
     "metadata": {},
     "output_type": "execute_result"
    }
   ],
   "source": [
    "minutesPerMonth = pd.DataFrame(df.groupby('month')['mPlayed'].sum())\n",
    "minutesPerMonth"
   ]
  },
  {
   "cell_type": "code",
   "execution_count": 15,
   "id": "712fa1a4",
   "metadata": {},
   "outputs": [],
   "source": [
    "# had issues with cleaning cache for matplotlib\n",
    "from matplotlib import font_manager\n",
    "\n",
    "font_dirs = ['/Users/Karolina/Downloads'] \n",
    "font_files = font_manager.findSystemFonts(fontpaths=font_dirs)\n",
    "\n",
    "for font_file in font_files:\n",
    "    font_manager.fontManager.addfont(font_file)\n",
    "\n"
   ]
  },
  {
   "cell_type": "code",
   "execution_count": 17,
   "id": "d275859d",
   "metadata": {},
   "outputs": [
    {
     "name": "stdout",
     "output_type": "stream",
     "text": [
      "Populating the interactive namespace from numpy and matplotlib\n"
     ]
    },
    {
     "data": {
      "image/png": "[encoded data removed]",
      "text/plain": [
       "<Figure size 1008x1152 with 1 Axes>"
      ]
     },
     "metadata": {},
     "output_type": "display_data"
    }
   ],
   "source": [
    "%pylab inline\n",
    "\n",
    "plt.xkcd()\n",
    "\n",
    "# set font\n",
    "plt.rcParams['font.family'] = 'Humor Sans'\n",
    "fig = plt.figure(figsize=(14, 16))\n",
    "ax = fig.add_subplot(211)\n",
    "ax.plot(minutesPerMonth)\n",
    "plt.title('Whoo Hoo!!!')\n",
    "\n",
    "# Define the date format\n",
    "date_form = DateFormatter(\"%b\")\n",
    "ax.xaxis.set_major_formatter(date_form)\n",
    "\n",
    "\n",
    "\n",
    "ax.set_xlabel((\"In the last few years, with very little fanfare,\\n\"\n",
    "               \"We've conclusively settled the questions of\\n\"\n",
    "               \"flying saucers, lake monsters, ghosts, and bigfoot.\"),\n",
    "              size=16)\n",
    "ax.set_ylabel(\"Minutes played\", size=16)\n",
    "\n",
    "#ax.text(datetime.date(2021, 7, 1), 6000, \"!!!\")\n",
    "ax.annotate('summer started', xy=(datetime.date(2021, 6, 1), 7000), xytext=(datetime.date(2021, 7, 1), 6000),\n",
    "            arrowprops=dict(facecolor='black', shrink=0.05))\n",
    "\n",
    "\n",
    "plt.show()"
   ]
  },
  {
   "cell_type": "code",
   "execution_count": 12,
   "id": "de275b6f",
   "metadata": {},
   "outputs": [],
   "source": []
  },
  {
   "cell_type": "code",
   "execution_count": null,
   "id": "f1713cf2",
   "metadata": {},
   "outputs": [],
   "source": []
  },
  {
   "cell_type": "code",
   "execution_count": null,
   "id": "93db83be",
   "metadata": {},
   "outputs": [],
   "source": []
  },
  {
   "cell_type": "code",
   "execution_count": null,
   "id": "8de408aa",
   "metadata": {},
   "outputs": [],
   "source": [
    "avg = pd.DataFrame(df.groupby('hour')['trackName'].size())"
   ]
  },
  {
   "cell_type": "code",
   "execution_count": null,
   "id": "97e200c7",
   "metadata": {},
   "outputs": [],
   "source": [
    "avg.trackName"
   ]
  },
  {
   "cell_type": "code",
   "execution_count": null,
   "id": "127cca89",
   "metadata": {},
   "outputs": [],
   "source": [
    "fig = plt.figure(figsize=(7,7))\n",
    "\n",
    "ax = plt.subplot(111, projection = 'polar')\n",
    "\n",
    "width = (2*np.pi) / 24\n",
    "ax.bar(avg.index, avg.trackName, width = width, alpha=0.3, color='red', label='Day 1')\n",
    "\n",
    "# Make the labels go clockwise\n",
    "ax.set_theta_direction(-1)\n",
    "\n",
    "#Place Zero at Top\n",
    "ax.set_theta_offset(np.pi/2)\n",
    "\n",
    "#Set the circumference ticks\n",
    "ax.set_xticks(np.linspace(0, 2*np.pi, 24, endpoint=False))\n",
    "\n",
    "# set the label names\n",
    "ticks = avg.index\n",
    "# ['12 AM', '1 AM', '2 AM', '3 AM', '4 AM', '5 AM', '6 AM', '7 AM','8 AM','9 AM','10 AM','11 AM','12 PM', '1 PM', '2 PM', '3 PM', '4 PM',  '5 PM', '6 PM', '7 PM', '8 PM', '9 PM', '10 PM', '11 PM' ]\n",
    "ax.set_xticklabels(ticks)\n",
    "\n",
    "# suppress the radial labels\n",
    "plt.setp(ax.get_yticklabels(), visible=False)\n",
    "\n",
    "#Bars to the wall\n",
    "#plt.ylim(0,2)\n",
    "\n",
    "plt.legend(bbox_to_anchor=(1,0), fancybox=True, shadow=True)\n",
    "plt.show()"
   ]
  },
  {
   "cell_type": "code",
   "execution_count": null,
   "id": "0d4383b4",
   "metadata": {},
   "outputs": [],
   "source": [
    "import numpy as np\n",
    "import matplotlib.pyplot as plt\n",
    "import seaborn as sns\n",
    "sns.set_context('poster')\n",
    "sns.set_style('white')"
   ]
  },
  {
   "cell_type": "code",
   "execution_count": null,
   "id": "87798fee",
   "metadata": {},
   "outputs": [],
   "source": [
    "N = 23\n",
    "bottom = 2\n",
    "\n",
    "# create theta for 24 hours\n",
    "theta = np.linspace(0.0, 2 * np.pi, N, endpoint=False)\n",
    "\n",
    "# make the histogram that bined on 24 hour\n",
    "radii, tick = np.histogram(df.hour, bins = 23)\n",
    "\n",
    "# width of each bin on the plot\n",
    "width = (2*np.pi) / N\n",
    "\n",
    "# make a polar plot\n",
    "plt.figure(figsize = (12, 8))\n",
    "ax = plt.subplot(111, polar=True)\n",
    "bars = ax.bar(theta, radii, width=width, bottom=bottom, alpha=0.3, color='red',)\n",
    "\n",
    "# set the lable go clockwise and start from the top\n",
    "ax.set_theta_zero_location(\"N\")\n",
    "# clockwise\n",
    "ax.set_theta_direction(-1)\n",
    "\n",
    "# set the label\n",
    "ticks = ['0:00', '3:00', '6:00', '9:00', '12:00', '15:00', '18:00', '21:00']\n",
    "ax.set_xticklabels(ticks)\n",
    "\n",
    "plt.setp(ax.get_yticklabels(), visible=False)\n",
    "\n",
    "\n",
    "\n",
    "plt.show()\n"
   ]
  },
  {
   "cell_type": "code",
   "execution_count": null,
   "id": "ff5cff52",
   "metadata": {},
   "outputs": [],
   "source": [
    "radii"
   ]
  },
  {
   "cell_type": "code",
   "execution_count": null,
   "id": "6f7eb0e8",
   "metadata": {},
   "outputs": [],
   "source": [
    "avg"
   ]
  },
  {
   "cell_type": "code",
   "execution_count": null,
   "id": "1150b6fb",
   "metadata": {},
   "outputs": [],
   "source": [
    "import numpy as np\n",
    "import matplotlib.pyplot as plt     \n",
    "\n",
    "plt.figure(figsize = (20, 10))\n",
    "ax = plt.subplot(111, polar=True)\n",
    "\n",
    "equals = np.linspace(0, 360, 24, endpoint=False) #np.arange(24)\n",
    "ones = np.ones(24)\n",
    "ax.bar(np.deg2rad(equals), avg.trackName)       \n",
    "\n",
    "# Set the circumference labels\n",
    "ax.set_xticks(np.linspace(0, 2*np.pi, 24, endpoint=False))\n",
    "ax.set_xticklabels(range(24))      \n",
    "\n",
    "# Make the labels go clockwise\n",
    "ax.set_theta_direction(-1)       \n",
    "\n",
    "# Place 0 at the top\n",
    "ax.set_theta_offset(np.pi/2.0)       \n",
    "\n",
    "plt.show()"
   ]
  },
  {
   "cell_type": "code",
   "execution_count": null,
   "id": "484b5ebf",
   "metadata": {},
   "outputs": [],
   "source": [
    "np.linspace(0, 360, 24, endpoint=False) #np.arange(24)"
   ]
  },
  {
   "cell_type": "code",
   "execution_count": null,
   "id": "a7f42d3a",
   "metadata": {},
   "outputs": [],
   "source": [
    "np.linspace(0.0, 2 * np.pi, N, endpoint=False)\n"
   ]
  },
  {
   "cell_type": "code",
   "execution_count": null,
   "id": "7b391c14",
   "metadata": {},
   "outputs": [],
   "source": [
    "np.linspace(0, 360, 24, endpoint=False)"
   ]
  },
  {
   "cell_type": "code",
   "execution_count": null,
   "id": "66ba00ed",
   "metadata": {},
   "outputs": [],
   "source": []
  }
 ],
 "metadata": {
  "kernelspec": {
   "display_name": "Python 3",
   "language": "python",
   "name": "python3"
  },
  "language_info": {
   "codemirror_mode": {
    "name": "ipython",
    "version": 3
   },
   "file_extension": ".py",
   "mimetype": "text/x-python",
   "name": "python",
   "nbconvert_exporter": "python",
   "pygments_lexer": "ipython3",
   "version": "3.8.8"
  }
 },
 "nbformat": 4,
 "nbformat_minor": 5
}
