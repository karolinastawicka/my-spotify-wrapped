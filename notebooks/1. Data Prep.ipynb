{
 "cells": [
  {
   "cell_type": "markdown",
   "id": "ab03f053",
   "metadata": {},
   "source": [
    "<span style=\"font-family:Helvetica Light\">\n",
    "    \n",
    "# Data Prep\n",
    "\n",
    "\n",
    "## The goal of this notebook:\n",
    "The goal of this notebook is to:\n",
    "* import the Streaming History requested from Spotify, \n",
    "* merge it into 1 data frame, \n",
    "* add needed date and time related transformations \n",
    "* connect to the Spotify API using Spotipy library in order to extend my dataset with track details and audio features \n",
    "\n",
    "## About obtaining user's data\n",
    "Spotify allows its users to get a copy of one year worth of their streaming history. To get your own simply <a href=\"https://www.spotify.com/us/account/privacy/\" target=\"_blank\">click here</a> and scroll down and follow the steps. \n",
    "\n",
    "## About Spotipy Library\n",
    "From the <a href=\"https://spotipy.readthedocs.io/\" target=\"_blank\">Spotipy documentation</a>:\n",
    "\n",
    "<blockquote>Spotipy is a lightweight Python library for the Spotify Web API. With Spotipy you get full access to all of the music data provided by the Spotify platform.</blockquote>\n",
    "\n",
    "In this notebook following <a href=\"https://spotipy.readthedocs.io/en/2.19.0/#api-reference\" target=\"_blank\">API references functions</a> were used in order to get endpoints listed below:\n",
    "* search(_q, limit=10, offset=0, type='track', market=None_)\n",
    "* audio_features(_tracks=[]_)\n",
    "\n",
    "## About Spotify API\n",
    "From the <a href=\"https://developer.spotify.com/documentation/web-api/\" target=\"_blank\">Spotipy documentation</a>:\n",
    "\n",
    "<blockquote>the Spotify Web API endpoints return JSON metadata about music artists, albums, and tracks, directly from the Spotify Data Catalogue. [...] Web API also provides access to user related data, like playlists and music that the user saves in the Your Music library. Such access is enabled through selective authorization, by the user.</blockquote>\n",
    "\n",
    "In this notebook following endpoints were used:\n",
    "* <a href=\"https://developer.spotify.com/documentation/web-api/reference/#/operations/search\" target=\"_blank\">search</a>\n",
    "* <a href=\"https://developer.spotify.com/documentation/web-api/reference/#/operations/get-several-audio-features\" target=\"_blank\">audio features</a>\n",
    "\n",
    "The list of all available endpoints references can be found <a href=\"https://developer.spotify.com/documentation/web-api/reference/#/\" target=\"_blank\">here</a>.\n",
    "\n",
    "### References:\n",
    "1. https://github.com/tgel0/spotify-data/blob/master/notebooks/SpotifyDataRetrieval.ipynb\n",
    "\n",
    "\n",
    "</span>"
   ]
  },
  {
   "cell_type": "markdown",
   "id": "803bd41e",
   "metadata": {},
   "source": [
    "<span style=\"font-family:Helvetica Light\">\n",
    "    \n",
    "# 1. Set-up & Data Loading\n",
    "    \n",
    "Loading neccessary libraries.\n",
    "    \n",
    "Loading the json files from the requested data sent by Spotify.\n",
    "    \n",
    "</span>"
   ]
  },
  {
   "cell_type": "code",
   "execution_count": 1,
   "id": "4e864931",
   "metadata": {},
   "outputs": [],
   "source": [
    "import pandas as pd\n",
    "\n",
    "from datetime import datetime\n",
    "from pytz import timezone\n",
    "\n",
    "import matplotlib.pyplot as plt\n",
    "\n",
    "import spotipy\n",
    "from spotipy.oauth2 import SpotifyClientCredentials\n",
    "\n",
    "import timeit"
   ]
  },
  {
   "cell_type": "code",
   "execution_count": 2,
   "id": "56dd637b",
   "metadata": {},
   "outputs": [
    {
     "name": "stdout",
     "output_type": "stream",
     "text": [
      "<class 'pandas.core.frame.DataFrame'>\n",
      "RangeIndex: 63060 entries, 0 to 63059\n",
      "Data columns (total 4 columns):\n",
      " #   Column      Non-Null Count  Dtype \n",
      "---  ------      --------------  ----- \n",
      " 0   endTime     63060 non-null  object\n",
      " 1   artistName  63060 non-null  object\n",
      " 2   trackName   63060 non-null  object\n",
      " 3   msPlayed    63060 non-null  int64 \n",
      "dtypes: int64(1), object(3)\n",
      "memory usage: 1.9+ MB\n"
     ]
    }
   ],
   "source": [
    "data_dir = '/Users/Karolina/ProjectsDataScience/data_science_environment/data/'\n",
    "file_list = ['MyDataSpotify/StreamingHistory0.json',\n",
    "             'MyDataSpotify/StreamingHistory1.json',\n",
    "             'MyDataSpotify/StreamingHistory2.json',\n",
    "             'MyDataSpotify/StreamingHistory3.json',\n",
    "             'MyDataSpotify/StreamingHistory4.json',\n",
    "             'MyDataSpotify/StreamingHistory5.json',\n",
    "             'MyDataSpotify/StreamingHistory6.json']\n",
    "\n",
    "dfs = [] # an empty list to store the data frames\n",
    "for file in file_list:\n",
    "    data = pd.read_json(data_dir+file) # read data frame from json file\n",
    "    dfs.append(data) # append the data frame to the list\n",
    "\n",
    "df = pd.concat(dfs, ignore_index=True) # concatenate all the data frames in the list.\n",
    "df.info()"
   ]
  },
  {
   "cell_type": "markdown",
   "id": "2aa80ae1",
   "metadata": {},
   "source": [
    "<span style=\"font-family:Helvetica Light\">\n",
    "    \n",
    "# 2. Quick EDA\n",
    "\n",
    "In this step I check how the dataframe looks like.\n",
    "\n",
    "As I also loaded data from 2 seperate request, I expect there will be some duplicates. That needs to be checked for and cleaned.\n",
    "    \n",
    "</span>"
   ]
  },
  {
   "cell_type": "code",
   "execution_count": 3,
   "id": "7bb0de03",
   "metadata": {},
   "outputs": [
    {
     "data": {
      "text/html": [
       "<div>\n",
       "<style scoped>\n",
       "    .dataframe tbody tr th:only-of-type {\n",
       "        vertical-align: middle;\n",
       "    }\n",
       "\n",
       "    .dataframe tbody tr th {\n",
       "        vertical-align: top;\n",
       "    }\n",
       "\n",
       "    .dataframe thead th {\n",
       "        text-align: right;\n",
       "    }\n",
       "</style>\n",
       "<table border=\"1\" class=\"dataframe\">\n",
       "  <thead>\n",
       "    <tr style=\"text-align: right;\">\n",
       "      <th></th>\n",
       "      <th>endTime</th>\n",
       "      <th>artistName</th>\n",
       "      <th>trackName</th>\n",
       "      <th>msPlayed</th>\n",
       "    </tr>\n",
       "  </thead>\n",
       "  <tbody>\n",
       "    <tr>\n",
       "      <th>0</th>\n",
       "      <td>2020-11-21 08:21</td>\n",
       "      <td>Does It Offend You, Yeah?</td>\n",
       "      <td>We Are Rockstars</td>\n",
       "      <td>13744</td>\n",
       "    </tr>\n",
       "    <tr>\n",
       "      <th>1</th>\n",
       "      <td>2020-11-21 08:25</td>\n",
       "      <td>Does It Offend You, Yeah?</td>\n",
       "      <td>With A Heavy Heart (I Regret To Inform You)</td>\n",
       "      <td>256170</td>\n",
       "    </tr>\n",
       "    <tr>\n",
       "      <th>2</th>\n",
       "      <td>2020-11-21 08:27</td>\n",
       "      <td>Does It Offend You, Yeah?</td>\n",
       "      <td>We Are Rockstars</td>\n",
       "      <td>69343</td>\n",
       "    </tr>\n",
       "    <tr>\n",
       "      <th>3</th>\n",
       "      <td>2020-11-21 08:30</td>\n",
       "      <td>Does It Offend You, Yeah?</td>\n",
       "      <td>Doomed Now</td>\n",
       "      <td>221133</td>\n",
       "    </tr>\n",
       "    <tr>\n",
       "      <th>4</th>\n",
       "      <td>2020-11-21 08:31</td>\n",
       "      <td>Does It Offend You, Yeah?</td>\n",
       "      <td>Being Bad Feels Pretty Good</td>\n",
       "      <td>2603</td>\n",
       "    </tr>\n",
       "  </tbody>\n",
       "</table>\n",
       "</div>"
      ],
      "text/plain": [
       "            endTime                 artistName  \\\n",
       "0  2020-11-21 08:21  Does It Offend You, Yeah?   \n",
       "1  2020-11-21 08:25  Does It Offend You, Yeah?   \n",
       "2  2020-11-21 08:27  Does It Offend You, Yeah?   \n",
       "3  2020-11-21 08:30  Does It Offend You, Yeah?   \n",
       "4  2020-11-21 08:31  Does It Offend You, Yeah?   \n",
       "\n",
       "                                     trackName  msPlayed  \n",
       "0                             We Are Rockstars     13744  \n",
       "1  With A Heavy Heart (I Regret To Inform You)    256170  \n",
       "2                             We Are Rockstars     69343  \n",
       "3                                   Doomed Now    221133  \n",
       "4                  Being Bad Feels Pretty Good      2603  "
      ]
     },
     "execution_count": 3,
     "metadata": {},
     "output_type": "execute_result"
    }
   ],
   "source": [
    "df.head()"
   ]
  },
  {
   "cell_type": "code",
   "execution_count": 4,
   "id": "0157ca05",
   "metadata": {},
   "outputs": [
    {
     "data": {
      "text/plain": [
       "4007"
      ]
     },
     "execution_count": 4,
     "metadata": {},
     "output_type": "execute_result"
    }
   ],
   "source": [
    "# checking for duplicates\n",
    "df.duplicated().sum()"
   ]
  },
  {
   "cell_type": "code",
   "execution_count": 5,
   "id": "80b473f8",
   "metadata": {},
   "outputs": [
    {
     "data": {
      "text/plain": [
       "0"
      ]
     },
     "execution_count": 5,
     "metadata": {},
     "output_type": "execute_result"
    }
   ],
   "source": [
    "# remove duplicates\n",
    "df.drop_duplicates(inplace=True)\n",
    "\n",
    "# double checking for duplicates\n",
    "df.duplicated().sum()"
   ]
  },
  {
   "cell_type": "markdown",
   "id": "3ddc7b68",
   "metadata": {},
   "source": [
    "<span style=\"font-family:Helvetica Light\">\n",
    "    \n",
    "With the duplicates removed, getting basic information about the data frame.\n",
    "\n",
    "Changing the first column to datetime object for further calculations.\n",
    "\n",
    "</span>"
   ]
  },
  {
   "cell_type": "code",
   "execution_count": 6,
   "id": "6162eb48",
   "metadata": {},
   "outputs": [
    {
     "name": "stdout",
     "output_type": "stream",
     "text": [
      "<class 'pandas.core.frame.DataFrame'>\n",
      "Int64Index: 59053 entries, 0 to 63059\n",
      "Data columns (total 4 columns):\n",
      " #   Column      Non-Null Count  Dtype \n",
      "---  ------      --------------  ----- \n",
      " 0   endTime     59053 non-null  object\n",
      " 1   artistName  59053 non-null  object\n",
      " 2   trackName   59053 non-null  object\n",
      " 3   msPlayed    59053 non-null  int64 \n",
      "dtypes: int64(1), object(3)\n",
      "memory usage: 2.3+ MB\n"
     ]
    }
   ],
   "source": [
    "df.info()"
   ]
  },
  {
   "cell_type": "markdown",
   "id": "46ed2b97",
   "metadata": {},
   "source": [
    "<span style=\"font-family:Helvetica Light\">\n",
    "    \n",
    "Running a quick check on the listening history over the course of the day to establish the timezone.\n",
    "    \n",
    "Based on my habits, it is highly unlikely that I listen the music at 5am and 6am. This indicates that the timezone is not the one I live in: it seems the data are based on the UTC, whereas I live in the Europe/Berlin timezone.\n",
    "    \n",
    "</span>    "
   ]
  },
  {
   "cell_type": "code",
   "execution_count": 7,
   "id": "7ae22da3",
   "metadata": {},
   "outputs": [
    {
     "data": {
      "image/png": "[encoded data removed]",
      "text/plain": [
       "<Figure size 432x288 with 1 Axes>"
      ]
     },
     "metadata": {
      "needs_background": "light"
     },
     "output_type": "display_data"
    }
   ],
   "source": [
    "df.endTime = pd.to_datetime(df.endTime) \n",
    "\n",
    "freq = df.groupby(df['endTime'].dt.hour).count()\n",
    "plt.plot(freq)\n",
    "plt.show()"
   ]
  },
  {
   "cell_type": "markdown",
   "id": "4dda3924",
   "metadata": {},
   "source": [
    "<span style=\"font-family:Helvetica Light\">\n",
    "\n",
    "# 3. Dates & Time Transformations\n",
    "    \n",
    "In this step I change the _endTime_ column from UTC timezone to Europe/Berlin.\n",
    "    \n",
    "Additional columns are crated based on the _endTime_ and _msPlayed_ columns:\n",
    "* hour\n",
    "* date (with no timestamp)\n",
    "* week start date\n",
    "* month start date\n",
    "* seconds played   \n",
    "* minutes played   \n",
    "* hours played   \n",
    "    \n",
    "</span>   "
   ]
  },
  {
   "cell_type": "code",
   "execution_count": 8,
   "id": "13c04a1f",
   "metadata": {},
   "outputs": [
    {
     "data": {
      "text/html": [
       "<div>\n",
       "<style scoped>\n",
       "    .dataframe tbody tr th:only-of-type {\n",
       "        vertical-align: middle;\n",
       "    }\n",
       "\n",
       "    .dataframe tbody tr th {\n",
       "        vertical-align: top;\n",
       "    }\n",
       "\n",
       "    .dataframe thead th {\n",
       "        text-align: right;\n",
       "    }\n",
       "</style>\n",
       "<table border=\"1\" class=\"dataframe\">\n",
       "  <thead>\n",
       "    <tr style=\"text-align: right;\">\n",
       "      <th></th>\n",
       "      <th>endTime</th>\n",
       "      <th>artistName</th>\n",
       "      <th>trackName</th>\n",
       "      <th>msPlayed</th>\n",
       "      <th>hour</th>\n",
       "      <th>date</th>\n",
       "      <th>week</th>\n",
       "      <th>month</th>\n",
       "      <th>sPlayed</th>\n",
       "      <th>mPlayed</th>\n",
       "      <th>hPlayed</th>\n",
       "    </tr>\n",
       "  </thead>\n",
       "  <tbody>\n",
       "    <tr>\n",
       "      <th>0</th>\n",
       "      <td>2020-11-21 09:21:00</td>\n",
       "      <td>Does It Offend You, Yeah?</td>\n",
       "      <td>We Are Rockstars</td>\n",
       "      <td>13744</td>\n",
       "      <td>9</td>\n",
       "      <td>2020-11-21</td>\n",
       "      <td>2020-11-16</td>\n",
       "      <td>2020-11-01</td>\n",
       "      <td>13.744</td>\n",
       "      <td>0.229067</td>\n",
       "      <td>0.003818</td>\n",
       "    </tr>\n",
       "    <tr>\n",
       "      <th>1</th>\n",
       "      <td>2020-11-21 09:25:00</td>\n",
       "      <td>Does It Offend You, Yeah?</td>\n",
       "      <td>With A Heavy Heart (I Regret To Inform You)</td>\n",
       "      <td>256170</td>\n",
       "      <td>9</td>\n",
       "      <td>2020-11-21</td>\n",
       "      <td>2020-11-16</td>\n",
       "      <td>2020-11-01</td>\n",
       "      <td>256.170</td>\n",
       "      <td>4.269500</td>\n",
       "      <td>0.071158</td>\n",
       "    </tr>\n",
       "    <tr>\n",
       "      <th>2</th>\n",
       "      <td>2020-11-21 09:27:00</td>\n",
       "      <td>Does It Offend You, Yeah?</td>\n",
       "      <td>We Are Rockstars</td>\n",
       "      <td>69343</td>\n",
       "      <td>9</td>\n",
       "      <td>2020-11-21</td>\n",
       "      <td>2020-11-16</td>\n",
       "      <td>2020-11-01</td>\n",
       "      <td>69.343</td>\n",
       "      <td>1.155717</td>\n",
       "      <td>0.019262</td>\n",
       "    </tr>\n",
       "    <tr>\n",
       "      <th>3</th>\n",
       "      <td>2020-11-21 09:30:00</td>\n",
       "      <td>Does It Offend You, Yeah?</td>\n",
       "      <td>Doomed Now</td>\n",
       "      <td>221133</td>\n",
       "      <td>9</td>\n",
       "      <td>2020-11-21</td>\n",
       "      <td>2020-11-16</td>\n",
       "      <td>2020-11-01</td>\n",
       "      <td>221.133</td>\n",
       "      <td>3.685550</td>\n",
       "      <td>0.061426</td>\n",
       "    </tr>\n",
       "    <tr>\n",
       "      <th>4</th>\n",
       "      <td>2020-11-21 09:31:00</td>\n",
       "      <td>Does It Offend You, Yeah?</td>\n",
       "      <td>Being Bad Feels Pretty Good</td>\n",
       "      <td>2603</td>\n",
       "      <td>9</td>\n",
       "      <td>2020-11-21</td>\n",
       "      <td>2020-11-16</td>\n",
       "      <td>2020-11-01</td>\n",
       "      <td>2.603</td>\n",
       "      <td>0.043383</td>\n",
       "      <td>0.000723</td>\n",
       "    </tr>\n",
       "  </tbody>\n",
       "</table>\n",
       "</div>"
      ],
      "text/plain": [
       "              endTime                 artistName  \\\n",
       "0 2020-11-21 09:21:00  Does It Offend You, Yeah?   \n",
       "1 2020-11-21 09:25:00  Does It Offend You, Yeah?   \n",
       "2 2020-11-21 09:27:00  Does It Offend You, Yeah?   \n",
       "3 2020-11-21 09:30:00  Does It Offend You, Yeah?   \n",
       "4 2020-11-21 09:31:00  Does It Offend You, Yeah?   \n",
       "\n",
       "                                     trackName  msPlayed  hour       date  \\\n",
       "0                             We Are Rockstars     13744     9 2020-11-21   \n",
       "1  With A Heavy Heart (I Regret To Inform You)    256170     9 2020-11-21   \n",
       "2                             We Are Rockstars     69343     9 2020-11-21   \n",
       "3                                   Doomed Now    221133     9 2020-11-21   \n",
       "4                  Being Bad Feels Pretty Good      2603     9 2020-11-21   \n",
       "\n",
       "        week      month  sPlayed   mPlayed   hPlayed  \n",
       "0 2020-11-16 2020-11-01   13.744  0.229067  0.003818  \n",
       "1 2020-11-16 2020-11-01  256.170  4.269500  0.071158  \n",
       "2 2020-11-16 2020-11-01   69.343  1.155717  0.019262  \n",
       "3 2020-11-16 2020-11-01  221.133  3.685550  0.061426  \n",
       "4 2020-11-16 2020-11-01    2.603  0.043383  0.000723  "
      ]
     },
     "execution_count": 8,
     "metadata": {},
     "output_type": "execute_result"
    }
   ],
   "source": [
    "# set the current time to UTC timezone\n",
    "df['endTimeTz']= df.endTime.dt.tz_localize(tz='UTC')\n",
    "\n",
    "# convert US Pacific to Europe/Berlin Timezone\n",
    "df['endTimeTzEU']=df.endTimeTz.dt.tz_convert(tz='Europe/Berlin')\n",
    "\n",
    "df['endTime']=df['endTimeTzEU'].apply(lambda d: d.replace(tzinfo=None))\n",
    "\n",
    "df.drop(['endTimeTz', 'endTimeTzEU'], axis=1, inplace=True)\n",
    "\n",
    "# additional time related transofmations \n",
    "df['hour'] = df['endTime'].dt.hour\n",
    "df['date'] = df['endTime'].dt.to_period('D').apply(lambda r: r.start_time)\n",
    "df['week'] = df['endTime'].dt.to_period('W').apply(lambda r: r.start_time)\n",
    "df['month'] = df['endTime'].dt.to_period('M').apply(lambda r: r.start_time)\n",
    "\n",
    "# rounding up miliseconds Played to more readable formats\n",
    "df['sPlayed'] = df['msPlayed']/(1000)\n",
    "df['mPlayed'] = df['sPlayed']/(60)\n",
    "df['hPlayed'] = df['sPlayed']/(60*60)\n",
    "\n",
    "df.head()"
   ]
  },
  {
   "cell_type": "markdown",
   "id": "d66d6558",
   "metadata": {},
   "source": [
    "<span style=\"font-family:Helvetica Light\">\n",
    "\n",
    "Checking the description of the _endTime_ feature. \n",
    "\n",
    "Some data collection still accounts for 2020 and 2022 data. Let's remove it in order to keep only full 2021.\n",
    "\n",
    "\n",
    "</span>"
   ]
  },
  {
   "cell_type": "code",
   "execution_count": 9,
   "id": "61479861",
   "metadata": {},
   "outputs": [
    {
     "name": "stderr",
     "output_type": "stream",
     "text": [
      "<ipython-input-9-38a75eb175bd>:1: FutureWarning: Treating datetime data as categorical rather than numeric in `.describe` is deprecated and will be removed in a future version of pandas. Specify `datetime_is_numeric=True` to silence this warning and adopt the future behavior now.\n",
      "  df.endTime.describe()\n"
     ]
    },
    {
     "data": {
      "text/plain": [
       "count                   59053\n",
       "unique                  44585\n",
       "top       2020-12-14 22:40:00\n",
       "freq                       35\n",
       "first     2020-11-21 09:21:00\n",
       "last      2022-02-17 22:15:00\n",
       "Name: endTime, dtype: object"
      ]
     },
     "execution_count": 9,
     "metadata": {},
     "output_type": "execute_result"
    }
   ],
   "source": [
    "df.endTime.describe()"
   ]
  },
  {
   "cell_type": "code",
   "execution_count": 10,
   "id": "c3f731a0",
   "metadata": {},
   "outputs": [],
   "source": [
    "df = df.loc[df['endTime'].dt.year == 2021].reset_index(drop=True)"
   ]
  },
  {
   "cell_type": "markdown",
   "id": "6399300b",
   "metadata": {},
   "source": [
    "<span style=\"font-family:Helvetica Light\">\n",
    "\n",
    "Sorting the dataframe by the _endTime_ to see first and last streamed songs of 2021.\n",
    "    \n",
    "<span>"
   ]
  },
  {
   "cell_type": "code",
   "execution_count": 11,
   "id": "0347cdff",
   "metadata": {},
   "outputs": [
    {
     "data": {
      "text/html": [
       "<div>\n",
       "<style scoped>\n",
       "    .dataframe tbody tr th:only-of-type {\n",
       "        vertical-align: middle;\n",
       "    }\n",
       "\n",
       "    .dataframe tbody tr th {\n",
       "        vertical-align: top;\n",
       "    }\n",
       "\n",
       "    .dataframe thead th {\n",
       "        text-align: right;\n",
       "    }\n",
       "</style>\n",
       "<table border=\"1\" class=\"dataframe\">\n",
       "  <thead>\n",
       "    <tr style=\"text-align: right;\">\n",
       "      <th></th>\n",
       "      <th>endTime</th>\n",
       "      <th>artistName</th>\n",
       "      <th>trackName</th>\n",
       "      <th>msPlayed</th>\n",
       "      <th>hour</th>\n",
       "      <th>date</th>\n",
       "      <th>week</th>\n",
       "      <th>month</th>\n",
       "      <th>sPlayed</th>\n",
       "      <th>mPlayed</th>\n",
       "      <th>hPlayed</th>\n",
       "    </tr>\n",
       "  </thead>\n",
       "  <tbody>\n",
       "    <tr>\n",
       "      <th>0</th>\n",
       "      <td>2021-01-01 06:01:00</td>\n",
       "      <td>Julia Wieniawa</td>\n",
       "      <td>Niezadowolona (piosenka do filmu „Wszyscy moi ...</td>\n",
       "      <td>44827</td>\n",
       "      <td>6</td>\n",
       "      <td>2021-01-01</td>\n",
       "      <td>2020-12-28</td>\n",
       "      <td>2021-01-01</td>\n",
       "      <td>44.827</td>\n",
       "      <td>0.747117</td>\n",
       "      <td>0.012452</td>\n",
       "    </tr>\n",
       "    <tr>\n",
       "      <th>1</th>\n",
       "      <td>2021-01-01 06:01:00</td>\n",
       "      <td>Ariana Grande</td>\n",
       "      <td>god is a woman - live</td>\n",
       "      <td>31750</td>\n",
       "      <td>6</td>\n",
       "      <td>2021-01-01</td>\n",
       "      <td>2020-12-28</td>\n",
       "      <td>2021-01-01</td>\n",
       "      <td>31.750</td>\n",
       "      <td>0.529167</td>\n",
       "      <td>0.008819</td>\n",
       "    </tr>\n",
       "    <tr>\n",
       "      <th>2</th>\n",
       "      <td>2021-01-01 06:04:00</td>\n",
       "      <td>Justin Bieber</td>\n",
       "      <td>Anyone</td>\n",
       "      <td>190779</td>\n",
       "      <td>6</td>\n",
       "      <td>2021-01-01</td>\n",
       "      <td>2020-12-28</td>\n",
       "      <td>2021-01-01</td>\n",
       "      <td>190.779</td>\n",
       "      <td>3.179650</td>\n",
       "      <td>0.052994</td>\n",
       "    </tr>\n",
       "  </tbody>\n",
       "</table>\n",
       "</div>"
      ],
      "text/plain": [
       "              endTime      artistName  \\\n",
       "0 2021-01-01 06:01:00  Julia Wieniawa   \n",
       "1 2021-01-01 06:01:00   Ariana Grande   \n",
       "2 2021-01-01 06:04:00   Justin Bieber   \n",
       "\n",
       "                                           trackName  msPlayed  hour  \\\n",
       "0  Niezadowolona (piosenka do filmu „Wszyscy moi ...     44827     6   \n",
       "1                              god is a woman - live     31750     6   \n",
       "2                                             Anyone    190779     6   \n",
       "\n",
       "        date       week      month  sPlayed   mPlayed   hPlayed  \n",
       "0 2021-01-01 2020-12-28 2021-01-01   44.827  0.747117  0.012452  \n",
       "1 2021-01-01 2020-12-28 2021-01-01   31.750  0.529167  0.008819  \n",
       "2 2021-01-01 2020-12-28 2021-01-01  190.779  3.179650  0.052994  "
      ]
     },
     "execution_count": 11,
     "metadata": {},
     "output_type": "execute_result"
    }
   ],
   "source": [
    "df.sort_values(by='endTime', inplace=True)\n",
    "df.head(3)"
   ]
  },
  {
   "cell_type": "code",
   "execution_count": 12,
   "id": "c5f61ee2",
   "metadata": {
    "scrolled": true
   },
   "outputs": [
    {
     "data": {
      "text/html": [
       "<div>\n",
       "<style scoped>\n",
       "    .dataframe tbody tr th:only-of-type {\n",
       "        vertical-align: middle;\n",
       "    }\n",
       "\n",
       "    .dataframe tbody tr th {\n",
       "        vertical-align: top;\n",
       "    }\n",
       "\n",
       "    .dataframe thead th {\n",
       "        text-align: right;\n",
       "    }\n",
       "</style>\n",
       "<table border=\"1\" class=\"dataframe\">\n",
       "  <thead>\n",
       "    <tr style=\"text-align: right;\">\n",
       "      <th></th>\n",
       "      <th>endTime</th>\n",
       "      <th>artistName</th>\n",
       "      <th>trackName</th>\n",
       "      <th>msPlayed</th>\n",
       "      <th>hour</th>\n",
       "      <th>date</th>\n",
       "      <th>week</th>\n",
       "      <th>month</th>\n",
       "      <th>sPlayed</th>\n",
       "      <th>mPlayed</th>\n",
       "      <th>hPlayed</th>\n",
       "    </tr>\n",
       "  </thead>\n",
       "  <tbody>\n",
       "    <tr>\n",
       "      <th>45082</th>\n",
       "      <td>2021-12-31 13:43:00</td>\n",
       "      <td>Future</td>\n",
       "      <td>F*ck Up Some Commas</td>\n",
       "      <td>108580</td>\n",
       "      <td>13</td>\n",
       "      <td>2021-12-31</td>\n",
       "      <td>2021-12-27</td>\n",
       "      <td>2021-12-01</td>\n",
       "      <td>108.580</td>\n",
       "      <td>1.809667</td>\n",
       "      <td>0.030161</td>\n",
       "    </tr>\n",
       "    <tr>\n",
       "      <th>45083</th>\n",
       "      <td>2021-12-31 13:45:00</td>\n",
       "      <td>Lifespan with Dr. David Sinclair</td>\n",
       "      <td>Welcome to Lifespan with Dr. David Sinclair</td>\n",
       "      <td>96693</td>\n",
       "      <td>13</td>\n",
       "      <td>2021-12-31</td>\n",
       "      <td>2021-12-27</td>\n",
       "      <td>2021-12-01</td>\n",
       "      <td>96.693</td>\n",
       "      <td>1.611550</td>\n",
       "      <td>0.026859</td>\n",
       "    </tr>\n",
       "    <tr>\n",
       "      <th>45084</th>\n",
       "      <td>2021-12-31 16:08:00</td>\n",
       "      <td>Huberman Lab</td>\n",
       "      <td>Dr. David Sinclair: The Biology of Slowing &amp; R...</td>\n",
       "      <td>5119830</td>\n",
       "      <td>16</td>\n",
       "      <td>2021-12-31</td>\n",
       "      <td>2021-12-27</td>\n",
       "      <td>2021-12-01</td>\n",
       "      <td>5119.830</td>\n",
       "      <td>85.330500</td>\n",
       "      <td>1.422175</td>\n",
       "    </tr>\n",
       "  </tbody>\n",
       "</table>\n",
       "</div>"
      ],
      "text/plain": [
       "                  endTime                        artistName  \\\n",
       "45082 2021-12-31 13:43:00                            Future   \n",
       "45083 2021-12-31 13:45:00  Lifespan with Dr. David Sinclair   \n",
       "45084 2021-12-31 16:08:00                      Huberman Lab   \n",
       "\n",
       "                                               trackName  msPlayed  hour  \\\n",
       "45082                                F*ck Up Some Commas    108580    13   \n",
       "45083       Welcome to Lifespan with Dr. David Sinclair      96693    13   \n",
       "45084  Dr. David Sinclair: The Biology of Slowing & R...   5119830    16   \n",
       "\n",
       "            date       week      month   sPlayed    mPlayed   hPlayed  \n",
       "45082 2021-12-31 2021-12-27 2021-12-01   108.580   1.809667  0.030161  \n",
       "45083 2021-12-31 2021-12-27 2021-12-01    96.693   1.611550  0.026859  \n",
       "45084 2021-12-31 2021-12-27 2021-12-01  5119.830  85.330500  1.422175  "
      ]
     },
     "execution_count": 12,
     "metadata": {},
     "output_type": "execute_result"
    }
   ],
   "source": [
    "df.tail(3)"
   ]
  },
  {
   "cell_type": "code",
   "execution_count": 15,
   "id": "61405091",
   "metadata": {},
   "outputs": [
    {
     "data": {
      "text/plain": [
       "103954.59305"
      ]
     },
     "execution_count": 15,
     "metadata": {},
     "output_type": "execute_result"
    }
   ],
   "source": [
    "df.mPlayed.sum()"
   ]
  },
  {
   "cell_type": "markdown",
   "id": "a63b8f8a",
   "metadata": {},
   "source": [
    "<span style=\"font-family:Helvetica Light\">\n",
    "\n",
    "# 4. Spotify API Connector with Spotipy library\n",
    "\n",
    "In order to connect to Spotify API, Client ID and Secret Client ID are needed. In order to get those two keys, it is neccessary to <a href=\"https://developer.spotify.com/documentation/general/guides/authorization/app-settings/\" target=\"_blank\">set up an App in the Spotify for Developers platform</a>.\n",
    "\n",
    "<blockquote>\n",
    "The app provides, among others, the Client ID and Client Secret needed to implement any of the authorization flows.\n",
    "    </blockquote>\n",
    "    \n",
    "Next, once we have the Client Credentials, the Client Authorization Code Flow can be initialized.\n",
    "\n",
    "    \n",
    "## 4a. Connection & sample request\n",
    "</span>"
   ]
  },
  {
   "cell_type": "markdown",
   "id": "06b7eb64",
   "metadata": {},
   "source": [
    "# !!! DELETE THE KEYS BEFORE PUBLICIZING !!!"
   ]
  },
  {
   "cell_type": "code",
   "execution_count": null,
   "id": "7b26b977",
   "metadata": {},
   "outputs": [],
   "source": [
    "client_id = '0c4df4418a2e4290b3a4d7751665a215'\n",
    "secret_client_id = 'ef84184c71b54774ab7cd04998973eca'\n",
    "\n",
    "client_credentials_manager = SpotifyClientCredentials(client_id=client_id, client_secret=secret_client_id)\n",
    "sp = spotipy.Spotify(client_credentials_manager=client_credentials_manager)"
   ]
  },
  {
   "cell_type": "markdown",
   "id": "30adca14",
   "metadata": {},
   "source": [
    "<span style=\"font-family:Helvetica Light\">\n",
    "\n",
    "In this part I am picking one piece of data to see what is the structure of results I get using search query and audio features call:\n",
    "    \n",
    "</span>    "
   ]
  },
  {
   "cell_type": "code",
   "execution_count": null,
   "id": "e45394b6",
   "metadata": {},
   "outputs": [],
   "source": [
    "# simple check on one piece of data\n",
    "artistName = 'The Weeknd'\n",
    "trackName = 'Often'\n",
    "searchQuery = trackName + ' ' + artistName\n",
    "searchResults = sp.search(q=searchQuery, market=\"DE\", limit=1, type='track')\n",
    "searchResults"
   ]
  },
  {
   "cell_type": "code",
   "execution_count": null,
   "id": "99732d78",
   "metadata": {},
   "outputs": [],
   "source": [
    "track_id = searchResults['tracks']['items'][0]['id']\n",
    "track_id"
   ]
  },
  {
   "cell_type": "code",
   "execution_count": null,
   "id": "61b4e03e",
   "metadata": {},
   "outputs": [],
   "source": [
    "sp.audio_features(tracks=[track_id])"
   ]
  },
  {
   "cell_type": "markdown",
   "id": "2fdeac5a",
   "metadata": {},
   "source": [
    "<span style=\"font-family:Helvetica Light\">\n",
    "    \n",
    "## 4b. Getting tracks' details using search()\n",
    "\n",
    "First, the list of unique combinations of _artistName_ and _trackName_ from our historical data is needed.\n",
    "\n",
    "Next, looping over the unique list of listened tracks and using the <a href=\"https://developer.spotify.com/documentation/web-api/reference/#/operations/search\" target=\"_blank\">search endpoint</a> I can get basic track information not available before (eg. album name, image url) as well as crucial for next step - trackID. \n",
    "    \n",
    "</span>"
   ]
  },
  {
   "cell_type": "code",
   "execution_count": null,
   "id": "433a8365",
   "metadata": {},
   "outputs": [],
   "source": [
    "# create list of unique artist-trackName pairs (to search through the API for)\n",
    "search_list = df[['artistName', 'trackName']].drop_duplicates(ignore_index=True)\n",
    "search_list = search_list.head(10)\n",
    "search_list.info()"
   ]
  },
  {
   "cell_type": "markdown",
   "id": "4d2f0049",
   "metadata": {},
   "source": [
    "\n",
    "\n",
    "\n",
    "## !!!! LIST COLUMNS THAT I WILL SEARCH FOR !!!!\n",
    "\n"
   ]
  },
  {
   "cell_type": "code",
   "execution_count": null,
   "id": "99f87403",
   "metadata": {},
   "outputs": [],
   "source": [
    "# timeit library to measure the time needed to run this code\n",
    "start = timeit.default_timer()\n",
    "\n",
    "# create empty lists where the results are going to be stored\n",
    "artist_name = []\n",
    "track_name = []\n",
    "popularity = []\n",
    "track_id = []\n",
    "\n",
    "for row in search_list.iterrows():\n",
    "    searchQuery = row[1][1] + ' ' + row[1][0]\n",
    "    #print(searchQuery)\n",
    "    search_results = sp.search(q=searchQuery, market=\"DE\", limit=1, type='track')\n",
    "    for i, t in enumerate(search_results['tracks']['items']):\n",
    "        artist_name.append(t['artists'][0]['name'])\n",
    "        track_name.append(t['name'])\n",
    "        track_id.append(t['id'])\n",
    "        popularity.append(t['popularity'])\n",
    "\n",
    "stop = timeit.default_timer()\n",
    "print ('Time to run this code (in seconds):', stop - start)"
   ]
  },
  {
   "cell_type": "code",
   "execution_count": null,
   "id": "25dd7a0e",
   "metadata": {},
   "outputs": [],
   "source": [
    "df_tracks = pd.DataFrame({'artistName':artist_name,'trackName':track_name,'trackId':track_id,'popularity':popularity})\n",
    "print(df_tracks.shape)\n",
    "df_tracks.head(15)"
   ]
  },
  {
   "cell_type": "code",
   "execution_count": null,
   "id": "b2797bc9",
   "metadata": {},
   "outputs": [],
   "source": [
    "df_tracks.info()"
   ]
  },
  {
   "cell_type": "code",
   "execution_count": null,
   "id": "432ae2ea",
   "metadata": {},
   "outputs": [],
   "source": [
    "# checking for duplicates\n",
    "df_tracks[df_tracks.duplicated(subset=['artistName','trackName'],keep=False)].count()"
   ]
  },
  {
   "cell_type": "markdown",
   "id": "7c6140b4",
   "metadata": {},
   "source": [
    "<span style=\"font-family:Helvetica Light\">\n",
    "\n",
    "## 4c. Getting audio features data using audio_features()\n",
    "\n",
    "In this step, using the <a href=\"https://developer.spotify.com/documentation/web-api/reference/#/operations/get-several-audio-features\" target=\"_blank\">audio features endpoint</a> I will get audio features for all my tracks using the _trackIds_ from the previous step\n",
    "\n",
    "The function has a limit for a call of 100 _trackIds_, hence the loop also creates batches to iterate over whole list of all tracks.\n",
    "    \n",
    "</span>"
   ]
  },
  {
   "cell_type": "code",
   "execution_count": null,
   "id": "9c1891d0",
   "metadata": {},
   "outputs": [],
   "source": [
    "# again measuring the time\n",
    "start = timeit.default_timer()\n",
    "\n",
    "# empty list, batchsize and the counter for None results\n",
    "rows = []\n",
    "batchsize = 100\n",
    "None_counter = 0\n",
    "\n",
    "for i in range(0,len(df_tracks['trackId']),batchsize):\n",
    "    batch = df_tracks['trackId'][i:i+batchsize]\n",
    "    feature_results = sp.audio_features(batch)\n",
    "    for i, t in enumerate(feature_results):\n",
    "        if t == None:\n",
    "            None_counter = None_counter + 1\n",
    "        else:\n",
    "            rows.append(t)\n",
    "            \n",
    "print('Number of tracks where no audio features were available:',None_counter)\n",
    "\n",
    "stop = timeit.default_timer()\n",
    "print ('Time to run this code (in seconds):',stop - start)"
   ]
  },
  {
   "cell_type": "code",
   "execution_count": null,
   "id": "6423a653",
   "metadata": {},
   "outputs": [],
   "source": [
    "df_audio_features = pd.DataFrame.from_dict(rows,orient='columns')\n",
    "print(\"Shape of the dataset:\", df_audio_features.shape)\n",
    "df_audio_features.head()"
   ]
  },
  {
   "cell_type": "code",
   "execution_count": null,
   "id": "640f514f",
   "metadata": {},
   "outputs": [],
   "source": [
    "df_audio_features.info()"
   ]
  },
  {
   "cell_type": "code",
   "execution_count": null,
   "id": "0c8b5c89",
   "metadata": {},
   "outputs": [],
   "source": [
    "# dropping columns I don't need\n",
    "columns_to_drop = ['analysis_url','track_href','type','uri']\n",
    "df_audio_features.drop(columns_to_drop, axis=1,inplace=True)\n",
    "\n",
    "df_audio_features.rename(columns={'id': 'track_id'}, inplace=True)\n",
    "\n",
    "df_audio_features.shape"
   ]
  },
  {
   "cell_type": "markdown",
   "id": "9d8d192e",
   "metadata": {},
   "source": [
    "<span style=\"font-family:Helvetica Light\">\n",
    "\n",
    "## 4d. Data Prep\n",
    "\n",
    "Merging the search and audio_features dataframes and saving it into a .csv file.\n",
    "    \n",
    "</span>"
   ]
  },
  {
   "cell_type": "code",
   "execution_count": null,
   "id": "28b25757",
   "metadata": {},
   "outputs": [],
   "source": [
    "# merge both dataframes\n",
    "# the 'inner' method will make sure that we only keep track IDs present in both datasets\n",
    "df_tracks_catalog = pd.merge(df_tracks,df_audio_features,on='track_id',how='inner')\n",
    "print(\"Shape of the dataset:\", df_audio_features.shape)\n",
    "df_tracks_catalog.head()"
   ]
  },
  {
   "cell_type": "markdown",
   "id": "5410661f",
   "metadata": {},
   "source": [
    "# !!! DECIDE IF MERGE HISTORY + API CALLS DATA"
   ]
  },
  {
   "cell_type": "code",
   "execution_count": null,
   "id": "e8351323",
   "metadata": {},
   "outputs": [],
   "source": []
  }
 ],
 "metadata": {
  "kernelspec": {
   "display_name": "Python 3",
   "language": "python",
   "name": "python3"
  },
  "language_info": {
   "codemirror_mode": {
    "name": "ipython",
    "version": 3
   },
   "file_extension": ".py",
   "mimetype": "text/x-python",
   "name": "python",
   "nbconvert_exporter": "python",
   "pygments_lexer": "ipython3",
   "version": "3.8.8"
  }
 },
 "nbformat": 4,
 "nbformat_minor": 5
}
