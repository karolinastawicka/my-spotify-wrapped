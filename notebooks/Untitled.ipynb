{
 "cells": [
  {
   "cell_type": "code",
   "execution_count": 26,
   "id": "7a1a18ce",
   "metadata": {},
   "outputs": [],
   "source": [
    "import pandas as pd\n",
    "import numpy as np\n",
    "from datetime import datetime\n",
    "from datetime import time\n",
    "from pytz import timezone\n",
    "import matplotlib.pyplot as plt\n",
    "import matplotlib.dates as mdates\n",
    "import seaborn as sns\n",
    "import plotly.express as px\n",
    "\n",
    "from matplotlib.dates import DateFormatter"
   ]
  },
  {
   "cell_type": "code",
   "execution_count": 60,
   "id": "ef18da91",
   "metadata": {},
   "outputs": [
    {
     "data": {
      "text/html": [
       "<div>\n",
       "<style scoped>\n",
       "    .dataframe tbody tr th:only-of-type {\n",
       "        vertical-align: middle;\n",
       "    }\n",
       "\n",
       "    .dataframe tbody tr th {\n",
       "        vertical-align: top;\n",
       "    }\n",
       "\n",
       "    .dataframe thead th {\n",
       "        text-align: right;\n",
       "    }\n",
       "</style>\n",
       "<table border=\"1\" class=\"dataframe\">\n",
       "  <thead>\n",
       "    <tr style=\"text-align: right;\">\n",
       "      <th></th>\n",
       "      <th>endTime</th>\n",
       "      <th>artistName</th>\n",
       "      <th>trackName</th>\n",
       "      <th>msPlayed</th>\n",
       "    </tr>\n",
       "  </thead>\n",
       "  <tbody>\n",
       "    <tr>\n",
       "      <th>0</th>\n",
       "      <td>2020-11-21 08:21</td>\n",
       "      <td>Does It Offend You, Yeah?</td>\n",
       "      <td>We Are Rockstars</td>\n",
       "      <td>13744</td>\n",
       "    </tr>\n",
       "    <tr>\n",
       "      <th>1</th>\n",
       "      <td>2020-11-21 08:25</td>\n",
       "      <td>Does It Offend You, Yeah?</td>\n",
       "      <td>With A Heavy Heart (I Regret To Inform You)</td>\n",
       "      <td>256170</td>\n",
       "    </tr>\n",
       "    <tr>\n",
       "      <th>2</th>\n",
       "      <td>2020-11-21 08:27</td>\n",
       "      <td>Does It Offend You, Yeah?</td>\n",
       "      <td>We Are Rockstars</td>\n",
       "      <td>69343</td>\n",
       "    </tr>\n",
       "    <tr>\n",
       "      <th>3</th>\n",
       "      <td>2020-11-21 08:30</td>\n",
       "      <td>Does It Offend You, Yeah?</td>\n",
       "      <td>Doomed Now</td>\n",
       "      <td>221133</td>\n",
       "    </tr>\n",
       "    <tr>\n",
       "      <th>4</th>\n",
       "      <td>2020-11-21 08:31</td>\n",
       "      <td>Does It Offend You, Yeah?</td>\n",
       "      <td>Being Bad Feels Pretty Good</td>\n",
       "      <td>2603</td>\n",
       "    </tr>\n",
       "  </tbody>\n",
       "</table>\n",
       "</div>"
      ],
      "text/plain": [
       "            endTime                 artistName  \\\n",
       "0  2020-11-21 08:21  Does It Offend You, Yeah?   \n",
       "1  2020-11-21 08:25  Does It Offend You, Yeah?   \n",
       "2  2020-11-21 08:27  Does It Offend You, Yeah?   \n",
       "3  2020-11-21 08:30  Does It Offend You, Yeah?   \n",
       "4  2020-11-21 08:31  Does It Offend You, Yeah?   \n",
       "\n",
       "                                     trackName  msPlayed  \n",
       "0                             We Are Rockstars     13744  \n",
       "1  With A Heavy Heart (I Regret To Inform You)    256170  \n",
       "2                             We Are Rockstars     69343  \n",
       "3                                   Doomed Now    221133  \n",
       "4                  Being Bad Feels Pretty Good      2603  "
      ]
     },
     "execution_count": 60,
     "metadata": {},
     "output_type": "execute_result"
    }
   ],
   "source": [
    "data_dir = '/Users/Karolina/ProjectsDataScience/data_science_environment/data/'\n",
    "file_list = ['MyDataSpotify/StreamingHistory0.json',\n",
    "             'MyDataSpotify/StreamingHistory1.json',\n",
    "             'MyDataSpotify/StreamingHistory2.json',\n",
    "             'MyDataSpotify/StreamingHistory3.json',\n",
    "             'MyDataSpotify/StreamingHistory4.json']\n",
    "\n",
    "dfs = [] # an empty list to store the data frames\n",
    "for file in file_list:\n",
    "    data = pd.read_json(data_dir+file) # read data frame from json file\n",
    "    dfs.append(data) # append the data frame to the list\n",
    "\n",
    "df = pd.concat(dfs, ignore_index=True) # concatenate all the data frames in the list.\n",
    "df.head()"
   ]
  },
  {
   "cell_type": "code",
   "execution_count": 61,
   "id": "d83cd323",
   "metadata": {},
   "outputs": [
    {
     "name": "stdout",
     "output_type": "stream",
     "text": [
      "<class 'pandas.core.frame.DataFrame'>\n",
      "RangeIndex: 47735 entries, 0 to 47734\n",
      "Data columns (total 6 columns):\n",
      " #   Column       Non-Null Count  Dtype                        \n",
      "---  ------       --------------  -----                        \n",
      " 0   endTime      47735 non-null  datetime64[ns]               \n",
      " 1   artistName   47735 non-null  object                       \n",
      " 2   trackName    47735 non-null  object                       \n",
      " 3   msPlayed     47735 non-null  int64                        \n",
      " 4   endTimeTz    47735 non-null  datetime64[ns, UTC]          \n",
      " 5   endTimeTzEU  47735 non-null  datetime64[ns, Europe/Berlin]\n",
      "dtypes: datetime64[ns, Europe/Berlin](1), datetime64[ns, UTC](1), datetime64[ns](1), int64(1), object(2)\n",
      "memory usage: 2.2+ MB\n"
     ]
    }
   ],
   "source": [
    "df.endTime = pd.to_datetime(df.endTime, infer_datetime_format=True) \n",
    "\n",
    "#Set the current time to US Pacific timezone\n",
    "df['endTimeTz']= df.endTime.dt.tz_localize(tz='UTC')\n",
    "\n",
    "#convert US Pacific to Europe/Berlin Timezone\n",
    "df['endTimeTzEU']=df.endTimeTz.dt.tz_convert(tz='Europe/Berlin')\n",
    "\n",
    "df.info()"
   ]
  },
  {
   "cell_type": "code",
   "execution_count": 62,
   "id": "9bc88108",
   "metadata": {},
   "outputs": [
    {
     "name": "stderr",
     "output_type": "stream",
     "text": [
      "/opt/anaconda3/lib/python3.8/site-packages/pandas/core/arrays/datetimes.py:1101: UserWarning:\n",
      "\n",
      "Converting to PeriodArray/Index representation will drop timezone information.\n",
      "\n"
     ]
    }
   ],
   "source": [
    "df['hour'] = df.endTimeTzEU.dt.hour\n",
    "df['date'] = df['endTime'].dt.to_period('D').apply(lambda r: r.start_time)\n",
    "df['week'] = df['endTime'].dt.to_period('W').apply(lambda r: r.start_time)\n",
    "df['month'] = df['endTimeTzEU'].dt.to_period('M').apply(lambda r: r.start_time)\n",
    "\n",
    "\n",
    "df['sPlayed'] = df['msPlayed']/(1000)\n",
    "df['mPlayed'] = df['sPlayed']/(60)\n",
    "df['hPlayed'] = df['sPlayed']/(60*60)"
   ]
  },
  {
   "cell_type": "code",
   "execution_count": 63,
   "id": "310781d8",
   "metadata": {},
   "outputs": [
    {
     "data": {
      "text/html": [
       "<div>\n",
       "<style scoped>\n",
       "    .dataframe tbody tr th:only-of-type {\n",
       "        vertical-align: middle;\n",
       "    }\n",
       "\n",
       "    .dataframe tbody tr th {\n",
       "        vertical-align: top;\n",
       "    }\n",
       "\n",
       "    .dataframe thead th {\n",
       "        text-align: right;\n",
       "    }\n",
       "</style>\n",
       "<table border=\"1\" class=\"dataframe\">\n",
       "  <thead>\n",
       "    <tr style=\"text-align: right;\">\n",
       "      <th></th>\n",
       "      <th>endTime</th>\n",
       "      <th>artistName</th>\n",
       "      <th>trackName</th>\n",
       "      <th>msPlayed</th>\n",
       "      <th>endTimeTz</th>\n",
       "      <th>endTimeTzEU</th>\n",
       "      <th>hour</th>\n",
       "      <th>date</th>\n",
       "      <th>week</th>\n",
       "      <th>month</th>\n",
       "      <th>sPlayed</th>\n",
       "      <th>mPlayed</th>\n",
       "      <th>hPlayed</th>\n",
       "    </tr>\n",
       "  </thead>\n",
       "  <tbody>\n",
       "    <tr>\n",
       "      <th>0</th>\n",
       "      <td>2020-11-21 08:21:00</td>\n",
       "      <td>Does It Offend You, Yeah?</td>\n",
       "      <td>We Are Rockstars</td>\n",
       "      <td>13744</td>\n",
       "      <td>2020-11-21 08:21:00+00:00</td>\n",
       "      <td>2020-11-21 09:21:00+01:00</td>\n",
       "      <td>9</td>\n",
       "      <td>2020-11-21</td>\n",
       "      <td>2020-11-16</td>\n",
       "      <td>2020-11-01</td>\n",
       "      <td>13.744</td>\n",
       "      <td>0.229067</td>\n",
       "      <td>0.003818</td>\n",
       "    </tr>\n",
       "    <tr>\n",
       "      <th>1</th>\n",
       "      <td>2020-11-21 08:25:00</td>\n",
       "      <td>Does It Offend You, Yeah?</td>\n",
       "      <td>With A Heavy Heart (I Regret To Inform You)</td>\n",
       "      <td>256170</td>\n",
       "      <td>2020-11-21 08:25:00+00:00</td>\n",
       "      <td>2020-11-21 09:25:00+01:00</td>\n",
       "      <td>9</td>\n",
       "      <td>2020-11-21</td>\n",
       "      <td>2020-11-16</td>\n",
       "      <td>2020-11-01</td>\n",
       "      <td>256.170</td>\n",
       "      <td>4.269500</td>\n",
       "      <td>0.071158</td>\n",
       "    </tr>\n",
       "    <tr>\n",
       "      <th>2</th>\n",
       "      <td>2020-11-21 08:27:00</td>\n",
       "      <td>Does It Offend You, Yeah?</td>\n",
       "      <td>We Are Rockstars</td>\n",
       "      <td>69343</td>\n",
       "      <td>2020-11-21 08:27:00+00:00</td>\n",
       "      <td>2020-11-21 09:27:00+01:00</td>\n",
       "      <td>9</td>\n",
       "      <td>2020-11-21</td>\n",
       "      <td>2020-11-16</td>\n",
       "      <td>2020-11-01</td>\n",
       "      <td>69.343</td>\n",
       "      <td>1.155717</td>\n",
       "      <td>0.019262</td>\n",
       "    </tr>\n",
       "    <tr>\n",
       "      <th>3</th>\n",
       "      <td>2020-11-21 08:30:00</td>\n",
       "      <td>Does It Offend You, Yeah?</td>\n",
       "      <td>Doomed Now</td>\n",
       "      <td>221133</td>\n",
       "      <td>2020-11-21 08:30:00+00:00</td>\n",
       "      <td>2020-11-21 09:30:00+01:00</td>\n",
       "      <td>9</td>\n",
       "      <td>2020-11-21</td>\n",
       "      <td>2020-11-16</td>\n",
       "      <td>2020-11-01</td>\n",
       "      <td>221.133</td>\n",
       "      <td>3.685550</td>\n",
       "      <td>0.061426</td>\n",
       "    </tr>\n",
       "    <tr>\n",
       "      <th>4</th>\n",
       "      <td>2020-11-21 08:31:00</td>\n",
       "      <td>Does It Offend You, Yeah?</td>\n",
       "      <td>Being Bad Feels Pretty Good</td>\n",
       "      <td>2603</td>\n",
       "      <td>2020-11-21 08:31:00+00:00</td>\n",
       "      <td>2020-11-21 09:31:00+01:00</td>\n",
       "      <td>9</td>\n",
       "      <td>2020-11-21</td>\n",
       "      <td>2020-11-16</td>\n",
       "      <td>2020-11-01</td>\n",
       "      <td>2.603</td>\n",
       "      <td>0.043383</td>\n",
       "      <td>0.000723</td>\n",
       "    </tr>\n",
       "  </tbody>\n",
       "</table>\n",
       "</div>"
      ],
      "text/plain": [
       "              endTime                 artistName  \\\n",
       "0 2020-11-21 08:21:00  Does It Offend You, Yeah?   \n",
       "1 2020-11-21 08:25:00  Does It Offend You, Yeah?   \n",
       "2 2020-11-21 08:27:00  Does It Offend You, Yeah?   \n",
       "3 2020-11-21 08:30:00  Does It Offend You, Yeah?   \n",
       "4 2020-11-21 08:31:00  Does It Offend You, Yeah?   \n",
       "\n",
       "                                     trackName  msPlayed  \\\n",
       "0                             We Are Rockstars     13744   \n",
       "1  With A Heavy Heart (I Regret To Inform You)    256170   \n",
       "2                             We Are Rockstars     69343   \n",
       "3                                   Doomed Now    221133   \n",
       "4                  Being Bad Feels Pretty Good      2603   \n",
       "\n",
       "                  endTimeTz               endTimeTzEU  hour       date  \\\n",
       "0 2020-11-21 08:21:00+00:00 2020-11-21 09:21:00+01:00     9 2020-11-21   \n",
       "1 2020-11-21 08:25:00+00:00 2020-11-21 09:25:00+01:00     9 2020-11-21   \n",
       "2 2020-11-21 08:27:00+00:00 2020-11-21 09:27:00+01:00     9 2020-11-21   \n",
       "3 2020-11-21 08:30:00+00:00 2020-11-21 09:30:00+01:00     9 2020-11-21   \n",
       "4 2020-11-21 08:31:00+00:00 2020-11-21 09:31:00+01:00     9 2020-11-21   \n",
       "\n",
       "        week      month  sPlayed   mPlayed   hPlayed  \n",
       "0 2020-11-16 2020-11-01   13.744  0.229067  0.003818  \n",
       "1 2020-11-16 2020-11-01  256.170  4.269500  0.071158  \n",
       "2 2020-11-16 2020-11-01   69.343  1.155717  0.019262  \n",
       "3 2020-11-16 2020-11-01  221.133  3.685550  0.061426  \n",
       "4 2020-11-16 2020-11-01    2.603  0.043383  0.000723  "
      ]
     },
     "execution_count": 63,
     "metadata": {},
     "output_type": "execute_result"
    }
   ],
   "source": [
    "df.head()"
   ]
  },
  {
   "cell_type": "code",
   "execution_count": 70,
   "id": "9d188f12",
   "metadata": {},
   "outputs": [
    {
     "data": {
      "text/html": [
       "<div>\n",
       "<style scoped>\n",
       "    .dataframe tbody tr th:only-of-type {\n",
       "        vertical-align: middle;\n",
       "    }\n",
       "\n",
       "    .dataframe tbody tr th {\n",
       "        vertical-align: top;\n",
       "    }\n",
       "\n",
       "    .dataframe thead th {\n",
       "        text-align: right;\n",
       "    }\n",
       "</style>\n",
       "<table border=\"1\" class=\"dataframe\">\n",
       "  <thead>\n",
       "    <tr style=\"text-align: right;\">\n",
       "      <th></th>\n",
       "      <th>date</th>\n",
       "      <th>hour</th>\n",
       "      <th>hPlayed</th>\n",
       "      <th>trackName</th>\n",
       "    </tr>\n",
       "  </thead>\n",
       "  <tbody>\n",
       "    <tr>\n",
       "      <th>0</th>\n",
       "      <td>2020-11-21</td>\n",
       "      <td>9</td>\n",
       "      <td>0.581994</td>\n",
       "      <td>65</td>\n",
       "    </tr>\n",
       "    <tr>\n",
       "      <th>1</th>\n",
       "      <td>2020-11-21</td>\n",
       "      <td>10</td>\n",
       "      <td>0.407470</td>\n",
       "      <td>20</td>\n",
       "    </tr>\n",
       "    <tr>\n",
       "      <th>2</th>\n",
       "      <td>2020-11-21</td>\n",
       "      <td>11</td>\n",
       "      <td>0.994231</td>\n",
       "      <td>29</td>\n",
       "    </tr>\n",
       "    <tr>\n",
       "      <th>3</th>\n",
       "      <td>2020-11-21</td>\n",
       "      <td>12</td>\n",
       "      <td>0.406045</td>\n",
       "      <td>9</td>\n",
       "    </tr>\n",
       "    <tr>\n",
       "      <th>4</th>\n",
       "      <td>2020-11-21</td>\n",
       "      <td>14</td>\n",
       "      <td>0.092658</td>\n",
       "      <td>3</td>\n",
       "    </tr>\n",
       "    <tr>\n",
       "      <th>...</th>\n",
       "      <td>...</td>\n",
       "      <td>...</td>\n",
       "      <td>...</td>\n",
       "      <td>...</td>\n",
       "    </tr>\n",
       "    <tr>\n",
       "      <th>4247</th>\n",
       "      <td>2021-11-21</td>\n",
       "      <td>17</td>\n",
       "      <td>0.643222</td>\n",
       "      <td>24</td>\n",
       "    </tr>\n",
       "    <tr>\n",
       "      <th>4248</th>\n",
       "      <td>2021-11-21</td>\n",
       "      <td>20</td>\n",
       "      <td>0.330321</td>\n",
       "      <td>6</td>\n",
       "    </tr>\n",
       "    <tr>\n",
       "      <th>4249</th>\n",
       "      <td>2021-11-21</td>\n",
       "      <td>21</td>\n",
       "      <td>0.755962</td>\n",
       "      <td>10</td>\n",
       "    </tr>\n",
       "    <tr>\n",
       "      <th>4250</th>\n",
       "      <td>2021-11-21</td>\n",
       "      <td>22</td>\n",
       "      <td>0.580919</td>\n",
       "      <td>18</td>\n",
       "    </tr>\n",
       "    <tr>\n",
       "      <th>4251</th>\n",
       "      <td>2021-11-21</td>\n",
       "      <td>23</td>\n",
       "      <td>0.193405</td>\n",
       "      <td>1</td>\n",
       "    </tr>\n",
       "  </tbody>\n",
       "</table>\n",
       "<p>4252 rows × 4 columns</p>\n",
       "</div>"
      ],
      "text/plain": [
       "           date  hour   hPlayed  trackName\n",
       "0    2020-11-21     9  0.581994         65\n",
       "1    2020-11-21    10  0.407470         20\n",
       "2    2020-11-21    11  0.994231         29\n",
       "3    2020-11-21    12  0.406045          9\n",
       "4    2020-11-21    14  0.092658          3\n",
       "...         ...   ...       ...        ...\n",
       "4247 2021-11-21    17  0.643222         24\n",
       "4248 2021-11-21    20  0.330321          6\n",
       "4249 2021-11-21    21  0.755962         10\n",
       "4250 2021-11-21    22  0.580919         18\n",
       "4251 2021-11-21    23  0.193405          1\n",
       "\n",
       "[4252 rows x 4 columns]"
      ]
     },
     "execution_count": 70,
     "metadata": {},
     "output_type": "execute_result"
    }
   ],
   "source": [
    "agg_dict = {'hPlayed':'sum', 'trackName':'count'}\n",
    "df_agg = df.groupby(['date', 'hour'], as_index=False).agg(agg_dict)\n",
    "df_agg\n",
    "\n",
    "\n",
    "df_agg.loc[:, 'dow'] = df_agg['date'].dt.dayofweek\n",
    "df_agg.loc[:, 'dom'] = df_agg['date'].dt.day\n",
    "df_agg.loc[:, 'day'] = df_agg['date'].dt.strftime('%a')\n",
    "\n",
    "df_agg = df_agg.sort_values(by=['dow', 'hour'], ascending=False)\n",
    "\n",
    "cols = df_agg['hour'].unique().tolist()\n",
    "df_agg = pd.pivot_table(df_agg, index=['date', 'dow', 'day', 'dom'], columns='hour',\n",
    "                    values='hPlayed', aggfunc='sum')\\\n",
    "        .fillna(0).reset_index()\n",
    "\n",
    "\n",
    "hour_df = pd.melt(df_agg, id_vars=['date', 'dow', 'day', 'dom'], value_vars=cols)\n",
    "\n",
    "hour_df['week'] = hour_df['date'].dt.to_period('W').apply(lambda r: r.start_time)\n",
    "hour_df['month'] = hour_df['date'].dt.to_period('M').apply(lambda r: r.start_time)\n",
    "\n",
    "hour_df.head(24)\n"
   ]
  },
  {
   "cell_type": "code",
   "execution_count": 128,
   "id": "6a4817de",
   "metadata": {},
   "outputs": [
    {
     "data": {
      "text/html": [
       "<div>\n",
       "<style scoped>\n",
       "    .dataframe tbody tr th:only-of-type {\n",
       "        vertical-align: middle;\n",
       "    }\n",
       "\n",
       "    .dataframe tbody tr th {\n",
       "        vertical-align: top;\n",
       "    }\n",
       "\n",
       "    .dataframe thead th {\n",
       "        text-align: right;\n",
       "    }\n",
       "</style>\n",
       "<table border=\"1\" class=\"dataframe\">\n",
       "  <thead>\n",
       "    <tr style=\"text-align: right;\">\n",
       "      <th></th>\n",
       "      <th>month</th>\n",
       "      <th>value</th>\n",
       "      <th>date</th>\n",
       "      <th>perc</th>\n",
       "      <th>text</th>\n",
       "    </tr>\n",
       "  </thead>\n",
       "  <tbody>\n",
       "    <tr>\n",
       "      <th>0</th>\n",
       "      <td>2020-11-01</td>\n",
       "      <td>57.256078</td>\n",
       "      <td>10</td>\n",
       "      <td>23.856699</td>\n",
       "      <td></td>\n",
       "    </tr>\n",
       "    <tr>\n",
       "      <th>1</th>\n",
       "      <td>2020-12-01</td>\n",
       "      <td>180.001789</td>\n",
       "      <td>31</td>\n",
       "      <td>24.193789</td>\n",
       "      <td></td>\n",
       "    </tr>\n",
       "    <tr>\n",
       "      <th>2</th>\n",
       "      <td>2021-01-01</td>\n",
       "      <td>140.831439</td>\n",
       "      <td>31</td>\n",
       "      <td>18.928957</td>\n",
       "      <td></td>\n",
       "    </tr>\n",
       "    <tr>\n",
       "      <th>3</th>\n",
       "      <td>2021-02-01</td>\n",
       "      <td>145.021871</td>\n",
       "      <td>28</td>\n",
       "      <td>21.580636</td>\n",
       "      <td></td>\n",
       "    </tr>\n",
       "    <tr>\n",
       "      <th>4</th>\n",
       "      <td>2021-03-01</td>\n",
       "      <td>176.210461</td>\n",
       "      <td>31</td>\n",
       "      <td>23.684202</td>\n",
       "      <td></td>\n",
       "    </tr>\n",
       "    <tr>\n",
       "      <th>5</th>\n",
       "      <td>2021-04-01</td>\n",
       "      <td>145.486167</td>\n",
       "      <td>30</td>\n",
       "      <td>20.206412</td>\n",
       "      <td></td>\n",
       "    </tr>\n",
       "    <tr>\n",
       "      <th>6</th>\n",
       "      <td>2021-05-01</td>\n",
       "      <td>172.591502</td>\n",
       "      <td>31</td>\n",
       "      <td>23.197783</td>\n",
       "      <td></td>\n",
       "    </tr>\n",
       "    <tr>\n",
       "      <th>7</th>\n",
       "      <td>2021-06-01</td>\n",
       "      <td>119.853254</td>\n",
       "      <td>30</td>\n",
       "      <td>16.646285</td>\n",
       "      <td></td>\n",
       "    </tr>\n",
       "    <tr>\n",
       "      <th>8</th>\n",
       "      <td>2021-07-01</td>\n",
       "      <td>135.555843</td>\n",
       "      <td>31</td>\n",
       "      <td>18.219871</td>\n",
       "      <td></td>\n",
       "    </tr>\n",
       "    <tr>\n",
       "      <th>9</th>\n",
       "      <td>2021-08-01</td>\n",
       "      <td>137.436762</td>\n",
       "      <td>31</td>\n",
       "      <td>18.472683</td>\n",
       "      <td></td>\n",
       "    </tr>\n",
       "    <tr>\n",
       "      <th>10</th>\n",
       "      <td>2021-09-01</td>\n",
       "      <td>117.871014</td>\n",
       "      <td>30</td>\n",
       "      <td>16.370974</td>\n",
       "      <td>Sep</td>\n",
       "    </tr>\n",
       "    <tr>\n",
       "      <th>11</th>\n",
       "      <td>2021-10-01</td>\n",
       "      <td>184.373696</td>\n",
       "      <td>31</td>\n",
       "      <td>24.781411</td>\n",
       "      <td>Oct</td>\n",
       "    </tr>\n",
       "    <tr>\n",
       "      <th>12</th>\n",
       "      <td>2021-11-01</td>\n",
       "      <td>95.636589</td>\n",
       "      <td>21</td>\n",
       "      <td>18.975514</td>\n",
       "      <td></td>\n",
       "    </tr>\n",
       "  </tbody>\n",
       "</table>\n",
       "</div>"
      ],
      "text/plain": [
       "        month       value  date       perc text\n",
       "0  2020-11-01   57.256078    10  23.856699     \n",
       "1  2020-12-01  180.001789    31  24.193789     \n",
       "2  2021-01-01  140.831439    31  18.928957     \n",
       "3  2021-02-01  145.021871    28  21.580636     \n",
       "4  2021-03-01  176.210461    31  23.684202     \n",
       "5  2021-04-01  145.486167    30  20.206412     \n",
       "6  2021-05-01  172.591502    31  23.197783     \n",
       "7  2021-06-01  119.853254    30  16.646285     \n",
       "8  2021-07-01  135.555843    31  18.219871     \n",
       "9  2021-08-01  137.436762    31  18.472683     \n",
       "10 2021-09-01  117.871014    30  16.370974  Sep\n",
       "11 2021-10-01  184.373696    31  24.781411  Oct\n",
       "12 2021-11-01   95.636589    21  18.975514     "
      ]
     },
     "execution_count": 128,
     "metadata": {},
     "output_type": "execute_result"
    }
   ],
   "source": [
    "hour_df.groupby(['month'], as_index=False).agg({'value':'sum', 'date':'nunique'})\n",
    "\n",
    "# Monthly usage\n",
    "df_monthly = hour_df.sort_values(by='date')\n",
    "df_monthly = df_monthly.groupby(['month'], as_index=False).agg({'value':'sum', 'date':'nunique'})\n",
    "\n",
    "#dividing by 24 to get from hours to days\n",
    "df_monthly.loc[:, 'perc'] = 100*(df_monthly['value']/(24))/df_monthly['date']\n",
    "\n",
    "min_perc = (df_monthly['perc'] == df_monthly['perc'].min())\n",
    "max_perc = (df_monthly['perc'] == df_monthly['perc'].max())\n",
    "\n",
    "df_monthly.loc[min_perc | max_perc, 'text'] = df_monthly['month'].dt.strftime('%b')\n",
    "df_monthly.fillna('', inplace=True)\n",
    "\n",
    "df_monthly"
   ]
  },
  {
   "cell_type": "code",
   "execution_count": 129,
   "id": "663f57c0",
   "metadata": {},
   "outputs": [
    {
     "data": {
      "application/vnd.plotly.v1+json": {
       "config": {
        "plotlyServerURL": "https://plot.ly"
       },
       "data": [
        {
         "hovertemplate": "month=%{x}<br>perc=%{y}<br>text=%{text}<extra></extra>",
         "legendgroup": "",
         "line": {
          "color": "#1DB954",
          "dash": "solid",
          "shape": "spline",
          "width": 2.5
         },
         "marker": {
          "symbol": "circle"
         },
         "mode": "lines+markers+text",
         "name": "",
         "orientation": "v",
         "showlegend": false,
         "text": [
          "",
          "",
          "",
          "",
          "",
          "",
          "",
          "",
          "",
          "",
          "Sep",
          "Oct",
          ""
         ],
         "textposition": "top center",
         "type": "scatter",
         "x": [
          "2020-11-01T00:00:00",
          "2020-12-01T00:00:00",
          "2021-01-01T00:00:00",
          "2021-02-01T00:00:00",
          "2021-03-01T00:00:00",
          "2021-04-01T00:00:00",
          "2021-05-01T00:00:00",
          "2021-06-01T00:00:00",
          "2021-07-01T00:00:00",
          "2021-08-01T00:00:00",
          "2021-09-01T00:00:00",
          "2021-10-01T00:00:00",
          "2021-11-01T00:00:00"
         ],
         "xaxis": "x",
         "y": [
          23.85669930555556,
          24.193788866487445,
          18.92895683990441,
          21.580635540674617,
          23.68420168757466,
          20.206412075617287,
          23.1977825194146,
          16.646285262345668,
          18.219871415770605,
          18.472683057049,
          16.37097411265432,
          24.781410804958167,
          18.97551361331568
         ],
         "yaxis": "y"
        }
       ],
       "layout": {
        "legend": {
         "tracegroupgap": 0
        },
        "margin": {
         "t": 60
        },
        "template": {
         "data": {
          "bar": [
           {
            "error_x": {
             "color": "#2a3f5f"
            },
            "error_y": {
             "color": "#2a3f5f"
            },
            "marker": {
             "line": {
              "color": "#E5ECF6",
              "width": 0.5
             },
             "pattern": {
              "fillmode": "overlay",
              "size": 10,
              "solidity": 0.2
             }
            },
            "type": "bar"
           }
          ],
          "barpolar": [
           {
            "marker": {
             "line": {
              "color": "#E5ECF6",
              "width": 0.5
             },
             "pattern": {
              "fillmode": "overlay",
              "size": 10,
              "solidity": 0.2
             }
            },
            "type": "barpolar"
           }
          ],
          "carpet": [
           {
            "aaxis": {
             "endlinecolor": "#2a3f5f",
             "gridcolor": "white",
             "linecolor": "white",
             "minorgridcolor": "white",
             "startlinecolor": "#2a3f5f"
            },
            "baxis": {
             "endlinecolor": "#2a3f5f",
             "gridcolor": "white",
             "linecolor": "white",
             "minorgridcolor": "white",
             "startlinecolor": "#2a3f5f"
            },
            "type": "carpet"
           }
          ],
          "choropleth": [
           {
            "colorbar": {
             "outlinewidth": 0,
             "ticks": ""
            },
            "type": "choropleth"
           }
          ],
          "contour": [
           {
            "colorbar": {
             "outlinewidth": 0,
             "ticks": ""
            },
            "colorscale": [
             [
              0,
              "#0d0887"
             ],
             [
              0.1111111111111111,
              "#46039f"
             ],
             [
              0.2222222222222222,
              "#7201a8"
             ],
             [
              0.3333333333333333,
              "#9c179e"
             ],
             [
              0.4444444444444444,
              "#bd3786"
             ],
             [
              0.5555555555555556,
              "#d8576b"
             ],
             [
              0.6666666666666666,
              "#ed7953"
             ],
             [
              0.7777777777777778,
              "#fb9f3a"
             ],
             [
              0.8888888888888888,
              "#fdca26"
             ],
             [
              1,
              "#f0f921"
             ]
            ],
            "type": "contour"
           }
          ],
          "contourcarpet": [
           {
            "colorbar": {
             "outlinewidth": 0,
             "ticks": ""
            },
            "type": "contourcarpet"
           }
          ],
          "heatmap": [
           {
            "colorbar": {
             "outlinewidth": 0,
             "ticks": ""
            },
            "colorscale": [
             [
              0,
              "#0d0887"
             ],
             [
              0.1111111111111111,
              "#46039f"
             ],
             [
              0.2222222222222222,
              "#7201a8"
             ],
             [
              0.3333333333333333,
              "#9c179e"
             ],
             [
              0.4444444444444444,
              "#bd3786"
             ],
             [
              0.5555555555555556,
              "#d8576b"
             ],
             [
              0.6666666666666666,
              "#ed7953"
             ],
             [
              0.7777777777777778,
              "#fb9f3a"
             ],
             [
              0.8888888888888888,
              "#fdca26"
             ],
             [
              1,
              "#f0f921"
             ]
            ],
            "type": "heatmap"
           }
          ],
          "heatmapgl": [
           {
            "colorbar": {
             "outlinewidth": 0,
             "ticks": ""
            },
            "colorscale": [
             [
              0,
              "#0d0887"
             ],
             [
              0.1111111111111111,
              "#46039f"
             ],
             [
              0.2222222222222222,
              "#7201a8"
             ],
             [
              0.3333333333333333,
              "#9c179e"
             ],
             [
              0.4444444444444444,
              "#bd3786"
             ],
             [
              0.5555555555555556,
              "#d8576b"
             ],
             [
              0.6666666666666666,
              "#ed7953"
             ],
             [
              0.7777777777777778,
              "#fb9f3a"
             ],
             [
              0.8888888888888888,
              "#fdca26"
             ],
             [
              1,
              "#f0f921"
             ]
            ],
            "type": "heatmapgl"
           }
          ],
          "histogram": [
           {
            "marker": {
             "pattern": {
              "fillmode": "overlay",
              "size": 10,
              "solidity": 0.2
             }
            },
            "type": "histogram"
           }
          ],
          "histogram2d": [
           {
            "colorbar": {
             "outlinewidth": 0,
             "ticks": ""
            },
            "colorscale": [
             [
              0,
              "#0d0887"
             ],
             [
              0.1111111111111111,
              "#46039f"
             ],
             [
              0.2222222222222222,
              "#7201a8"
             ],
             [
              0.3333333333333333,
              "#9c179e"
             ],
             [
              0.4444444444444444,
              "#bd3786"
             ],
             [
              0.5555555555555556,
              "#d8576b"
             ],
             [
              0.6666666666666666,
              "#ed7953"
             ],
             [
              0.7777777777777778,
              "#fb9f3a"
             ],
             [
              0.8888888888888888,
              "#fdca26"
             ],
             [
              1,
              "#f0f921"
             ]
            ],
            "type": "histogram2d"
           }
          ],
          "histogram2dcontour": [
           {
            "colorbar": {
             "outlinewidth": 0,
             "ticks": ""
            },
            "colorscale": [
             [
              0,
              "#0d0887"
             ],
             [
              0.1111111111111111,
              "#46039f"
             ],
             [
              0.2222222222222222,
              "#7201a8"
             ],
             [
              0.3333333333333333,
              "#9c179e"
             ],
             [
              0.4444444444444444,
              "#bd3786"
             ],
             [
              0.5555555555555556,
              "#d8576b"
             ],
             [
              0.6666666666666666,
              "#ed7953"
             ],
             [
              0.7777777777777778,
              "#fb9f3a"
             ],
             [
              0.8888888888888888,
              "#fdca26"
             ],
             [
              1,
              "#f0f921"
             ]
            ],
            "type": "histogram2dcontour"
           }
          ],
          "mesh3d": [
           {
            "colorbar": {
             "outlinewidth": 0,
             "ticks": ""
            },
            "type": "mesh3d"
           }
          ],
          "parcoords": [
           {
            "line": {
             "colorbar": {
              "outlinewidth": 0,
              "ticks": ""
             }
            },
            "type": "parcoords"
           }
          ],
          "pie": [
           {
            "automargin": true,
            "type": "pie"
           }
          ],
          "scatter": [
           {
            "marker": {
             "colorbar": {
              "outlinewidth": 0,
              "ticks": ""
             }
            },
            "type": "scatter"
           }
          ],
          "scatter3d": [
           {
            "line": {
             "colorbar": {
              "outlinewidth": 0,
              "ticks": ""
             }
            },
            "marker": {
             "colorbar": {
              "outlinewidth": 0,
              "ticks": ""
             }
            },
            "type": "scatter3d"
           }
          ],
          "scattercarpet": [
           {
            "marker": {
             "colorbar": {
              "outlinewidth": 0,
              "ticks": ""
             }
            },
            "type": "scattercarpet"
           }
          ],
          "scattergeo": [
           {
            "marker": {
             "colorbar": {
              "outlinewidth": 0,
              "ticks": ""
             }
            },
            "type": "scattergeo"
           }
          ],
          "scattergl": [
           {
            "marker": {
             "colorbar": {
              "outlinewidth": 0,
              "ticks": ""
             }
            },
            "type": "scattergl"
           }
          ],
          "scattermapbox": [
           {
            "marker": {
             "colorbar": {
              "outlinewidth": 0,
              "ticks": ""
             }
            },
            "type": "scattermapbox"
           }
          ],
          "scatterpolar": [
           {
            "marker": {
             "colorbar": {
              "outlinewidth": 0,
              "ticks": ""
             }
            },
            "type": "scatterpolar"
           }
          ],
          "scatterpolargl": [
           {
            "marker": {
             "colorbar": {
              "outlinewidth": 0,
              "ticks": ""
             }
            },
            "type": "scatterpolargl"
           }
          ],
          "scatterternary": [
           {
            "marker": {
             "colorbar": {
              "outlinewidth": 0,
              "ticks": ""
             }
            },
            "type": "scatterternary"
           }
          ],
          "surface": [
           {
            "colorbar": {
             "outlinewidth": 0,
             "ticks": ""
            },
            "colorscale": [
             [
              0,
              "#0d0887"
             ],
             [
              0.1111111111111111,
              "#46039f"
             ],
             [
              0.2222222222222222,
              "#7201a8"
             ],
             [
              0.3333333333333333,
              "#9c179e"
             ],
             [
              0.4444444444444444,
              "#bd3786"
             ],
             [
              0.5555555555555556,
              "#d8576b"
             ],
             [
              0.6666666666666666,
              "#ed7953"
             ],
             [
              0.7777777777777778,
              "#fb9f3a"
             ],
             [
              0.8888888888888888,
              "#fdca26"
             ],
             [
              1,
              "#f0f921"
             ]
            ],
            "type": "surface"
           }
          ],
          "table": [
           {
            "cells": {
             "fill": {
              "color": "#EBF0F8"
             },
             "line": {
              "color": "white"
             }
            },
            "header": {
             "fill": {
              "color": "#C8D4E3"
             },
             "line": {
              "color": "white"
             }
            },
            "type": "table"
           }
          ]
         },
         "layout": {
          "annotationdefaults": {
           "arrowcolor": "#2a3f5f",
           "arrowhead": 0,
           "arrowwidth": 1
          },
          "autotypenumbers": "strict",
          "coloraxis": {
           "colorbar": {
            "outlinewidth": 0,
            "ticks": ""
           }
          },
          "colorscale": {
           "diverging": [
            [
             0,
             "#8e0152"
            ],
            [
             0.1,
             "#c51b7d"
            ],
            [
             0.2,
             "#de77ae"
            ],
            [
             0.3,
             "#f1b6da"
            ],
            [
             0.4,
             "#fde0ef"
            ],
            [
             0.5,
             "#f7f7f7"
            ],
            [
             0.6,
             "#e6f5d0"
            ],
            [
             0.7,
             "#b8e186"
            ],
            [
             0.8,
             "#7fbc41"
            ],
            [
             0.9,
             "#4d9221"
            ],
            [
             1,
             "#276419"
            ]
           ],
           "sequential": [
            [
             0,
             "#0d0887"
            ],
            [
             0.1111111111111111,
             "#46039f"
            ],
            [
             0.2222222222222222,
             "#7201a8"
            ],
            [
             0.3333333333333333,
             "#9c179e"
            ],
            [
             0.4444444444444444,
             "#bd3786"
            ],
            [
             0.5555555555555556,
             "#d8576b"
            ],
            [
             0.6666666666666666,
             "#ed7953"
            ],
            [
             0.7777777777777778,
             "#fb9f3a"
            ],
            [
             0.8888888888888888,
             "#fdca26"
            ],
            [
             1,
             "#f0f921"
            ]
           ],
           "sequentialminus": [
            [
             0,
             "#0d0887"
            ],
            [
             0.1111111111111111,
             "#46039f"
            ],
            [
             0.2222222222222222,
             "#7201a8"
            ],
            [
             0.3333333333333333,
             "#9c179e"
            ],
            [
             0.4444444444444444,
             "#bd3786"
            ],
            [
             0.5555555555555556,
             "#d8576b"
            ],
            [
             0.6666666666666666,
             "#ed7953"
            ],
            [
             0.7777777777777778,
             "#fb9f3a"
            ],
            [
             0.8888888888888888,
             "#fdca26"
            ],
            [
             1,
             "#f0f921"
            ]
           ]
          },
          "colorway": [
           "#636efa",
           "#EF553B",
           "#00cc96",
           "#ab63fa",
           "#FFA15A",
           "#19d3f3",
           "#FF6692",
           "#B6E880",
           "#FF97FF",
           "#FECB52"
          ],
          "font": {
           "color": "#2a3f5f"
          },
          "geo": {
           "bgcolor": "white",
           "lakecolor": "white",
           "landcolor": "#E5ECF6",
           "showlakes": true,
           "showland": true,
           "subunitcolor": "white"
          },
          "hoverlabel": {
           "align": "left"
          },
          "hovermode": "closest",
          "mapbox": {
           "style": "light"
          },
          "paper_bgcolor": "white",
          "plot_bgcolor": "#E5ECF6",
          "polar": {
           "angularaxis": {
            "gridcolor": "white",
            "linecolor": "white",
            "ticks": ""
           },
           "bgcolor": "#E5ECF6",
           "radialaxis": {
            "gridcolor": "white",
            "linecolor": "white",
            "ticks": ""
           }
          },
          "scene": {
           "xaxis": {
            "backgroundcolor": "#E5ECF6",
            "gridcolor": "white",
            "gridwidth": 2,
            "linecolor": "white",
            "showbackground": true,
            "ticks": "",
            "zerolinecolor": "white"
           },
           "yaxis": {
            "backgroundcolor": "#E5ECF6",
            "gridcolor": "white",
            "gridwidth": 2,
            "linecolor": "white",
            "showbackground": true,
            "ticks": "",
            "zerolinecolor": "white"
           },
           "zaxis": {
            "backgroundcolor": "#E5ECF6",
            "gridcolor": "white",
            "gridwidth": 2,
            "linecolor": "white",
            "showbackground": true,
            "ticks": "",
            "zerolinecolor": "white"
           }
          },
          "shapedefaults": {
           "line": {
            "color": "#2a3f5f"
           }
          },
          "ternary": {
           "aaxis": {
            "gridcolor": "white",
            "linecolor": "white",
            "ticks": ""
           },
           "baxis": {
            "gridcolor": "white",
            "linecolor": "white",
            "ticks": ""
           },
           "bgcolor": "#E5ECF6",
           "caxis": {
            "gridcolor": "white",
            "linecolor": "white",
            "ticks": ""
           }
          },
          "title": {
           "x": 0.05
          },
          "xaxis": {
           "automargin": true,
           "gridcolor": "white",
           "linecolor": "white",
           "ticks": "",
           "title": {
            "standoff": 15
           },
           "zerolinecolor": "white",
           "zerolinewidth": 2
          },
          "yaxis": {
           "automargin": true,
           "gridcolor": "white",
           "linecolor": "white",
           "ticks": "",
           "title": {
            "standoff": 15
           },
           "zerolinecolor": "white",
           "zerolinewidth": 2
          }
         }
        },
        "title": {
         "text": "<b>Spotify</b>: <i> How much time did I spend on Spotify each month?"
        },
        "xaxis": {
         "anchor": "y",
         "domain": [
          0,
          1
         ],
         "nticks": 5,
         "tickformat": "%b %y",
         "title": {
          "text": ""
         }
        },
        "yaxis": {
         "anchor": "x",
         "domain": [
          0,
          1
         ],
         "rangemode": "tozero",
         "ticksuffix": "%",
         "title": {
          "text": "% of total month time listening to music"
         }
        }
       }
      },
      "text/html": [
       "<div>                            <div id=\"a215a8e4-7a0c-45e5-a1a8-1c48f06e6c6b\" class=\"plotly-graph-div\" style=\"height:525px; width:100%;\"></div>            <script type=\"text/javascript\">                require([\"plotly\"], function(Plotly) {                    window.PLOTLYENV=window.PLOTLYENV || {};                                    if (document.getElementById(\"a215a8e4-7a0c-45e5-a1a8-1c48f06e6c6b\")) {                    Plotly.newPlot(                        \"a215a8e4-7a0c-45e5-a1a8-1c48f06e6c6b\",                        [{\"hovertemplate\":\"month=%{x}<br>perc=%{y}<br>text=%{text}<extra></extra>\",\"legendgroup\":\"\",\"line\":{\"color\":\"#1DB954\",\"dash\":\"solid\",\"shape\":\"spline\",\"width\":2.5},\"marker\":{\"symbol\":\"circle\"},\"mode\":\"lines+markers+text\",\"name\":\"\",\"orientation\":\"v\",\"showlegend\":false,\"text\":[\"\",\"\",\"\",\"\",\"\",\"\",\"\",\"\",\"\",\"\",\"Sep\",\"Oct\",\"\"],\"x\":[\"2020-11-01T00:00:00\",\"2020-12-01T00:00:00\",\"2021-01-01T00:00:00\",\"2021-02-01T00:00:00\",\"2021-03-01T00:00:00\",\"2021-04-01T00:00:00\",\"2021-05-01T00:00:00\",\"2021-06-01T00:00:00\",\"2021-07-01T00:00:00\",\"2021-08-01T00:00:00\",\"2021-09-01T00:00:00\",\"2021-10-01T00:00:00\",\"2021-11-01T00:00:00\"],\"xaxis\":\"x\",\"y\":[23.85669930555556,24.193788866487445,18.92895683990441,21.580635540674617,23.68420168757466,20.206412075617287,23.1977825194146,16.646285262345668,18.219871415770605,18.472683057049,16.37097411265432,24.781410804958167,18.97551361331568],\"yaxis\":\"y\",\"type\":\"scatter\",\"textposition\":\"top center\"}],                        {\"template\":{\"data\":{\"bar\":[{\"error_x\":{\"color\":\"#2a3f5f\"},\"error_y\":{\"color\":\"#2a3f5f\"},\"marker\":{\"line\":{\"color\":\"#E5ECF6\",\"width\":0.5},\"pattern\":{\"fillmode\":\"overlay\",\"size\":10,\"solidity\":0.2}},\"type\":\"bar\"}],\"barpolar\":[{\"marker\":{\"line\":{\"color\":\"#E5ECF6\",\"width\":0.5},\"pattern\":{\"fillmode\":\"overlay\",\"size\":10,\"solidity\":0.2}},\"type\":\"barpolar\"}],\"carpet\":[{\"aaxis\":{\"endlinecolor\":\"#2a3f5f\",\"gridcolor\":\"white\",\"linecolor\":\"white\",\"minorgridcolor\":\"white\",\"startlinecolor\":\"#2a3f5f\"},\"baxis\":{\"endlinecolor\":\"#2a3f5f\",\"gridcolor\":\"white\",\"linecolor\":\"white\",\"minorgridcolor\":\"white\",\"startlinecolor\":\"#2a3f5f\"},\"type\":\"carpet\"}],\"choropleth\":[{\"colorbar\":{\"outlinewidth\":0,\"ticks\":\"\"},\"type\":\"choropleth\"}],\"contour\":[{\"colorbar\":{\"outlinewidth\":0,\"ticks\":\"\"},\"colorscale\":[[0.0,\"#0d0887\"],[0.1111111111111111,\"#46039f\"],[0.2222222222222222,\"#7201a8\"],[0.3333333333333333,\"#9c179e\"],[0.4444444444444444,\"#bd3786\"],[0.5555555555555556,\"#d8576b\"],[0.6666666666666666,\"#ed7953\"],[0.7777777777777778,\"#fb9f3a\"],[0.8888888888888888,\"#fdca26\"],[1.0,\"#f0f921\"]],\"type\":\"contour\"}],\"contourcarpet\":[{\"colorbar\":{\"outlinewidth\":0,\"ticks\":\"\"},\"type\":\"contourcarpet\"}],\"heatmap\":[{\"colorbar\":{\"outlinewidth\":0,\"ticks\":\"\"},\"colorscale\":[[0.0,\"#0d0887\"],[0.1111111111111111,\"#46039f\"],[0.2222222222222222,\"#7201a8\"],[0.3333333333333333,\"#9c179e\"],[0.4444444444444444,\"#bd3786\"],[0.5555555555555556,\"#d8576b\"],[0.6666666666666666,\"#ed7953\"],[0.7777777777777778,\"#fb9f3a\"],[0.8888888888888888,\"#fdca26\"],[1.0,\"#f0f921\"]],\"type\":\"heatmap\"}],\"heatmapgl\":[{\"colorbar\":{\"outlinewidth\":0,\"ticks\":\"\"},\"colorscale\":[[0.0,\"#0d0887\"],[0.1111111111111111,\"#46039f\"],[0.2222222222222222,\"#7201a8\"],[0.3333333333333333,\"#9c179e\"],[0.4444444444444444,\"#bd3786\"],[0.5555555555555556,\"#d8576b\"],[0.6666666666666666,\"#ed7953\"],[0.7777777777777778,\"#fb9f3a\"],[0.8888888888888888,\"#fdca26\"],[1.0,\"#f0f921\"]],\"type\":\"heatmapgl\"}],\"histogram\":[{\"marker\":{\"pattern\":{\"fillmode\":\"overlay\",\"size\":10,\"solidity\":0.2}},\"type\":\"histogram\"}],\"histogram2d\":[{\"colorbar\":{\"outlinewidth\":0,\"ticks\":\"\"},\"colorscale\":[[0.0,\"#0d0887\"],[0.1111111111111111,\"#46039f\"],[0.2222222222222222,\"#7201a8\"],[0.3333333333333333,\"#9c179e\"],[0.4444444444444444,\"#bd3786\"],[0.5555555555555556,\"#d8576b\"],[0.6666666666666666,\"#ed7953\"],[0.7777777777777778,\"#fb9f3a\"],[0.8888888888888888,\"#fdca26\"],[1.0,\"#f0f921\"]],\"type\":\"histogram2d\"}],\"histogram2dcontour\":[{\"colorbar\":{\"outlinewidth\":0,\"ticks\":\"\"},\"colorscale\":[[0.0,\"#0d0887\"],[0.1111111111111111,\"#46039f\"],[0.2222222222222222,\"#7201a8\"],[0.3333333333333333,\"#9c179e\"],[0.4444444444444444,\"#bd3786\"],[0.5555555555555556,\"#d8576b\"],[0.6666666666666666,\"#ed7953\"],[0.7777777777777778,\"#fb9f3a\"],[0.8888888888888888,\"#fdca26\"],[1.0,\"#f0f921\"]],\"type\":\"histogram2dcontour\"}],\"mesh3d\":[{\"colorbar\":{\"outlinewidth\":0,\"ticks\":\"\"},\"type\":\"mesh3d\"}],\"parcoords\":[{\"line\":{\"colorbar\":{\"outlinewidth\":0,\"ticks\":\"\"}},\"type\":\"parcoords\"}],\"pie\":[{\"automargin\":true,\"type\":\"pie\"}],\"scatter\":[{\"marker\":{\"colorbar\":{\"outlinewidth\":0,\"ticks\":\"\"}},\"type\":\"scatter\"}],\"scatter3d\":[{\"line\":{\"colorbar\":{\"outlinewidth\":0,\"ticks\":\"\"}},\"marker\":{\"colorbar\":{\"outlinewidth\":0,\"ticks\":\"\"}},\"type\":\"scatter3d\"}],\"scattercarpet\":[{\"marker\":{\"colorbar\":{\"outlinewidth\":0,\"ticks\":\"\"}},\"type\":\"scattercarpet\"}],\"scattergeo\":[{\"marker\":{\"colorbar\":{\"outlinewidth\":0,\"ticks\":\"\"}},\"type\":\"scattergeo\"}],\"scattergl\":[{\"marker\":{\"colorbar\":{\"outlinewidth\":0,\"ticks\":\"\"}},\"type\":\"scattergl\"}],\"scattermapbox\":[{\"marker\":{\"colorbar\":{\"outlinewidth\":0,\"ticks\":\"\"}},\"type\":\"scattermapbox\"}],\"scatterpolar\":[{\"marker\":{\"colorbar\":{\"outlinewidth\":0,\"ticks\":\"\"}},\"type\":\"scatterpolar\"}],\"scatterpolargl\":[{\"marker\":{\"colorbar\":{\"outlinewidth\":0,\"ticks\":\"\"}},\"type\":\"scatterpolargl\"}],\"scatterternary\":[{\"marker\":{\"colorbar\":{\"outlinewidth\":0,\"ticks\":\"\"}},\"type\":\"scatterternary\"}],\"surface\":[{\"colorbar\":{\"outlinewidth\":0,\"ticks\":\"\"},\"colorscale\":[[0.0,\"#0d0887\"],[0.1111111111111111,\"#46039f\"],[0.2222222222222222,\"#7201a8\"],[0.3333333333333333,\"#9c179e\"],[0.4444444444444444,\"#bd3786\"],[0.5555555555555556,\"#d8576b\"],[0.6666666666666666,\"#ed7953\"],[0.7777777777777778,\"#fb9f3a\"],[0.8888888888888888,\"#fdca26\"],[1.0,\"#f0f921\"]],\"type\":\"surface\"}],\"table\":[{\"cells\":{\"fill\":{\"color\":\"#EBF0F8\"},\"line\":{\"color\":\"white\"}},\"header\":{\"fill\":{\"color\":\"#C8D4E3\"},\"line\":{\"color\":\"white\"}},\"type\":\"table\"}]},\"layout\":{\"annotationdefaults\":{\"arrowcolor\":\"#2a3f5f\",\"arrowhead\":0,\"arrowwidth\":1},\"autotypenumbers\":\"strict\",\"coloraxis\":{\"colorbar\":{\"outlinewidth\":0,\"ticks\":\"\"}},\"colorscale\":{\"diverging\":[[0,\"#8e0152\"],[0.1,\"#c51b7d\"],[0.2,\"#de77ae\"],[0.3,\"#f1b6da\"],[0.4,\"#fde0ef\"],[0.5,\"#f7f7f7\"],[0.6,\"#e6f5d0\"],[0.7,\"#b8e186\"],[0.8,\"#7fbc41\"],[0.9,\"#4d9221\"],[1,\"#276419\"]],\"sequential\":[[0.0,\"#0d0887\"],[0.1111111111111111,\"#46039f\"],[0.2222222222222222,\"#7201a8\"],[0.3333333333333333,\"#9c179e\"],[0.4444444444444444,\"#bd3786\"],[0.5555555555555556,\"#d8576b\"],[0.6666666666666666,\"#ed7953\"],[0.7777777777777778,\"#fb9f3a\"],[0.8888888888888888,\"#fdca26\"],[1.0,\"#f0f921\"]],\"sequentialminus\":[[0.0,\"#0d0887\"],[0.1111111111111111,\"#46039f\"],[0.2222222222222222,\"#7201a8\"],[0.3333333333333333,\"#9c179e\"],[0.4444444444444444,\"#bd3786\"],[0.5555555555555556,\"#d8576b\"],[0.6666666666666666,\"#ed7953\"],[0.7777777777777778,\"#fb9f3a\"],[0.8888888888888888,\"#fdca26\"],[1.0,\"#f0f921\"]]},\"colorway\":[\"#636efa\",\"#EF553B\",\"#00cc96\",\"#ab63fa\",\"#FFA15A\",\"#19d3f3\",\"#FF6692\",\"#B6E880\",\"#FF97FF\",\"#FECB52\"],\"font\":{\"color\":\"#2a3f5f\"},\"geo\":{\"bgcolor\":\"white\",\"lakecolor\":\"white\",\"landcolor\":\"#E5ECF6\",\"showlakes\":true,\"showland\":true,\"subunitcolor\":\"white\"},\"hoverlabel\":{\"align\":\"left\"},\"hovermode\":\"closest\",\"mapbox\":{\"style\":\"light\"},\"paper_bgcolor\":\"white\",\"plot_bgcolor\":\"#E5ECF6\",\"polar\":{\"angularaxis\":{\"gridcolor\":\"white\",\"linecolor\":\"white\",\"ticks\":\"\"},\"bgcolor\":\"#E5ECF6\",\"radialaxis\":{\"gridcolor\":\"white\",\"linecolor\":\"white\",\"ticks\":\"\"}},\"scene\":{\"xaxis\":{\"backgroundcolor\":\"#E5ECF6\",\"gridcolor\":\"white\",\"gridwidth\":2,\"linecolor\":\"white\",\"showbackground\":true,\"ticks\":\"\",\"zerolinecolor\":\"white\"},\"yaxis\":{\"backgroundcolor\":\"#E5ECF6\",\"gridcolor\":\"white\",\"gridwidth\":2,\"linecolor\":\"white\",\"showbackground\":true,\"ticks\":\"\",\"zerolinecolor\":\"white\"},\"zaxis\":{\"backgroundcolor\":\"#E5ECF6\",\"gridcolor\":\"white\",\"gridwidth\":2,\"linecolor\":\"white\",\"showbackground\":true,\"ticks\":\"\",\"zerolinecolor\":\"white\"}},\"shapedefaults\":{\"line\":{\"color\":\"#2a3f5f\"}},\"ternary\":{\"aaxis\":{\"gridcolor\":\"white\",\"linecolor\":\"white\",\"ticks\":\"\"},\"baxis\":{\"gridcolor\":\"white\",\"linecolor\":\"white\",\"ticks\":\"\"},\"bgcolor\":\"#E5ECF6\",\"caxis\":{\"gridcolor\":\"white\",\"linecolor\":\"white\",\"ticks\":\"\"}},\"title\":{\"x\":0.05},\"xaxis\":{\"automargin\":true,\"gridcolor\":\"white\",\"linecolor\":\"white\",\"ticks\":\"\",\"title\":{\"standoff\":15},\"zerolinecolor\":\"white\",\"zerolinewidth\":2},\"yaxis\":{\"automargin\":true,\"gridcolor\":\"white\",\"linecolor\":\"white\",\"ticks\":\"\",\"title\":{\"standoff\":15},\"zerolinecolor\":\"white\",\"zerolinewidth\":2}}},\"xaxis\":{\"anchor\":\"y\",\"domain\":[0.0,1.0],\"title\":{\"text\":\"\"},\"tickformat\":\"%b %y\",\"nticks\":5},\"yaxis\":{\"anchor\":\"x\",\"domain\":[0.0,1.0],\"title\":{\"text\":\"% of total month time listening to music\"},\"rangemode\":\"tozero\",\"ticksuffix\":\"%\"},\"legend\":{\"tracegroupgap\":0},\"margin\":{\"t\":60},\"title\":{\"text\":\"<b>Spotify</b>: <i> How much time did I spend on Spotify each month?\"}},                        {\"responsive\": true}                    ).then(function(){\n",
       "                            \n",
       "var gd = document.getElementById('a215a8e4-7a0c-45e5-a1a8-1c48f06e6c6b');\n",
       "var x = new MutationObserver(function (mutations, observer) {{\n",
       "        var display = window.getComputedStyle(gd).display;\n",
       "        if (!display || display === 'none') {{\n",
       "            console.log([gd, 'removed!']);\n",
       "            Plotly.purge(gd);\n",
       "            observer.disconnect();\n",
       "        }}\n",
       "}});\n",
       "\n",
       "// Listen for the removal of the full notebook cells\n",
       "var notebookContainer = gd.closest('#notebook-container');\n",
       "if (notebookContainer) {{\n",
       "    x.observe(notebookContainer, {childList: true});\n",
       "}}\n",
       "\n",
       "// Listen for the clearing of the current output cell\n",
       "var outputEl = gd.closest('.output');\n",
       "if (outputEl) {{\n",
       "    x.observe(outputEl, {childList: true});\n",
       "}}\n",
       "\n",
       "                        })                };                });            </script>        </div>"
      ]
     },
     "metadata": {},
     "output_type": "display_data"
    }
   ],
   "source": [
    "fig = px.line(df_monthly, x='month', y='perc', line_shape='spline', text='text',\n",
    "              color_discrete_sequence=spotify_colors)\n",
    "fig.update_traces(mode='lines+markers+text', textposition='top center', line_width=2.5)\n",
    "fig.update_yaxes(rangemode='tozero', ticksuffix='%')\n",
    "fig.update_xaxes(tickformat='%b %y', nticks=5)\n",
    "fig.update_layout(\n",
    "    title='<b>Spotify</b>: <i> How much time did I spend on Spotify each month?',\n",
    "    yaxis_title='% of total month time listening to music',\n",
    "    xaxis_title=''\n",
    ")\n",
    "fig.show()"
   ]
  },
  {
   "cell_type": "code",
   "execution_count": null,
   "id": "f92db4fa",
   "metadata": {},
   "outputs": [],
   "source": []
  },
  {
   "cell_type": "code",
   "execution_count": null,
   "id": "701f9675",
   "metadata": {},
   "outputs": [],
   "source": []
  },
  {
   "cell_type": "code",
   "execution_count": null,
   "id": "2a883e0d",
   "metadata": {},
   "outputs": [],
   "source": []
  },
  {
   "cell_type": "code",
   "execution_count": null,
   "id": "6848c566",
   "metadata": {},
   "outputs": [],
   "source": []
  },
  {
   "cell_type": "code",
   "execution_count": null,
   "id": "39eeeb52",
   "metadata": {},
   "outputs": [],
   "source": []
  },
  {
   "cell_type": "code",
   "execution_count": null,
   "id": "ab1f4479",
   "metadata": {},
   "outputs": [],
   "source": []
  },
  {
   "cell_type": "code",
   "execution_count": null,
   "id": "508557b6",
   "metadata": {},
   "outputs": [],
   "source": []
  },
  {
   "cell_type": "code",
   "execution_count": null,
   "id": "31739d94",
   "metadata": {},
   "outputs": [],
   "source": []
  },
  {
   "cell_type": "code",
   "execution_count": null,
   "id": "66968d0e",
   "metadata": {},
   "outputs": [],
   "source": []
  },
  {
   "cell_type": "code",
   "execution_count": 66,
   "id": "6db4a96a",
   "metadata": {},
   "outputs": [
    {
     "data": {
      "text/html": [
       "<div>\n",
       "<style scoped>\n",
       "    .dataframe tbody tr th:only-of-type {\n",
       "        vertical-align: middle;\n",
       "    }\n",
       "\n",
       "    .dataframe tbody tr th {\n",
       "        vertical-align: top;\n",
       "    }\n",
       "\n",
       "    .dataframe thead th {\n",
       "        text-align: right;\n",
       "    }\n",
       "</style>\n",
       "<table border=\"1\" class=\"dataframe\">\n",
       "  <thead>\n",
       "    <tr style=\"text-align: right;\">\n",
       "      <th>hour</th>\n",
       "      <th>date</th>\n",
       "      <th>dow</th>\n",
       "      <th>day</th>\n",
       "      <th>dom</th>\n",
       "      <th>0</th>\n",
       "      <th>1</th>\n",
       "      <th>2</th>\n",
       "      <th>3</th>\n",
       "      <th>4</th>\n",
       "      <th>5</th>\n",
       "      <th>...</th>\n",
       "      <th>14</th>\n",
       "      <th>15</th>\n",
       "      <th>16</th>\n",
       "      <th>17</th>\n",
       "      <th>18</th>\n",
       "      <th>19</th>\n",
       "      <th>20</th>\n",
       "      <th>21</th>\n",
       "      <th>22</th>\n",
       "      <th>23</th>\n",
       "    </tr>\n",
       "  </thead>\n",
       "  <tbody>\n",
       "    <tr>\n",
       "      <th>0</th>\n",
       "      <td>2020-11-21</td>\n",
       "      <td>5</td>\n",
       "      <td>Sat</td>\n",
       "      <td>21</td>\n",
       "      <td>0.0</td>\n",
       "      <td>0.0</td>\n",
       "      <td>0.0</td>\n",
       "      <td>0.0</td>\n",
       "      <td>0.0</td>\n",
       "      <td>0.0</td>\n",
       "      <td>...</td>\n",
       "      <td>0.092658</td>\n",
       "      <td>0.875201</td>\n",
       "      <td>0.461119</td>\n",
       "      <td>0.432448</td>\n",
       "      <td>0.000000</td>\n",
       "      <td>0.001484</td>\n",
       "      <td>0.149162</td>\n",
       "      <td>0.447485</td>\n",
       "      <td>0.000000</td>\n",
       "      <td>0.000000</td>\n",
       "    </tr>\n",
       "    <tr>\n",
       "      <th>1</th>\n",
       "      <td>2020-11-22</td>\n",
       "      <td>6</td>\n",
       "      <td>Sun</td>\n",
       "      <td>22</td>\n",
       "      <td>0.0</td>\n",
       "      <td>0.0</td>\n",
       "      <td>0.0</td>\n",
       "      <td>0.0</td>\n",
       "      <td>0.0</td>\n",
       "      <td>0.0</td>\n",
       "      <td>...</td>\n",
       "      <td>0.235185</td>\n",
       "      <td>0.376365</td>\n",
       "      <td>0.000000</td>\n",
       "      <td>0.094099</td>\n",
       "      <td>0.013161</td>\n",
       "      <td>0.316239</td>\n",
       "      <td>0.049721</td>\n",
       "      <td>0.000000</td>\n",
       "      <td>0.357879</td>\n",
       "      <td>0.362365</td>\n",
       "    </tr>\n",
       "    <tr>\n",
       "      <th>2</th>\n",
       "      <td>2020-11-23</td>\n",
       "      <td>0</td>\n",
       "      <td>Mon</td>\n",
       "      <td>23</td>\n",
       "      <td>0.0</td>\n",
       "      <td>0.0</td>\n",
       "      <td>0.0</td>\n",
       "      <td>0.0</td>\n",
       "      <td>0.0</td>\n",
       "      <td>0.0</td>\n",
       "      <td>...</td>\n",
       "      <td>0.654687</td>\n",
       "      <td>0.085726</td>\n",
       "      <td>1.031896</td>\n",
       "      <td>0.890592</td>\n",
       "      <td>0.663798</td>\n",
       "      <td>0.000000</td>\n",
       "      <td>0.000000</td>\n",
       "      <td>0.826353</td>\n",
       "      <td>0.401900</td>\n",
       "      <td>0.271380</td>\n",
       "    </tr>\n",
       "    <tr>\n",
       "      <th>3</th>\n",
       "      <td>2020-11-24</td>\n",
       "      <td>1</td>\n",
       "      <td>Tue</td>\n",
       "      <td>24</td>\n",
       "      <td>0.0</td>\n",
       "      <td>0.0</td>\n",
       "      <td>0.0</td>\n",
       "      <td>0.0</td>\n",
       "      <td>0.0</td>\n",
       "      <td>0.0</td>\n",
       "      <td>...</td>\n",
       "      <td>0.149162</td>\n",
       "      <td>0.807964</td>\n",
       "      <td>0.000000</td>\n",
       "      <td>0.000000</td>\n",
       "      <td>0.041846</td>\n",
       "      <td>0.000000</td>\n",
       "      <td>0.000000</td>\n",
       "      <td>0.000000</td>\n",
       "      <td>0.000000</td>\n",
       "      <td>0.000000</td>\n",
       "    </tr>\n",
       "    <tr>\n",
       "      <th>4</th>\n",
       "      <td>2020-11-25</td>\n",
       "      <td>2</td>\n",
       "      <td>Wed</td>\n",
       "      <td>25</td>\n",
       "      <td>0.0</td>\n",
       "      <td>0.0</td>\n",
       "      <td>0.0</td>\n",
       "      <td>0.0</td>\n",
       "      <td>0.0</td>\n",
       "      <td>0.0</td>\n",
       "      <td>...</td>\n",
       "      <td>0.347016</td>\n",
       "      <td>0.967682</td>\n",
       "      <td>0.801217</td>\n",
       "      <td>0.000000</td>\n",
       "      <td>0.371095</td>\n",
       "      <td>0.475291</td>\n",
       "      <td>0.678444</td>\n",
       "      <td>0.317439</td>\n",
       "      <td>0.524991</td>\n",
       "      <td>0.613533</td>\n",
       "    </tr>\n",
       "    <tr>\n",
       "      <th>...</th>\n",
       "      <td>...</td>\n",
       "      <td>...</td>\n",
       "      <td>...</td>\n",
       "      <td>...</td>\n",
       "      <td>...</td>\n",
       "      <td>...</td>\n",
       "      <td>...</td>\n",
       "      <td>...</td>\n",
       "      <td>...</td>\n",
       "      <td>...</td>\n",
       "      <td>...</td>\n",
       "      <td>...</td>\n",
       "      <td>...</td>\n",
       "      <td>...</td>\n",
       "      <td>...</td>\n",
       "      <td>...</td>\n",
       "      <td>...</td>\n",
       "      <td>...</td>\n",
       "      <td>...</td>\n",
       "      <td>...</td>\n",
       "      <td>...</td>\n",
       "    </tr>\n",
       "    <tr>\n",
       "      <th>361</th>\n",
       "      <td>2021-11-17</td>\n",
       "      <td>2</td>\n",
       "      <td>Wed</td>\n",
       "      <td>17</td>\n",
       "      <td>0.0</td>\n",
       "      <td>0.0</td>\n",
       "      <td>0.0</td>\n",
       "      <td>0.0</td>\n",
       "      <td>0.0</td>\n",
       "      <td>0.0</td>\n",
       "      <td>...</td>\n",
       "      <td>0.312070</td>\n",
       "      <td>0.289874</td>\n",
       "      <td>0.251244</td>\n",
       "      <td>0.459358</td>\n",
       "      <td>0.002144</td>\n",
       "      <td>0.194176</td>\n",
       "      <td>0.000000</td>\n",
       "      <td>0.317527</td>\n",
       "      <td>0.154941</td>\n",
       "      <td>0.222518</td>\n",
       "    </tr>\n",
       "    <tr>\n",
       "      <th>362</th>\n",
       "      <td>2021-11-18</td>\n",
       "      <td>3</td>\n",
       "      <td>Thu</td>\n",
       "      <td>18</td>\n",
       "      <td>0.0</td>\n",
       "      <td>0.0</td>\n",
       "      <td>0.0</td>\n",
       "      <td>0.0</td>\n",
       "      <td>0.0</td>\n",
       "      <td>0.0</td>\n",
       "      <td>...</td>\n",
       "      <td>0.180989</td>\n",
       "      <td>0.114858</td>\n",
       "      <td>0.162406</td>\n",
       "      <td>0.080933</td>\n",
       "      <td>0.512751</td>\n",
       "      <td>0.006260</td>\n",
       "      <td>0.156647</td>\n",
       "      <td>0.344175</td>\n",
       "      <td>0.020769</td>\n",
       "      <td>0.000000</td>\n",
       "    </tr>\n",
       "    <tr>\n",
       "      <th>363</th>\n",
       "      <td>2021-11-19</td>\n",
       "      <td>4</td>\n",
       "      <td>Fri</td>\n",
       "      <td>19</td>\n",
       "      <td>0.0</td>\n",
       "      <td>0.0</td>\n",
       "      <td>0.0</td>\n",
       "      <td>0.0</td>\n",
       "      <td>0.0</td>\n",
       "      <td>0.0</td>\n",
       "      <td>...</td>\n",
       "      <td>0.664811</td>\n",
       "      <td>0.435628</td>\n",
       "      <td>0.627551</td>\n",
       "      <td>0.000000</td>\n",
       "      <td>0.000000</td>\n",
       "      <td>0.000000</td>\n",
       "      <td>0.000000</td>\n",
       "      <td>0.000000</td>\n",
       "      <td>0.000000</td>\n",
       "      <td>0.320508</td>\n",
       "    </tr>\n",
       "    <tr>\n",
       "      <th>364</th>\n",
       "      <td>2021-11-20</td>\n",
       "      <td>5</td>\n",
       "      <td>Sat</td>\n",
       "      <td>20</td>\n",
       "      <td>0.0</td>\n",
       "      <td>0.0</td>\n",
       "      <td>0.0</td>\n",
       "      <td>0.0</td>\n",
       "      <td>0.0</td>\n",
       "      <td>0.0</td>\n",
       "      <td>...</td>\n",
       "      <td>0.356630</td>\n",
       "      <td>0.837122</td>\n",
       "      <td>1.110942</td>\n",
       "      <td>0.535390</td>\n",
       "      <td>0.067806</td>\n",
       "      <td>0.827087</td>\n",
       "      <td>0.938616</td>\n",
       "      <td>0.113237</td>\n",
       "      <td>0.254808</td>\n",
       "      <td>0.806508</td>\n",
       "    </tr>\n",
       "    <tr>\n",
       "      <th>365</th>\n",
       "      <td>2021-11-21</td>\n",
       "      <td>6</td>\n",
       "      <td>Sun</td>\n",
       "      <td>21</td>\n",
       "      <td>0.0</td>\n",
       "      <td>0.0</td>\n",
       "      <td>0.0</td>\n",
       "      <td>0.0</td>\n",
       "      <td>0.0</td>\n",
       "      <td>0.0</td>\n",
       "      <td>...</td>\n",
       "      <td>0.944729</td>\n",
       "      <td>0.589792</td>\n",
       "      <td>0.258110</td>\n",
       "      <td>0.643222</td>\n",
       "      <td>0.000000</td>\n",
       "      <td>0.000000</td>\n",
       "      <td>0.330321</td>\n",
       "      <td>0.755962</td>\n",
       "      <td>0.580919</td>\n",
       "      <td>0.193405</td>\n",
       "    </tr>\n",
       "  </tbody>\n",
       "</table>\n",
       "<p>366 rows × 28 columns</p>\n",
       "</div>"
      ],
      "text/plain": [
       "hour       date  dow  day  dom    0    1    2    3    4    5  ...        14  \\\n",
       "0    2020-11-21    5  Sat   21  0.0  0.0  0.0  0.0  0.0  0.0  ...  0.092658   \n",
       "1    2020-11-22    6  Sun   22  0.0  0.0  0.0  0.0  0.0  0.0  ...  0.235185   \n",
       "2    2020-11-23    0  Mon   23  0.0  0.0  0.0  0.0  0.0  0.0  ...  0.654687   \n",
       "3    2020-11-24    1  Tue   24  0.0  0.0  0.0  0.0  0.0  0.0  ...  0.149162   \n",
       "4    2020-11-25    2  Wed   25  0.0  0.0  0.0  0.0  0.0  0.0  ...  0.347016   \n",
       "..          ...  ...  ...  ...  ...  ...  ...  ...  ...  ...  ...       ...   \n",
       "361  2021-11-17    2  Wed   17  0.0  0.0  0.0  0.0  0.0  0.0  ...  0.312070   \n",
       "362  2021-11-18    3  Thu   18  0.0  0.0  0.0  0.0  0.0  0.0  ...  0.180989   \n",
       "363  2021-11-19    4  Fri   19  0.0  0.0  0.0  0.0  0.0  0.0  ...  0.664811   \n",
       "364  2021-11-20    5  Sat   20  0.0  0.0  0.0  0.0  0.0  0.0  ...  0.356630   \n",
       "365  2021-11-21    6  Sun   21  0.0  0.0  0.0  0.0  0.0  0.0  ...  0.944729   \n",
       "\n",
       "hour        15        16        17        18        19        20        21  \\\n",
       "0     0.875201  0.461119  0.432448  0.000000  0.001484  0.149162  0.447485   \n",
       "1     0.376365  0.000000  0.094099  0.013161  0.316239  0.049721  0.000000   \n",
       "2     0.085726  1.031896  0.890592  0.663798  0.000000  0.000000  0.826353   \n",
       "3     0.807964  0.000000  0.000000  0.041846  0.000000  0.000000  0.000000   \n",
       "4     0.967682  0.801217  0.000000  0.371095  0.475291  0.678444  0.317439   \n",
       "..         ...       ...       ...       ...       ...       ...       ...   \n",
       "361   0.289874  0.251244  0.459358  0.002144  0.194176  0.000000  0.317527   \n",
       "362   0.114858  0.162406  0.080933  0.512751  0.006260  0.156647  0.344175   \n",
       "363   0.435628  0.627551  0.000000  0.000000  0.000000  0.000000  0.000000   \n",
       "364   0.837122  1.110942  0.535390  0.067806  0.827087  0.938616  0.113237   \n",
       "365   0.589792  0.258110  0.643222  0.000000  0.000000  0.330321  0.755962   \n",
       "\n",
       "hour        22        23  \n",
       "0     0.000000  0.000000  \n",
       "1     0.357879  0.362365  \n",
       "2     0.401900  0.271380  \n",
       "3     0.000000  0.000000  \n",
       "4     0.524991  0.613533  \n",
       "..         ...       ...  \n",
       "361   0.154941  0.222518  \n",
       "362   0.020769  0.000000  \n",
       "363   0.000000  0.320508  \n",
       "364   0.254808  0.806508  \n",
       "365   0.580919  0.193405  \n",
       "\n",
       "[366 rows x 28 columns]"
      ]
     },
     "execution_count": 66,
     "metadata": {},
     "output_type": "execute_result"
    }
   ],
   "source": [
    "df_agg"
   ]
  },
  {
   "cell_type": "code",
   "execution_count": 41,
   "id": "48c26b4b",
   "metadata": {},
   "outputs": [],
   "source": [
    "df = hour_df.groupby(['date', 'dow', 'day'], as_index=False).agg({'value':'sum'})\n",
    "df['week_dt'] = df['date'].dt.to_period('W').apply(lambda r: r.start_time)\n",
    "df['month_dt'] = df['date'].dt.to_period('M').apply(lambda r: r.start_time)\n",
    "\n",
    "df.loc[:, 'next'] = df['week_dt'] + pd.Timedelta(7, 'day')\n",
    "\n",
    "df.loc[:, 'dom'] = df['date'].dt.day\n",
    "df.loc[:, 'next_dom'] = df['dow'] + 1\n",
    "\n",
    "df.loc[:, 'next_dow'] = df['dow'] + 1\n",
    "df.loc[:, 'delta'] = df['next_dow'] - df['dow']\n",
    "\n",
    "df.loc[:, 'week'] = df['week_dt'].dt.strftime('%d %b %Y')\n",
    "df.loc[:, 'date_str'] = df['date'].dt.strftime('%d% %b %Y')\n",
    "\n",
    "hover_dict = {'week_dt':False, 'next':False, 'week':True, 'value':':.3g'}"
   ]
  },
  {
   "cell_type": "code",
   "execution_count": 42,
   "id": "1323be97",
   "metadata": {},
   "outputs": [],
   "source": [
    "spotify_colors = ['#1DB954', '#191414']\n",
    "heat_pal = px.colors.sequential.YlGn"
   ]
  },
  {
   "cell_type": "code",
   "execution_count": 43,
   "id": "69e9c6dc",
   "metadata": {},
   "outputs": [
    {
     "data": {
      "application/vnd.plotly.v1+json": {
       "config": {
        "plotlyServerURL": "https://plot.ly"
       },
       "data": [
        {
         "alignmentgroup": "True",
         "base": [
          2,
          3,
          5,
          1,
          6,
          6,
          0,
          2,
          2,
          1,
          4,
          0,
          3,
          5,
          6,
          5,
          0,
          4,
          3,
          5,
          3,
          0,
          1,
          1,
          6,
          6,
          2,
          4,
          4,
          2,
          5,
          2,
          0,
          6,
          6,
          4,
          0,
          3,
          5,
          1,
          3,
          4,
          6,
          4,
          1,
          2,
          1,
          5,
          5,
          0,
          2,
          3,
          6,
          4,
          0,
          5,
          1,
          3,
          6,
          4,
          3,
          1,
          5,
          2,
          0,
          1,
          2,
          0,
          3,
          6,
          5,
          4,
          0,
          2,
          3,
          6,
          4,
          3,
          0,
          2,
          6,
          5,
          5,
          1,
          3,
          4,
          6,
          1,
          2,
          1,
          4,
          6,
          4,
          1,
          0,
          5,
          2,
          3,
          5,
          2,
          0,
          5,
          4,
          2,
          1,
          3,
          0,
          0,
          3,
          4,
          1,
          6,
          6,
          5,
          2,
          1,
          4,
          2,
          3,
          0,
          5,
          6,
          6,
          0,
          3,
          6,
          0,
          3,
          5,
          6,
          1,
          5,
          2,
          4,
          1,
          6,
          2,
          5,
          6,
          4,
          0,
          5,
          1,
          0,
          5,
          4,
          4,
          2,
          3,
          1,
          6,
          5,
          3,
          3,
          4,
          6,
          0,
          2,
          1,
          4,
          0,
          3,
          4,
          0,
          6,
          3,
          6,
          5,
          3,
          2,
          2,
          5,
          1,
          2,
          4,
          1,
          1,
          1,
          0,
          5,
          5,
          4,
          2,
          2,
          3,
          6,
          2,
          4,
          0,
          4,
          3,
          1,
          0,
          6,
          5,
          3,
          0,
          1,
          3,
          3,
          0,
          0,
          2,
          5,
          4,
          1,
          2,
          6,
          6,
          6,
          1,
          0,
          3,
          6,
          4,
          2,
          5,
          5,
          6,
          2,
          5,
          1,
          6,
          4,
          5,
          1,
          4,
          3,
          0,
          0,
          1,
          5,
          2,
          4,
          5,
          0,
          0,
          3,
          2,
          4,
          1,
          3,
          6,
          6,
          4,
          3,
          5,
          2,
          4,
          0,
          6,
          6,
          5,
          3,
          1,
          2,
          2,
          3,
          1,
          3,
          2,
          5,
          5,
          4,
          1,
          6,
          4,
          2,
          1,
          0,
          5,
          1,
          1,
          2,
          4,
          6,
          0,
          4,
          3,
          3,
          0,
          0,
          0,
          6,
          1,
          4,
          3,
          0,
          5,
          6,
          3,
          6,
          2,
          2,
          6,
          5,
          5,
          2,
          4,
          0,
          3,
          1,
          5,
          6,
          2,
          1,
          5,
          1,
          2,
          4,
          3,
          4,
          0,
          0,
          1,
          6,
          4,
          5,
          2,
          4,
          6,
          0,
          0,
          3,
          3,
          5,
          4,
          6,
          3,
          1,
          2,
          3,
          2,
          5,
          3,
          0,
          4,
          6,
          1,
          2,
          6,
          5,
          4,
          5,
          1,
          4,
          5,
          1,
          3,
          2,
          2,
          0,
          6,
          1,
          1,
          0,
          3,
          0,
          2,
          4,
          4,
          0,
          1,
          5,
          6,
          3
         ],
         "customdata": [
          [
           "2021-04-05T00:00:00",
           "29 Mar 2021",
           5.6780125
          ],
          [
           "2021-01-04T00:00:00",
           "28 Dec 2020",
           6.958172222222222
          ],
          [
           "2021-08-02T00:00:00",
           "26 Jul 2021",
           7.699845555555556
          ],
          [
           "2021-09-06T00:00:00",
           "30 Aug 2021",
           5.401120277777778
          ],
          [
           "2021-11-01T00:00:00",
           "25 Oct 2021",
           5.1634238888888895
          ],
          [
           "2021-02-01T00:00:00",
           "25 Jan 2021",
           1.784832222222222
          ],
          [
           "2021-06-07T00:00:00",
           "31 May 2021",
           7.863709444444444
          ],
          [
           "2021-01-04T00:00:00",
           "28 Dec 2020",
           3.776043611111111
          ],
          [
           "2021-07-05T00:00:00",
           "28 Jun 2021",
           5.1900425
          ],
          [
           "2021-04-05T00:00:00",
           "29 Mar 2021",
           5.340576944444445
          ],
          [
           "2021-05-03T00:00:00",
           "26 Apr 2021",
           5.846502777777777
          ],
          [
           "2021-09-06T00:00:00",
           "30 Aug 2021",
           5.669818333333334
          ],
          [
           "2021-10-04T00:00:00",
           "27 Sep 2021",
           2.459476111111111
          ],
          [
           "2021-02-01T00:00:00",
           "25 Jan 2021",
           6.398969444444444
          ],
          [
           "2021-05-31T00:00:00",
           "24 May 2021",
           6.458887222222224
          ],
          [
           "2021-11-01T00:00:00",
           "25 Oct 2021",
           7.5102
          ],
          [
           "2020-12-07T00:00:00",
           "30 Nov 2020",
           4.105533055555555
          ],
          [
           "2021-08-02T00:00:00",
           "26 Jul 2021",
           8.847408611111112
          ],
          [
           "2021-05-03T00:00:00",
           "26 Apr 2021",
           6.649853611111111
          ],
          [
           "2021-05-31T00:00:00",
           "24 May 2021",
           4.216005
          ],
          [
           "2021-08-02T00:00:00",
           "26 Jul 2021",
           1.7175416666666667
          ],
          [
           "2021-04-05T00:00:00",
           "29 Mar 2021",
           5.8649844444444446
          ],
          [
           "2021-01-04T00:00:00",
           "28 Dec 2020",
           3.929283055555555
          ],
          [
           "2021-07-05T00:00:00",
           "28 Jun 2021",
           4.450447222222222
          ],
          [
           "2020-11-30T00:00:00",
           "23 Nov 2020",
           8.6208
          ],
          [
           "2021-08-30T00:00:00",
           "23 Aug 2021",
           7.138471111111111
          ],
          [
           "2021-10-04T00:00:00",
           "27 Sep 2021",
           2.4987469444444446
          ],
          [
           "2021-02-01T00:00:00",
           "25 Jan 2021",
           5.4575538888888895
          ],
          [
           "2021-11-01T00:00:00",
           "25 Oct 2021",
           5.1205108333333325
          ],
          [
           "2021-05-03T00:00:00",
           "26 Apr 2021",
           5.74992361111111
          ],
          [
           "2021-08-30T00:00:00",
           "23 Aug 2021",
           4.1618216666666665
          ],
          [
           "2021-08-02T00:00:00",
           "26 Jul 2021",
           6.475143888888889
          ],
          [
           "2021-01-04T00:00:00",
           "28 Dec 2020",
           3.3273341666666667
          ],
          [
           "2021-03-29T00:00:00",
           "22 Mar 2021",
           2.904736111111111
          ],
          [
           "2021-03-01T00:00:00",
           "22 Feb 2021",
           2.8950180555555556
          ],
          [
           "2021-05-31T00:00:00",
           "24 May 2021",
           5.478545833333333
          ],
          [
           "2021-07-05T00:00:00",
           "28 Jun 2021",
           5.738089444444445
          ],
          [
           "2021-02-01T00:00:00",
           "25 Jan 2021",
           9.232168611111112
          ],
          [
           "2020-11-30T00:00:00",
           "23 Nov 2020",
           7.001484444444444
          ],
          [
           "2021-10-04T00:00:00",
           "27 Sep 2021",
           2.8234399999999997
          ],
          [
           "2021-11-01T00:00:00",
           "25 Oct 2021",
           6.730011111111111
          ],
          [
           "2021-08-30T00:00:00",
           "23 Aug 2021",
           5.077731944444444
          ],
          [
           "2021-06-28T00:00:00",
           "21 Jun 2021",
           1.6676619444444443
          ],
          [
           "2020-11-30T00:00:00",
           "23 Nov 2020",
           5.877093333333333
          ],
          [
           "2021-05-03T00:00:00",
           "26 Apr 2021",
           3.279796944444445
          ],
          [
           "2021-11-01T00:00:00",
           "25 Oct 2021",
           6.708090555555556
          ],
          [
           "2021-08-02T00:00:00",
           "26 Jul 2021",
           4.7613199999999996
          ],
          [
           "2021-03-01T00:00:00",
           "22 Feb 2021",
           2.691896111111111
          ],
          [
           "2021-03-29T00:00:00",
           "22 Mar 2021",
           2.657991666666667
          ],
          [
           "2021-10-04T00:00:00",
           "27 Sep 2021",
           3.3764813888888887
          ],
          [
           "2021-02-01T00:00:00",
           "25 Jan 2021",
           5.09628638888889
          ],
          [
           "2021-05-31T00:00:00",
           "24 May 2021",
           2.114165277777778
          ],
          [
           "2020-12-28T00:00:00",
           "21 Dec 2020",
           3.7249486111111114
          ],
          [
           "2021-03-01T00:00:00",
           "22 Feb 2021",
           3.6041125
          ],
          [
           "2021-08-02T00:00:00",
           "26 Jul 2021",
           4.83498861111111
          ],
          [
           "2021-06-28T00:00:00",
           "21 Jun 2021",
           4.724163888888888
          ],
          [
           "2021-02-01T00:00:00",
           "25 Jan 2021",
           3.961765833333333
          ],
          [
           "2021-08-30T00:00:00",
           "23 Aug 2021",
           3.8336516666666665
          ],
          [
           "2021-09-27T00:00:00",
           "20 Sep 2021",
           4.512730277777778
          ],
          [
           "2021-03-29T00:00:00",
           "22 Mar 2021",
           6.200740833333334
          ],
          [
           "2020-11-30T00:00:00",
           "23 Nov 2020",
           7.247723055555556
          ],
          [
           "2021-11-01T00:00:00",
           "25 Oct 2021",
           7.076004722222223
          ],
          [
           "2020-12-28T00:00:00",
           "21 Dec 2020",
           4.82125
          ],
          [
           "2021-05-31T00:00:00",
           "24 May 2021",
           3.8479891666666663
          ],
          [
           "2021-05-03T00:00:00",
           "26 Apr 2021",
           3.795424722222222
          ],
          [
           "2021-05-31T00:00:00",
           "24 May 2021",
           7.420533888888888
          ],
          [
           "2020-11-30T00:00:00",
           "23 Nov 2020",
           7.202648055555556
          ],
          [
           "2021-11-01T00:00:00",
           "25 Oct 2021",
           6.913240000000002
          ],
          [
           "2021-03-29T00:00:00",
           "22 Mar 2021",
           5.638693611111111
          ],
          [
           "2021-07-26T00:00:00",
           "19 Jul 2021",
           4.480304444444444
          ],
          [
           "2021-09-27T00:00:00",
           "20 Sep 2021",
           6.370513611111111
          ],
          [
           "2020-12-28T00:00:00",
           "21 Dec 2020",
           6.114579166666667
          ],
          [
           "2021-02-01T00:00:00",
           "25 Jan 2021",
           5.115840277777777
          ],
          [
           "2021-08-30T00:00:00",
           "23 Aug 2021",
           6.011987222222222
          ],
          [
           "2021-03-01T00:00:00",
           "22 Feb 2021",
           4.963548055555555
          ],
          [
           "2021-04-26T00:00:00",
           "19 Apr 2021",
           4.318626388888889
          ],
          [
           "2021-06-28T00:00:00",
           "21 Jun 2021",
           2.0336569444444446
          ],
          [
           "2021-06-28T00:00:00",
           "21 Jun 2021",
           4.50170388888889
          ],
          [
           "2021-05-31T00:00:00",
           "24 May 2021",
           5.745167222222222
          ],
          [
           "2021-03-01T00:00:00",
           "22 Feb 2021",
           2.2280633333333335
          ],
          [
           "2021-01-25T00:00:00",
           "18 Jan 2021",
           2.9648338888888883
          ],
          [
           "2021-07-26T00:00:00",
           "19 Jul 2021",
           6.8295233333333325
          ],
          [
           "2021-04-26T00:00:00",
           "19 Apr 2021",
           2.8019841666666667
          ],
          [
           "2021-08-30T00:00:00",
           "23 Aug 2021",
           3.873412222222223
          ],
          [
           "2020-12-28T00:00:00",
           "21 Dec 2020",
           9.551329166666669
          ],
          [
           "2021-09-27T00:00:00",
           "20 Sep 2021",
           7.652325555555556
          ],
          [
           "2021-10-25T00:00:00",
           "18 Oct 2021",
           5.818213055555555
          ],
          [
           "2020-11-30T00:00:00",
           "23 Nov 2020",
           2.759734722222222
          ],
          [
           "2021-03-29T00:00:00",
           "22 Mar 2021",
           3.981996666666667
          ],
          [
           "2021-03-01T00:00:00",
           "22 Feb 2021",
           4.300623611111112
          ],
          [
           "2021-04-26T00:00:00",
           "19 Apr 2021",
           7.21959
          ],
          [
           "2021-05-24T00:00:00",
           "17 May 2021",
           1.3230583333333334
          ],
          [
           "2021-07-26T00:00:00",
           "19 Jul 2021",
           7.928708888888887
          ],
          [
           "2021-03-29T00:00:00",
           "22 Mar 2021",
           9.08985861111111
          ],
          [
           "2020-11-30T00:00:00",
           "23 Nov 2020",
           6.461769166666666
          ],
          [
           "2021-10-25T00:00:00",
           "18 Oct 2021",
           7.7679494444444455
          ],
          [
           "2021-06-28T00:00:00",
           "21 Jun 2021",
           7.010428888888889
          ],
          [
           "2021-09-27T00:00:00",
           "20 Sep 2021",
           3.2537463888888887
          ],
          [
           "2021-01-25T00:00:00",
           "18 Jan 2021",
           9.055496111111111
          ],
          [
           "2020-12-28T00:00:00",
           "21 Dec 2020",
           9.350759722222222
          ],
          [
           "2021-08-30T00:00:00",
           "23 Aug 2021",
           6.008255555555555
          ],
          [
           "2021-05-24T00:00:00",
           "17 May 2021",
           4.256120277777778
          ],
          [
           "2021-10-25T00:00:00",
           "18 Oct 2021",
           5.88603138888889
          ],
          [
           "2021-09-27T00:00:00",
           "20 Sep 2021",
           4.006011111111112
          ],
          [
           "2020-12-28T00:00:00",
           "21 Dec 2020",
           9.48283222222222
          ],
          [
           "2021-04-26T00:00:00",
           "19 Apr 2021",
           5.212447777777777
          ],
          [
           "2021-03-01T00:00:00",
           "22 Feb 2021",
           5.250966666666669
          ],
          [
           "2021-03-29T00:00:00",
           "22 Mar 2021",
           8.099567777777779
          ],
          [
           "2021-07-26T00:00:00",
           "19 Jul 2021",
           6.849720833333334
          ],
          [
           "2021-01-25T00:00:00",
           "18 Jan 2021",
           8.496795
          ],
          [
           "2021-06-28T00:00:00",
           "21 Jun 2021",
           3.769277777777778
          ],
          [
           "2020-11-23T00:00:00",
           "16 Nov 2020",
           3.129995555555556
          ],
          [
           "2021-08-23T00:00:00",
           "16 Aug 2021",
           10.898288055555556
          ],
          [
           "2021-08-23T00:00:00",
           "16 Aug 2021",
           7.163778055555555
          ],
          [
           "2021-04-26T00:00:00",
           "19 Apr 2021",
           3.486621388888888
          ],
          [
           "2021-09-27T00:00:00",
           "20 Sep 2021",
           5.2386977777777775
          ],
          [
           "2021-05-24T00:00:00",
           "17 May 2021",
           4.394295555555556
          ],
          [
           "2021-07-26T00:00:00",
           "19 Jul 2021",
           2.868440833333333
          ],
          [
           "2021-10-25T00:00:00",
           "18 Oct 2021",
           8.189760277777777
          ],
          [
           "2021-06-28T00:00:00",
           "21 Jun 2021",
           5.4156450000000005
          ],
          [
           "2020-11-23T00:00:00",
           "16 Nov 2020",
           4.849296944444445
          ],
          [
           "2021-03-22T00:00:00",
           "15 Mar 2021",
           4.092303611111111
          ],
          [
           "2021-02-22T00:00:00",
           "15 Feb 2021",
           2.8575366666666664
          ],
          [
           "2020-12-28T00:00:00",
           "21 Dec 2020",
           7.94164638888889
          ],
          [
           "2021-01-25T00:00:00",
           "18 Jan 2021",
           4.231410277777778
          ],
          [
           "2021-11-22T00:00:00",
           "15 Nov 2021",
           8.460375
          ],
          [
           "2021-09-27T00:00:00",
           "20 Sep 2021",
           4.550576666666666
          ],
          [
           "2021-05-24T00:00:00",
           "17 May 2021",
           3.989245833333334
          ],
          [
           "2021-02-22T00:00:00",
           "15 Feb 2021",
           4.115276944444444
          ],
          [
           "2021-06-21T00:00:00",
           "14 Jun 2021",
           2.3323177777777775
          ],
          [
           "2021-07-26T00:00:00",
           "19 Jul 2021",
           5.574696111111111
          ],
          [
           "2021-03-22T00:00:00",
           "15 Mar 2021",
           6.420372500000001
          ],
          [
           "2021-01-25T00:00:00",
           "18 Jan 2021",
           3.6775613888888885
          ],
          [
           "2021-08-23T00:00:00",
           "16 Aug 2021",
           7.024669444444444
          ],
          [
           "2021-04-26T00:00:00",
           "19 Apr 2021",
           2.603318611111111
          ],
          [
           "2020-12-21T00:00:00",
           "14 Dec 2020",
           6.282598055555555
          ],
          [
           "2021-10-25T00:00:00",
           "18 Oct 2021",
           7.028273888888888
          ],
          [
           "2021-11-22T00:00:00",
           "15 Nov 2021",
           6.917157499999999
          ],
          [
           "2021-09-20T00:00:00",
           "13 Sep 2021",
           3.4184325000000007
          ],
          [
           "2021-03-22T00:00:00",
           "15 Mar 2021",
           3.4604961111111114
          ],
          [
           "2021-04-26T00:00:00",
           "19 Apr 2021",
           5.865741944444443
          ],
          [
           "2020-12-21T00:00:00",
           "14 Dec 2020",
           8.543121666666668
          ],
          [
           "2021-10-25T00:00:00",
           "18 Oct 2021",
           5.122476388888889
          ],
          [
           "2021-07-26T00:00:00",
           "19 Jul 2021",
           3.733845833333334
          ],
          [
           "2021-06-21T00:00:00",
           "14 Jun 2021",
           2.1957880555555556
          ],
          [
           "2021-02-22T00:00:00",
           "15 Feb 2021",
           7.53229638888889
          ],
          [
           "2021-11-22T00:00:00",
           "15 Nov 2021",
           3.9042141666666663
          ],
          [
           "2021-05-24T00:00:00",
           "17 May 2021",
           5.374590555555556
          ],
          [
           "2021-08-23T00:00:00",
           "16 Aug 2021",
           1.7532561111111113
          ],
          [
           "2021-01-25T00:00:00",
           "18 Jan 2021",
           3.1367755555555554
          ],
          [
           "2021-04-19T00:00:00",
           "12 Apr 2021",
           3.6127136111111113
          ],
          [
           "2021-09-20T00:00:00",
           "13 Sep 2021",
           4.205839444444445
          ],
          [
           "2021-03-22T00:00:00",
           "15 Mar 2021",
           5.361153333333333
          ],
          [
           "2021-02-22T00:00:00",
           "15 Feb 2021",
           3.941158333333333
          ],
          [
           "2021-06-21T00:00:00",
           "14 Jun 2021",
           1.382036388888889
          ],
          [
           "2021-07-19T00:00:00",
           "12 Jul 2021",
           2.3062372222222223
          ],
          [
           "2021-01-25T00:00:00",
           "18 Jan 2021",
           5.686413611111109
          ],
          [
           "2021-08-23T00:00:00",
           "16 Aug 2021",
           2.9319611111111117
          ],
          [
           "2021-05-24T00:00:00",
           "17 May 2021",
           2.7888952777777773
          ],
          [
           "2020-12-21T00:00:00",
           "14 Dec 2020",
           4.891023611111112
          ],
          [
           "2021-10-25T00:00:00",
           "18 Oct 2021",
           7.120736666666668
          ],
          [
           "2021-11-22T00:00:00",
           "15 Nov 2021",
           3.3692086111111115
          ],
          [
           "2021-09-20T00:00:00",
           "13 Sep 2021",
           3.1344172222222224
          ],
          [
           "2021-05-24T00:00:00",
           "17 May 2021",
           5.11617111111111
          ],
          [
           "2021-01-18T00:00:00",
           "11 Jan 2021",
           7.888854722222223
          ],
          [
           "2020-12-21T00:00:00",
           "14 Dec 2020",
           7.735694166666665
          ],
          [
           "2021-10-18T00:00:00",
           "11 Oct 2021",
           3.8244880555555563
          ],
          [
           "2021-07-19T00:00:00",
           "12 Jul 2021",
           5.002008611111111
          ],
          [
           "2021-06-21T00:00:00",
           "14 Jun 2021",
           3.370776666666667
          ],
          [
           "2021-02-22T00:00:00",
           "15 Feb 2021",
           8.282602222222224
          ],
          [
           "2021-11-22T00:00:00",
           "15 Nov 2021",
           3.9569205555555564
          ],
          [
           "2021-04-19T00:00:00",
           "12 Apr 2021",
           3.1125013888888886
          ],
          [
           "2021-08-23T00:00:00",
           "16 Aug 2021",
           4.81852
          ],
          [
           "2021-03-22T00:00:00",
           "15 Mar 2021",
           5.976394166666666
          ],
          [
           "2021-07-19T00:00:00",
           "12 Jul 2021",
           2.9951675
          ],
          [
           "2021-03-22T00:00:00",
           "15 Mar 2021",
           3.411055
          ],
          [
           "2021-11-22T00:00:00",
           "15 Nov 2021",
           4.3076936111111115
          ],
          [
           "2021-02-22T00:00:00",
           "15 Feb 2021",
           6.057271666666667
          ],
          [
           "2021-08-23T00:00:00",
           "16 Aug 2021",
           4.908559722222223
          ],
          [
           "2021-01-18T00:00:00",
           "11 Jan 2021",
           4.132516388888889
          ],
          [
           "2021-10-18T00:00:00",
           "11 Oct 2021",
           4.596961666666667
          ],
          [
           "2021-04-19T00:00:00",
           "12 Apr 2021",
           5.465230277777778
          ],
          [
           "2021-06-21T00:00:00",
           "14 Jun 2021",
           5.424351666666668
          ],
          [
           "2020-12-21T00:00:00",
           "14 Dec 2020",
           7.834227777777777
          ],
          [
           "2021-09-20T00:00:00",
           "13 Sep 2021",
           2.724335833333333
          ],
          [
           "2021-05-17T00:00:00",
           "10 May 2021",
           5.467050555555556
          ],
          [
           "2021-09-20T00:00:00",
           "13 Sep 2021",
           2.832552222222222
          ],
          [
           "2021-10-18T00:00:00",
           "11 Oct 2021",
           4.596618611111111
          ],
          [
           "2021-11-22T00:00:00",
           "15 Nov 2021",
           4.339835833333335
          ],
          [
           "2021-01-18T00:00:00",
           "11 Jan 2021",
           3.6569086111111115
          ],
          [
           "2021-07-19T00:00:00",
           "12 Jul 2021",
           2.107708888888889
          ],
          [
           "2021-06-21T00:00:00",
           "14 Jun 2021",
           2.8596497222222226
          ],
          [
           "2021-02-22T00:00:00",
           "15 Feb 2021",
           7.0402625
          ],
          [
           "2021-08-16T00:00:00",
           "09 Aug 2021",
           4.165864166666666
          ],
          [
           "2021-05-17T00:00:00",
           "10 May 2021",
           10.397683888888887
          ],
          [
           "2021-04-19T00:00:00",
           "12 Apr 2021",
           6.7350161111111095
          ],
          [
           "2021-03-22T00:00:00",
           "15 Mar 2021",
           4.668187222222222
          ],
          [
           "2020-12-21T00:00:00",
           "14 Dec 2020",
           5.495913888888888
          ],
          [
           "2021-10-18T00:00:00",
           "11 Oct 2021",
           5.556979444444446
          ],
          [
           "2021-01-18T00:00:00",
           "11 Jan 2021",
           2.9868044444444446
          ],
          [
           "2021-06-21T00:00:00",
           "14 Jun 2021",
           3.2246061111111115
          ],
          [
           "2020-12-21T00:00:00",
           "14 Dec 2020",
           6.652587777777778
          ],
          [
           "2021-07-19T00:00:00",
           "12 Jul 2021",
           5.355110833333333
          ],
          [
           "2021-08-16T00:00:00",
           "09 Aug 2021",
           2.026409722222222
          ],
          [
           "2021-05-17T00:00:00",
           "10 May 2021",
           5.817166388888888
          ],
          [
           "2021-09-20T00:00:00",
           "13 Sep 2021",
           1.8736394444444442
          ],
          [
           "2021-04-19T00:00:00",
           "12 Apr 2021",
           5.5411833333333345
          ],
          [
           "2021-02-15T00:00:00",
           "08 Feb 2021",
           4.132751666666667
          ],
          [
           "2021-03-15T00:00:00",
           "08 Mar 2021",
           6.429468055555557
          ],
          [
           "2021-11-15T00:00:00",
           "08 Nov 2021",
           3.8248638888888884
          ],
          [
           "2021-07-19T00:00:00",
           "12 Jul 2021",
           5.287603611111111
          ],
          [
           "2021-09-20T00:00:00",
           "13 Sep 2021",
           3.624616666666667
          ],
          [
           "2021-05-17T00:00:00",
           "10 May 2021",
           1.1932024999999997
          ],
          [
           "2020-12-14T00:00:00",
           "07 Dec 2020",
           3.979766666666667
          ],
          [
           "2021-08-16T00:00:00",
           "09 Aug 2021",
           4.732022222222222
          ],
          [
           "2021-10-18T00:00:00",
           "11 Oct 2021",
           8.269855833333335
          ],
          [
           "2021-02-15T00:00:00",
           "08 Feb 2021",
           8.284809444444447
          ],
          [
           "2021-03-15T00:00:00",
           "08 Mar 2021",
           5.903953333333335
          ],
          [
           "2021-06-14T00:00:00",
           "07 Jun 2021",
           2.6566594444444442
          ],
          [
           "2021-01-18T00:00:00",
           "11 Jan 2021",
           4.791504722222222
          ],
          [
           "2021-11-15T00:00:00",
           "08 Nov 2021",
           3.3894822222222216
          ],
          [
           "2021-04-19T00:00:00",
           "12 Apr 2021",
           4.443546944444445
          ],
          [
           "2021-09-13T00:00:00",
           "06 Sep 2021",
           2.544581111111111
          ],
          [
           "2021-11-15T00:00:00",
           "08 Nov 2021",
           1.6733819444444447
          ],
          [
           "2021-06-14T00:00:00",
           "07 Jun 2021",
           4.648368055555555
          ],
          [
           "2021-01-18T00:00:00",
           "11 Jan 2021",
           5.175036666666668
          ],
          [
           "2021-02-15T00:00:00",
           "08 Feb 2021",
           3.693127222222222
          ],
          [
           "2021-08-16T00:00:00",
           "09 Aug 2021",
           0.44568138888888886
          ],
          [
           "2021-07-19T00:00:00",
           "12 Jul 2021",
           3.6095769444444445
          ],
          [
           "2021-04-19T00:00:00",
           "12 Apr 2021",
           3.3973638888888895
          ],
          [
           "2021-10-18T00:00:00",
           "11 Oct 2021",
           7.313163611111111
          ],
          [
           "2020-12-14T00:00:00",
           "07 Dec 2020",
           5.380577222222223
          ],
          [
           "2021-05-17T00:00:00",
           "10 May 2021",
           4.918757222222222
          ],
          [
           "2021-03-15T00:00:00",
           "08 Mar 2021",
           4.144959999999999
          ],
          [
           "2021-09-13T00:00:00",
           "06 Sep 2021",
           3.751924444444444
          ],
          [
           "2021-10-18T00:00:00",
           "11 Oct 2021",
           3.7456130555555553
          ],
          [
           "2021-01-18T00:00:00",
           "11 Jan 2021",
           3.662107777777778
          ],
          [
           "2021-02-15T00:00:00",
           "08 Feb 2021",
           7.069226944444444
          ],
          [
           "2021-08-16T00:00:00",
           "09 Aug 2021",
           2.836068611111111
          ],
          [
           "2021-06-14T00:00:00",
           "07 Jun 2021",
           5.637260555555557
          ],
          [
           "2021-05-17T00:00:00",
           "10 May 2021",
           5.422840833333333
          ],
          [
           "2021-03-15T00:00:00",
           "08 Mar 2021",
           12.718697777777779
          ],
          [
           "2021-04-12T00:00:00",
           "05 Apr 2021",
           7.9389722222222225
          ],
          [
           "2021-07-12T00:00:00",
           "05 Jul 2021",
           2.471690277777778
          ],
          [
           "2020-12-14T00:00:00",
           "07 Dec 2020",
           5.589049166666666
          ],
          [
           "2021-11-15T00:00:00",
           "08 Nov 2021",
           2.9930408333333336
          ],
          [
           "2021-04-12T00:00:00",
           "05 Apr 2021",
           3.7970766666666664
          ],
          [
           "2021-02-15T00:00:00",
           "08 Feb 2021",
           5.884626388888889
          ],
          [
           "2021-09-13T00:00:00",
           "06 Sep 2021",
           5.271328055555554
          ],
          [
           "2021-05-17T00:00:00",
           "10 May 2021",
           4.739001666666666
          ],
          [
           "2021-10-11T00:00:00",
           "04 Oct 2021",
           5.370459722222222
          ],
          [
           "2021-01-11T00:00:00",
           "04 Jan 2021",
           2.3366222222222226
          ],
          [
           "2021-07-12T00:00:00",
           "05 Jul 2021",
           4.903305833333334
          ],
          [
           "2021-06-14T00:00:00",
           "07 Jun 2021",
           3.610659444444445
          ],
          [
           "2021-08-16T00:00:00",
           "09 Aug 2021",
           1.1446219444444445
          ],
          [
           "2021-11-15T00:00:00",
           "08 Nov 2021",
           3.6215680555555547
          ],
          [
           "2021-03-15T00:00:00",
           "08 Mar 2021",
           10.581827777777777
          ],
          [
           "2020-12-14T00:00:00",
           "07 Dec 2020",
           6.44342138888889
          ],
          [
           "2021-02-15T00:00:00",
           "08 Feb 2021",
           4.100124166666667
          ],
          [
           "2021-09-13T00:00:00",
           "06 Sep 2021",
           4.239961944444445
          ],
          [
           "2020-12-14T00:00:00",
           "07 Dec 2020",
           7.671901111111111
          ],
          [
           "2021-10-11T00:00:00",
           "04 Oct 2021",
           7.889513611111111
          ],
          [
           "2021-01-11T00:00:00",
           "04 Jan 2021",
           2.296552777777778
          ],
          [
           "2021-04-12T00:00:00",
           "05 Apr 2021",
           6.5121111111111105
          ],
          [
           "2021-03-15T00:00:00",
           "08 Mar 2021",
           4.277166666666667
          ],
          [
           "2021-05-10T00:00:00",
           "03 May 2021",
           6.727820277777778
          ],
          [
           "2021-07-12T00:00:00",
           "05 Jul 2021",
           3.4542655555555557
          ],
          [
           "2021-06-14T00:00:00",
           "07 Jun 2021",
           2.931216111111112
          ],
          [
           "2021-11-15T00:00:00",
           "08 Nov 2021",
           2.6595949999999995
          ],
          [
           "2021-08-16T00:00:00",
           "09 Aug 2021",
           0.2941944444444444
          ],
          [
           "2021-05-10T00:00:00",
           "03 May 2021",
           6.649790277777779
          ],
          [
           "2021-06-14T00:00:00",
           "07 Jun 2021",
           1.2647125000000001
          ],
          [
           "2020-12-14T00:00:00",
           "07 Dec 2020",
           5.544796666666666
          ],
          [
           "2021-09-13T00:00:00",
           "06 Sep 2021",
           3.550507777777778
          ],
          [
           "2021-10-11T00:00:00",
           "04 Oct 2021",
           4.804272499999999
          ],
          [
           "2021-08-09T00:00:00",
           "02 Aug 2021",
           1.3027180555555558
          ],
          [
           "2021-03-15T00:00:00",
           "08 Mar 2021",
           4.218089166666666
          ],
          [
           "2021-01-11T00:00:00",
           "04 Jan 2021",
           1.3398827777777778
          ],
          [
           "2021-04-12T00:00:00",
           "05 Apr 2021",
           3.4296977777777777
          ],
          [
           "2021-07-12T00:00:00",
           "05 Jul 2021",
           3.2697602777777774
          ],
          [
           "2021-11-15T00:00:00",
           "08 Nov 2021",
           7.528363055555556
          ],
          [
           "2021-02-15T00:00:00",
           "08 Feb 2021",
           5.164765
          ],
          [
           "2020-12-14T00:00:00",
           "07 Dec 2020",
           4.181698888888889
          ],
          [
           "2021-11-08T00:00:00",
           "01 Nov 2021",
           8.313410833333334
          ],
          [
           "2021-09-13T00:00:00",
           "06 Sep 2021",
           2.9664975000000005
          ],
          [
           "2021-05-10T00:00:00",
           "03 May 2021",
           9.0235875
          ],
          [
           "2021-01-11T00:00:00",
           "04 Jan 2021",
           5.591344722222222
          ],
          [
           "2021-06-14T00:00:00",
           "07 Jun 2021",
           3.3061055555555554
          ],
          [
           "2021-08-09T00:00:00",
           "02 Aug 2021",
           4.715043888888889
          ],
          [
           "2021-03-08T00:00:00",
           "01 Mar 2021",
           5.064013611111112
          ],
          [
           "2021-10-11T00:00:00",
           "04 Oct 2021",
           4.707727499999999
          ],
          [
           "2021-02-08T00:00:00",
           "01 Feb 2021",
           2.9901258333333334
          ],
          [
           "2021-07-12T00:00:00",
           "05 Jul 2021",
           1.858717777777778
          ],
          [
           "2021-04-12T00:00:00",
           "05 Apr 2021",
           4.257658611111111
          ],
          [
           "2020-12-07T00:00:00",
           "30 Nov 2020",
           2.1557130555555557
          ],
          [
           "2021-03-08T00:00:00",
           "01 Mar 2021",
           6.228636944444443
          ],
          [
           "2021-11-08T00:00:00",
           "01 Nov 2021",
           1.9560877777777779
          ],
          [
           "2021-10-11T00:00:00",
           "04 Oct 2021",
           5.5798733333333335
          ],
          [
           "2021-08-09T00:00:00",
           "02 Aug 2021",
           4.520015833333333
          ],
          [
           "2021-09-13T00:00:00",
           "06 Sep 2021",
           5.389261111111112
          ],
          [
           "2021-05-10T00:00:00",
           "03 May 2021",
           9.116508611111113
          ],
          [
           "2021-04-12T00:00:00",
           "05 Apr 2021",
           5.742183611111111
          ],
          [
           "2021-02-08T00:00:00",
           "01 Feb 2021",
           7.301469166666666
          ],
          [
           "2021-06-07T00:00:00",
           "31 May 2021",
           5.131960000000001
          ],
          [
           "2021-01-11T00:00:00",
           "04 Jan 2021",
           3.530308055555555
          ],
          [
           "2021-07-12T00:00:00",
           "05 Jul 2021",
           3.762112222222223
          ],
          [
           "2020-12-07T00:00:00",
           "30 Nov 2020",
           4.225553333333334
          ],
          [
           "2021-10-11T00:00:00",
           "04 Oct 2021",
           8.774571388888889
          ],
          [
           "2021-05-10T00:00:00",
           "03 May 2021",
           4.832318333333334
          ],
          [
           "2021-11-08T00:00:00",
           "01 Nov 2021",
           5.336985555555555
          ],
          [
           "2021-08-09T00:00:00",
           "02 Aug 2021",
           4.710296666666666
          ],
          [
           "2021-02-08T00:00:00",
           "01 Feb 2021",
           7.4955227777777775
          ],
          [
           "2021-04-12T00:00:00",
           "05 Apr 2021",
           4.725536111111111
          ],
          [
           "2021-07-12T00:00:00",
           "05 Jul 2021",
           2.8740558333333333
          ],
          [
           "2021-01-11T00:00:00",
           "04 Jan 2021",
           3.8218572222222225
          ],
          [
           "2021-09-06T00:00:00",
           "30 Aug 2021",
           2.7224575
          ],
          [
           "2021-03-08T00:00:00",
           "01 Mar 2021",
           4.517609444444444
          ],
          [
           "2021-06-07T00:00:00",
           "31 May 2021",
           3.988839722222222
          ],
          [
           "2021-08-09T00:00:00",
           "02 Aug 2021",
           4.534023055555555
          ],
          [
           "2020-12-07T00:00:00",
           "30 Nov 2020",
           1.6712102777777775
          ],
          [
           "2021-07-05T00:00:00",
           "28 Jun 2021",
           2.3772461111111105
          ],
          [
           "2021-10-11T00:00:00",
           "04 Oct 2021",
           7.84280861111111
          ],
          [
           "2021-01-11T00:00:00",
           "04 Jan 2021",
           7.0740308333333335
          ],
          [
           "2021-11-08T00:00:00",
           "01 Nov 2021",
           3.164168611111111
          ],
          [
           "2021-02-08T00:00:00",
           "01 Feb 2021",
           6.74277
          ],
          [
           "2021-09-06T00:00:00",
           "30 Aug 2021",
           4.913891666666666
          ],
          [
           "2021-06-07T00:00:00",
           "31 May 2021",
           5.394460555555555
          ],
          [
           "2021-04-05T00:00:00",
           "29 Mar 2021",
           5.640818888888889
          ],
          [
           "2021-03-08T00:00:00",
           "01 Mar 2021",
           7.7976247222222215
          ],
          [
           "2021-05-10T00:00:00",
           "03 May 2021",
           8.131501666666665
          ],
          [
           "2021-11-08T00:00:00",
           "01 Nov 2021",
           4.749104444444444
          ],
          [
           "2020-12-07T00:00:00",
           "30 Nov 2020",
           6.341786944444444
          ],
          [
           "2021-02-08T00:00:00",
           "01 Feb 2021",
           4.945408611111112
          ],
          [
           "2021-07-05T00:00:00",
           "28 Jun 2021",
           2.700903888888889
          ],
          [
           "2021-06-07T00:00:00",
           "31 May 2021",
           5.29478638888889
          ],
          [
           "2021-05-10T00:00:00",
           "03 May 2021",
           7.333145277777778
          ],
          [
           "2021-09-06T00:00:00",
           "30 Aug 2021",
           6.144843055555556
          ],
          [
           "2021-01-04T00:00:00",
           "28 Dec 2020",
           3.5193433333333335
          ],
          [
           "2021-08-09T00:00:00",
           "02 Aug 2021",
           2.7966283333333335
          ],
          [
           "2021-03-08T00:00:00",
           "01 Mar 2021",
           5.5697849999999995
          ],
          [
           "2021-10-04T00:00:00",
           "27 Sep 2021",
           2.7085358333333334
          ],
          [
           "2021-04-05T00:00:00",
           "29 Mar 2021",
           4.2006008333333344
          ],
          [
           "2021-04-05T00:00:00",
           "29 Mar 2021",
           5.4006558333333325
          ],
          [
           "2021-10-04T00:00:00",
           "27 Sep 2021",
           4.408346388888889
          ],
          [
           "2021-02-08T00:00:00",
           "01 Feb 2021",
           6.7899022222222225
          ],
          [
           "2021-07-05T00:00:00",
           "28 Jun 2021",
           3.9859780555555555
          ],
          [
           "2021-01-04T00:00:00",
           "28 Dec 2020",
           2.982222777777778
          ],
          [
           "2021-03-08T00:00:00",
           "01 Mar 2021",
           2.885181944444445
          ],
          [
           "2021-09-06T00:00:00",
           "30 Aug 2021",
           3.964723888888889
          ],
          [
           "2021-06-07T00:00:00",
           "31 May 2021",
           4.423281388888888
          ],
          [
           "2020-12-07T00:00:00",
           "30 Nov 2020",
           4.948245555555556
          ],
          [
           "2021-08-09T00:00:00",
           "02 Aug 2021",
           4.407091666666666
          ],
          [
           "2021-05-03T00:00:00",
           "26 Apr 2021",
           5.520906666666666
          ],
          [
           "2021-11-08T00:00:00",
           "01 Nov 2021",
           6.509153888888889
          ],
          [
           "2021-06-07T00:00:00",
           "31 May 2021",
           6.274300277777777
          ],
          [
           "2021-03-08T00:00:00",
           "01 Mar 2021",
           7.026325
          ],
          [
           "2021-04-05T00:00:00",
           "29 Mar 2021",
           4.703467777777778
          ],
          [
           "2021-02-08T00:00:00",
           "01 Feb 2021",
           4.666608333333333
          ],
          [
           "2021-09-06T00:00:00",
           "30 Aug 2021",
           3.854456388888889
          ],
          [
           "2021-01-04T00:00:00",
           "28 Dec 2020",
           1.748838333333333
          ],
          [
           "2021-10-04T00:00:00",
           "27 Sep 2021",
           2.228985
          ],
          [
           "2021-11-08T00:00:00",
           "01 Nov 2021",
           4.661977222222222
          ],
          [
           "2020-12-07T00:00:00",
           "30 Nov 2020",
           5.4547236111111115
          ],
          [
           "2021-05-03T00:00:00",
           "26 Apr 2021",
           6.912840277777779
          ],
          [
           "2021-08-02T00:00:00",
           "26 Jul 2021",
           8.130779444444444
          ],
          [
           "2021-07-05T00:00:00",
           "28 Jun 2021",
           4.632905277777778
          ]
         ],
         "hovertemplate": "<b>%{hovertext}</b><br><br>dow=%{base}<br>next_dow=%{x}<br>week=%{customdata[1]}<br>value=%{marker.color:.3g}<extra></extra>",
         "hovertext": [
          "31 Mar 2021",
          "31 Dec 2020",
          "31 Jul 2021",
          "31 Aug 2021",
          "31 Oct 2021",
          "31 Jan 2021",
          "31 May 2021",
          "30 Dec 2020",
          "30 Jun 2021",
          "30 Mar 2021",
          "30 Apr 2021",
          "30 Aug 2021",
          "30 Sep 2021",
          "30 Jan 2021",
          "30 May 2021",
          "30 Oct 2021",
          "30 Nov 2020",
          "30 Jul 2021",
          "29 Apr 2021",
          "29 May 2021",
          "29 Jul 2021",
          "29 Mar 2021",
          "29 Dec 2020",
          "29 Jun 2021",
          "29 Nov 2020",
          "29 Aug 2021",
          "29 Sep 2021",
          "29 Jan 2021",
          "29 Oct 2021",
          "28 Apr 2021",
          "28 Aug 2021",
          "28 Jul 2021",
          "28 Dec 2020",
          "28 Mar 2021",
          "28 Feb 2021",
          "28 May 2021",
          "28 Jun 2021",
          "28 Jan 2021",
          "28 Nov 2020",
          "28 Sep 2021",
          "28 Oct 2021",
          "27 Aug 2021",
          "27 Jun 2021",
          "27 Nov 2020",
          "27 Apr 2021",
          "27 Oct 2021",
          "27 Jul 2021",
          "27 Feb 2021",
          "27 Mar 2021",
          "27 Sep 2021",
          "27 Jan 2021",
          "27 May 2021",
          "27 Dec 2020",
          "26 Feb 2021",
          "26 Jul 2021",
          "26 Jun 2021",
          "26 Jan 2021",
          "26 Aug 2021",
          "26 Sep 2021",
          "26 Mar 2021",
          "26 Nov 2020",
          "26 Oct 2021",
          "26 Dec 2020",
          "26 May 2021",
          "26 Apr 2021",
          "25 May 2021",
          "25 Nov 2020",
          "25 Oct 2021",
          "25 Mar 2021",
          "25 Jul 2021",
          "25 Sep 2021",
          "25 Dec 2020",
          "25 Jan 2021",
          "25 Aug 2021",
          "25 Feb 2021",
          "25 Apr 2021",
          "25 Jun 2021",
          "24 Jun 2021",
          "24 May 2021",
          "24 Feb 2021",
          "24 Jan 2021",
          "24 Jul 2021",
          "24 Apr 2021",
          "24 Aug 2021",
          "24 Dec 2020",
          "24 Sep 2021",
          "24 Oct 2021",
          "24 Nov 2020",
          "24 Mar 2021",
          "23 Feb 2021",
          "23 Apr 2021",
          "23 May 2021",
          "23 Jul 2021",
          "23 Mar 2021",
          "23 Nov 2020",
          "23 Oct 2021",
          "23 Jun 2021",
          "23 Sep 2021",
          "23 Jan 2021",
          "23 Dec 2020",
          "23 Aug 2021",
          "22 May 2021",
          "22 Oct 2021",
          "22 Sep 2021",
          "22 Dec 2020",
          "22 Apr 2021",
          "22 Feb 2021",
          "22 Mar 2021",
          "22 Jul 2021",
          "22 Jan 2021",
          "22 Jun 2021",
          "22 Nov 2020",
          "22 Aug 2021",
          "21 Aug 2021",
          "21 Apr 2021",
          "21 Sep 2021",
          "21 May 2021",
          "21 Jul 2021",
          "21 Oct 2021",
          "21 Jun 2021",
          "21 Nov 2020",
          "21 Mar 2021",
          "21 Feb 2021",
          "21 Dec 2020",
          "21 Jan 2021",
          "21 Nov 2021",
          "20 Sep 2021",
          "20 May 2021",
          "20 Feb 2021",
          "20 Jun 2021",
          "20 Jul 2021",
          "20 Mar 2021",
          "20 Jan 2021",
          "20 Aug 2021",
          "20 Apr 2021",
          "20 Dec 2020",
          "20 Oct 2021",
          "20 Nov 2021",
          "19 Sep 2021",
          "19 Mar 2021",
          "19 Apr 2021",
          "19 Dec 2020",
          "19 Oct 2021",
          "19 Jul 2021",
          "19 Jun 2021",
          "19 Feb 2021",
          "19 Nov 2021",
          "19 May 2021",
          "19 Aug 2021",
          "19 Jan 2021",
          "18 Apr 2021",
          "18 Sep 2021",
          "18 Mar 2021",
          "18 Feb 2021",
          "18 Jun 2021",
          "18 Jul 2021",
          "18 Jan 2021",
          "18 Aug 2021",
          "18 May 2021",
          "18 Dec 2020",
          "18 Oct 2021",
          "18 Nov 2021",
          "17 Sep 2021",
          "17 May 2021",
          "17 Jan 2021",
          "17 Dec 2020",
          "17 Oct 2021",
          "17 Jul 2021",
          "17 Jun 2021",
          "17 Feb 2021",
          "17 Nov 2021",
          "17 Apr 2021",
          "17 Aug 2021",
          "17 Mar 2021",
          "16 Jul 2021",
          "16 Mar 2021",
          "16 Nov 2021",
          "16 Feb 2021",
          "16 Aug 2021",
          "16 Jan 2021",
          "16 Oct 2021",
          "16 Apr 2021",
          "16 Jun 2021",
          "16 Dec 2020",
          "16 Sep 2021",
          "16 May 2021",
          "15 Sep 2021",
          "15 Oct 2021",
          "15 Nov 2021",
          "15 Jan 2021",
          "15 Jul 2021",
          "15 Jun 2021",
          "15 Feb 2021",
          "15 Aug 2021",
          "15 May 2021",
          "15 Apr 2021",
          "15 Mar 2021",
          "15 Dec 2020",
          "14 Oct 2021",
          "14 Jan 2021",
          "14 Jun 2021",
          "14 Dec 2020",
          "14 Jul 2021",
          "14 Aug 2021",
          "14 May 2021",
          "14 Sep 2021",
          "14 Apr 2021",
          "14 Feb 2021",
          "14 Mar 2021",
          "14 Nov 2021",
          "13 Jul 2021",
          "13 Sep 2021",
          "13 May 2021",
          "13 Dec 2020",
          "13 Aug 2021",
          "13 Oct 2021",
          "13 Feb 2021",
          "13 Mar 2021",
          "13 Jun 2021",
          "13 Jan 2021",
          "13 Nov 2021",
          "13 Apr 2021",
          "12 Sep 2021",
          "12 Nov 2021",
          "12 Jun 2021",
          "12 Jan 2021",
          "12 Feb 2021",
          "12 Aug 2021",
          "12 Jul 2021",
          "12 Apr 2021",
          "12 Oct 2021",
          "12 Dec 2020",
          "12 May 2021",
          "12 Mar 2021",
          "11 Sep 2021",
          "11 Oct 2021",
          "11 Jan 2021",
          "11 Feb 2021",
          "11 Aug 2021",
          "11 Jun 2021",
          "11 May 2021",
          "11 Mar 2021",
          "11 Apr 2021",
          "11 Jul 2021",
          "11 Dec 2020",
          "11 Nov 2021",
          "10 Apr 2021",
          "10 Feb 2021",
          "10 Sep 2021",
          "10 May 2021",
          "10 Oct 2021",
          "10 Jan 2021",
          "10 Jul 2021",
          "10 Jun 2021",
          "10 Aug 2021",
          "10 Nov 2021",
          "10 Mar 2021",
          "10 Dec 2020",
          "09 Feb 2021",
          "09 Sep 2021",
          "09 Dec 2020",
          "09 Oct 2021",
          "09 Jan 2021",
          "09 Apr 2021",
          "09 Mar 2021",
          "09 May 2021",
          "09 Jul 2021",
          "09 Jun 2021",
          "09 Nov 2021",
          "09 Aug 2021",
          "08 May 2021",
          "08 Jun 2021",
          "08 Dec 2020",
          "08 Sep 2021",
          "08 Oct 2021",
          "08 Aug 2021",
          "08 Mar 2021",
          "08 Jan 2021",
          "08 Apr 2021",
          "08 Jul 2021",
          "08 Nov 2021",
          "08 Feb 2021",
          "07 Dec 2020",
          "07 Nov 2021",
          "07 Sep 2021",
          "07 May 2021",
          "07 Jan 2021",
          "07 Jun 2021",
          "07 Aug 2021",
          "07 Mar 2021",
          "07 Oct 2021",
          "07 Feb 2021",
          "07 Jul 2021",
          "07 Apr 2021",
          "06 Dec 2020",
          "06 Mar 2021",
          "06 Nov 2021",
          "06 Oct 2021",
          "06 Aug 2021",
          "06 Sep 2021",
          "06 May 2021",
          "06 Apr 2021",
          "06 Feb 2021",
          "06 Jun 2021",
          "06 Jan 2021",
          "06 Jul 2021",
          "05 Dec 2020",
          "05 Oct 2021",
          "05 May 2021",
          "05 Nov 2021",
          "05 Aug 2021",
          "05 Feb 2021",
          "05 Apr 2021",
          "05 Jul 2021",
          "05 Jan 2021",
          "05 Sep 2021",
          "05 Mar 2021",
          "05 Jun 2021",
          "04 Aug 2021",
          "04 Dec 2020",
          "04 Jul 2021",
          "04 Oct 2021",
          "04 Jan 2021",
          "04 Nov 2021",
          "04 Feb 2021",
          "04 Sep 2021",
          "04 Jun 2021",
          "04 Apr 2021",
          "04 Mar 2021",
          "04 May 2021",
          "03 Nov 2021",
          "03 Dec 2020",
          "03 Feb 2021",
          "03 Jul 2021",
          "03 Jun 2021",
          "03 May 2021",
          "03 Sep 2021",
          "03 Jan 2021",
          "03 Aug 2021",
          "03 Mar 2021",
          "03 Oct 2021",
          "03 Apr 2021",
          "02 Apr 2021",
          "02 Oct 2021",
          "02 Feb 2021",
          "02 Jul 2021",
          "02 Jan 2021",
          "02 Mar 2021",
          "02 Sep 2021",
          "02 Jun 2021",
          "02 Dec 2020",
          "02 Aug 2021",
          "02 May 2021",
          "02 Nov 2021",
          "01 Jun 2021",
          "01 Mar 2021",
          "01 Apr 2021",
          "01 Feb 2021",
          "01 Sep 2021",
          "01 Jan 2021",
          "01 Oct 2021",
          "01 Nov 2021",
          "01 Dec 2020",
          "01 May 2021",
          "01 Aug 2021",
          "01 Jul 2021"
         ],
         "legendgroup": "",
         "marker": {
          "color": [
           5.6780125,
           6.958172222222222,
           7.699845555555556,
           5.401120277777778,
           5.1634238888888895,
           1.784832222222222,
           7.863709444444444,
           3.776043611111111,
           5.1900425,
           5.340576944444445,
           5.846502777777777,
           5.669818333333334,
           2.459476111111111,
           6.398969444444444,
           6.458887222222224,
           7.5102,
           4.105533055555555,
           8.847408611111112,
           6.649853611111111,
           4.216005,
           1.7175416666666667,
           5.8649844444444446,
           3.929283055555555,
           4.450447222222222,
           8.6208,
           7.138471111111111,
           2.4987469444444446,
           5.4575538888888895,
           5.1205108333333325,
           5.74992361111111,
           4.1618216666666665,
           6.475143888888889,
           3.3273341666666667,
           2.904736111111111,
           2.8950180555555556,
           5.478545833333333,
           5.738089444444445,
           9.232168611111112,
           7.001484444444444,
           2.8234399999999997,
           6.730011111111111,
           5.077731944444444,
           1.6676619444444443,
           5.877093333333333,
           3.279796944444445,
           6.708090555555556,
           4.7613199999999996,
           2.691896111111111,
           2.657991666666667,
           3.3764813888888887,
           5.09628638888889,
           2.114165277777778,
           3.7249486111111114,
           3.6041125,
           4.83498861111111,
           4.724163888888888,
           3.961765833333333,
           3.8336516666666665,
           4.512730277777778,
           6.200740833333334,
           7.247723055555556,
           7.076004722222223,
           4.82125,
           3.8479891666666663,
           3.795424722222222,
           7.420533888888888,
           7.202648055555556,
           6.913240000000002,
           5.638693611111111,
           4.480304444444444,
           6.370513611111111,
           6.114579166666667,
           5.115840277777777,
           6.011987222222222,
           4.963548055555555,
           4.318626388888889,
           2.0336569444444446,
           4.50170388888889,
           5.745167222222222,
           2.2280633333333335,
           2.9648338888888883,
           6.8295233333333325,
           2.8019841666666667,
           3.873412222222223,
           9.551329166666669,
           7.652325555555556,
           5.818213055555555,
           2.759734722222222,
           3.981996666666667,
           4.300623611111112,
           7.21959,
           1.3230583333333334,
           7.928708888888887,
           9.08985861111111,
           6.461769166666666,
           7.7679494444444455,
           7.010428888888889,
           3.2537463888888887,
           9.055496111111111,
           9.350759722222222,
           6.008255555555555,
           4.256120277777778,
           5.88603138888889,
           4.006011111111112,
           9.48283222222222,
           5.212447777777777,
           5.250966666666669,
           8.099567777777779,
           6.849720833333334,
           8.496795,
           3.769277777777778,
           3.129995555555556,
           10.898288055555556,
           7.163778055555555,
           3.486621388888888,
           5.2386977777777775,
           4.394295555555556,
           2.868440833333333,
           8.189760277777777,
           5.4156450000000005,
           4.849296944444445,
           4.092303611111111,
           2.8575366666666664,
           7.94164638888889,
           4.231410277777778,
           8.460375,
           4.550576666666666,
           3.989245833333334,
           4.115276944444444,
           2.3323177777777775,
           5.574696111111111,
           6.420372500000001,
           3.6775613888888885,
           7.024669444444444,
           2.603318611111111,
           6.282598055555555,
           7.028273888888888,
           6.917157499999999,
           3.4184325000000007,
           3.4604961111111114,
           5.865741944444443,
           8.543121666666668,
           5.122476388888889,
           3.733845833333334,
           2.1957880555555556,
           7.53229638888889,
           3.9042141666666663,
           5.374590555555556,
           1.7532561111111113,
           3.1367755555555554,
           3.6127136111111113,
           4.205839444444445,
           5.361153333333333,
           3.941158333333333,
           1.382036388888889,
           2.3062372222222223,
           5.686413611111109,
           2.9319611111111117,
           2.7888952777777773,
           4.891023611111112,
           7.120736666666668,
           3.3692086111111115,
           3.1344172222222224,
           5.11617111111111,
           7.888854722222223,
           7.735694166666665,
           3.8244880555555563,
           5.002008611111111,
           3.370776666666667,
           8.282602222222224,
           3.9569205555555564,
           3.1125013888888886,
           4.81852,
           5.976394166666666,
           2.9951675,
           3.411055,
           4.3076936111111115,
           6.057271666666667,
           4.908559722222223,
           4.132516388888889,
           4.596961666666667,
           5.465230277777778,
           5.424351666666668,
           7.834227777777777,
           2.724335833333333,
           5.467050555555556,
           2.832552222222222,
           4.596618611111111,
           4.339835833333335,
           3.6569086111111115,
           2.107708888888889,
           2.8596497222222226,
           7.0402625,
           4.165864166666666,
           10.397683888888887,
           6.7350161111111095,
           4.668187222222222,
           5.495913888888888,
           5.556979444444446,
           2.9868044444444446,
           3.2246061111111115,
           6.652587777777778,
           5.355110833333333,
           2.026409722222222,
           5.817166388888888,
           1.8736394444444442,
           5.5411833333333345,
           4.132751666666667,
           6.429468055555557,
           3.8248638888888884,
           5.287603611111111,
           3.624616666666667,
           1.1932024999999997,
           3.979766666666667,
           4.732022222222222,
           8.269855833333335,
           8.284809444444447,
           5.903953333333335,
           2.6566594444444442,
           4.791504722222222,
           3.3894822222222216,
           4.443546944444445,
           2.544581111111111,
           1.6733819444444447,
           4.648368055555555,
           5.175036666666668,
           3.693127222222222,
           0.44568138888888886,
           3.6095769444444445,
           3.3973638888888895,
           7.313163611111111,
           5.380577222222223,
           4.918757222222222,
           4.144959999999999,
           3.751924444444444,
           3.7456130555555553,
           3.662107777777778,
           7.069226944444444,
           2.836068611111111,
           5.637260555555557,
           5.422840833333333,
           12.718697777777779,
           7.9389722222222225,
           2.471690277777778,
           5.589049166666666,
           2.9930408333333336,
           3.7970766666666664,
           5.884626388888889,
           5.271328055555554,
           4.739001666666666,
           5.370459722222222,
           2.3366222222222226,
           4.903305833333334,
           3.610659444444445,
           1.1446219444444445,
           3.6215680555555547,
           10.581827777777777,
           6.44342138888889,
           4.100124166666667,
           4.239961944444445,
           7.671901111111111,
           7.889513611111111,
           2.296552777777778,
           6.5121111111111105,
           4.277166666666667,
           6.727820277777778,
           3.4542655555555557,
           2.931216111111112,
           2.6595949999999995,
           0.2941944444444444,
           6.649790277777779,
           1.2647125000000001,
           5.544796666666666,
           3.550507777777778,
           4.804272499999999,
           1.3027180555555558,
           4.218089166666666,
           1.3398827777777778,
           3.4296977777777777,
           3.2697602777777774,
           7.528363055555556,
           5.164765,
           4.181698888888889,
           8.313410833333334,
           2.9664975000000005,
           9.0235875,
           5.591344722222222,
           3.3061055555555554,
           4.715043888888889,
           5.064013611111112,
           4.707727499999999,
           2.9901258333333334,
           1.858717777777778,
           4.257658611111111,
           2.1557130555555557,
           6.228636944444443,
           1.9560877777777779,
           5.5798733333333335,
           4.520015833333333,
           5.389261111111112,
           9.116508611111113,
           5.742183611111111,
           7.301469166666666,
           5.131960000000001,
           3.530308055555555,
           3.762112222222223,
           4.225553333333334,
           8.774571388888889,
           4.832318333333334,
           5.336985555555555,
           4.710296666666666,
           7.4955227777777775,
           4.725536111111111,
           2.8740558333333333,
           3.8218572222222225,
           2.7224575,
           4.517609444444444,
           3.988839722222222,
           4.534023055555555,
           1.6712102777777775,
           2.3772461111111105,
           7.84280861111111,
           7.0740308333333335,
           3.164168611111111,
           6.74277,
           4.913891666666666,
           5.394460555555555,
           5.640818888888889,
           7.7976247222222215,
           8.131501666666665,
           4.749104444444444,
           6.341786944444444,
           4.945408611111112,
           2.700903888888889,
           5.29478638888889,
           7.333145277777778,
           6.144843055555556,
           3.5193433333333335,
           2.7966283333333335,
           5.5697849999999995,
           2.7085358333333334,
           4.2006008333333344,
           5.4006558333333325,
           4.408346388888889,
           6.7899022222222225,
           3.9859780555555555,
           2.982222777777778,
           2.885181944444445,
           3.964723888888889,
           4.423281388888888,
           4.948245555555556,
           4.407091666666666,
           5.520906666666666,
           6.509153888888889,
           6.274300277777777,
           7.026325,
           4.703467777777778,
           4.666608333333333,
           3.854456388888889,
           1.748838333333333,
           2.228985,
           4.661977222222222,
           5.4547236111111115,
           6.912840277777779,
           8.130779444444444,
           4.632905277777778
          ],
          "coloraxis": "coloraxis",
          "line": {
           "color": "lightgrey",
           "width": 0.5
          }
         },
         "name": "",
         "offsetgroup": "",
         "orientation": "h",
         "showlegend": false,
         "textposition": "auto",
         "type": "bar",
         "x": [
          1,
          1,
          1,
          1,
          1,
          1,
          1,
          1,
          1,
          1,
          1,
          1,
          1,
          1,
          1,
          1,
          1,
          1,
          1,
          1,
          1,
          1,
          1,
          1,
          1,
          1,
          1,
          1,
          1,
          1,
          1,
          1,
          1,
          1,
          1,
          1,
          1,
          1,
          1,
          1,
          1,
          1,
          1,
          1,
          1,
          1,
          1,
          1,
          1,
          1,
          1,
          1,
          1,
          1,
          1,
          1,
          1,
          1,
          1,
          1,
          1,
          1,
          1,
          1,
          1,
          1,
          1,
          1,
          1,
          1,
          1,
          1,
          1,
          1,
          1,
          1,
          1,
          1,
          1,
          1,
          1,
          1,
          1,
          1,
          1,
          1,
          1,
          1,
          1,
          1,
          1,
          1,
          1,
          1,
          1,
          1,
          1,
          1,
          1,
          1,
          1,
          1,
          1,
          1,
          1,
          1,
          1,
          1,
          1,
          1,
          1,
          1,
          1,
          1,
          1,
          1,
          1,
          1,
          1,
          1,
          1,
          1,
          1,
          1,
          1,
          1,
          1,
          1,
          1,
          1,
          1,
          1,
          1,
          1,
          1,
          1,
          1,
          1,
          1,
          1,
          1,
          1,
          1,
          1,
          1,
          1,
          1,
          1,
          1,
          1,
          1,
          1,
          1,
          1,
          1,
          1,
          1,
          1,
          1,
          1,
          1,
          1,
          1,
          1,
          1,
          1,
          1,
          1,
          1,
          1,
          1,
          1,
          1,
          1,
          1,
          1,
          1,
          1,
          1,
          1,
          1,
          1,
          1,
          1,
          1,
          1,
          1,
          1,
          1,
          1,
          1,
          1,
          1,
          1,
          1,
          1,
          1,
          1,
          1,
          1,
          1,
          1,
          1,
          1,
          1,
          1,
          1,
          1,
          1,
          1,
          1,
          1,
          1,
          1,
          1,
          1,
          1,
          1,
          1,
          1,
          1,
          1,
          1,
          1,
          1,
          1,
          1,
          1,
          1,
          1,
          1,
          1,
          1,
          1,
          1,
          1,
          1,
          1,
          1,
          1,
          1,
          1,
          1,
          1,
          1,
          1,
          1,
          1,
          1,
          1,
          1,
          1,
          1,
          1,
          1,
          1,
          1,
          1,
          1,
          1,
          1,
          1,
          1,
          1,
          1,
          1,
          1,
          1,
          1,
          1,
          1,
          1,
          1,
          1,
          1,
          1,
          1,
          1,
          1,
          1,
          1,
          1,
          1,
          1,
          1,
          1,
          1,
          1,
          1,
          1,
          1,
          1,
          1,
          1,
          1,
          1,
          1,
          1,
          1,
          1,
          1,
          1,
          1,
          1,
          1,
          1,
          1,
          1,
          1,
          1,
          1,
          1,
          1,
          1,
          1,
          1,
          1,
          1,
          1,
          1,
          1,
          1,
          1,
          1,
          1,
          1,
          1,
          1,
          1,
          1,
          1,
          1,
          1,
          1,
          1,
          1,
          1,
          1,
          1,
          1,
          1,
          1,
          1,
          1,
          1,
          1,
          1,
          1,
          1,
          1,
          1,
          1,
          1,
          1,
          1,
          1,
          1,
          1,
          1,
          1,
          1,
          1,
          1,
          1,
          1,
          1
         ],
         "xaxis": "x",
         "y": [
          "2021-03-29T00:00:00",
          "2020-12-28T00:00:00",
          "2021-07-26T00:00:00",
          "2021-08-30T00:00:00",
          "2021-10-25T00:00:00",
          "2021-01-25T00:00:00",
          "2021-05-31T00:00:00",
          "2020-12-28T00:00:00",
          "2021-06-28T00:00:00",
          "2021-03-29T00:00:00",
          "2021-04-26T00:00:00",
          "2021-08-30T00:00:00",
          "2021-09-27T00:00:00",
          "2021-01-25T00:00:00",
          "2021-05-24T00:00:00",
          "2021-10-25T00:00:00",
          "2020-11-30T00:00:00",
          "2021-07-26T00:00:00",
          "2021-04-26T00:00:00",
          "2021-05-24T00:00:00",
          "2021-07-26T00:00:00",
          "2021-03-29T00:00:00",
          "2020-12-28T00:00:00",
          "2021-06-28T00:00:00",
          "2020-11-23T00:00:00",
          "2021-08-23T00:00:00",
          "2021-09-27T00:00:00",
          "2021-01-25T00:00:00",
          "2021-10-25T00:00:00",
          "2021-04-26T00:00:00",
          "2021-08-23T00:00:00",
          "2021-07-26T00:00:00",
          "2020-12-28T00:00:00",
          "2021-03-22T00:00:00",
          "2021-02-22T00:00:00",
          "2021-05-24T00:00:00",
          "2021-06-28T00:00:00",
          "2021-01-25T00:00:00",
          "2020-11-23T00:00:00",
          "2021-09-27T00:00:00",
          "2021-10-25T00:00:00",
          "2021-08-23T00:00:00",
          "2021-06-21T00:00:00",
          "2020-11-23T00:00:00",
          "2021-04-26T00:00:00",
          "2021-10-25T00:00:00",
          "2021-07-26T00:00:00",
          "2021-02-22T00:00:00",
          "2021-03-22T00:00:00",
          "2021-09-27T00:00:00",
          "2021-01-25T00:00:00",
          "2021-05-24T00:00:00",
          "2020-12-21T00:00:00",
          "2021-02-22T00:00:00",
          "2021-07-26T00:00:00",
          "2021-06-21T00:00:00",
          "2021-01-25T00:00:00",
          "2021-08-23T00:00:00",
          "2021-09-20T00:00:00",
          "2021-03-22T00:00:00",
          "2020-11-23T00:00:00",
          "2021-10-25T00:00:00",
          "2020-12-21T00:00:00",
          "2021-05-24T00:00:00",
          "2021-04-26T00:00:00",
          "2021-05-24T00:00:00",
          "2020-11-23T00:00:00",
          "2021-10-25T00:00:00",
          "2021-03-22T00:00:00",
          "2021-07-19T00:00:00",
          "2021-09-20T00:00:00",
          "2020-12-21T00:00:00",
          "2021-01-25T00:00:00",
          "2021-08-23T00:00:00",
          "2021-02-22T00:00:00",
          "2021-04-19T00:00:00",
          "2021-06-21T00:00:00",
          "2021-06-21T00:00:00",
          "2021-05-24T00:00:00",
          "2021-02-22T00:00:00",
          "2021-01-18T00:00:00",
          "2021-07-19T00:00:00",
          "2021-04-19T00:00:00",
          "2021-08-23T00:00:00",
          "2020-12-21T00:00:00",
          "2021-09-20T00:00:00",
          "2021-10-18T00:00:00",
          "2020-11-23T00:00:00",
          "2021-03-22T00:00:00",
          "2021-02-22T00:00:00",
          "2021-04-19T00:00:00",
          "2021-05-17T00:00:00",
          "2021-07-19T00:00:00",
          "2021-03-22T00:00:00",
          "2020-11-23T00:00:00",
          "2021-10-18T00:00:00",
          "2021-06-21T00:00:00",
          "2021-09-20T00:00:00",
          "2021-01-18T00:00:00",
          "2020-12-21T00:00:00",
          "2021-08-23T00:00:00",
          "2021-05-17T00:00:00",
          "2021-10-18T00:00:00",
          "2021-09-20T00:00:00",
          "2020-12-21T00:00:00",
          "2021-04-19T00:00:00",
          "2021-02-22T00:00:00",
          "2021-03-22T00:00:00",
          "2021-07-19T00:00:00",
          "2021-01-18T00:00:00",
          "2021-06-21T00:00:00",
          "2020-11-16T00:00:00",
          "2021-08-16T00:00:00",
          "2021-08-16T00:00:00",
          "2021-04-19T00:00:00",
          "2021-09-20T00:00:00",
          "2021-05-17T00:00:00",
          "2021-07-19T00:00:00",
          "2021-10-18T00:00:00",
          "2021-06-21T00:00:00",
          "2020-11-16T00:00:00",
          "2021-03-15T00:00:00",
          "2021-02-15T00:00:00",
          "2020-12-21T00:00:00",
          "2021-01-18T00:00:00",
          "2021-11-15T00:00:00",
          "2021-09-20T00:00:00",
          "2021-05-17T00:00:00",
          "2021-02-15T00:00:00",
          "2021-06-14T00:00:00",
          "2021-07-19T00:00:00",
          "2021-03-15T00:00:00",
          "2021-01-18T00:00:00",
          "2021-08-16T00:00:00",
          "2021-04-19T00:00:00",
          "2020-12-14T00:00:00",
          "2021-10-18T00:00:00",
          "2021-11-15T00:00:00",
          "2021-09-13T00:00:00",
          "2021-03-15T00:00:00",
          "2021-04-19T00:00:00",
          "2020-12-14T00:00:00",
          "2021-10-18T00:00:00",
          "2021-07-19T00:00:00",
          "2021-06-14T00:00:00",
          "2021-02-15T00:00:00",
          "2021-11-15T00:00:00",
          "2021-05-17T00:00:00",
          "2021-08-16T00:00:00",
          "2021-01-18T00:00:00",
          "2021-04-12T00:00:00",
          "2021-09-13T00:00:00",
          "2021-03-15T00:00:00",
          "2021-02-15T00:00:00",
          "2021-06-14T00:00:00",
          "2021-07-12T00:00:00",
          "2021-01-18T00:00:00",
          "2021-08-16T00:00:00",
          "2021-05-17T00:00:00",
          "2020-12-14T00:00:00",
          "2021-10-18T00:00:00",
          "2021-11-15T00:00:00",
          "2021-09-13T00:00:00",
          "2021-05-17T00:00:00",
          "2021-01-11T00:00:00",
          "2020-12-14T00:00:00",
          "2021-10-11T00:00:00",
          "2021-07-12T00:00:00",
          "2021-06-14T00:00:00",
          "2021-02-15T00:00:00",
          "2021-11-15T00:00:00",
          "2021-04-12T00:00:00",
          "2021-08-16T00:00:00",
          "2021-03-15T00:00:00",
          "2021-07-12T00:00:00",
          "2021-03-15T00:00:00",
          "2021-11-15T00:00:00",
          "2021-02-15T00:00:00",
          "2021-08-16T00:00:00",
          "2021-01-11T00:00:00",
          "2021-10-11T00:00:00",
          "2021-04-12T00:00:00",
          "2021-06-14T00:00:00",
          "2020-12-14T00:00:00",
          "2021-09-13T00:00:00",
          "2021-05-10T00:00:00",
          "2021-09-13T00:00:00",
          "2021-10-11T00:00:00",
          "2021-11-15T00:00:00",
          "2021-01-11T00:00:00",
          "2021-07-12T00:00:00",
          "2021-06-14T00:00:00",
          "2021-02-15T00:00:00",
          "2021-08-09T00:00:00",
          "2021-05-10T00:00:00",
          "2021-04-12T00:00:00",
          "2021-03-15T00:00:00",
          "2020-12-14T00:00:00",
          "2021-10-11T00:00:00",
          "2021-01-11T00:00:00",
          "2021-06-14T00:00:00",
          "2020-12-14T00:00:00",
          "2021-07-12T00:00:00",
          "2021-08-09T00:00:00",
          "2021-05-10T00:00:00",
          "2021-09-13T00:00:00",
          "2021-04-12T00:00:00",
          "2021-02-08T00:00:00",
          "2021-03-08T00:00:00",
          "2021-11-08T00:00:00",
          "2021-07-12T00:00:00",
          "2021-09-13T00:00:00",
          "2021-05-10T00:00:00",
          "2020-12-07T00:00:00",
          "2021-08-09T00:00:00",
          "2021-10-11T00:00:00",
          "2021-02-08T00:00:00",
          "2021-03-08T00:00:00",
          "2021-06-07T00:00:00",
          "2021-01-11T00:00:00",
          "2021-11-08T00:00:00",
          "2021-04-12T00:00:00",
          "2021-09-06T00:00:00",
          "2021-11-08T00:00:00",
          "2021-06-07T00:00:00",
          "2021-01-11T00:00:00",
          "2021-02-08T00:00:00",
          "2021-08-09T00:00:00",
          "2021-07-12T00:00:00",
          "2021-04-12T00:00:00",
          "2021-10-11T00:00:00",
          "2020-12-07T00:00:00",
          "2021-05-10T00:00:00",
          "2021-03-08T00:00:00",
          "2021-09-06T00:00:00",
          "2021-10-11T00:00:00",
          "2021-01-11T00:00:00",
          "2021-02-08T00:00:00",
          "2021-08-09T00:00:00",
          "2021-06-07T00:00:00",
          "2021-05-10T00:00:00",
          "2021-03-08T00:00:00",
          "2021-04-05T00:00:00",
          "2021-07-05T00:00:00",
          "2020-12-07T00:00:00",
          "2021-11-08T00:00:00",
          "2021-04-05T00:00:00",
          "2021-02-08T00:00:00",
          "2021-09-06T00:00:00",
          "2021-05-10T00:00:00",
          "2021-10-04T00:00:00",
          "2021-01-04T00:00:00",
          "2021-07-05T00:00:00",
          "2021-06-07T00:00:00",
          "2021-08-09T00:00:00",
          "2021-11-08T00:00:00",
          "2021-03-08T00:00:00",
          "2020-12-07T00:00:00",
          "2021-02-08T00:00:00",
          "2021-09-06T00:00:00",
          "2020-12-07T00:00:00",
          "2021-10-04T00:00:00",
          "2021-01-04T00:00:00",
          "2021-04-05T00:00:00",
          "2021-03-08T00:00:00",
          "2021-05-03T00:00:00",
          "2021-07-05T00:00:00",
          "2021-06-07T00:00:00",
          "2021-11-08T00:00:00",
          "2021-08-09T00:00:00",
          "2021-05-03T00:00:00",
          "2021-06-07T00:00:00",
          "2020-12-07T00:00:00",
          "2021-09-06T00:00:00",
          "2021-10-04T00:00:00",
          "2021-08-02T00:00:00",
          "2021-03-08T00:00:00",
          "2021-01-04T00:00:00",
          "2021-04-05T00:00:00",
          "2021-07-05T00:00:00",
          "2021-11-08T00:00:00",
          "2021-02-08T00:00:00",
          "2020-12-07T00:00:00",
          "2021-11-01T00:00:00",
          "2021-09-06T00:00:00",
          "2021-05-03T00:00:00",
          "2021-01-04T00:00:00",
          "2021-06-07T00:00:00",
          "2021-08-02T00:00:00",
          "2021-03-01T00:00:00",
          "2021-10-04T00:00:00",
          "2021-02-01T00:00:00",
          "2021-07-05T00:00:00",
          "2021-04-05T00:00:00",
          "2020-11-30T00:00:00",
          "2021-03-01T00:00:00",
          "2021-11-01T00:00:00",
          "2021-10-04T00:00:00",
          "2021-08-02T00:00:00",
          "2021-09-06T00:00:00",
          "2021-05-03T00:00:00",
          "2021-04-05T00:00:00",
          "2021-02-01T00:00:00",
          "2021-05-31T00:00:00",
          "2021-01-04T00:00:00",
          "2021-07-05T00:00:00",
          "2020-11-30T00:00:00",
          "2021-10-04T00:00:00",
          "2021-05-03T00:00:00",
          "2021-11-01T00:00:00",
          "2021-08-02T00:00:00",
          "2021-02-01T00:00:00",
          "2021-04-05T00:00:00",
          "2021-07-05T00:00:00",
          "2021-01-04T00:00:00",
          "2021-08-30T00:00:00",
          "2021-03-01T00:00:00",
          "2021-05-31T00:00:00",
          "2021-08-02T00:00:00",
          "2020-11-30T00:00:00",
          "2021-06-28T00:00:00",
          "2021-10-04T00:00:00",
          "2021-01-04T00:00:00",
          "2021-11-01T00:00:00",
          "2021-02-01T00:00:00",
          "2021-08-30T00:00:00",
          "2021-05-31T00:00:00",
          "2021-03-29T00:00:00",
          "2021-03-01T00:00:00",
          "2021-05-03T00:00:00",
          "2021-11-01T00:00:00",
          "2020-11-30T00:00:00",
          "2021-02-01T00:00:00",
          "2021-06-28T00:00:00",
          "2021-05-31T00:00:00",
          "2021-05-03T00:00:00",
          "2021-08-30T00:00:00",
          "2020-12-28T00:00:00",
          "2021-08-02T00:00:00",
          "2021-03-01T00:00:00",
          "2021-09-27T00:00:00",
          "2021-03-29T00:00:00",
          "2021-03-29T00:00:00",
          "2021-09-27T00:00:00",
          "2021-02-01T00:00:00",
          "2021-06-28T00:00:00",
          "2020-12-28T00:00:00",
          "2021-03-01T00:00:00",
          "2021-08-30T00:00:00",
          "2021-05-31T00:00:00",
          "2020-11-30T00:00:00",
          "2021-08-02T00:00:00",
          "2021-04-26T00:00:00",
          "2021-11-01T00:00:00",
          "2021-05-31T00:00:00",
          "2021-03-01T00:00:00",
          "2021-03-29T00:00:00",
          "2021-02-01T00:00:00",
          "2021-08-30T00:00:00",
          "2020-12-28T00:00:00",
          "2021-09-27T00:00:00",
          "2021-11-01T00:00:00",
          "2020-11-30T00:00:00",
          "2021-04-26T00:00:00",
          "2021-07-26T00:00:00",
          "2021-06-28T00:00:00"
         ],
         "yaxis": "y"
        }
       ],
       "layout": {
        "barmode": "overlay",
        "coloraxis": {
         "colorbar": {
          "tickfont": {
           "size": 12
          },
          "ticksuffix": "h",
          "title": {
           "text": "Listened<br>hours"
          }
         },
         "colorscale": [
          [
           0,
           "rgb(255,255,229)"
          ],
          [
           0.125,
           "rgb(247,252,185)"
          ],
          [
           0.25,
           "rgb(217,240,163)"
          ],
          [
           0.375,
           "rgb(173,221,142)"
          ],
          [
           0.5,
           "rgb(120,198,121)"
          ],
          [
           0.625,
           "rgb(65,171,93)"
          ],
          [
           0.75,
           "rgb(35,132,67)"
          ],
          [
           0.875,
           "rgb(0,104,55)"
          ],
          [
           1,
           "rgb(0,69,41)"
          ]
         ]
        },
        "legend": {
         "tracegroupgap": 0
        },
        "margin": {
         "t": 80
        },
        "template": {
         "data": {
          "bar": [
           {
            "error_x": {
             "color": "#2a3f5f"
            },
            "error_y": {
             "color": "#2a3f5f"
            },
            "marker": {
             "line": {
              "color": "#E5ECF6",
              "width": 0.5
             },
             "pattern": {
              "fillmode": "overlay",
              "size": 10,
              "solidity": 0.2
             }
            },
            "type": "bar"
           }
          ],
          "barpolar": [
           {
            "marker": {
             "line": {
              "color": "#E5ECF6",
              "width": 0.5
             },
             "pattern": {
              "fillmode": "overlay",
              "size": 10,
              "solidity": 0.2
             }
            },
            "type": "barpolar"
           }
          ],
          "carpet": [
           {
            "aaxis": {
             "endlinecolor": "#2a3f5f",
             "gridcolor": "white",
             "linecolor": "white",
             "minorgridcolor": "white",
             "startlinecolor": "#2a3f5f"
            },
            "baxis": {
             "endlinecolor": "#2a3f5f",
             "gridcolor": "white",
             "linecolor": "white",
             "minorgridcolor": "white",
             "startlinecolor": "#2a3f5f"
            },
            "type": "carpet"
           }
          ],
          "choropleth": [
           {
            "colorbar": {
             "outlinewidth": 0,
             "ticks": ""
            },
            "type": "choropleth"
           }
          ],
          "contour": [
           {
            "colorbar": {
             "outlinewidth": 0,
             "ticks": ""
            },
            "colorscale": [
             [
              0,
              "#0d0887"
             ],
             [
              0.1111111111111111,
              "#46039f"
             ],
             [
              0.2222222222222222,
              "#7201a8"
             ],
             [
              0.3333333333333333,
              "#9c179e"
             ],
             [
              0.4444444444444444,
              "#bd3786"
             ],
             [
              0.5555555555555556,
              "#d8576b"
             ],
             [
              0.6666666666666666,
              "#ed7953"
             ],
             [
              0.7777777777777778,
              "#fb9f3a"
             ],
             [
              0.8888888888888888,
              "#fdca26"
             ],
             [
              1,
              "#f0f921"
             ]
            ],
            "type": "contour"
           }
          ],
          "contourcarpet": [
           {
            "colorbar": {
             "outlinewidth": 0,
             "ticks": ""
            },
            "type": "contourcarpet"
           }
          ],
          "heatmap": [
           {
            "colorbar": {
             "outlinewidth": 0,
             "ticks": ""
            },
            "colorscale": [
             [
              0,
              "#0d0887"
             ],
             [
              0.1111111111111111,
              "#46039f"
             ],
             [
              0.2222222222222222,
              "#7201a8"
             ],
             [
              0.3333333333333333,
              "#9c179e"
             ],
             [
              0.4444444444444444,
              "#bd3786"
             ],
             [
              0.5555555555555556,
              "#d8576b"
             ],
             [
              0.6666666666666666,
              "#ed7953"
             ],
             [
              0.7777777777777778,
              "#fb9f3a"
             ],
             [
              0.8888888888888888,
              "#fdca26"
             ],
             [
              1,
              "#f0f921"
             ]
            ],
            "type": "heatmap"
           }
          ],
          "heatmapgl": [
           {
            "colorbar": {
             "outlinewidth": 0,
             "ticks": ""
            },
            "colorscale": [
             [
              0,
              "#0d0887"
             ],
             [
              0.1111111111111111,
              "#46039f"
             ],
             [
              0.2222222222222222,
              "#7201a8"
             ],
             [
              0.3333333333333333,
              "#9c179e"
             ],
             [
              0.4444444444444444,
              "#bd3786"
             ],
             [
              0.5555555555555556,
              "#d8576b"
             ],
             [
              0.6666666666666666,
              "#ed7953"
             ],
             [
              0.7777777777777778,
              "#fb9f3a"
             ],
             [
              0.8888888888888888,
              "#fdca26"
             ],
             [
              1,
              "#f0f921"
             ]
            ],
            "type": "heatmapgl"
           }
          ],
          "histogram": [
           {
            "marker": {
             "pattern": {
              "fillmode": "overlay",
              "size": 10,
              "solidity": 0.2
             }
            },
            "type": "histogram"
           }
          ],
          "histogram2d": [
           {
            "colorbar": {
             "outlinewidth": 0,
             "ticks": ""
            },
            "colorscale": [
             [
              0,
              "#0d0887"
             ],
             [
              0.1111111111111111,
              "#46039f"
             ],
             [
              0.2222222222222222,
              "#7201a8"
             ],
             [
              0.3333333333333333,
              "#9c179e"
             ],
             [
              0.4444444444444444,
              "#bd3786"
             ],
             [
              0.5555555555555556,
              "#d8576b"
             ],
             [
              0.6666666666666666,
              "#ed7953"
             ],
             [
              0.7777777777777778,
              "#fb9f3a"
             ],
             [
              0.8888888888888888,
              "#fdca26"
             ],
             [
              1,
              "#f0f921"
             ]
            ],
            "type": "histogram2d"
           }
          ],
          "histogram2dcontour": [
           {
            "colorbar": {
             "outlinewidth": 0,
             "ticks": ""
            },
            "colorscale": [
             [
              0,
              "#0d0887"
             ],
             [
              0.1111111111111111,
              "#46039f"
             ],
             [
              0.2222222222222222,
              "#7201a8"
             ],
             [
              0.3333333333333333,
              "#9c179e"
             ],
             [
              0.4444444444444444,
              "#bd3786"
             ],
             [
              0.5555555555555556,
              "#d8576b"
             ],
             [
              0.6666666666666666,
              "#ed7953"
             ],
             [
              0.7777777777777778,
              "#fb9f3a"
             ],
             [
              0.8888888888888888,
              "#fdca26"
             ],
             [
              1,
              "#f0f921"
             ]
            ],
            "type": "histogram2dcontour"
           }
          ],
          "mesh3d": [
           {
            "colorbar": {
             "outlinewidth": 0,
             "ticks": ""
            },
            "type": "mesh3d"
           }
          ],
          "parcoords": [
           {
            "line": {
             "colorbar": {
              "outlinewidth": 0,
              "ticks": ""
             }
            },
            "type": "parcoords"
           }
          ],
          "pie": [
           {
            "automargin": true,
            "type": "pie"
           }
          ],
          "scatter": [
           {
            "marker": {
             "colorbar": {
              "outlinewidth": 0,
              "ticks": ""
             }
            },
            "type": "scatter"
           }
          ],
          "scatter3d": [
           {
            "line": {
             "colorbar": {
              "outlinewidth": 0,
              "ticks": ""
             }
            },
            "marker": {
             "colorbar": {
              "outlinewidth": 0,
              "ticks": ""
             }
            },
            "type": "scatter3d"
           }
          ],
          "scattercarpet": [
           {
            "marker": {
             "colorbar": {
              "outlinewidth": 0,
              "ticks": ""
             }
            },
            "type": "scattercarpet"
           }
          ],
          "scattergeo": [
           {
            "marker": {
             "colorbar": {
              "outlinewidth": 0,
              "ticks": ""
             }
            },
            "type": "scattergeo"
           }
          ],
          "scattergl": [
           {
            "marker": {
             "colorbar": {
              "outlinewidth": 0,
              "ticks": ""
             }
            },
            "type": "scattergl"
           }
          ],
          "scattermapbox": [
           {
            "marker": {
             "colorbar": {
              "outlinewidth": 0,
              "ticks": ""
             }
            },
            "type": "scattermapbox"
           }
          ],
          "scatterpolar": [
           {
            "marker": {
             "colorbar": {
              "outlinewidth": 0,
              "ticks": ""
             }
            },
            "type": "scatterpolar"
           }
          ],
          "scatterpolargl": [
           {
            "marker": {
             "colorbar": {
              "outlinewidth": 0,
              "ticks": ""
             }
            },
            "type": "scatterpolargl"
           }
          ],
          "scatterternary": [
           {
            "marker": {
             "colorbar": {
              "outlinewidth": 0,
              "ticks": ""
             }
            },
            "type": "scatterternary"
           }
          ],
          "surface": [
           {
            "colorbar": {
             "outlinewidth": 0,
             "ticks": ""
            },
            "colorscale": [
             [
              0,
              "#0d0887"
             ],
             [
              0.1111111111111111,
              "#46039f"
             ],
             [
              0.2222222222222222,
              "#7201a8"
             ],
             [
              0.3333333333333333,
              "#9c179e"
             ],
             [
              0.4444444444444444,
              "#bd3786"
             ],
             [
              0.5555555555555556,
              "#d8576b"
             ],
             [
              0.6666666666666666,
              "#ed7953"
             ],
             [
              0.7777777777777778,
              "#fb9f3a"
             ],
             [
              0.8888888888888888,
              "#fdca26"
             ],
             [
              1,
              "#f0f921"
             ]
            ],
            "type": "surface"
           }
          ],
          "table": [
           {
            "cells": {
             "fill": {
              "color": "#EBF0F8"
             },
             "line": {
              "color": "white"
             }
            },
            "header": {
             "fill": {
              "color": "#C8D4E3"
             },
             "line": {
              "color": "white"
             }
            },
            "type": "table"
           }
          ]
         },
         "layout": {
          "annotationdefaults": {
           "arrowcolor": "#2a3f5f",
           "arrowhead": 0,
           "arrowwidth": 1
          },
          "autotypenumbers": "strict",
          "coloraxis": {
           "colorbar": {
            "outlinewidth": 0,
            "ticks": ""
           }
          },
          "colorscale": {
           "diverging": [
            [
             0,
             "#8e0152"
            ],
            [
             0.1,
             "#c51b7d"
            ],
            [
             0.2,
             "#de77ae"
            ],
            [
             0.3,
             "#f1b6da"
            ],
            [
             0.4,
             "#fde0ef"
            ],
            [
             0.5,
             "#f7f7f7"
            ],
            [
             0.6,
             "#e6f5d0"
            ],
            [
             0.7,
             "#b8e186"
            ],
            [
             0.8,
             "#7fbc41"
            ],
            [
             0.9,
             "#4d9221"
            ],
            [
             1,
             "#276419"
            ]
           ],
           "sequential": [
            [
             0,
             "#0d0887"
            ],
            [
             0.1111111111111111,
             "#46039f"
            ],
            [
             0.2222222222222222,
             "#7201a8"
            ],
            [
             0.3333333333333333,
             "#9c179e"
            ],
            [
             0.4444444444444444,
             "#bd3786"
            ],
            [
             0.5555555555555556,
             "#d8576b"
            ],
            [
             0.6666666666666666,
             "#ed7953"
            ],
            [
             0.7777777777777778,
             "#fb9f3a"
            ],
            [
             0.8888888888888888,
             "#fdca26"
            ],
            [
             1,
             "#f0f921"
            ]
           ],
           "sequentialminus": [
            [
             0,
             "#0d0887"
            ],
            [
             0.1111111111111111,
             "#46039f"
            ],
            [
             0.2222222222222222,
             "#7201a8"
            ],
            [
             0.3333333333333333,
             "#9c179e"
            ],
            [
             0.4444444444444444,
             "#bd3786"
            ],
            [
             0.5555555555555556,
             "#d8576b"
            ],
            [
             0.6666666666666666,
             "#ed7953"
            ],
            [
             0.7777777777777778,
             "#fb9f3a"
            ],
            [
             0.8888888888888888,
             "#fdca26"
            ],
            [
             1,
             "#f0f921"
            ]
           ]
          },
          "colorway": [
           "#636efa",
           "#EF553B",
           "#00cc96",
           "#ab63fa",
           "#FFA15A",
           "#19d3f3",
           "#FF6692",
           "#B6E880",
           "#FF97FF",
           "#FECB52"
          ],
          "font": {
           "color": "#2a3f5f"
          },
          "geo": {
           "bgcolor": "white",
           "lakecolor": "white",
           "landcolor": "#E5ECF6",
           "showlakes": true,
           "showland": true,
           "subunitcolor": "white"
          },
          "hoverlabel": {
           "align": "left"
          },
          "hovermode": "closest",
          "mapbox": {
           "style": "light"
          },
          "paper_bgcolor": "white",
          "plot_bgcolor": "#E5ECF6",
          "polar": {
           "angularaxis": {
            "gridcolor": "white",
            "linecolor": "white",
            "ticks": ""
           },
           "bgcolor": "#E5ECF6",
           "radialaxis": {
            "gridcolor": "white",
            "linecolor": "white",
            "ticks": ""
           }
          },
          "scene": {
           "xaxis": {
            "backgroundcolor": "#E5ECF6",
            "gridcolor": "white",
            "gridwidth": 2,
            "linecolor": "white",
            "showbackground": true,
            "ticks": "",
            "zerolinecolor": "white"
           },
           "yaxis": {
            "backgroundcolor": "#E5ECF6",
            "gridcolor": "white",
            "gridwidth": 2,
            "linecolor": "white",
            "showbackground": true,
            "ticks": "",
            "zerolinecolor": "white"
           },
           "zaxis": {
            "backgroundcolor": "#E5ECF6",
            "gridcolor": "white",
            "gridwidth": 2,
            "linecolor": "white",
            "showbackground": true,
            "ticks": "",
            "zerolinecolor": "white"
           }
          },
          "shapedefaults": {
           "line": {
            "color": "#2a3f5f"
           }
          },
          "ternary": {
           "aaxis": {
            "gridcolor": "white",
            "linecolor": "white",
            "ticks": ""
           },
           "baxis": {
            "gridcolor": "white",
            "linecolor": "white",
            "ticks": ""
           },
           "bgcolor": "#E5ECF6",
           "caxis": {
            "gridcolor": "white",
            "linecolor": "white",
            "ticks": ""
           }
          },
          "title": {
           "x": 0.05
          },
          "xaxis": {
           "automargin": true,
           "gridcolor": "white",
           "linecolor": "white",
           "ticks": "",
           "title": {
            "standoff": 15
           },
           "zerolinecolor": "white",
           "zerolinewidth": 2
          },
          "yaxis": {
           "automargin": true,
           "gridcolor": "white",
           "linecolor": "white",
           "ticks": "",
           "title": {
            "standoff": 15
           },
           "zerolinecolor": "white",
           "zerolinewidth": 2
          }
         }
        },
        "title": {
         "text": "<b>Spotify (un)Wrapped</b>:<i> When did I use Spotify?</i>"
        },
        "width": 500,
        "xaxis": {
         "anchor": "y",
         "domain": [
          0,
          1
         ],
         "showgrid": false,
         "ticktext": [
          "Mon",
          "Tue",
          "Wed",
          "Thu",
          "Fri",
          "Sat",
          "Sun"
         ],
         "tickvals": [
          0.5,
          1.5,
          2.5,
          3.5,
          4.5,
          5.5,
          6.5
         ],
         "title": {
          "text": ""
         },
         "type": "linear"
        },
        "yaxis": {
         "anchor": "x",
         "autorange": "reversed",
         "domain": [
          0,
          1
         ],
         "dtick": "M1",
         "tickformat": "%b/%y",
         "title": {
          "text": ""
         }
        }
       }
      },
      "text/html": [
       "<div>                            <div id=\"268d030c-27eb-4f55-9efd-7892399f3a27\" class=\"plotly-graph-div\" style=\"height:525px; width:500px;\"></div>            <script type=\"text/javascript\">                require([\"plotly\"], function(Plotly) {                    window.PLOTLYENV=window.PLOTLYENV || {};                                    if (document.getElementById(\"268d030c-27eb-4f55-9efd-7892399f3a27\")) {                    Plotly.newPlot(                        \"268d030c-27eb-4f55-9efd-7892399f3a27\",                        [{\"alignmentgroup\":\"True\",\"base\":[2,3,5,1,6,6,0,2,2,1,4,0,3,5,6,5,0,4,3,5,3,0,1,1,6,6,2,4,4,2,5,2,0,6,6,4,0,3,5,1,3,4,6,4,1,2,1,5,5,0,2,3,6,4,0,5,1,3,6,4,3,1,5,2,0,1,2,0,3,6,5,4,0,2,3,6,4,3,0,2,6,5,5,1,3,4,6,1,2,1,4,6,4,1,0,5,2,3,5,2,0,5,4,2,1,3,0,0,3,4,1,6,6,5,2,1,4,2,3,0,5,6,6,0,3,6,0,3,5,6,1,5,2,4,1,6,2,5,6,4,0,5,1,0,5,4,4,2,3,1,6,5,3,3,4,6,0,2,1,4,0,3,4,0,6,3,6,5,3,2,2,5,1,2,4,1,1,1,0,5,5,4,2,2,3,6,2,4,0,4,3,1,0,6,5,3,0,1,3,3,0,0,2,5,4,1,2,6,6,6,1,0,3,6,4,2,5,5,6,2,5,1,6,4,5,1,4,3,0,0,1,5,2,4,5,0,0,3,2,4,1,3,6,6,4,3,5,2,4,0,6,6,5,3,1,2,2,3,1,3,2,5,5,4,1,6,4,2,1,0,5,1,1,2,4,6,0,4,3,3,0,0,0,6,1,4,3,0,5,6,3,6,2,2,6,5,5,2,4,0,3,1,5,6,2,1,5,1,2,4,3,4,0,0,1,6,4,5,2,4,6,0,0,3,3,5,4,6,3,1,2,3,2,5,3,0,4,6,1,2,6,5,4,5,1,4,5,1,3,2,2,0,6,1,1,0,3,0,2,4,4,0,1,5,6,3],\"customdata\":[[\"2021-04-05T00:00:00\",\"29 Mar 2021\",5.6780125],[\"2021-01-04T00:00:00\",\"28 Dec 2020\",6.958172222222222],[\"2021-08-02T00:00:00\",\"26 Jul 2021\",7.699845555555556],[\"2021-09-06T00:00:00\",\"30 Aug 2021\",5.401120277777778],[\"2021-11-01T00:00:00\",\"25 Oct 2021\",5.1634238888888895],[\"2021-02-01T00:00:00\",\"25 Jan 2021\",1.784832222222222],[\"2021-06-07T00:00:00\",\"31 May 2021\",7.863709444444444],[\"2021-01-04T00:00:00\",\"28 Dec 2020\",3.776043611111111],[\"2021-07-05T00:00:00\",\"28 Jun 2021\",5.1900425],[\"2021-04-05T00:00:00\",\"29 Mar 2021\",5.340576944444445],[\"2021-05-03T00:00:00\",\"26 Apr 2021\",5.846502777777777],[\"2021-09-06T00:00:00\",\"30 Aug 2021\",5.669818333333334],[\"2021-10-04T00:00:00\",\"27 Sep 2021\",2.459476111111111],[\"2021-02-01T00:00:00\",\"25 Jan 2021\",6.398969444444444],[\"2021-05-31T00:00:00\",\"24 May 2021\",6.458887222222224],[\"2021-11-01T00:00:00\",\"25 Oct 2021\",7.5102],[\"2020-12-07T00:00:00\",\"30 Nov 2020\",4.105533055555555],[\"2021-08-02T00:00:00\",\"26 Jul 2021\",8.847408611111112],[\"2021-05-03T00:00:00\",\"26 Apr 2021\",6.649853611111111],[\"2021-05-31T00:00:00\",\"24 May 2021\",4.216005],[\"2021-08-02T00:00:00\",\"26 Jul 2021\",1.7175416666666667],[\"2021-04-05T00:00:00\",\"29 Mar 2021\",5.8649844444444446],[\"2021-01-04T00:00:00\",\"28 Dec 2020\",3.929283055555555],[\"2021-07-05T00:00:00\",\"28 Jun 2021\",4.450447222222222],[\"2020-11-30T00:00:00\",\"23 Nov 2020\",8.6208],[\"2021-08-30T00:00:00\",\"23 Aug 2021\",7.138471111111111],[\"2021-10-04T00:00:00\",\"27 Sep 2021\",2.4987469444444446],[\"2021-02-01T00:00:00\",\"25 Jan 2021\",5.4575538888888895],[\"2021-11-01T00:00:00\",\"25 Oct 2021\",5.1205108333333325],[\"2021-05-03T00:00:00\",\"26 Apr 2021\",5.74992361111111],[\"2021-08-30T00:00:00\",\"23 Aug 2021\",4.1618216666666665],[\"2021-08-02T00:00:00\",\"26 Jul 2021\",6.475143888888889],[\"2021-01-04T00:00:00\",\"28 Dec 2020\",3.3273341666666667],[\"2021-03-29T00:00:00\",\"22 Mar 2021\",2.904736111111111],[\"2021-03-01T00:00:00\",\"22 Feb 2021\",2.8950180555555556],[\"2021-05-31T00:00:00\",\"24 May 2021\",5.478545833333333],[\"2021-07-05T00:00:00\",\"28 Jun 2021\",5.738089444444445],[\"2021-02-01T00:00:00\",\"25 Jan 2021\",9.232168611111112],[\"2020-11-30T00:00:00\",\"23 Nov 2020\",7.001484444444444],[\"2021-10-04T00:00:00\",\"27 Sep 2021\",2.8234399999999997],[\"2021-11-01T00:00:00\",\"25 Oct 2021\",6.730011111111111],[\"2021-08-30T00:00:00\",\"23 Aug 2021\",5.077731944444444],[\"2021-06-28T00:00:00\",\"21 Jun 2021\",1.6676619444444443],[\"2020-11-30T00:00:00\",\"23 Nov 2020\",5.877093333333333],[\"2021-05-03T00:00:00\",\"26 Apr 2021\",3.279796944444445],[\"2021-11-01T00:00:00\",\"25 Oct 2021\",6.708090555555556],[\"2021-08-02T00:00:00\",\"26 Jul 2021\",4.7613199999999996],[\"2021-03-01T00:00:00\",\"22 Feb 2021\",2.691896111111111],[\"2021-03-29T00:00:00\",\"22 Mar 2021\",2.657991666666667],[\"2021-10-04T00:00:00\",\"27 Sep 2021\",3.3764813888888887],[\"2021-02-01T00:00:00\",\"25 Jan 2021\",5.09628638888889],[\"2021-05-31T00:00:00\",\"24 May 2021\",2.114165277777778],[\"2020-12-28T00:00:00\",\"21 Dec 2020\",3.7249486111111114],[\"2021-03-01T00:00:00\",\"22 Feb 2021\",3.6041125],[\"2021-08-02T00:00:00\",\"26 Jul 2021\",4.83498861111111],[\"2021-06-28T00:00:00\",\"21 Jun 2021\",4.724163888888888],[\"2021-02-01T00:00:00\",\"25 Jan 2021\",3.961765833333333],[\"2021-08-30T00:00:00\",\"23 Aug 2021\",3.8336516666666665],[\"2021-09-27T00:00:00\",\"20 Sep 2021\",4.512730277777778],[\"2021-03-29T00:00:00\",\"22 Mar 2021\",6.200740833333334],[\"2020-11-30T00:00:00\",\"23 Nov 2020\",7.247723055555556],[\"2021-11-01T00:00:00\",\"25 Oct 2021\",7.076004722222223],[\"2020-12-28T00:00:00\",\"21 Dec 2020\",4.82125],[\"2021-05-31T00:00:00\",\"24 May 2021\",3.8479891666666663],[\"2021-05-03T00:00:00\",\"26 Apr 2021\",3.795424722222222],[\"2021-05-31T00:00:00\",\"24 May 2021\",7.420533888888888],[\"2020-11-30T00:00:00\",\"23 Nov 2020\",7.202648055555556],[\"2021-11-01T00:00:00\",\"25 Oct 2021\",6.913240000000002],[\"2021-03-29T00:00:00\",\"22 Mar 2021\",5.638693611111111],[\"2021-07-26T00:00:00\",\"19 Jul 2021\",4.480304444444444],[\"2021-09-27T00:00:00\",\"20 Sep 2021\",6.370513611111111],[\"2020-12-28T00:00:00\",\"21 Dec 2020\",6.114579166666667],[\"2021-02-01T00:00:00\",\"25 Jan 2021\",5.115840277777777],[\"2021-08-30T00:00:00\",\"23 Aug 2021\",6.011987222222222],[\"2021-03-01T00:00:00\",\"22 Feb 2021\",4.963548055555555],[\"2021-04-26T00:00:00\",\"19 Apr 2021\",4.318626388888889],[\"2021-06-28T00:00:00\",\"21 Jun 2021\",2.0336569444444446],[\"2021-06-28T00:00:00\",\"21 Jun 2021\",4.50170388888889],[\"2021-05-31T00:00:00\",\"24 May 2021\",5.745167222222222],[\"2021-03-01T00:00:00\",\"22 Feb 2021\",2.2280633333333335],[\"2021-01-25T00:00:00\",\"18 Jan 2021\",2.9648338888888883],[\"2021-07-26T00:00:00\",\"19 Jul 2021\",6.8295233333333325],[\"2021-04-26T00:00:00\",\"19 Apr 2021\",2.8019841666666667],[\"2021-08-30T00:00:00\",\"23 Aug 2021\",3.873412222222223],[\"2020-12-28T00:00:00\",\"21 Dec 2020\",9.551329166666669],[\"2021-09-27T00:00:00\",\"20 Sep 2021\",7.652325555555556],[\"2021-10-25T00:00:00\",\"18 Oct 2021\",5.818213055555555],[\"2020-11-30T00:00:00\",\"23 Nov 2020\",2.759734722222222],[\"2021-03-29T00:00:00\",\"22 Mar 2021\",3.981996666666667],[\"2021-03-01T00:00:00\",\"22 Feb 2021\",4.300623611111112],[\"2021-04-26T00:00:00\",\"19 Apr 2021\",7.21959],[\"2021-05-24T00:00:00\",\"17 May 2021\",1.3230583333333334],[\"2021-07-26T00:00:00\",\"19 Jul 2021\",7.928708888888887],[\"2021-03-29T00:00:00\",\"22 Mar 2021\",9.08985861111111],[\"2020-11-30T00:00:00\",\"23 Nov 2020\",6.461769166666666],[\"2021-10-25T00:00:00\",\"18 Oct 2021\",7.7679494444444455],[\"2021-06-28T00:00:00\",\"21 Jun 2021\",7.010428888888889],[\"2021-09-27T00:00:00\",\"20 Sep 2021\",3.2537463888888887],[\"2021-01-25T00:00:00\",\"18 Jan 2021\",9.055496111111111],[\"2020-12-28T00:00:00\",\"21 Dec 2020\",9.350759722222222],[\"2021-08-30T00:00:00\",\"23 Aug 2021\",6.008255555555555],[\"2021-05-24T00:00:00\",\"17 May 2021\",4.256120277777778],[\"2021-10-25T00:00:00\",\"18 Oct 2021\",5.88603138888889],[\"2021-09-27T00:00:00\",\"20 Sep 2021\",4.006011111111112],[\"2020-12-28T00:00:00\",\"21 Dec 2020\",9.48283222222222],[\"2021-04-26T00:00:00\",\"19 Apr 2021\",5.212447777777777],[\"2021-03-01T00:00:00\",\"22 Feb 2021\",5.250966666666669],[\"2021-03-29T00:00:00\",\"22 Mar 2021\",8.099567777777779],[\"2021-07-26T00:00:00\",\"19 Jul 2021\",6.849720833333334],[\"2021-01-25T00:00:00\",\"18 Jan 2021\",8.496795],[\"2021-06-28T00:00:00\",\"21 Jun 2021\",3.769277777777778],[\"2020-11-23T00:00:00\",\"16 Nov 2020\",3.129995555555556],[\"2021-08-23T00:00:00\",\"16 Aug 2021\",10.898288055555556],[\"2021-08-23T00:00:00\",\"16 Aug 2021\",7.163778055555555],[\"2021-04-26T00:00:00\",\"19 Apr 2021\",3.486621388888888],[\"2021-09-27T00:00:00\",\"20 Sep 2021\",5.2386977777777775],[\"2021-05-24T00:00:00\",\"17 May 2021\",4.394295555555556],[\"2021-07-26T00:00:00\",\"19 Jul 2021\",2.868440833333333],[\"2021-10-25T00:00:00\",\"18 Oct 2021\",8.189760277777777],[\"2021-06-28T00:00:00\",\"21 Jun 2021\",5.4156450000000005],[\"2020-11-23T00:00:00\",\"16 Nov 2020\",4.849296944444445],[\"2021-03-22T00:00:00\",\"15 Mar 2021\",4.092303611111111],[\"2021-02-22T00:00:00\",\"15 Feb 2021\",2.8575366666666664],[\"2020-12-28T00:00:00\",\"21 Dec 2020\",7.94164638888889],[\"2021-01-25T00:00:00\",\"18 Jan 2021\",4.231410277777778],[\"2021-11-22T00:00:00\",\"15 Nov 2021\",8.460375],[\"2021-09-27T00:00:00\",\"20 Sep 2021\",4.550576666666666],[\"2021-05-24T00:00:00\",\"17 May 2021\",3.989245833333334],[\"2021-02-22T00:00:00\",\"15 Feb 2021\",4.115276944444444],[\"2021-06-21T00:00:00\",\"14 Jun 2021\",2.3323177777777775],[\"2021-07-26T00:00:00\",\"19 Jul 2021\",5.574696111111111],[\"2021-03-22T00:00:00\",\"15 Mar 2021\",6.420372500000001],[\"2021-01-25T00:00:00\",\"18 Jan 2021\",3.6775613888888885],[\"2021-08-23T00:00:00\",\"16 Aug 2021\",7.024669444444444],[\"2021-04-26T00:00:00\",\"19 Apr 2021\",2.603318611111111],[\"2020-12-21T00:00:00\",\"14 Dec 2020\",6.282598055555555],[\"2021-10-25T00:00:00\",\"18 Oct 2021\",7.028273888888888],[\"2021-11-22T00:00:00\",\"15 Nov 2021\",6.917157499999999],[\"2021-09-20T00:00:00\",\"13 Sep 2021\",3.4184325000000007],[\"2021-03-22T00:00:00\",\"15 Mar 2021\",3.4604961111111114],[\"2021-04-26T00:00:00\",\"19 Apr 2021\",5.865741944444443],[\"2020-12-21T00:00:00\",\"14 Dec 2020\",8.543121666666668],[\"2021-10-25T00:00:00\",\"18 Oct 2021\",5.122476388888889],[\"2021-07-26T00:00:00\",\"19 Jul 2021\",3.733845833333334],[\"2021-06-21T00:00:00\",\"14 Jun 2021\",2.1957880555555556],[\"2021-02-22T00:00:00\",\"15 Feb 2021\",7.53229638888889],[\"2021-11-22T00:00:00\",\"15 Nov 2021\",3.9042141666666663],[\"2021-05-24T00:00:00\",\"17 May 2021\",5.374590555555556],[\"2021-08-23T00:00:00\",\"16 Aug 2021\",1.7532561111111113],[\"2021-01-25T00:00:00\",\"18 Jan 2021\",3.1367755555555554],[\"2021-04-19T00:00:00\",\"12 Apr 2021\",3.6127136111111113],[\"2021-09-20T00:00:00\",\"13 Sep 2021\",4.205839444444445],[\"2021-03-22T00:00:00\",\"15 Mar 2021\",5.361153333333333],[\"2021-02-22T00:00:00\",\"15 Feb 2021\",3.941158333333333],[\"2021-06-21T00:00:00\",\"14 Jun 2021\",1.382036388888889],[\"2021-07-19T00:00:00\",\"12 Jul 2021\",2.3062372222222223],[\"2021-01-25T00:00:00\",\"18 Jan 2021\",5.686413611111109],[\"2021-08-23T00:00:00\",\"16 Aug 2021\",2.9319611111111117],[\"2021-05-24T00:00:00\",\"17 May 2021\",2.7888952777777773],[\"2020-12-21T00:00:00\",\"14 Dec 2020\",4.891023611111112],[\"2021-10-25T00:00:00\",\"18 Oct 2021\",7.120736666666668],[\"2021-11-22T00:00:00\",\"15 Nov 2021\",3.3692086111111115],[\"2021-09-20T00:00:00\",\"13 Sep 2021\",3.1344172222222224],[\"2021-05-24T00:00:00\",\"17 May 2021\",5.11617111111111],[\"2021-01-18T00:00:00\",\"11 Jan 2021\",7.888854722222223],[\"2020-12-21T00:00:00\",\"14 Dec 2020\",7.735694166666665],[\"2021-10-18T00:00:00\",\"11 Oct 2021\",3.8244880555555563],[\"2021-07-19T00:00:00\",\"12 Jul 2021\",5.002008611111111],[\"2021-06-21T00:00:00\",\"14 Jun 2021\",3.370776666666667],[\"2021-02-22T00:00:00\",\"15 Feb 2021\",8.282602222222224],[\"2021-11-22T00:00:00\",\"15 Nov 2021\",3.9569205555555564],[\"2021-04-19T00:00:00\",\"12 Apr 2021\",3.1125013888888886],[\"2021-08-23T00:00:00\",\"16 Aug 2021\",4.81852],[\"2021-03-22T00:00:00\",\"15 Mar 2021\",5.976394166666666],[\"2021-07-19T00:00:00\",\"12 Jul 2021\",2.9951675],[\"2021-03-22T00:00:00\",\"15 Mar 2021\",3.411055],[\"2021-11-22T00:00:00\",\"15 Nov 2021\",4.3076936111111115],[\"2021-02-22T00:00:00\",\"15 Feb 2021\",6.057271666666667],[\"2021-08-23T00:00:00\",\"16 Aug 2021\",4.908559722222223],[\"2021-01-18T00:00:00\",\"11 Jan 2021\",4.132516388888889],[\"2021-10-18T00:00:00\",\"11 Oct 2021\",4.596961666666667],[\"2021-04-19T00:00:00\",\"12 Apr 2021\",5.465230277777778],[\"2021-06-21T00:00:00\",\"14 Jun 2021\",5.424351666666668],[\"2020-12-21T00:00:00\",\"14 Dec 2020\",7.834227777777777],[\"2021-09-20T00:00:00\",\"13 Sep 2021\",2.724335833333333],[\"2021-05-17T00:00:00\",\"10 May 2021\",5.467050555555556],[\"2021-09-20T00:00:00\",\"13 Sep 2021\",2.832552222222222],[\"2021-10-18T00:00:00\",\"11 Oct 2021\",4.596618611111111],[\"2021-11-22T00:00:00\",\"15 Nov 2021\",4.339835833333335],[\"2021-01-18T00:00:00\",\"11 Jan 2021\",3.6569086111111115],[\"2021-07-19T00:00:00\",\"12 Jul 2021\",2.107708888888889],[\"2021-06-21T00:00:00\",\"14 Jun 2021\",2.8596497222222226],[\"2021-02-22T00:00:00\",\"15 Feb 2021\",7.0402625],[\"2021-08-16T00:00:00\",\"09 Aug 2021\",4.165864166666666],[\"2021-05-17T00:00:00\",\"10 May 2021\",10.397683888888887],[\"2021-04-19T00:00:00\",\"12 Apr 2021\",6.7350161111111095],[\"2021-03-22T00:00:00\",\"15 Mar 2021\",4.668187222222222],[\"2020-12-21T00:00:00\",\"14 Dec 2020\",5.495913888888888],[\"2021-10-18T00:00:00\",\"11 Oct 2021\",5.556979444444446],[\"2021-01-18T00:00:00\",\"11 Jan 2021\",2.9868044444444446],[\"2021-06-21T00:00:00\",\"14 Jun 2021\",3.2246061111111115],[\"2020-12-21T00:00:00\",\"14 Dec 2020\",6.652587777777778],[\"2021-07-19T00:00:00\",\"12 Jul 2021\",5.355110833333333],[\"2021-08-16T00:00:00\",\"09 Aug 2021\",2.026409722222222],[\"2021-05-17T00:00:00\",\"10 May 2021\",5.817166388888888],[\"2021-09-20T00:00:00\",\"13 Sep 2021\",1.8736394444444442],[\"2021-04-19T00:00:00\",\"12 Apr 2021\",5.5411833333333345],[\"2021-02-15T00:00:00\",\"08 Feb 2021\",4.132751666666667],[\"2021-03-15T00:00:00\",\"08 Mar 2021\",6.429468055555557],[\"2021-11-15T00:00:00\",\"08 Nov 2021\",3.8248638888888884],[\"2021-07-19T00:00:00\",\"12 Jul 2021\",5.287603611111111],[\"2021-09-20T00:00:00\",\"13 Sep 2021\",3.624616666666667],[\"2021-05-17T00:00:00\",\"10 May 2021\",1.1932024999999997],[\"2020-12-14T00:00:00\",\"07 Dec 2020\",3.979766666666667],[\"2021-08-16T00:00:00\",\"09 Aug 2021\",4.732022222222222],[\"2021-10-18T00:00:00\",\"11 Oct 2021\",8.269855833333335],[\"2021-02-15T00:00:00\",\"08 Feb 2021\",8.284809444444447],[\"2021-03-15T00:00:00\",\"08 Mar 2021\",5.903953333333335],[\"2021-06-14T00:00:00\",\"07 Jun 2021\",2.6566594444444442],[\"2021-01-18T00:00:00\",\"11 Jan 2021\",4.791504722222222],[\"2021-11-15T00:00:00\",\"08 Nov 2021\",3.3894822222222216],[\"2021-04-19T00:00:00\",\"12 Apr 2021\",4.443546944444445],[\"2021-09-13T00:00:00\",\"06 Sep 2021\",2.544581111111111],[\"2021-11-15T00:00:00\",\"08 Nov 2021\",1.6733819444444447],[\"2021-06-14T00:00:00\",\"07 Jun 2021\",4.648368055555555],[\"2021-01-18T00:00:00\",\"11 Jan 2021\",5.175036666666668],[\"2021-02-15T00:00:00\",\"08 Feb 2021\",3.693127222222222],[\"2021-08-16T00:00:00\",\"09 Aug 2021\",0.44568138888888886],[\"2021-07-19T00:00:00\",\"12 Jul 2021\",3.6095769444444445],[\"2021-04-19T00:00:00\",\"12 Apr 2021\",3.3973638888888895],[\"2021-10-18T00:00:00\",\"11 Oct 2021\",7.313163611111111],[\"2020-12-14T00:00:00\",\"07 Dec 2020\",5.380577222222223],[\"2021-05-17T00:00:00\",\"10 May 2021\",4.918757222222222],[\"2021-03-15T00:00:00\",\"08 Mar 2021\",4.144959999999999],[\"2021-09-13T00:00:00\",\"06 Sep 2021\",3.751924444444444],[\"2021-10-18T00:00:00\",\"11 Oct 2021\",3.7456130555555553],[\"2021-01-18T00:00:00\",\"11 Jan 2021\",3.662107777777778],[\"2021-02-15T00:00:00\",\"08 Feb 2021\",7.069226944444444],[\"2021-08-16T00:00:00\",\"09 Aug 2021\",2.836068611111111],[\"2021-06-14T00:00:00\",\"07 Jun 2021\",5.637260555555557],[\"2021-05-17T00:00:00\",\"10 May 2021\",5.422840833333333],[\"2021-03-15T00:00:00\",\"08 Mar 2021\",12.718697777777779],[\"2021-04-12T00:00:00\",\"05 Apr 2021\",7.9389722222222225],[\"2021-07-12T00:00:00\",\"05 Jul 2021\",2.471690277777778],[\"2020-12-14T00:00:00\",\"07 Dec 2020\",5.589049166666666],[\"2021-11-15T00:00:00\",\"08 Nov 2021\",2.9930408333333336],[\"2021-04-12T00:00:00\",\"05 Apr 2021\",3.7970766666666664],[\"2021-02-15T00:00:00\",\"08 Feb 2021\",5.884626388888889],[\"2021-09-13T00:00:00\",\"06 Sep 2021\",5.271328055555554],[\"2021-05-17T00:00:00\",\"10 May 2021\",4.739001666666666],[\"2021-10-11T00:00:00\",\"04 Oct 2021\",5.370459722222222],[\"2021-01-11T00:00:00\",\"04 Jan 2021\",2.3366222222222226],[\"2021-07-12T00:00:00\",\"05 Jul 2021\",4.903305833333334],[\"2021-06-14T00:00:00\",\"07 Jun 2021\",3.610659444444445],[\"2021-08-16T00:00:00\",\"09 Aug 2021\",1.1446219444444445],[\"2021-11-15T00:00:00\",\"08 Nov 2021\",3.6215680555555547],[\"2021-03-15T00:00:00\",\"08 Mar 2021\",10.581827777777777],[\"2020-12-14T00:00:00\",\"07 Dec 2020\",6.44342138888889],[\"2021-02-15T00:00:00\",\"08 Feb 2021\",4.100124166666667],[\"2021-09-13T00:00:00\",\"06 Sep 2021\",4.239961944444445],[\"2020-12-14T00:00:00\",\"07 Dec 2020\",7.671901111111111],[\"2021-10-11T00:00:00\",\"04 Oct 2021\",7.889513611111111],[\"2021-01-11T00:00:00\",\"04 Jan 2021\",2.296552777777778],[\"2021-04-12T00:00:00\",\"05 Apr 2021\",6.5121111111111105],[\"2021-03-15T00:00:00\",\"08 Mar 2021\",4.277166666666667],[\"2021-05-10T00:00:00\",\"03 May 2021\",6.727820277777778],[\"2021-07-12T00:00:00\",\"05 Jul 2021\",3.4542655555555557],[\"2021-06-14T00:00:00\",\"07 Jun 2021\",2.931216111111112],[\"2021-11-15T00:00:00\",\"08 Nov 2021\",2.6595949999999995],[\"2021-08-16T00:00:00\",\"09 Aug 2021\",0.2941944444444444],[\"2021-05-10T00:00:00\",\"03 May 2021\",6.649790277777779],[\"2021-06-14T00:00:00\",\"07 Jun 2021\",1.2647125000000001],[\"2020-12-14T00:00:00\",\"07 Dec 2020\",5.544796666666666],[\"2021-09-13T00:00:00\",\"06 Sep 2021\",3.550507777777778],[\"2021-10-11T00:00:00\",\"04 Oct 2021\",4.804272499999999],[\"2021-08-09T00:00:00\",\"02 Aug 2021\",1.3027180555555558],[\"2021-03-15T00:00:00\",\"08 Mar 2021\",4.218089166666666],[\"2021-01-11T00:00:00\",\"04 Jan 2021\",1.3398827777777778],[\"2021-04-12T00:00:00\",\"05 Apr 2021\",3.4296977777777777],[\"2021-07-12T00:00:00\",\"05 Jul 2021\",3.2697602777777774],[\"2021-11-15T00:00:00\",\"08 Nov 2021\",7.528363055555556],[\"2021-02-15T00:00:00\",\"08 Feb 2021\",5.164765],[\"2020-12-14T00:00:00\",\"07 Dec 2020\",4.181698888888889],[\"2021-11-08T00:00:00\",\"01 Nov 2021\",8.313410833333334],[\"2021-09-13T00:00:00\",\"06 Sep 2021\",2.9664975000000005],[\"2021-05-10T00:00:00\",\"03 May 2021\",9.0235875],[\"2021-01-11T00:00:00\",\"04 Jan 2021\",5.591344722222222],[\"2021-06-14T00:00:00\",\"07 Jun 2021\",3.3061055555555554],[\"2021-08-09T00:00:00\",\"02 Aug 2021\",4.715043888888889],[\"2021-03-08T00:00:00\",\"01 Mar 2021\",5.064013611111112],[\"2021-10-11T00:00:00\",\"04 Oct 2021\",4.707727499999999],[\"2021-02-08T00:00:00\",\"01 Feb 2021\",2.9901258333333334],[\"2021-07-12T00:00:00\",\"05 Jul 2021\",1.858717777777778],[\"2021-04-12T00:00:00\",\"05 Apr 2021\",4.257658611111111],[\"2020-12-07T00:00:00\",\"30 Nov 2020\",2.1557130555555557],[\"2021-03-08T00:00:00\",\"01 Mar 2021\",6.228636944444443],[\"2021-11-08T00:00:00\",\"01 Nov 2021\",1.9560877777777779],[\"2021-10-11T00:00:00\",\"04 Oct 2021\",5.5798733333333335],[\"2021-08-09T00:00:00\",\"02 Aug 2021\",4.520015833333333],[\"2021-09-13T00:00:00\",\"06 Sep 2021\",5.389261111111112],[\"2021-05-10T00:00:00\",\"03 May 2021\",9.116508611111113],[\"2021-04-12T00:00:00\",\"05 Apr 2021\",5.742183611111111],[\"2021-02-08T00:00:00\",\"01 Feb 2021\",7.301469166666666],[\"2021-06-07T00:00:00\",\"31 May 2021\",5.131960000000001],[\"2021-01-11T00:00:00\",\"04 Jan 2021\",3.530308055555555],[\"2021-07-12T00:00:00\",\"05 Jul 2021\",3.762112222222223],[\"2020-12-07T00:00:00\",\"30 Nov 2020\",4.225553333333334],[\"2021-10-11T00:00:00\",\"04 Oct 2021\",8.774571388888889],[\"2021-05-10T00:00:00\",\"03 May 2021\",4.832318333333334],[\"2021-11-08T00:00:00\",\"01 Nov 2021\",5.336985555555555],[\"2021-08-09T00:00:00\",\"02 Aug 2021\",4.710296666666666],[\"2021-02-08T00:00:00\",\"01 Feb 2021\",7.4955227777777775],[\"2021-04-12T00:00:00\",\"05 Apr 2021\",4.725536111111111],[\"2021-07-12T00:00:00\",\"05 Jul 2021\",2.8740558333333333],[\"2021-01-11T00:00:00\",\"04 Jan 2021\",3.8218572222222225],[\"2021-09-06T00:00:00\",\"30 Aug 2021\",2.7224575],[\"2021-03-08T00:00:00\",\"01 Mar 2021\",4.517609444444444],[\"2021-06-07T00:00:00\",\"31 May 2021\",3.988839722222222],[\"2021-08-09T00:00:00\",\"02 Aug 2021\",4.534023055555555],[\"2020-12-07T00:00:00\",\"30 Nov 2020\",1.6712102777777775],[\"2021-07-05T00:00:00\",\"28 Jun 2021\",2.3772461111111105],[\"2021-10-11T00:00:00\",\"04 Oct 2021\",7.84280861111111],[\"2021-01-11T00:00:00\",\"04 Jan 2021\",7.0740308333333335],[\"2021-11-08T00:00:00\",\"01 Nov 2021\",3.164168611111111],[\"2021-02-08T00:00:00\",\"01 Feb 2021\",6.74277],[\"2021-09-06T00:00:00\",\"30 Aug 2021\",4.913891666666666],[\"2021-06-07T00:00:00\",\"31 May 2021\",5.394460555555555],[\"2021-04-05T00:00:00\",\"29 Mar 2021\",5.640818888888889],[\"2021-03-08T00:00:00\",\"01 Mar 2021\",7.7976247222222215],[\"2021-05-10T00:00:00\",\"03 May 2021\",8.131501666666665],[\"2021-11-08T00:00:00\",\"01 Nov 2021\",4.749104444444444],[\"2020-12-07T00:00:00\",\"30 Nov 2020\",6.341786944444444],[\"2021-02-08T00:00:00\",\"01 Feb 2021\",4.945408611111112],[\"2021-07-05T00:00:00\",\"28 Jun 2021\",2.700903888888889],[\"2021-06-07T00:00:00\",\"31 May 2021\",5.29478638888889],[\"2021-05-10T00:00:00\",\"03 May 2021\",7.333145277777778],[\"2021-09-06T00:00:00\",\"30 Aug 2021\",6.144843055555556],[\"2021-01-04T00:00:00\",\"28 Dec 2020\",3.5193433333333335],[\"2021-08-09T00:00:00\",\"02 Aug 2021\",2.7966283333333335],[\"2021-03-08T00:00:00\",\"01 Mar 2021\",5.5697849999999995],[\"2021-10-04T00:00:00\",\"27 Sep 2021\",2.7085358333333334],[\"2021-04-05T00:00:00\",\"29 Mar 2021\",4.2006008333333344],[\"2021-04-05T00:00:00\",\"29 Mar 2021\",5.4006558333333325],[\"2021-10-04T00:00:00\",\"27 Sep 2021\",4.408346388888889],[\"2021-02-08T00:00:00\",\"01 Feb 2021\",6.7899022222222225],[\"2021-07-05T00:00:00\",\"28 Jun 2021\",3.9859780555555555],[\"2021-01-04T00:00:00\",\"28 Dec 2020\",2.982222777777778],[\"2021-03-08T00:00:00\",\"01 Mar 2021\",2.885181944444445],[\"2021-09-06T00:00:00\",\"30 Aug 2021\",3.964723888888889],[\"2021-06-07T00:00:00\",\"31 May 2021\",4.423281388888888],[\"2020-12-07T00:00:00\",\"30 Nov 2020\",4.948245555555556],[\"2021-08-09T00:00:00\",\"02 Aug 2021\",4.407091666666666],[\"2021-05-03T00:00:00\",\"26 Apr 2021\",5.520906666666666],[\"2021-11-08T00:00:00\",\"01 Nov 2021\",6.509153888888889],[\"2021-06-07T00:00:00\",\"31 May 2021\",6.274300277777777],[\"2021-03-08T00:00:00\",\"01 Mar 2021\",7.026325],[\"2021-04-05T00:00:00\",\"29 Mar 2021\",4.703467777777778],[\"2021-02-08T00:00:00\",\"01 Feb 2021\",4.666608333333333],[\"2021-09-06T00:00:00\",\"30 Aug 2021\",3.854456388888889],[\"2021-01-04T00:00:00\",\"28 Dec 2020\",1.748838333333333],[\"2021-10-04T00:00:00\",\"27 Sep 2021\",2.228985],[\"2021-11-08T00:00:00\",\"01 Nov 2021\",4.661977222222222],[\"2020-12-07T00:00:00\",\"30 Nov 2020\",5.4547236111111115],[\"2021-05-03T00:00:00\",\"26 Apr 2021\",6.912840277777779],[\"2021-08-02T00:00:00\",\"26 Jul 2021\",8.130779444444444],[\"2021-07-05T00:00:00\",\"28 Jun 2021\",4.632905277777778]],\"hovertemplate\":\"<b>%{hovertext}</b><br><br>dow=%{base}<br>next_dow=%{x}<br>week=%{customdata[1]}<br>value=%{marker.color:.3g}<extra></extra>\",\"hovertext\":[\"31 Mar 2021\",\"31 Dec 2020\",\"31 Jul 2021\",\"31 Aug 2021\",\"31 Oct 2021\",\"31 Jan 2021\",\"31 May 2021\",\"30 Dec 2020\",\"30 Jun 2021\",\"30 Mar 2021\",\"30 Apr 2021\",\"30 Aug 2021\",\"30 Sep 2021\",\"30 Jan 2021\",\"30 May 2021\",\"30 Oct 2021\",\"30 Nov 2020\",\"30 Jul 2021\",\"29 Apr 2021\",\"29 May 2021\",\"29 Jul 2021\",\"29 Mar 2021\",\"29 Dec 2020\",\"29 Jun 2021\",\"29 Nov 2020\",\"29 Aug 2021\",\"29 Sep 2021\",\"29 Jan 2021\",\"29 Oct 2021\",\"28 Apr 2021\",\"28 Aug 2021\",\"28 Jul 2021\",\"28 Dec 2020\",\"28 Mar 2021\",\"28 Feb 2021\",\"28 May 2021\",\"28 Jun 2021\",\"28 Jan 2021\",\"28 Nov 2020\",\"28 Sep 2021\",\"28 Oct 2021\",\"27 Aug 2021\",\"27 Jun 2021\",\"27 Nov 2020\",\"27 Apr 2021\",\"27 Oct 2021\",\"27 Jul 2021\",\"27 Feb 2021\",\"27 Mar 2021\",\"27 Sep 2021\",\"27 Jan 2021\",\"27 May 2021\",\"27 Dec 2020\",\"26 Feb 2021\",\"26 Jul 2021\",\"26 Jun 2021\",\"26 Jan 2021\",\"26 Aug 2021\",\"26 Sep 2021\",\"26 Mar 2021\",\"26 Nov 2020\",\"26 Oct 2021\",\"26 Dec 2020\",\"26 May 2021\",\"26 Apr 2021\",\"25 May 2021\",\"25 Nov 2020\",\"25 Oct 2021\",\"25 Mar 2021\",\"25 Jul 2021\",\"25 Sep 2021\",\"25 Dec 2020\",\"25 Jan 2021\",\"25 Aug 2021\",\"25 Feb 2021\",\"25 Apr 2021\",\"25 Jun 2021\",\"24 Jun 2021\",\"24 May 2021\",\"24 Feb 2021\",\"24 Jan 2021\",\"24 Jul 2021\",\"24 Apr 2021\",\"24 Aug 2021\",\"24 Dec 2020\",\"24 Sep 2021\",\"24 Oct 2021\",\"24 Nov 2020\",\"24 Mar 2021\",\"23 Feb 2021\",\"23 Apr 2021\",\"23 May 2021\",\"23 Jul 2021\",\"23 Mar 2021\",\"23 Nov 2020\",\"23 Oct 2021\",\"23 Jun 2021\",\"23 Sep 2021\",\"23 Jan 2021\",\"23 Dec 2020\",\"23 Aug 2021\",\"22 May 2021\",\"22 Oct 2021\",\"22 Sep 2021\",\"22 Dec 2020\",\"22 Apr 2021\",\"22 Feb 2021\",\"22 Mar 2021\",\"22 Jul 2021\",\"22 Jan 2021\",\"22 Jun 2021\",\"22 Nov 2020\",\"22 Aug 2021\",\"21 Aug 2021\",\"21 Apr 2021\",\"21 Sep 2021\",\"21 May 2021\",\"21 Jul 2021\",\"21 Oct 2021\",\"21 Jun 2021\",\"21 Nov 2020\",\"21 Mar 2021\",\"21 Feb 2021\",\"21 Dec 2020\",\"21 Jan 2021\",\"21 Nov 2021\",\"20 Sep 2021\",\"20 May 2021\",\"20 Feb 2021\",\"20 Jun 2021\",\"20 Jul 2021\",\"20 Mar 2021\",\"20 Jan 2021\",\"20 Aug 2021\",\"20 Apr 2021\",\"20 Dec 2020\",\"20 Oct 2021\",\"20 Nov 2021\",\"19 Sep 2021\",\"19 Mar 2021\",\"19 Apr 2021\",\"19 Dec 2020\",\"19 Oct 2021\",\"19 Jul 2021\",\"19 Jun 2021\",\"19 Feb 2021\",\"19 Nov 2021\",\"19 May 2021\",\"19 Aug 2021\",\"19 Jan 2021\",\"18 Apr 2021\",\"18 Sep 2021\",\"18 Mar 2021\",\"18 Feb 2021\",\"18 Jun 2021\",\"18 Jul 2021\",\"18 Jan 2021\",\"18 Aug 2021\",\"18 May 2021\",\"18 Dec 2020\",\"18 Oct 2021\",\"18 Nov 2021\",\"17 Sep 2021\",\"17 May 2021\",\"17 Jan 2021\",\"17 Dec 2020\",\"17 Oct 2021\",\"17 Jul 2021\",\"17 Jun 2021\",\"17 Feb 2021\",\"17 Nov 2021\",\"17 Apr 2021\",\"17 Aug 2021\",\"17 Mar 2021\",\"16 Jul 2021\",\"16 Mar 2021\",\"16 Nov 2021\",\"16 Feb 2021\",\"16 Aug 2021\",\"16 Jan 2021\",\"16 Oct 2021\",\"16 Apr 2021\",\"16 Jun 2021\",\"16 Dec 2020\",\"16 Sep 2021\",\"16 May 2021\",\"15 Sep 2021\",\"15 Oct 2021\",\"15 Nov 2021\",\"15 Jan 2021\",\"15 Jul 2021\",\"15 Jun 2021\",\"15 Feb 2021\",\"15 Aug 2021\",\"15 May 2021\",\"15 Apr 2021\",\"15 Mar 2021\",\"15 Dec 2020\",\"14 Oct 2021\",\"14 Jan 2021\",\"14 Jun 2021\",\"14 Dec 2020\",\"14 Jul 2021\",\"14 Aug 2021\",\"14 May 2021\",\"14 Sep 2021\",\"14 Apr 2021\",\"14 Feb 2021\",\"14 Mar 2021\",\"14 Nov 2021\",\"13 Jul 2021\",\"13 Sep 2021\",\"13 May 2021\",\"13 Dec 2020\",\"13 Aug 2021\",\"13 Oct 2021\",\"13 Feb 2021\",\"13 Mar 2021\",\"13 Jun 2021\",\"13 Jan 2021\",\"13 Nov 2021\",\"13 Apr 2021\",\"12 Sep 2021\",\"12 Nov 2021\",\"12 Jun 2021\",\"12 Jan 2021\",\"12 Feb 2021\",\"12 Aug 2021\",\"12 Jul 2021\",\"12 Apr 2021\",\"12 Oct 2021\",\"12 Dec 2020\",\"12 May 2021\",\"12 Mar 2021\",\"11 Sep 2021\",\"11 Oct 2021\",\"11 Jan 2021\",\"11 Feb 2021\",\"11 Aug 2021\",\"11 Jun 2021\",\"11 May 2021\",\"11 Mar 2021\",\"11 Apr 2021\",\"11 Jul 2021\",\"11 Dec 2020\",\"11 Nov 2021\",\"10 Apr 2021\",\"10 Feb 2021\",\"10 Sep 2021\",\"10 May 2021\",\"10 Oct 2021\",\"10 Jan 2021\",\"10 Jul 2021\",\"10 Jun 2021\",\"10 Aug 2021\",\"10 Nov 2021\",\"10 Mar 2021\",\"10 Dec 2020\",\"09 Feb 2021\",\"09 Sep 2021\",\"09 Dec 2020\",\"09 Oct 2021\",\"09 Jan 2021\",\"09 Apr 2021\",\"09 Mar 2021\",\"09 May 2021\",\"09 Jul 2021\",\"09 Jun 2021\",\"09 Nov 2021\",\"09 Aug 2021\",\"08 May 2021\",\"08 Jun 2021\",\"08 Dec 2020\",\"08 Sep 2021\",\"08 Oct 2021\",\"08 Aug 2021\",\"08 Mar 2021\",\"08 Jan 2021\",\"08 Apr 2021\",\"08 Jul 2021\",\"08 Nov 2021\",\"08 Feb 2021\",\"07 Dec 2020\",\"07 Nov 2021\",\"07 Sep 2021\",\"07 May 2021\",\"07 Jan 2021\",\"07 Jun 2021\",\"07 Aug 2021\",\"07 Mar 2021\",\"07 Oct 2021\",\"07 Feb 2021\",\"07 Jul 2021\",\"07 Apr 2021\",\"06 Dec 2020\",\"06 Mar 2021\",\"06 Nov 2021\",\"06 Oct 2021\",\"06 Aug 2021\",\"06 Sep 2021\",\"06 May 2021\",\"06 Apr 2021\",\"06 Feb 2021\",\"06 Jun 2021\",\"06 Jan 2021\",\"06 Jul 2021\",\"05 Dec 2020\",\"05 Oct 2021\",\"05 May 2021\",\"05 Nov 2021\",\"05 Aug 2021\",\"05 Feb 2021\",\"05 Apr 2021\",\"05 Jul 2021\",\"05 Jan 2021\",\"05 Sep 2021\",\"05 Mar 2021\",\"05 Jun 2021\",\"04 Aug 2021\",\"04 Dec 2020\",\"04 Jul 2021\",\"04 Oct 2021\",\"04 Jan 2021\",\"04 Nov 2021\",\"04 Feb 2021\",\"04 Sep 2021\",\"04 Jun 2021\",\"04 Apr 2021\",\"04 Mar 2021\",\"04 May 2021\",\"03 Nov 2021\",\"03 Dec 2020\",\"03 Feb 2021\",\"03 Jul 2021\",\"03 Jun 2021\",\"03 May 2021\",\"03 Sep 2021\",\"03 Jan 2021\",\"03 Aug 2021\",\"03 Mar 2021\",\"03 Oct 2021\",\"03 Apr 2021\",\"02 Apr 2021\",\"02 Oct 2021\",\"02 Feb 2021\",\"02 Jul 2021\",\"02 Jan 2021\",\"02 Mar 2021\",\"02 Sep 2021\",\"02 Jun 2021\",\"02 Dec 2020\",\"02 Aug 2021\",\"02 May 2021\",\"02 Nov 2021\",\"01 Jun 2021\",\"01 Mar 2021\",\"01 Apr 2021\",\"01 Feb 2021\",\"01 Sep 2021\",\"01 Jan 2021\",\"01 Oct 2021\",\"01 Nov 2021\",\"01 Dec 2020\",\"01 May 2021\",\"01 Aug 2021\",\"01 Jul 2021\"],\"legendgroup\":\"\",\"marker\":{\"color\":[5.6780125,6.958172222222222,7.699845555555556,5.401120277777778,5.1634238888888895,1.784832222222222,7.863709444444444,3.776043611111111,5.1900425,5.340576944444445,5.846502777777777,5.669818333333334,2.459476111111111,6.398969444444444,6.458887222222224,7.5102,4.105533055555555,8.847408611111112,6.649853611111111,4.216005,1.7175416666666667,5.8649844444444446,3.929283055555555,4.450447222222222,8.6208,7.138471111111111,2.4987469444444446,5.4575538888888895,5.1205108333333325,5.74992361111111,4.1618216666666665,6.475143888888889,3.3273341666666667,2.904736111111111,2.8950180555555556,5.478545833333333,5.738089444444445,9.232168611111112,7.001484444444444,2.8234399999999997,6.730011111111111,5.077731944444444,1.6676619444444443,5.877093333333333,3.279796944444445,6.708090555555556,4.7613199999999996,2.691896111111111,2.657991666666667,3.3764813888888887,5.09628638888889,2.114165277777778,3.7249486111111114,3.6041125,4.83498861111111,4.724163888888888,3.961765833333333,3.8336516666666665,4.512730277777778,6.200740833333334,7.247723055555556,7.076004722222223,4.82125,3.8479891666666663,3.795424722222222,7.420533888888888,7.202648055555556,6.913240000000002,5.638693611111111,4.480304444444444,6.370513611111111,6.114579166666667,5.115840277777777,6.011987222222222,4.963548055555555,4.318626388888889,2.0336569444444446,4.50170388888889,5.745167222222222,2.2280633333333335,2.9648338888888883,6.8295233333333325,2.8019841666666667,3.873412222222223,9.551329166666669,7.652325555555556,5.818213055555555,2.759734722222222,3.981996666666667,4.300623611111112,7.21959,1.3230583333333334,7.928708888888887,9.08985861111111,6.461769166666666,7.7679494444444455,7.010428888888889,3.2537463888888887,9.055496111111111,9.350759722222222,6.008255555555555,4.256120277777778,5.88603138888889,4.006011111111112,9.48283222222222,5.212447777777777,5.250966666666669,8.099567777777779,6.849720833333334,8.496795,3.769277777777778,3.129995555555556,10.898288055555556,7.163778055555555,3.486621388888888,5.2386977777777775,4.394295555555556,2.868440833333333,8.189760277777777,5.4156450000000005,4.849296944444445,4.092303611111111,2.8575366666666664,7.94164638888889,4.231410277777778,8.460375,4.550576666666666,3.989245833333334,4.115276944444444,2.3323177777777775,5.574696111111111,6.420372500000001,3.6775613888888885,7.024669444444444,2.603318611111111,6.282598055555555,7.028273888888888,6.917157499999999,3.4184325000000007,3.4604961111111114,5.865741944444443,8.543121666666668,5.122476388888889,3.733845833333334,2.1957880555555556,7.53229638888889,3.9042141666666663,5.374590555555556,1.7532561111111113,3.1367755555555554,3.6127136111111113,4.205839444444445,5.361153333333333,3.941158333333333,1.382036388888889,2.3062372222222223,5.686413611111109,2.9319611111111117,2.7888952777777773,4.891023611111112,7.120736666666668,3.3692086111111115,3.1344172222222224,5.11617111111111,7.888854722222223,7.735694166666665,3.8244880555555563,5.002008611111111,3.370776666666667,8.282602222222224,3.9569205555555564,3.1125013888888886,4.81852,5.976394166666666,2.9951675,3.411055,4.3076936111111115,6.057271666666667,4.908559722222223,4.132516388888889,4.596961666666667,5.465230277777778,5.424351666666668,7.834227777777777,2.724335833333333,5.467050555555556,2.832552222222222,4.596618611111111,4.339835833333335,3.6569086111111115,2.107708888888889,2.8596497222222226,7.0402625,4.165864166666666,10.397683888888887,6.7350161111111095,4.668187222222222,5.495913888888888,5.556979444444446,2.9868044444444446,3.2246061111111115,6.652587777777778,5.355110833333333,2.026409722222222,5.817166388888888,1.8736394444444442,5.5411833333333345,4.132751666666667,6.429468055555557,3.8248638888888884,5.287603611111111,3.624616666666667,1.1932024999999997,3.979766666666667,4.732022222222222,8.269855833333335,8.284809444444447,5.903953333333335,2.6566594444444442,4.791504722222222,3.3894822222222216,4.443546944444445,2.544581111111111,1.6733819444444447,4.648368055555555,5.175036666666668,3.693127222222222,0.44568138888888886,3.6095769444444445,3.3973638888888895,7.313163611111111,5.380577222222223,4.918757222222222,4.144959999999999,3.751924444444444,3.7456130555555553,3.662107777777778,7.069226944444444,2.836068611111111,5.637260555555557,5.422840833333333,12.718697777777779,7.9389722222222225,2.471690277777778,5.589049166666666,2.9930408333333336,3.7970766666666664,5.884626388888889,5.271328055555554,4.739001666666666,5.370459722222222,2.3366222222222226,4.903305833333334,3.610659444444445,1.1446219444444445,3.6215680555555547,10.581827777777777,6.44342138888889,4.100124166666667,4.239961944444445,7.671901111111111,7.889513611111111,2.296552777777778,6.5121111111111105,4.277166666666667,6.727820277777778,3.4542655555555557,2.931216111111112,2.6595949999999995,0.2941944444444444,6.649790277777779,1.2647125000000001,5.544796666666666,3.550507777777778,4.804272499999999,1.3027180555555558,4.218089166666666,1.3398827777777778,3.4296977777777777,3.2697602777777774,7.528363055555556,5.164765,4.181698888888889,8.313410833333334,2.9664975000000005,9.0235875,5.591344722222222,3.3061055555555554,4.715043888888889,5.064013611111112,4.707727499999999,2.9901258333333334,1.858717777777778,4.257658611111111,2.1557130555555557,6.228636944444443,1.9560877777777779,5.5798733333333335,4.520015833333333,5.389261111111112,9.116508611111113,5.742183611111111,7.301469166666666,5.131960000000001,3.530308055555555,3.762112222222223,4.225553333333334,8.774571388888889,4.832318333333334,5.336985555555555,4.710296666666666,7.4955227777777775,4.725536111111111,2.8740558333333333,3.8218572222222225,2.7224575,4.517609444444444,3.988839722222222,4.534023055555555,1.6712102777777775,2.3772461111111105,7.84280861111111,7.0740308333333335,3.164168611111111,6.74277,4.913891666666666,5.394460555555555,5.640818888888889,7.7976247222222215,8.131501666666665,4.749104444444444,6.341786944444444,4.945408611111112,2.700903888888889,5.29478638888889,7.333145277777778,6.144843055555556,3.5193433333333335,2.7966283333333335,5.5697849999999995,2.7085358333333334,4.2006008333333344,5.4006558333333325,4.408346388888889,6.7899022222222225,3.9859780555555555,2.982222777777778,2.885181944444445,3.964723888888889,4.423281388888888,4.948245555555556,4.407091666666666,5.520906666666666,6.509153888888889,6.274300277777777,7.026325,4.703467777777778,4.666608333333333,3.854456388888889,1.748838333333333,2.228985,4.661977222222222,5.4547236111111115,6.912840277777779,8.130779444444444,4.632905277777778],\"coloraxis\":\"coloraxis\",\"line\":{\"color\":\"lightgrey\",\"width\":0.5}},\"name\":\"\",\"offsetgroup\":\"\",\"orientation\":\"h\",\"showlegend\":false,\"textposition\":\"auto\",\"x\":[1,1,1,1,1,1,1,1,1,1,1,1,1,1,1,1,1,1,1,1,1,1,1,1,1,1,1,1,1,1,1,1,1,1,1,1,1,1,1,1,1,1,1,1,1,1,1,1,1,1,1,1,1,1,1,1,1,1,1,1,1,1,1,1,1,1,1,1,1,1,1,1,1,1,1,1,1,1,1,1,1,1,1,1,1,1,1,1,1,1,1,1,1,1,1,1,1,1,1,1,1,1,1,1,1,1,1,1,1,1,1,1,1,1,1,1,1,1,1,1,1,1,1,1,1,1,1,1,1,1,1,1,1,1,1,1,1,1,1,1,1,1,1,1,1,1,1,1,1,1,1,1,1,1,1,1,1,1,1,1,1,1,1,1,1,1,1,1,1,1,1,1,1,1,1,1,1,1,1,1,1,1,1,1,1,1,1,1,1,1,1,1,1,1,1,1,1,1,1,1,1,1,1,1,1,1,1,1,1,1,1,1,1,1,1,1,1,1,1,1,1,1,1,1,1,1,1,1,1,1,1,1,1,1,1,1,1,1,1,1,1,1,1,1,1,1,1,1,1,1,1,1,1,1,1,1,1,1,1,1,1,1,1,1,1,1,1,1,1,1,1,1,1,1,1,1,1,1,1,1,1,1,1,1,1,1,1,1,1,1,1,1,1,1,1,1,1,1,1,1,1,1,1,1,1,1,1,1,1,1,1,1,1,1,1,1,1,1,1,1,1,1,1,1,1,1,1,1,1,1,1,1,1,1,1,1,1,1,1,1,1,1,1,1,1,1,1,1,1,1,1,1,1,1,1,1,1,1,1,1,1,1,1,1,1,1],\"xaxis\":\"x\",\"y\":[\"2021-03-29T00:00:00\",\"2020-12-28T00:00:00\",\"2021-07-26T00:00:00\",\"2021-08-30T00:00:00\",\"2021-10-25T00:00:00\",\"2021-01-25T00:00:00\",\"2021-05-31T00:00:00\",\"2020-12-28T00:00:00\",\"2021-06-28T00:00:00\",\"2021-03-29T00:00:00\",\"2021-04-26T00:00:00\",\"2021-08-30T00:00:00\",\"2021-09-27T00:00:00\",\"2021-01-25T00:00:00\",\"2021-05-24T00:00:00\",\"2021-10-25T00:00:00\",\"2020-11-30T00:00:00\",\"2021-07-26T00:00:00\",\"2021-04-26T00:00:00\",\"2021-05-24T00:00:00\",\"2021-07-26T00:00:00\",\"2021-03-29T00:00:00\",\"2020-12-28T00:00:00\",\"2021-06-28T00:00:00\",\"2020-11-23T00:00:00\",\"2021-08-23T00:00:00\",\"2021-09-27T00:00:00\",\"2021-01-25T00:00:00\",\"2021-10-25T00:00:00\",\"2021-04-26T00:00:00\",\"2021-08-23T00:00:00\",\"2021-07-26T00:00:00\",\"2020-12-28T00:00:00\",\"2021-03-22T00:00:00\",\"2021-02-22T00:00:00\",\"2021-05-24T00:00:00\",\"2021-06-28T00:00:00\",\"2021-01-25T00:00:00\",\"2020-11-23T00:00:00\",\"2021-09-27T00:00:00\",\"2021-10-25T00:00:00\",\"2021-08-23T00:00:00\",\"2021-06-21T00:00:00\",\"2020-11-23T00:00:00\",\"2021-04-26T00:00:00\",\"2021-10-25T00:00:00\",\"2021-07-26T00:00:00\",\"2021-02-22T00:00:00\",\"2021-03-22T00:00:00\",\"2021-09-27T00:00:00\",\"2021-01-25T00:00:00\",\"2021-05-24T00:00:00\",\"2020-12-21T00:00:00\",\"2021-02-22T00:00:00\",\"2021-07-26T00:00:00\",\"2021-06-21T00:00:00\",\"2021-01-25T00:00:00\",\"2021-08-23T00:00:00\",\"2021-09-20T00:00:00\",\"2021-03-22T00:00:00\",\"2020-11-23T00:00:00\",\"2021-10-25T00:00:00\",\"2020-12-21T00:00:00\",\"2021-05-24T00:00:00\",\"2021-04-26T00:00:00\",\"2021-05-24T00:00:00\",\"2020-11-23T00:00:00\",\"2021-10-25T00:00:00\",\"2021-03-22T00:00:00\",\"2021-07-19T00:00:00\",\"2021-09-20T00:00:00\",\"2020-12-21T00:00:00\",\"2021-01-25T00:00:00\",\"2021-08-23T00:00:00\",\"2021-02-22T00:00:00\",\"2021-04-19T00:00:00\",\"2021-06-21T00:00:00\",\"2021-06-21T00:00:00\",\"2021-05-24T00:00:00\",\"2021-02-22T00:00:00\",\"2021-01-18T00:00:00\",\"2021-07-19T00:00:00\",\"2021-04-19T00:00:00\",\"2021-08-23T00:00:00\",\"2020-12-21T00:00:00\",\"2021-09-20T00:00:00\",\"2021-10-18T00:00:00\",\"2020-11-23T00:00:00\",\"2021-03-22T00:00:00\",\"2021-02-22T00:00:00\",\"2021-04-19T00:00:00\",\"2021-05-17T00:00:00\",\"2021-07-19T00:00:00\",\"2021-03-22T00:00:00\",\"2020-11-23T00:00:00\",\"2021-10-18T00:00:00\",\"2021-06-21T00:00:00\",\"2021-09-20T00:00:00\",\"2021-01-18T00:00:00\",\"2020-12-21T00:00:00\",\"2021-08-23T00:00:00\",\"2021-05-17T00:00:00\",\"2021-10-18T00:00:00\",\"2021-09-20T00:00:00\",\"2020-12-21T00:00:00\",\"2021-04-19T00:00:00\",\"2021-02-22T00:00:00\",\"2021-03-22T00:00:00\",\"2021-07-19T00:00:00\",\"2021-01-18T00:00:00\",\"2021-06-21T00:00:00\",\"2020-11-16T00:00:00\",\"2021-08-16T00:00:00\",\"2021-08-16T00:00:00\",\"2021-04-19T00:00:00\",\"2021-09-20T00:00:00\",\"2021-05-17T00:00:00\",\"2021-07-19T00:00:00\",\"2021-10-18T00:00:00\",\"2021-06-21T00:00:00\",\"2020-11-16T00:00:00\",\"2021-03-15T00:00:00\",\"2021-02-15T00:00:00\",\"2020-12-21T00:00:00\",\"2021-01-18T00:00:00\",\"2021-11-15T00:00:00\",\"2021-09-20T00:00:00\",\"2021-05-17T00:00:00\",\"2021-02-15T00:00:00\",\"2021-06-14T00:00:00\",\"2021-07-19T00:00:00\",\"2021-03-15T00:00:00\",\"2021-01-18T00:00:00\",\"2021-08-16T00:00:00\",\"2021-04-19T00:00:00\",\"2020-12-14T00:00:00\",\"2021-10-18T00:00:00\",\"2021-11-15T00:00:00\",\"2021-09-13T00:00:00\",\"2021-03-15T00:00:00\",\"2021-04-19T00:00:00\",\"2020-12-14T00:00:00\",\"2021-10-18T00:00:00\",\"2021-07-19T00:00:00\",\"2021-06-14T00:00:00\",\"2021-02-15T00:00:00\",\"2021-11-15T00:00:00\",\"2021-05-17T00:00:00\",\"2021-08-16T00:00:00\",\"2021-01-18T00:00:00\",\"2021-04-12T00:00:00\",\"2021-09-13T00:00:00\",\"2021-03-15T00:00:00\",\"2021-02-15T00:00:00\",\"2021-06-14T00:00:00\",\"2021-07-12T00:00:00\",\"2021-01-18T00:00:00\",\"2021-08-16T00:00:00\",\"2021-05-17T00:00:00\",\"2020-12-14T00:00:00\",\"2021-10-18T00:00:00\",\"2021-11-15T00:00:00\",\"2021-09-13T00:00:00\",\"2021-05-17T00:00:00\",\"2021-01-11T00:00:00\",\"2020-12-14T00:00:00\",\"2021-10-11T00:00:00\",\"2021-07-12T00:00:00\",\"2021-06-14T00:00:00\",\"2021-02-15T00:00:00\",\"2021-11-15T00:00:00\",\"2021-04-12T00:00:00\",\"2021-08-16T00:00:00\",\"2021-03-15T00:00:00\",\"2021-07-12T00:00:00\",\"2021-03-15T00:00:00\",\"2021-11-15T00:00:00\",\"2021-02-15T00:00:00\",\"2021-08-16T00:00:00\",\"2021-01-11T00:00:00\",\"2021-10-11T00:00:00\",\"2021-04-12T00:00:00\",\"2021-06-14T00:00:00\",\"2020-12-14T00:00:00\",\"2021-09-13T00:00:00\",\"2021-05-10T00:00:00\",\"2021-09-13T00:00:00\",\"2021-10-11T00:00:00\",\"2021-11-15T00:00:00\",\"2021-01-11T00:00:00\",\"2021-07-12T00:00:00\",\"2021-06-14T00:00:00\",\"2021-02-15T00:00:00\",\"2021-08-09T00:00:00\",\"2021-05-10T00:00:00\",\"2021-04-12T00:00:00\",\"2021-03-15T00:00:00\",\"2020-12-14T00:00:00\",\"2021-10-11T00:00:00\",\"2021-01-11T00:00:00\",\"2021-06-14T00:00:00\",\"2020-12-14T00:00:00\",\"2021-07-12T00:00:00\",\"2021-08-09T00:00:00\",\"2021-05-10T00:00:00\",\"2021-09-13T00:00:00\",\"2021-04-12T00:00:00\",\"2021-02-08T00:00:00\",\"2021-03-08T00:00:00\",\"2021-11-08T00:00:00\",\"2021-07-12T00:00:00\",\"2021-09-13T00:00:00\",\"2021-05-10T00:00:00\",\"2020-12-07T00:00:00\",\"2021-08-09T00:00:00\",\"2021-10-11T00:00:00\",\"2021-02-08T00:00:00\",\"2021-03-08T00:00:00\",\"2021-06-07T00:00:00\",\"2021-01-11T00:00:00\",\"2021-11-08T00:00:00\",\"2021-04-12T00:00:00\",\"2021-09-06T00:00:00\",\"2021-11-08T00:00:00\",\"2021-06-07T00:00:00\",\"2021-01-11T00:00:00\",\"2021-02-08T00:00:00\",\"2021-08-09T00:00:00\",\"2021-07-12T00:00:00\",\"2021-04-12T00:00:00\",\"2021-10-11T00:00:00\",\"2020-12-07T00:00:00\",\"2021-05-10T00:00:00\",\"2021-03-08T00:00:00\",\"2021-09-06T00:00:00\",\"2021-10-11T00:00:00\",\"2021-01-11T00:00:00\",\"2021-02-08T00:00:00\",\"2021-08-09T00:00:00\",\"2021-06-07T00:00:00\",\"2021-05-10T00:00:00\",\"2021-03-08T00:00:00\",\"2021-04-05T00:00:00\",\"2021-07-05T00:00:00\",\"2020-12-07T00:00:00\",\"2021-11-08T00:00:00\",\"2021-04-05T00:00:00\",\"2021-02-08T00:00:00\",\"2021-09-06T00:00:00\",\"2021-05-10T00:00:00\",\"2021-10-04T00:00:00\",\"2021-01-04T00:00:00\",\"2021-07-05T00:00:00\",\"2021-06-07T00:00:00\",\"2021-08-09T00:00:00\",\"2021-11-08T00:00:00\",\"2021-03-08T00:00:00\",\"2020-12-07T00:00:00\",\"2021-02-08T00:00:00\",\"2021-09-06T00:00:00\",\"2020-12-07T00:00:00\",\"2021-10-04T00:00:00\",\"2021-01-04T00:00:00\",\"2021-04-05T00:00:00\",\"2021-03-08T00:00:00\",\"2021-05-03T00:00:00\",\"2021-07-05T00:00:00\",\"2021-06-07T00:00:00\",\"2021-11-08T00:00:00\",\"2021-08-09T00:00:00\",\"2021-05-03T00:00:00\",\"2021-06-07T00:00:00\",\"2020-12-07T00:00:00\",\"2021-09-06T00:00:00\",\"2021-10-04T00:00:00\",\"2021-08-02T00:00:00\",\"2021-03-08T00:00:00\",\"2021-01-04T00:00:00\",\"2021-04-05T00:00:00\",\"2021-07-05T00:00:00\",\"2021-11-08T00:00:00\",\"2021-02-08T00:00:00\",\"2020-12-07T00:00:00\",\"2021-11-01T00:00:00\",\"2021-09-06T00:00:00\",\"2021-05-03T00:00:00\",\"2021-01-04T00:00:00\",\"2021-06-07T00:00:00\",\"2021-08-02T00:00:00\",\"2021-03-01T00:00:00\",\"2021-10-04T00:00:00\",\"2021-02-01T00:00:00\",\"2021-07-05T00:00:00\",\"2021-04-05T00:00:00\",\"2020-11-30T00:00:00\",\"2021-03-01T00:00:00\",\"2021-11-01T00:00:00\",\"2021-10-04T00:00:00\",\"2021-08-02T00:00:00\",\"2021-09-06T00:00:00\",\"2021-05-03T00:00:00\",\"2021-04-05T00:00:00\",\"2021-02-01T00:00:00\",\"2021-05-31T00:00:00\",\"2021-01-04T00:00:00\",\"2021-07-05T00:00:00\",\"2020-11-30T00:00:00\",\"2021-10-04T00:00:00\",\"2021-05-03T00:00:00\",\"2021-11-01T00:00:00\",\"2021-08-02T00:00:00\",\"2021-02-01T00:00:00\",\"2021-04-05T00:00:00\",\"2021-07-05T00:00:00\",\"2021-01-04T00:00:00\",\"2021-08-30T00:00:00\",\"2021-03-01T00:00:00\",\"2021-05-31T00:00:00\",\"2021-08-02T00:00:00\",\"2020-11-30T00:00:00\",\"2021-06-28T00:00:00\",\"2021-10-04T00:00:00\",\"2021-01-04T00:00:00\",\"2021-11-01T00:00:00\",\"2021-02-01T00:00:00\",\"2021-08-30T00:00:00\",\"2021-05-31T00:00:00\",\"2021-03-29T00:00:00\",\"2021-03-01T00:00:00\",\"2021-05-03T00:00:00\",\"2021-11-01T00:00:00\",\"2020-11-30T00:00:00\",\"2021-02-01T00:00:00\",\"2021-06-28T00:00:00\",\"2021-05-31T00:00:00\",\"2021-05-03T00:00:00\",\"2021-08-30T00:00:00\",\"2020-12-28T00:00:00\",\"2021-08-02T00:00:00\",\"2021-03-01T00:00:00\",\"2021-09-27T00:00:00\",\"2021-03-29T00:00:00\",\"2021-03-29T00:00:00\",\"2021-09-27T00:00:00\",\"2021-02-01T00:00:00\",\"2021-06-28T00:00:00\",\"2020-12-28T00:00:00\",\"2021-03-01T00:00:00\",\"2021-08-30T00:00:00\",\"2021-05-31T00:00:00\",\"2020-11-30T00:00:00\",\"2021-08-02T00:00:00\",\"2021-04-26T00:00:00\",\"2021-11-01T00:00:00\",\"2021-05-31T00:00:00\",\"2021-03-01T00:00:00\",\"2021-03-29T00:00:00\",\"2021-02-01T00:00:00\",\"2021-08-30T00:00:00\",\"2020-12-28T00:00:00\",\"2021-09-27T00:00:00\",\"2021-11-01T00:00:00\",\"2020-11-30T00:00:00\",\"2021-04-26T00:00:00\",\"2021-07-26T00:00:00\",\"2021-06-28T00:00:00\"],\"yaxis\":\"y\",\"type\":\"bar\"}],                        {\"template\":{\"data\":{\"bar\":[{\"error_x\":{\"color\":\"#2a3f5f\"},\"error_y\":{\"color\":\"#2a3f5f\"},\"marker\":{\"line\":{\"color\":\"#E5ECF6\",\"width\":0.5},\"pattern\":{\"fillmode\":\"overlay\",\"size\":10,\"solidity\":0.2}},\"type\":\"bar\"}],\"barpolar\":[{\"marker\":{\"line\":{\"color\":\"#E5ECF6\",\"width\":0.5},\"pattern\":{\"fillmode\":\"overlay\",\"size\":10,\"solidity\":0.2}},\"type\":\"barpolar\"}],\"carpet\":[{\"aaxis\":{\"endlinecolor\":\"#2a3f5f\",\"gridcolor\":\"white\",\"linecolor\":\"white\",\"minorgridcolor\":\"white\",\"startlinecolor\":\"#2a3f5f\"},\"baxis\":{\"endlinecolor\":\"#2a3f5f\",\"gridcolor\":\"white\",\"linecolor\":\"white\",\"minorgridcolor\":\"white\",\"startlinecolor\":\"#2a3f5f\"},\"type\":\"carpet\"}],\"choropleth\":[{\"colorbar\":{\"outlinewidth\":0,\"ticks\":\"\"},\"type\":\"choropleth\"}],\"contour\":[{\"colorbar\":{\"outlinewidth\":0,\"ticks\":\"\"},\"colorscale\":[[0.0,\"#0d0887\"],[0.1111111111111111,\"#46039f\"],[0.2222222222222222,\"#7201a8\"],[0.3333333333333333,\"#9c179e\"],[0.4444444444444444,\"#bd3786\"],[0.5555555555555556,\"#d8576b\"],[0.6666666666666666,\"#ed7953\"],[0.7777777777777778,\"#fb9f3a\"],[0.8888888888888888,\"#fdca26\"],[1.0,\"#f0f921\"]],\"type\":\"contour\"}],\"contourcarpet\":[{\"colorbar\":{\"outlinewidth\":0,\"ticks\":\"\"},\"type\":\"contourcarpet\"}],\"heatmap\":[{\"colorbar\":{\"outlinewidth\":0,\"ticks\":\"\"},\"colorscale\":[[0.0,\"#0d0887\"],[0.1111111111111111,\"#46039f\"],[0.2222222222222222,\"#7201a8\"],[0.3333333333333333,\"#9c179e\"],[0.4444444444444444,\"#bd3786\"],[0.5555555555555556,\"#d8576b\"],[0.6666666666666666,\"#ed7953\"],[0.7777777777777778,\"#fb9f3a\"],[0.8888888888888888,\"#fdca26\"],[1.0,\"#f0f921\"]],\"type\":\"heatmap\"}],\"heatmapgl\":[{\"colorbar\":{\"outlinewidth\":0,\"ticks\":\"\"},\"colorscale\":[[0.0,\"#0d0887\"],[0.1111111111111111,\"#46039f\"],[0.2222222222222222,\"#7201a8\"],[0.3333333333333333,\"#9c179e\"],[0.4444444444444444,\"#bd3786\"],[0.5555555555555556,\"#d8576b\"],[0.6666666666666666,\"#ed7953\"],[0.7777777777777778,\"#fb9f3a\"],[0.8888888888888888,\"#fdca26\"],[1.0,\"#f0f921\"]],\"type\":\"heatmapgl\"}],\"histogram\":[{\"marker\":{\"pattern\":{\"fillmode\":\"overlay\",\"size\":10,\"solidity\":0.2}},\"type\":\"histogram\"}],\"histogram2d\":[{\"colorbar\":{\"outlinewidth\":0,\"ticks\":\"\"},\"colorscale\":[[0.0,\"#0d0887\"],[0.1111111111111111,\"#46039f\"],[0.2222222222222222,\"#7201a8\"],[0.3333333333333333,\"#9c179e\"],[0.4444444444444444,\"#bd3786\"],[0.5555555555555556,\"#d8576b\"],[0.6666666666666666,\"#ed7953\"],[0.7777777777777778,\"#fb9f3a\"],[0.8888888888888888,\"#fdca26\"],[1.0,\"#f0f921\"]],\"type\":\"histogram2d\"}],\"histogram2dcontour\":[{\"colorbar\":{\"outlinewidth\":0,\"ticks\":\"\"},\"colorscale\":[[0.0,\"#0d0887\"],[0.1111111111111111,\"#46039f\"],[0.2222222222222222,\"#7201a8\"],[0.3333333333333333,\"#9c179e\"],[0.4444444444444444,\"#bd3786\"],[0.5555555555555556,\"#d8576b\"],[0.6666666666666666,\"#ed7953\"],[0.7777777777777778,\"#fb9f3a\"],[0.8888888888888888,\"#fdca26\"],[1.0,\"#f0f921\"]],\"type\":\"histogram2dcontour\"}],\"mesh3d\":[{\"colorbar\":{\"outlinewidth\":0,\"ticks\":\"\"},\"type\":\"mesh3d\"}],\"parcoords\":[{\"line\":{\"colorbar\":{\"outlinewidth\":0,\"ticks\":\"\"}},\"type\":\"parcoords\"}],\"pie\":[{\"automargin\":true,\"type\":\"pie\"}],\"scatter\":[{\"marker\":{\"colorbar\":{\"outlinewidth\":0,\"ticks\":\"\"}},\"type\":\"scatter\"}],\"scatter3d\":[{\"line\":{\"colorbar\":{\"outlinewidth\":0,\"ticks\":\"\"}},\"marker\":{\"colorbar\":{\"outlinewidth\":0,\"ticks\":\"\"}},\"type\":\"scatter3d\"}],\"scattercarpet\":[{\"marker\":{\"colorbar\":{\"outlinewidth\":0,\"ticks\":\"\"}},\"type\":\"scattercarpet\"}],\"scattergeo\":[{\"marker\":{\"colorbar\":{\"outlinewidth\":0,\"ticks\":\"\"}},\"type\":\"scattergeo\"}],\"scattergl\":[{\"marker\":{\"colorbar\":{\"outlinewidth\":0,\"ticks\":\"\"}},\"type\":\"scattergl\"}],\"scattermapbox\":[{\"marker\":{\"colorbar\":{\"outlinewidth\":0,\"ticks\":\"\"}},\"type\":\"scattermapbox\"}],\"scatterpolar\":[{\"marker\":{\"colorbar\":{\"outlinewidth\":0,\"ticks\":\"\"}},\"type\":\"scatterpolar\"}],\"scatterpolargl\":[{\"marker\":{\"colorbar\":{\"outlinewidth\":0,\"ticks\":\"\"}},\"type\":\"scatterpolargl\"}],\"scatterternary\":[{\"marker\":{\"colorbar\":{\"outlinewidth\":0,\"ticks\":\"\"}},\"type\":\"scatterternary\"}],\"surface\":[{\"colorbar\":{\"outlinewidth\":0,\"ticks\":\"\"},\"colorscale\":[[0.0,\"#0d0887\"],[0.1111111111111111,\"#46039f\"],[0.2222222222222222,\"#7201a8\"],[0.3333333333333333,\"#9c179e\"],[0.4444444444444444,\"#bd3786\"],[0.5555555555555556,\"#d8576b\"],[0.6666666666666666,\"#ed7953\"],[0.7777777777777778,\"#fb9f3a\"],[0.8888888888888888,\"#fdca26\"],[1.0,\"#f0f921\"]],\"type\":\"surface\"}],\"table\":[{\"cells\":{\"fill\":{\"color\":\"#EBF0F8\"},\"line\":{\"color\":\"white\"}},\"header\":{\"fill\":{\"color\":\"#C8D4E3\"},\"line\":{\"color\":\"white\"}},\"type\":\"table\"}]},\"layout\":{\"annotationdefaults\":{\"arrowcolor\":\"#2a3f5f\",\"arrowhead\":0,\"arrowwidth\":1},\"autotypenumbers\":\"strict\",\"coloraxis\":{\"colorbar\":{\"outlinewidth\":0,\"ticks\":\"\"}},\"colorscale\":{\"diverging\":[[0,\"#8e0152\"],[0.1,\"#c51b7d\"],[0.2,\"#de77ae\"],[0.3,\"#f1b6da\"],[0.4,\"#fde0ef\"],[0.5,\"#f7f7f7\"],[0.6,\"#e6f5d0\"],[0.7,\"#b8e186\"],[0.8,\"#7fbc41\"],[0.9,\"#4d9221\"],[1,\"#276419\"]],\"sequential\":[[0.0,\"#0d0887\"],[0.1111111111111111,\"#46039f\"],[0.2222222222222222,\"#7201a8\"],[0.3333333333333333,\"#9c179e\"],[0.4444444444444444,\"#bd3786\"],[0.5555555555555556,\"#d8576b\"],[0.6666666666666666,\"#ed7953\"],[0.7777777777777778,\"#fb9f3a\"],[0.8888888888888888,\"#fdca26\"],[1.0,\"#f0f921\"]],\"sequentialminus\":[[0.0,\"#0d0887\"],[0.1111111111111111,\"#46039f\"],[0.2222222222222222,\"#7201a8\"],[0.3333333333333333,\"#9c179e\"],[0.4444444444444444,\"#bd3786\"],[0.5555555555555556,\"#d8576b\"],[0.6666666666666666,\"#ed7953\"],[0.7777777777777778,\"#fb9f3a\"],[0.8888888888888888,\"#fdca26\"],[1.0,\"#f0f921\"]]},\"colorway\":[\"#636efa\",\"#EF553B\",\"#00cc96\",\"#ab63fa\",\"#FFA15A\",\"#19d3f3\",\"#FF6692\",\"#B6E880\",\"#FF97FF\",\"#FECB52\"],\"font\":{\"color\":\"#2a3f5f\"},\"geo\":{\"bgcolor\":\"white\",\"lakecolor\":\"white\",\"landcolor\":\"#E5ECF6\",\"showlakes\":true,\"showland\":true,\"subunitcolor\":\"white\"},\"hoverlabel\":{\"align\":\"left\"},\"hovermode\":\"closest\",\"mapbox\":{\"style\":\"light\"},\"paper_bgcolor\":\"white\",\"plot_bgcolor\":\"#E5ECF6\",\"polar\":{\"angularaxis\":{\"gridcolor\":\"white\",\"linecolor\":\"white\",\"ticks\":\"\"},\"bgcolor\":\"#E5ECF6\",\"radialaxis\":{\"gridcolor\":\"white\",\"linecolor\":\"white\",\"ticks\":\"\"}},\"scene\":{\"xaxis\":{\"backgroundcolor\":\"#E5ECF6\",\"gridcolor\":\"white\",\"gridwidth\":2,\"linecolor\":\"white\",\"showbackground\":true,\"ticks\":\"\",\"zerolinecolor\":\"white\"},\"yaxis\":{\"backgroundcolor\":\"#E5ECF6\",\"gridcolor\":\"white\",\"gridwidth\":2,\"linecolor\":\"white\",\"showbackground\":true,\"ticks\":\"\",\"zerolinecolor\":\"white\"},\"zaxis\":{\"backgroundcolor\":\"#E5ECF6\",\"gridcolor\":\"white\",\"gridwidth\":2,\"linecolor\":\"white\",\"showbackground\":true,\"ticks\":\"\",\"zerolinecolor\":\"white\"}},\"shapedefaults\":{\"line\":{\"color\":\"#2a3f5f\"}},\"ternary\":{\"aaxis\":{\"gridcolor\":\"white\",\"linecolor\":\"white\",\"ticks\":\"\"},\"baxis\":{\"gridcolor\":\"white\",\"linecolor\":\"white\",\"ticks\":\"\"},\"bgcolor\":\"#E5ECF6\",\"caxis\":{\"gridcolor\":\"white\",\"linecolor\":\"white\",\"ticks\":\"\"}},\"title\":{\"x\":0.05},\"xaxis\":{\"automargin\":true,\"gridcolor\":\"white\",\"linecolor\":\"white\",\"ticks\":\"\",\"title\":{\"standoff\":15},\"zerolinecolor\":\"white\",\"zerolinewidth\":2},\"yaxis\":{\"automargin\":true,\"gridcolor\":\"white\",\"linecolor\":\"white\",\"ticks\":\"\",\"title\":{\"standoff\":15},\"zerolinecolor\":\"white\",\"zerolinewidth\":2}}},\"xaxis\":{\"anchor\":\"y\",\"domain\":[0.0,1.0],\"type\":\"linear\",\"tickvals\":[0.5,1.5,2.5,3.5,4.5,5.5,6.5],\"showgrid\":false,\"ticktext\":[\"Mon\",\"Tue\",\"Wed\",\"Thu\",\"Fri\",\"Sat\",\"Sun\"],\"title\":{\"text\":\"\"}},\"yaxis\":{\"anchor\":\"x\",\"domain\":[0.0,1.0],\"title\":{\"text\":\"\"},\"autorange\":\"reversed\",\"dtick\":\"M1\",\"tickformat\":\"%b/%y\"},\"coloraxis\":{\"colorbar\":{\"title\":{\"text\":\"Listened<br>hours\"},\"ticksuffix\":\"h\",\"tickfont\":{\"size\":12}},\"colorscale\":[[0.0,\"rgb(255,255,229)\"],[0.125,\"rgb(247,252,185)\"],[0.25,\"rgb(217,240,163)\"],[0.375,\"rgb(173,221,142)\"],[0.5,\"rgb(120,198,121)\"],[0.625,\"rgb(65,171,93)\"],[0.75,\"rgb(35,132,67)\"],[0.875,\"rgb(0,104,55)\"],[1.0,\"rgb(0,69,41)\"]]},\"legend\":{\"tracegroupgap\":0},\"margin\":{\"t\":80},\"barmode\":\"overlay\",\"title\":{\"text\":\"<b>Spotify (un)Wrapped</b>:<i> When did I use Spotify?</i>\"},\"width\":500},                        {\"responsive\": true}                    ).then(function(){\n",
       "                            \n",
       "var gd = document.getElementById('268d030c-27eb-4f55-9efd-7892399f3a27');\n",
       "var x = new MutationObserver(function (mutations, observer) {{\n",
       "        var display = window.getComputedStyle(gd).display;\n",
       "        if (!display || display === 'none') {{\n",
       "            console.log([gd, 'removed!']);\n",
       "            Plotly.purge(gd);\n",
       "            observer.disconnect();\n",
       "        }}\n",
       "}});\n",
       "\n",
       "// Listen for the removal of the full notebook cells\n",
       "var notebookContainer = gd.closest('#notebook-container');\n",
       "if (notebookContainer) {{\n",
       "    x.observe(notebookContainer, {childList: true});\n",
       "}}\n",
       "\n",
       "// Listen for the clearing of the current output cell\n",
       "var outputEl = gd.closest('.output');\n",
       "if (outputEl) {{\n",
       "    x.observe(outputEl, {childList: true});\n",
       "}}\n",
       "\n",
       "                        })                };                });            </script>        </div>"
      ]
     },
     "metadata": {},
     "output_type": "display_data"
    }
   ],
   "source": [
    "fig = px.timeline(df.sort_values(by='dom', ascending=False), x_start='dow', x_end='next_dow', y='week_dt', \n",
    "                  hover_name='date_str', color='value', hover_data=hover_dict, \n",
    "                  color_continuous_scale='YlGn'\n",
    "                 )\n",
    "\n",
    "fig.update_yaxes(\n",
    "    autorange='reversed',\n",
    "    dtick='M1',\n",
    "    tickformat='%b/%y'\n",
    ")\n",
    "# fig.update_xaxes(dtick=5, range=[0.5, 32])\n",
    "\n",
    "fig.layout.xaxis.type = 'linear'\n",
    "fig.data[0].x = df['delta'].tolist()\n",
    "\n",
    "\n",
    "fig.update_traces(marker_line_color='lightgrey', marker_line_width=0.5)\n",
    "\n",
    "fig.update_xaxes(tickvals=[0.5, 1.5, 2.5, 3.5, 4.5, 5.5, 6.5], #tickangle=45,\n",
    "                 showgrid=False,\n",
    "                 ticktext=['Mon', 'Tue', 'Wed', 'Thu', 'Fri', 'Sat', 'Sun'])\n",
    "\n",
    "fig.update_layout(\n",
    "    title='<b>Spotify (un)Wrapped</b>:<i> When did I use Spotify?</i>',\n",
    "    margin_t=80,\n",
    "    yaxis_title='',\n",
    "    xaxis_title='',\n",
    "    coloraxis_colorbar_title='Listened<br>hours',\n",
    "    coloraxis_colorbar_ticksuffix='h'\n",
    ")\n",
    "\n",
    "# fig.update_layout(coloraxis_colorbar_tickfont_size=18, height=600, width=600)\n",
    "# write('insta', fig, 'heatmap')\n",
    "\n",
    "fig.update_layout(coloraxis_colorbar_tickfont_size=12, width=500)\n",
    "fig.show()"
   ]
  },
  {
   "cell_type": "code",
   "execution_count": 74,
   "id": "5a56d3fa",
   "metadata": {},
   "outputs": [
    {
     "data": {
      "text/html": [
       "<div>\n",
       "<style scoped>\n",
       "    .dataframe tbody tr th:only-of-type {\n",
       "        vertical-align: middle;\n",
       "    }\n",
       "\n",
       "    .dataframe tbody tr th {\n",
       "        vertical-align: top;\n",
       "    }\n",
       "\n",
       "    .dataframe thead th {\n",
       "        text-align: right;\n",
       "    }\n",
       "</style>\n",
       "<table border=\"1\" class=\"dataframe\">\n",
       "  <thead>\n",
       "    <tr style=\"text-align: right;\">\n",
       "      <th></th>\n",
       "      <th>month</th>\n",
       "      <th>value</th>\n",
       "      <th>date</th>\n",
       "    </tr>\n",
       "  </thead>\n",
       "  <tbody>\n",
       "    <tr>\n",
       "      <th>0</th>\n",
       "      <td>2020-11-01</td>\n",
       "      <td>57.256078</td>\n",
       "      <td>10</td>\n",
       "    </tr>\n",
       "    <tr>\n",
       "      <th>1</th>\n",
       "      <td>2020-12-01</td>\n",
       "      <td>180.001789</td>\n",
       "      <td>31</td>\n",
       "    </tr>\n",
       "    <tr>\n",
       "      <th>2</th>\n",
       "      <td>2021-01-01</td>\n",
       "      <td>140.831439</td>\n",
       "      <td>31</td>\n",
       "    </tr>\n",
       "    <tr>\n",
       "      <th>3</th>\n",
       "      <td>2021-02-01</td>\n",
       "      <td>145.021871</td>\n",
       "      <td>28</td>\n",
       "    </tr>\n",
       "    <tr>\n",
       "      <th>4</th>\n",
       "      <td>2021-03-01</td>\n",
       "      <td>176.210461</td>\n",
       "      <td>31</td>\n",
       "    </tr>\n",
       "    <tr>\n",
       "      <th>5</th>\n",
       "      <td>2021-04-01</td>\n",
       "      <td>145.486167</td>\n",
       "      <td>30</td>\n",
       "    </tr>\n",
       "    <tr>\n",
       "      <th>6</th>\n",
       "      <td>2021-05-01</td>\n",
       "      <td>172.591502</td>\n",
       "      <td>31</td>\n",
       "    </tr>\n",
       "    <tr>\n",
       "      <th>7</th>\n",
       "      <td>2021-06-01</td>\n",
       "      <td>119.853254</td>\n",
       "      <td>30</td>\n",
       "    </tr>\n",
       "    <tr>\n",
       "      <th>8</th>\n",
       "      <td>2021-07-01</td>\n",
       "      <td>135.555843</td>\n",
       "      <td>31</td>\n",
       "    </tr>\n",
       "    <tr>\n",
       "      <th>9</th>\n",
       "      <td>2021-08-01</td>\n",
       "      <td>137.436762</td>\n",
       "      <td>31</td>\n",
       "    </tr>\n",
       "    <tr>\n",
       "      <th>10</th>\n",
       "      <td>2021-09-01</td>\n",
       "      <td>117.871014</td>\n",
       "      <td>30</td>\n",
       "    </tr>\n",
       "    <tr>\n",
       "      <th>11</th>\n",
       "      <td>2021-10-01</td>\n",
       "      <td>184.373696</td>\n",
       "      <td>31</td>\n",
       "    </tr>\n",
       "    <tr>\n",
       "      <th>12</th>\n",
       "      <td>2021-11-01</td>\n",
       "      <td>95.636589</td>\n",
       "      <td>21</td>\n",
       "    </tr>\n",
       "  </tbody>\n",
       "</table>\n",
       "</div>"
      ],
      "text/plain": [
       "        month       value  date\n",
       "0  2020-11-01   57.256078    10\n",
       "1  2020-12-01  180.001789    31\n",
       "2  2021-01-01  140.831439    31\n",
       "3  2021-02-01  145.021871    28\n",
       "4  2021-03-01  176.210461    31\n",
       "5  2021-04-01  145.486167    30\n",
       "6  2021-05-01  172.591502    31\n",
       "7  2021-06-01  119.853254    30\n",
       "8  2021-07-01  135.555843    31\n",
       "9  2021-08-01  137.436762    31\n",
       "10 2021-09-01  117.871014    30\n",
       "11 2021-10-01  184.373696    31\n",
       "12 2021-11-01   95.636589    21"
      ]
     },
     "execution_count": 74,
     "metadata": {},
     "output_type": "execute_result"
    }
   ],
   "source": []
  },
  {
   "cell_type": "code",
   "execution_count": 109,
   "id": "fcca2afa",
   "metadata": {},
   "outputs": [
    {
     "data": {
      "application/vnd.plotly.v1+json": {
       "config": {
        "plotlyServerURL": "https://plot.ly"
       },
       "data": [
        {
         "hovertemplate": "month=%{x}<br>perc=%{y}<br>text=%{text}<extra></extra>",
         "legendgroup": "",
         "line": {
          "color": "#1DB954",
          "dash": "solid",
          "shape": "spline",
          "width": 2.5
         },
         "marker": {
          "symbol": "circle"
         },
         "mode": "lines+markers+text",
         "name": "",
         "orientation": "v",
         "showlegend": false,
         "text": [
          "",
          "",
          "",
          "",
          "",
          "",
          "",
          "",
          "",
          "",
          "Sep",
          "Oct",
          ""
         ],
         "textposition": "top center",
         "type": "scatter",
         "x": [
          "2020-11-01T00:00:00",
          "2020-12-01T00:00:00",
          "2021-01-01T00:00:00",
          "2021-02-01T00:00:00",
          "2021-03-01T00:00:00",
          "2021-04-01T00:00:00",
          "2021-05-01T00:00:00",
          "2021-06-01T00:00:00",
          "2021-07-01T00:00:00",
          "2021-08-01T00:00:00",
          "2021-09-01T00:00:00",
          "2021-10-01T00:00:00",
          "2021-11-01T00:00:00"
         ],
         "xaxis": "x",
         "y": [
          23.85669930555556,
          24.193788866487445,
          18.92895683990441,
          21.580635540674617,
          23.68420168757466,
          20.206412075617287,
          23.1977825194146,
          16.646285262345668,
          18.219871415770605,
          18.472683057049,
          16.37097411265432,
          24.781410804958167,
          18.97551361331568
         ],
         "yaxis": "y"
        }
       ],
       "layout": {
        "legend": {
         "tracegroupgap": 0
        },
        "margin": {
         "t": 60
        },
        "template": {
         "data": {
          "bar": [
           {
            "error_x": {
             "color": "#2a3f5f"
            },
            "error_y": {
             "color": "#2a3f5f"
            },
            "marker": {
             "line": {
              "color": "#E5ECF6",
              "width": 0.5
             },
             "pattern": {
              "fillmode": "overlay",
              "size": 10,
              "solidity": 0.2
             }
            },
            "type": "bar"
           }
          ],
          "barpolar": [
           {
            "marker": {
             "line": {
              "color": "#E5ECF6",
              "width": 0.5
             },
             "pattern": {
              "fillmode": "overlay",
              "size": 10,
              "solidity": 0.2
             }
            },
            "type": "barpolar"
           }
          ],
          "carpet": [
           {
            "aaxis": {
             "endlinecolor": "#2a3f5f",
             "gridcolor": "white",
             "linecolor": "white",
             "minorgridcolor": "white",
             "startlinecolor": "#2a3f5f"
            },
            "baxis": {
             "endlinecolor": "#2a3f5f",
             "gridcolor": "white",
             "linecolor": "white",
             "minorgridcolor": "white",
             "startlinecolor": "#2a3f5f"
            },
            "type": "carpet"
           }
          ],
          "choropleth": [
           {
            "colorbar": {
             "outlinewidth": 0,
             "ticks": ""
            },
            "type": "choropleth"
           }
          ],
          "contour": [
           {
            "colorbar": {
             "outlinewidth": 0,
             "ticks": ""
            },
            "colorscale": [
             [
              0,
              "#0d0887"
             ],
             [
              0.1111111111111111,
              "#46039f"
             ],
             [
              0.2222222222222222,
              "#7201a8"
             ],
             [
              0.3333333333333333,
              "#9c179e"
             ],
             [
              0.4444444444444444,
              "#bd3786"
             ],
             [
              0.5555555555555556,
              "#d8576b"
             ],
             [
              0.6666666666666666,
              "#ed7953"
             ],
             [
              0.7777777777777778,
              "#fb9f3a"
             ],
             [
              0.8888888888888888,
              "#fdca26"
             ],
             [
              1,
              "#f0f921"
             ]
            ],
            "type": "contour"
           }
          ],
          "contourcarpet": [
           {
            "colorbar": {
             "outlinewidth": 0,
             "ticks": ""
            },
            "type": "contourcarpet"
           }
          ],
          "heatmap": [
           {
            "colorbar": {
             "outlinewidth": 0,
             "ticks": ""
            },
            "colorscale": [
             [
              0,
              "#0d0887"
             ],
             [
              0.1111111111111111,
              "#46039f"
             ],
             [
              0.2222222222222222,
              "#7201a8"
             ],
             [
              0.3333333333333333,
              "#9c179e"
             ],
             [
              0.4444444444444444,
              "#bd3786"
             ],
             [
              0.5555555555555556,
              "#d8576b"
             ],
             [
              0.6666666666666666,
              "#ed7953"
             ],
             [
              0.7777777777777778,
              "#fb9f3a"
             ],
             [
              0.8888888888888888,
              "#fdca26"
             ],
             [
              1,
              "#f0f921"
             ]
            ],
            "type": "heatmap"
           }
          ],
          "heatmapgl": [
           {
            "colorbar": {
             "outlinewidth": 0,
             "ticks": ""
            },
            "colorscale": [
             [
              0,
              "#0d0887"
             ],
             [
              0.1111111111111111,
              "#46039f"
             ],
             [
              0.2222222222222222,
              "#7201a8"
             ],
             [
              0.3333333333333333,
              "#9c179e"
             ],
             [
              0.4444444444444444,
              "#bd3786"
             ],
             [
              0.5555555555555556,
              "#d8576b"
             ],
             [
              0.6666666666666666,
              "#ed7953"
             ],
             [
              0.7777777777777778,
              "#fb9f3a"
             ],
             [
              0.8888888888888888,
              "#fdca26"
             ],
             [
              1,
              "#f0f921"
             ]
            ],
            "type": "heatmapgl"
           }
          ],
          "histogram": [
           {
            "marker": {
             "pattern": {
              "fillmode": "overlay",
              "size": 10,
              "solidity": 0.2
             }
            },
            "type": "histogram"
           }
          ],
          "histogram2d": [
           {
            "colorbar": {
             "outlinewidth": 0,
             "ticks": ""
            },
            "colorscale": [
             [
              0,
              "#0d0887"
             ],
             [
              0.1111111111111111,
              "#46039f"
             ],
             [
              0.2222222222222222,
              "#7201a8"
             ],
             [
              0.3333333333333333,
              "#9c179e"
             ],
             [
              0.4444444444444444,
              "#bd3786"
             ],
             [
              0.5555555555555556,
              "#d8576b"
             ],
             [
              0.6666666666666666,
              "#ed7953"
             ],
             [
              0.7777777777777778,
              "#fb9f3a"
             ],
             [
              0.8888888888888888,
              "#fdca26"
             ],
             [
              1,
              "#f0f921"
             ]
            ],
            "type": "histogram2d"
           }
          ],
          "histogram2dcontour": [
           {
            "colorbar": {
             "outlinewidth": 0,
             "ticks": ""
            },
            "colorscale": [
             [
              0,
              "#0d0887"
             ],
             [
              0.1111111111111111,
              "#46039f"
             ],
             [
              0.2222222222222222,
              "#7201a8"
             ],
             [
              0.3333333333333333,
              "#9c179e"
             ],
             [
              0.4444444444444444,
              "#bd3786"
             ],
             [
              0.5555555555555556,
              "#d8576b"
             ],
             [
              0.6666666666666666,
              "#ed7953"
             ],
             [
              0.7777777777777778,
              "#fb9f3a"
             ],
             [
              0.8888888888888888,
              "#fdca26"
             ],
             [
              1,
              "#f0f921"
             ]
            ],
            "type": "histogram2dcontour"
           }
          ],
          "mesh3d": [
           {
            "colorbar": {
             "outlinewidth": 0,
             "ticks": ""
            },
            "type": "mesh3d"
           }
          ],
          "parcoords": [
           {
            "line": {
             "colorbar": {
              "outlinewidth": 0,
              "ticks": ""
             }
            },
            "type": "parcoords"
           }
          ],
          "pie": [
           {
            "automargin": true,
            "type": "pie"
           }
          ],
          "scatter": [
           {
            "marker": {
             "colorbar": {
              "outlinewidth": 0,
              "ticks": ""
             }
            },
            "type": "scatter"
           }
          ],
          "scatter3d": [
           {
            "line": {
             "colorbar": {
              "outlinewidth": 0,
              "ticks": ""
             }
            },
            "marker": {
             "colorbar": {
              "outlinewidth": 0,
              "ticks": ""
             }
            },
            "type": "scatter3d"
           }
          ],
          "scattercarpet": [
           {
            "marker": {
             "colorbar": {
              "outlinewidth": 0,
              "ticks": ""
             }
            },
            "type": "scattercarpet"
           }
          ],
          "scattergeo": [
           {
            "marker": {
             "colorbar": {
              "outlinewidth": 0,
              "ticks": ""
             }
            },
            "type": "scattergeo"
           }
          ],
          "scattergl": [
           {
            "marker": {
             "colorbar": {
              "outlinewidth": 0,
              "ticks": ""
             }
            },
            "type": "scattergl"
           }
          ],
          "scattermapbox": [
           {
            "marker": {
             "colorbar": {
              "outlinewidth": 0,
              "ticks": ""
             }
            },
            "type": "scattermapbox"
           }
          ],
          "scatterpolar": [
           {
            "marker": {
             "colorbar": {
              "outlinewidth": 0,
              "ticks": ""
             }
            },
            "type": "scatterpolar"
           }
          ],
          "scatterpolargl": [
           {
            "marker": {
             "colorbar": {
              "outlinewidth": 0,
              "ticks": ""
             }
            },
            "type": "scatterpolargl"
           }
          ],
          "scatterternary": [
           {
            "marker": {
             "colorbar": {
              "outlinewidth": 0,
              "ticks": ""
             }
            },
            "type": "scatterternary"
           }
          ],
          "surface": [
           {
            "colorbar": {
             "outlinewidth": 0,
             "ticks": ""
            },
            "colorscale": [
             [
              0,
              "#0d0887"
             ],
             [
              0.1111111111111111,
              "#46039f"
             ],
             [
              0.2222222222222222,
              "#7201a8"
             ],
             [
              0.3333333333333333,
              "#9c179e"
             ],
             [
              0.4444444444444444,
              "#bd3786"
             ],
             [
              0.5555555555555556,
              "#d8576b"
             ],
             [
              0.6666666666666666,
              "#ed7953"
             ],
             [
              0.7777777777777778,
              "#fb9f3a"
             ],
             [
              0.8888888888888888,
              "#fdca26"
             ],
             [
              1,
              "#f0f921"
             ]
            ],
            "type": "surface"
           }
          ],
          "table": [
           {
            "cells": {
             "fill": {
              "color": "#EBF0F8"
             },
             "line": {
              "color": "white"
             }
            },
            "header": {
             "fill": {
              "color": "#C8D4E3"
             },
             "line": {
              "color": "white"
             }
            },
            "type": "table"
           }
          ]
         },
         "layout": {
          "annotationdefaults": {
           "arrowcolor": "#2a3f5f",
           "arrowhead": 0,
           "arrowwidth": 1
          },
          "autotypenumbers": "strict",
          "coloraxis": {
           "colorbar": {
            "outlinewidth": 0,
            "ticks": ""
           }
          },
          "colorscale": {
           "diverging": [
            [
             0,
             "#8e0152"
            ],
            [
             0.1,
             "#c51b7d"
            ],
            [
             0.2,
             "#de77ae"
            ],
            [
             0.3,
             "#f1b6da"
            ],
            [
             0.4,
             "#fde0ef"
            ],
            [
             0.5,
             "#f7f7f7"
            ],
            [
             0.6,
             "#e6f5d0"
            ],
            [
             0.7,
             "#b8e186"
            ],
            [
             0.8,
             "#7fbc41"
            ],
            [
             0.9,
             "#4d9221"
            ],
            [
             1,
             "#276419"
            ]
           ],
           "sequential": [
            [
             0,
             "#0d0887"
            ],
            [
             0.1111111111111111,
             "#46039f"
            ],
            [
             0.2222222222222222,
             "#7201a8"
            ],
            [
             0.3333333333333333,
             "#9c179e"
            ],
            [
             0.4444444444444444,
             "#bd3786"
            ],
            [
             0.5555555555555556,
             "#d8576b"
            ],
            [
             0.6666666666666666,
             "#ed7953"
            ],
            [
             0.7777777777777778,
             "#fb9f3a"
            ],
            [
             0.8888888888888888,
             "#fdca26"
            ],
            [
             1,
             "#f0f921"
            ]
           ],
           "sequentialminus": [
            [
             0,
             "#0d0887"
            ],
            [
             0.1111111111111111,
             "#46039f"
            ],
            [
             0.2222222222222222,
             "#7201a8"
            ],
            [
             0.3333333333333333,
             "#9c179e"
            ],
            [
             0.4444444444444444,
             "#bd3786"
            ],
            [
             0.5555555555555556,
             "#d8576b"
            ],
            [
             0.6666666666666666,
             "#ed7953"
            ],
            [
             0.7777777777777778,
             "#fb9f3a"
            ],
            [
             0.8888888888888888,
             "#fdca26"
            ],
            [
             1,
             "#f0f921"
            ]
           ]
          },
          "colorway": [
           "#636efa",
           "#EF553B",
           "#00cc96",
           "#ab63fa",
           "#FFA15A",
           "#19d3f3",
           "#FF6692",
           "#B6E880",
           "#FF97FF",
           "#FECB52"
          ],
          "font": {
           "color": "#2a3f5f"
          },
          "geo": {
           "bgcolor": "white",
           "lakecolor": "white",
           "landcolor": "#E5ECF6",
           "showlakes": true,
           "showland": true,
           "subunitcolor": "white"
          },
          "hoverlabel": {
           "align": "left"
          },
          "hovermode": "closest",
          "mapbox": {
           "style": "light"
          },
          "paper_bgcolor": "white",
          "plot_bgcolor": "#E5ECF6",
          "polar": {
           "angularaxis": {
            "gridcolor": "white",
            "linecolor": "white",
            "ticks": ""
           },
           "bgcolor": "#E5ECF6",
           "radialaxis": {
            "gridcolor": "white",
            "linecolor": "white",
            "ticks": ""
           }
          },
          "scene": {
           "xaxis": {
            "backgroundcolor": "#E5ECF6",
            "gridcolor": "white",
            "gridwidth": 2,
            "linecolor": "white",
            "showbackground": true,
            "ticks": "",
            "zerolinecolor": "white"
           },
           "yaxis": {
            "backgroundcolor": "#E5ECF6",
            "gridcolor": "white",
            "gridwidth": 2,
            "linecolor": "white",
            "showbackground": true,
            "ticks": "",
            "zerolinecolor": "white"
           },
           "zaxis": {
            "backgroundcolor": "#E5ECF6",
            "gridcolor": "white",
            "gridwidth": 2,
            "linecolor": "white",
            "showbackground": true,
            "ticks": "",
            "zerolinecolor": "white"
           }
          },
          "shapedefaults": {
           "line": {
            "color": "#2a3f5f"
           }
          },
          "ternary": {
           "aaxis": {
            "gridcolor": "white",
            "linecolor": "white",
            "ticks": ""
           },
           "baxis": {
            "gridcolor": "white",
            "linecolor": "white",
            "ticks": ""
           },
           "bgcolor": "#E5ECF6",
           "caxis": {
            "gridcolor": "white",
            "linecolor": "white",
            "ticks": ""
           }
          },
          "title": {
           "x": 0.05
          },
          "xaxis": {
           "automargin": true,
           "gridcolor": "white",
           "linecolor": "white",
           "ticks": "",
           "title": {
            "standoff": 15
           },
           "zerolinecolor": "white",
           "zerolinewidth": 2
          },
          "yaxis": {
           "automargin": true,
           "gridcolor": "white",
           "linecolor": "white",
           "ticks": "",
           "title": {
            "standoff": 15
           },
           "zerolinecolor": "white",
           "zerolinewidth": 2
          }
         }
        },
        "title": {
         "text": "<b>Spotify</b>: <i> How much time did I spend on Spotify each month?"
        },
        "xaxis": {
         "anchor": "y",
         "domain": [
          0,
          1
         ],
         "nticks": 5,
         "tickformat": "%b %y",
         "title": {
          "text": ""
         }
        },
        "yaxis": {
         "anchor": "x",
         "domain": [
          0,
          1
         ],
         "rangemode": "tozero",
         "ticksuffix": "%",
         "title": {
          "text": "% of total month time listening to music"
         }
        }
       }
      },
      "text/html": [
       "<div>                            <div id=\"f64952fd-7df5-410b-a7bc-56475b4d6ad1\" class=\"plotly-graph-div\" style=\"height:525px; width:100%;\"></div>            <script type=\"text/javascript\">                require([\"plotly\"], function(Plotly) {                    window.PLOTLYENV=window.PLOTLYENV || {};                                    if (document.getElementById(\"f64952fd-7df5-410b-a7bc-56475b4d6ad1\")) {                    Plotly.newPlot(                        \"f64952fd-7df5-410b-a7bc-56475b4d6ad1\",                        [{\"hovertemplate\":\"month=%{x}<br>perc=%{y}<br>text=%{text}<extra></extra>\",\"legendgroup\":\"\",\"line\":{\"color\":\"#1DB954\",\"dash\":\"solid\",\"shape\":\"spline\",\"width\":2.5},\"marker\":{\"symbol\":\"circle\"},\"mode\":\"lines+markers+text\",\"name\":\"\",\"orientation\":\"v\",\"showlegend\":false,\"text\":[\"\",\"\",\"\",\"\",\"\",\"\",\"\",\"\",\"\",\"\",\"Sep\",\"Oct\",\"\"],\"x\":[\"2020-11-01T00:00:00\",\"2020-12-01T00:00:00\",\"2021-01-01T00:00:00\",\"2021-02-01T00:00:00\",\"2021-03-01T00:00:00\",\"2021-04-01T00:00:00\",\"2021-05-01T00:00:00\",\"2021-06-01T00:00:00\",\"2021-07-01T00:00:00\",\"2021-08-01T00:00:00\",\"2021-09-01T00:00:00\",\"2021-10-01T00:00:00\",\"2021-11-01T00:00:00\"],\"xaxis\":\"x\",\"y\":[23.85669930555556,24.193788866487445,18.92895683990441,21.580635540674617,23.68420168757466,20.206412075617287,23.1977825194146,16.646285262345668,18.219871415770605,18.472683057049,16.37097411265432,24.781410804958167,18.97551361331568],\"yaxis\":\"y\",\"type\":\"scatter\",\"textposition\":\"top center\"}],                        {\"template\":{\"data\":{\"bar\":[{\"error_x\":{\"color\":\"#2a3f5f\"},\"error_y\":{\"color\":\"#2a3f5f\"},\"marker\":{\"line\":{\"color\":\"#E5ECF6\",\"width\":0.5},\"pattern\":{\"fillmode\":\"overlay\",\"size\":10,\"solidity\":0.2}},\"type\":\"bar\"}],\"barpolar\":[{\"marker\":{\"line\":{\"color\":\"#E5ECF6\",\"width\":0.5},\"pattern\":{\"fillmode\":\"overlay\",\"size\":10,\"solidity\":0.2}},\"type\":\"barpolar\"}],\"carpet\":[{\"aaxis\":{\"endlinecolor\":\"#2a3f5f\",\"gridcolor\":\"white\",\"linecolor\":\"white\",\"minorgridcolor\":\"white\",\"startlinecolor\":\"#2a3f5f\"},\"baxis\":{\"endlinecolor\":\"#2a3f5f\",\"gridcolor\":\"white\",\"linecolor\":\"white\",\"minorgridcolor\":\"white\",\"startlinecolor\":\"#2a3f5f\"},\"type\":\"carpet\"}],\"choropleth\":[{\"colorbar\":{\"outlinewidth\":0,\"ticks\":\"\"},\"type\":\"choropleth\"}],\"contour\":[{\"colorbar\":{\"outlinewidth\":0,\"ticks\":\"\"},\"colorscale\":[[0.0,\"#0d0887\"],[0.1111111111111111,\"#46039f\"],[0.2222222222222222,\"#7201a8\"],[0.3333333333333333,\"#9c179e\"],[0.4444444444444444,\"#bd3786\"],[0.5555555555555556,\"#d8576b\"],[0.6666666666666666,\"#ed7953\"],[0.7777777777777778,\"#fb9f3a\"],[0.8888888888888888,\"#fdca26\"],[1.0,\"#f0f921\"]],\"type\":\"contour\"}],\"contourcarpet\":[{\"colorbar\":{\"outlinewidth\":0,\"ticks\":\"\"},\"type\":\"contourcarpet\"}],\"heatmap\":[{\"colorbar\":{\"outlinewidth\":0,\"ticks\":\"\"},\"colorscale\":[[0.0,\"#0d0887\"],[0.1111111111111111,\"#46039f\"],[0.2222222222222222,\"#7201a8\"],[0.3333333333333333,\"#9c179e\"],[0.4444444444444444,\"#bd3786\"],[0.5555555555555556,\"#d8576b\"],[0.6666666666666666,\"#ed7953\"],[0.7777777777777778,\"#fb9f3a\"],[0.8888888888888888,\"#fdca26\"],[1.0,\"#f0f921\"]],\"type\":\"heatmap\"}],\"heatmapgl\":[{\"colorbar\":{\"outlinewidth\":0,\"ticks\":\"\"},\"colorscale\":[[0.0,\"#0d0887\"],[0.1111111111111111,\"#46039f\"],[0.2222222222222222,\"#7201a8\"],[0.3333333333333333,\"#9c179e\"],[0.4444444444444444,\"#bd3786\"],[0.5555555555555556,\"#d8576b\"],[0.6666666666666666,\"#ed7953\"],[0.7777777777777778,\"#fb9f3a\"],[0.8888888888888888,\"#fdca26\"],[1.0,\"#f0f921\"]],\"type\":\"heatmapgl\"}],\"histogram\":[{\"marker\":{\"pattern\":{\"fillmode\":\"overlay\",\"size\":10,\"solidity\":0.2}},\"type\":\"histogram\"}],\"histogram2d\":[{\"colorbar\":{\"outlinewidth\":0,\"ticks\":\"\"},\"colorscale\":[[0.0,\"#0d0887\"],[0.1111111111111111,\"#46039f\"],[0.2222222222222222,\"#7201a8\"],[0.3333333333333333,\"#9c179e\"],[0.4444444444444444,\"#bd3786\"],[0.5555555555555556,\"#d8576b\"],[0.6666666666666666,\"#ed7953\"],[0.7777777777777778,\"#fb9f3a\"],[0.8888888888888888,\"#fdca26\"],[1.0,\"#f0f921\"]],\"type\":\"histogram2d\"}],\"histogram2dcontour\":[{\"colorbar\":{\"outlinewidth\":0,\"ticks\":\"\"},\"colorscale\":[[0.0,\"#0d0887\"],[0.1111111111111111,\"#46039f\"],[0.2222222222222222,\"#7201a8\"],[0.3333333333333333,\"#9c179e\"],[0.4444444444444444,\"#bd3786\"],[0.5555555555555556,\"#d8576b\"],[0.6666666666666666,\"#ed7953\"],[0.7777777777777778,\"#fb9f3a\"],[0.8888888888888888,\"#fdca26\"],[1.0,\"#f0f921\"]],\"type\":\"histogram2dcontour\"}],\"mesh3d\":[{\"colorbar\":{\"outlinewidth\":0,\"ticks\":\"\"},\"type\":\"mesh3d\"}],\"parcoords\":[{\"line\":{\"colorbar\":{\"outlinewidth\":0,\"ticks\":\"\"}},\"type\":\"parcoords\"}],\"pie\":[{\"automargin\":true,\"type\":\"pie\"}],\"scatter\":[{\"marker\":{\"colorbar\":{\"outlinewidth\":0,\"ticks\":\"\"}},\"type\":\"scatter\"}],\"scatter3d\":[{\"line\":{\"colorbar\":{\"outlinewidth\":0,\"ticks\":\"\"}},\"marker\":{\"colorbar\":{\"outlinewidth\":0,\"ticks\":\"\"}},\"type\":\"scatter3d\"}],\"scattercarpet\":[{\"marker\":{\"colorbar\":{\"outlinewidth\":0,\"ticks\":\"\"}},\"type\":\"scattercarpet\"}],\"scattergeo\":[{\"marker\":{\"colorbar\":{\"outlinewidth\":0,\"ticks\":\"\"}},\"type\":\"scattergeo\"}],\"scattergl\":[{\"marker\":{\"colorbar\":{\"outlinewidth\":0,\"ticks\":\"\"}},\"type\":\"scattergl\"}],\"scattermapbox\":[{\"marker\":{\"colorbar\":{\"outlinewidth\":0,\"ticks\":\"\"}},\"type\":\"scattermapbox\"}],\"scatterpolar\":[{\"marker\":{\"colorbar\":{\"outlinewidth\":0,\"ticks\":\"\"}},\"type\":\"scatterpolar\"}],\"scatterpolargl\":[{\"marker\":{\"colorbar\":{\"outlinewidth\":0,\"ticks\":\"\"}},\"type\":\"scatterpolargl\"}],\"scatterternary\":[{\"marker\":{\"colorbar\":{\"outlinewidth\":0,\"ticks\":\"\"}},\"type\":\"scatterternary\"}],\"surface\":[{\"colorbar\":{\"outlinewidth\":0,\"ticks\":\"\"},\"colorscale\":[[0.0,\"#0d0887\"],[0.1111111111111111,\"#46039f\"],[0.2222222222222222,\"#7201a8\"],[0.3333333333333333,\"#9c179e\"],[0.4444444444444444,\"#bd3786\"],[0.5555555555555556,\"#d8576b\"],[0.6666666666666666,\"#ed7953\"],[0.7777777777777778,\"#fb9f3a\"],[0.8888888888888888,\"#fdca26\"],[1.0,\"#f0f921\"]],\"type\":\"surface\"}],\"table\":[{\"cells\":{\"fill\":{\"color\":\"#EBF0F8\"},\"line\":{\"color\":\"white\"}},\"header\":{\"fill\":{\"color\":\"#C8D4E3\"},\"line\":{\"color\":\"white\"}},\"type\":\"table\"}]},\"layout\":{\"annotationdefaults\":{\"arrowcolor\":\"#2a3f5f\",\"arrowhead\":0,\"arrowwidth\":1},\"autotypenumbers\":\"strict\",\"coloraxis\":{\"colorbar\":{\"outlinewidth\":0,\"ticks\":\"\"}},\"colorscale\":{\"diverging\":[[0,\"#8e0152\"],[0.1,\"#c51b7d\"],[0.2,\"#de77ae\"],[0.3,\"#f1b6da\"],[0.4,\"#fde0ef\"],[0.5,\"#f7f7f7\"],[0.6,\"#e6f5d0\"],[0.7,\"#b8e186\"],[0.8,\"#7fbc41\"],[0.9,\"#4d9221\"],[1,\"#276419\"]],\"sequential\":[[0.0,\"#0d0887\"],[0.1111111111111111,\"#46039f\"],[0.2222222222222222,\"#7201a8\"],[0.3333333333333333,\"#9c179e\"],[0.4444444444444444,\"#bd3786\"],[0.5555555555555556,\"#d8576b\"],[0.6666666666666666,\"#ed7953\"],[0.7777777777777778,\"#fb9f3a\"],[0.8888888888888888,\"#fdca26\"],[1.0,\"#f0f921\"]],\"sequentialminus\":[[0.0,\"#0d0887\"],[0.1111111111111111,\"#46039f\"],[0.2222222222222222,\"#7201a8\"],[0.3333333333333333,\"#9c179e\"],[0.4444444444444444,\"#bd3786\"],[0.5555555555555556,\"#d8576b\"],[0.6666666666666666,\"#ed7953\"],[0.7777777777777778,\"#fb9f3a\"],[0.8888888888888888,\"#fdca26\"],[1.0,\"#f0f921\"]]},\"colorway\":[\"#636efa\",\"#EF553B\",\"#00cc96\",\"#ab63fa\",\"#FFA15A\",\"#19d3f3\",\"#FF6692\",\"#B6E880\",\"#FF97FF\",\"#FECB52\"],\"font\":{\"color\":\"#2a3f5f\"},\"geo\":{\"bgcolor\":\"white\",\"lakecolor\":\"white\",\"landcolor\":\"#E5ECF6\",\"showlakes\":true,\"showland\":true,\"subunitcolor\":\"white\"},\"hoverlabel\":{\"align\":\"left\"},\"hovermode\":\"closest\",\"mapbox\":{\"style\":\"light\"},\"paper_bgcolor\":\"white\",\"plot_bgcolor\":\"#E5ECF6\",\"polar\":{\"angularaxis\":{\"gridcolor\":\"white\",\"linecolor\":\"white\",\"ticks\":\"\"},\"bgcolor\":\"#E5ECF6\",\"radialaxis\":{\"gridcolor\":\"white\",\"linecolor\":\"white\",\"ticks\":\"\"}},\"scene\":{\"xaxis\":{\"backgroundcolor\":\"#E5ECF6\",\"gridcolor\":\"white\",\"gridwidth\":2,\"linecolor\":\"white\",\"showbackground\":true,\"ticks\":\"\",\"zerolinecolor\":\"white\"},\"yaxis\":{\"backgroundcolor\":\"#E5ECF6\",\"gridcolor\":\"white\",\"gridwidth\":2,\"linecolor\":\"white\",\"showbackground\":true,\"ticks\":\"\",\"zerolinecolor\":\"white\"},\"zaxis\":{\"backgroundcolor\":\"#E5ECF6\",\"gridcolor\":\"white\",\"gridwidth\":2,\"linecolor\":\"white\",\"showbackground\":true,\"ticks\":\"\",\"zerolinecolor\":\"white\"}},\"shapedefaults\":{\"line\":{\"color\":\"#2a3f5f\"}},\"ternary\":{\"aaxis\":{\"gridcolor\":\"white\",\"linecolor\":\"white\",\"ticks\":\"\"},\"baxis\":{\"gridcolor\":\"white\",\"linecolor\":\"white\",\"ticks\":\"\"},\"bgcolor\":\"#E5ECF6\",\"caxis\":{\"gridcolor\":\"white\",\"linecolor\":\"white\",\"ticks\":\"\"}},\"title\":{\"x\":0.05},\"xaxis\":{\"automargin\":true,\"gridcolor\":\"white\",\"linecolor\":\"white\",\"ticks\":\"\",\"title\":{\"standoff\":15},\"zerolinecolor\":\"white\",\"zerolinewidth\":2},\"yaxis\":{\"automargin\":true,\"gridcolor\":\"white\",\"linecolor\":\"white\",\"ticks\":\"\",\"title\":{\"standoff\":15},\"zerolinecolor\":\"white\",\"zerolinewidth\":2}}},\"xaxis\":{\"anchor\":\"y\",\"domain\":[0.0,1.0],\"title\":{\"text\":\"\"},\"tickformat\":\"%b %y\",\"nticks\":5},\"yaxis\":{\"anchor\":\"x\",\"domain\":[0.0,1.0],\"title\":{\"text\":\"% of total month time listening to music\"},\"rangemode\":\"tozero\",\"ticksuffix\":\"%\"},\"legend\":{\"tracegroupgap\":0},\"margin\":{\"t\":60},\"title\":{\"text\":\"<b>Spotify</b>: <i> How much time did I spend on Spotify each month?\"}},                        {\"responsive\": true}                    ).then(function(){\n",
       "                            \n",
       "var gd = document.getElementById('f64952fd-7df5-410b-a7bc-56475b4d6ad1');\n",
       "var x = new MutationObserver(function (mutations, observer) {{\n",
       "        var display = window.getComputedStyle(gd).display;\n",
       "        if (!display || display === 'none') {{\n",
       "            console.log([gd, 'removed!']);\n",
       "            Plotly.purge(gd);\n",
       "            observer.disconnect();\n",
       "        }}\n",
       "}});\n",
       "\n",
       "// Listen for the removal of the full notebook cells\n",
       "var notebookContainer = gd.closest('#notebook-container');\n",
       "if (notebookContainer) {{\n",
       "    x.observe(notebookContainer, {childList: true});\n",
       "}}\n",
       "\n",
       "// Listen for the clearing of the current output cell\n",
       "var outputEl = gd.closest('.output');\n",
       "if (outputEl) {{\n",
       "    x.observe(outputEl, {childList: true});\n",
       "}}\n",
       "\n",
       "                        })                };                });            </script>        </div>"
      ]
     },
     "metadata": {},
     "output_type": "display_data"
    }
   ],
   "source": []
  },
  {
   "cell_type": "code",
   "execution_count": 123,
   "id": "0b5df752",
   "metadata": {},
   "outputs": [
    {
     "data": {
      "application/vnd.plotly.v1+json": {
       "config": {
        "plotlyServerURL": "https://plot.ly"
       },
       "data": [
        {
         "hovertemplate": "month=%{x}<br>perc=%{y}<br>text=%{text}<extra></extra>",
         "legendgroup": "",
         "line": {
          "color": "#1DB954",
          "dash": "solid",
          "shape": "spline",
          "width": 2.5
         },
         "marker": {
          "symbol": "circle"
         },
         "mode": "lines+markers+text",
         "name": "",
         "orientation": "v",
         "showlegend": false,
         "text": [
          "",
          "",
          "",
          "",
          "",
          "",
          "",
          "",
          "",
          "",
          "",
          "Oct",
          ""
         ],
         "textposition": "top center",
         "type": "scatter",
         "x": [
          "2020-11-01T00:00:00",
          "2020-12-01T00:00:00",
          "2021-01-01T00:00:00",
          "2021-02-01T00:00:00",
          "2021-03-01T00:00:00",
          "2021-04-01T00:00:00",
          "2021-05-01T00:00:00",
          "2021-06-01T00:00:00",
          "2021-07-01T00:00:00",
          "2021-08-01T00:00:00",
          "2021-09-01T00:00:00",
          "2021-10-01T00:00:00",
          "2021-11-01T00:00:00"
         ],
         "xaxis": "x",
         "y": [
          23.85669930555556,
          24.193788866487445,
          18.92895683990441,
          21.580635540674617,
          23.68420168757466,
          20.206412075617287,
          23.1977825194146,
          16.646285262345668,
          18.219871415770605,
          18.472683057049,
          16.37097411265432,
          24.781410804958167,
          18.97551361331568
         ],
         "yaxis": "y"
        }
       ],
       "layout": {
        "legend": {
         "tracegroupgap": 0
        },
        "margin": {
         "t": 60
        },
        "template": {
         "data": {
          "bar": [
           {
            "error_x": {
             "color": "#2a3f5f"
            },
            "error_y": {
             "color": "#2a3f5f"
            },
            "marker": {
             "line": {
              "color": "#E5ECF6",
              "width": 0.5
             },
             "pattern": {
              "fillmode": "overlay",
              "size": 10,
              "solidity": 0.2
             }
            },
            "type": "bar"
           }
          ],
          "barpolar": [
           {
            "marker": {
             "line": {
              "color": "#E5ECF6",
              "width": 0.5
             },
             "pattern": {
              "fillmode": "overlay",
              "size": 10,
              "solidity": 0.2
             }
            },
            "type": "barpolar"
           }
          ],
          "carpet": [
           {
            "aaxis": {
             "endlinecolor": "#2a3f5f",
             "gridcolor": "white",
             "linecolor": "white",
             "minorgridcolor": "white",
             "startlinecolor": "#2a3f5f"
            },
            "baxis": {
             "endlinecolor": "#2a3f5f",
             "gridcolor": "white",
             "linecolor": "white",
             "minorgridcolor": "white",
             "startlinecolor": "#2a3f5f"
            },
            "type": "carpet"
           }
          ],
          "choropleth": [
           {
            "colorbar": {
             "outlinewidth": 0,
             "ticks": ""
            },
            "type": "choropleth"
           }
          ],
          "contour": [
           {
            "colorbar": {
             "outlinewidth": 0,
             "ticks": ""
            },
            "colorscale": [
             [
              0,
              "#0d0887"
             ],
             [
              0.1111111111111111,
              "#46039f"
             ],
             [
              0.2222222222222222,
              "#7201a8"
             ],
             [
              0.3333333333333333,
              "#9c179e"
             ],
             [
              0.4444444444444444,
              "#bd3786"
             ],
             [
              0.5555555555555556,
              "#d8576b"
             ],
             [
              0.6666666666666666,
              "#ed7953"
             ],
             [
              0.7777777777777778,
              "#fb9f3a"
             ],
             [
              0.8888888888888888,
              "#fdca26"
             ],
             [
              1,
              "#f0f921"
             ]
            ],
            "type": "contour"
           }
          ],
          "contourcarpet": [
           {
            "colorbar": {
             "outlinewidth": 0,
             "ticks": ""
            },
            "type": "contourcarpet"
           }
          ],
          "heatmap": [
           {
            "colorbar": {
             "outlinewidth": 0,
             "ticks": ""
            },
            "colorscale": [
             [
              0,
              "#0d0887"
             ],
             [
              0.1111111111111111,
              "#46039f"
             ],
             [
              0.2222222222222222,
              "#7201a8"
             ],
             [
              0.3333333333333333,
              "#9c179e"
             ],
             [
              0.4444444444444444,
              "#bd3786"
             ],
             [
              0.5555555555555556,
              "#d8576b"
             ],
             [
              0.6666666666666666,
              "#ed7953"
             ],
             [
              0.7777777777777778,
              "#fb9f3a"
             ],
             [
              0.8888888888888888,
              "#fdca26"
             ],
             [
              1,
              "#f0f921"
             ]
            ],
            "type": "heatmap"
           }
          ],
          "heatmapgl": [
           {
            "colorbar": {
             "outlinewidth": 0,
             "ticks": ""
            },
            "colorscale": [
             [
              0,
              "#0d0887"
             ],
             [
              0.1111111111111111,
              "#46039f"
             ],
             [
              0.2222222222222222,
              "#7201a8"
             ],
             [
              0.3333333333333333,
              "#9c179e"
             ],
             [
              0.4444444444444444,
              "#bd3786"
             ],
             [
              0.5555555555555556,
              "#d8576b"
             ],
             [
              0.6666666666666666,
              "#ed7953"
             ],
             [
              0.7777777777777778,
              "#fb9f3a"
             ],
             [
              0.8888888888888888,
              "#fdca26"
             ],
             [
              1,
              "#f0f921"
             ]
            ],
            "type": "heatmapgl"
           }
          ],
          "histogram": [
           {
            "marker": {
             "pattern": {
              "fillmode": "overlay",
              "size": 10,
              "solidity": 0.2
             }
            },
            "type": "histogram"
           }
          ],
          "histogram2d": [
           {
            "colorbar": {
             "outlinewidth": 0,
             "ticks": ""
            },
            "colorscale": [
             [
              0,
              "#0d0887"
             ],
             [
              0.1111111111111111,
              "#46039f"
             ],
             [
              0.2222222222222222,
              "#7201a8"
             ],
             [
              0.3333333333333333,
              "#9c179e"
             ],
             [
              0.4444444444444444,
              "#bd3786"
             ],
             [
              0.5555555555555556,
              "#d8576b"
             ],
             [
              0.6666666666666666,
              "#ed7953"
             ],
             [
              0.7777777777777778,
              "#fb9f3a"
             ],
             [
              0.8888888888888888,
              "#fdca26"
             ],
             [
              1,
              "#f0f921"
             ]
            ],
            "type": "histogram2d"
           }
          ],
          "histogram2dcontour": [
           {
            "colorbar": {
             "outlinewidth": 0,
             "ticks": ""
            },
            "colorscale": [
             [
              0,
              "#0d0887"
             ],
             [
              0.1111111111111111,
              "#46039f"
             ],
             [
              0.2222222222222222,
              "#7201a8"
             ],
             [
              0.3333333333333333,
              "#9c179e"
             ],
             [
              0.4444444444444444,
              "#bd3786"
             ],
             [
              0.5555555555555556,
              "#d8576b"
             ],
             [
              0.6666666666666666,
              "#ed7953"
             ],
             [
              0.7777777777777778,
              "#fb9f3a"
             ],
             [
              0.8888888888888888,
              "#fdca26"
             ],
             [
              1,
              "#f0f921"
             ]
            ],
            "type": "histogram2dcontour"
           }
          ],
          "mesh3d": [
           {
            "colorbar": {
             "outlinewidth": 0,
             "ticks": ""
            },
            "type": "mesh3d"
           }
          ],
          "parcoords": [
           {
            "line": {
             "colorbar": {
              "outlinewidth": 0,
              "ticks": ""
             }
            },
            "type": "parcoords"
           }
          ],
          "pie": [
           {
            "automargin": true,
            "type": "pie"
           }
          ],
          "scatter": [
           {
            "marker": {
             "colorbar": {
              "outlinewidth": 0,
              "ticks": ""
             }
            },
            "type": "scatter"
           }
          ],
          "scatter3d": [
           {
            "line": {
             "colorbar": {
              "outlinewidth": 0,
              "ticks": ""
             }
            },
            "marker": {
             "colorbar": {
              "outlinewidth": 0,
              "ticks": ""
             }
            },
            "type": "scatter3d"
           }
          ],
          "scattercarpet": [
           {
            "marker": {
             "colorbar": {
              "outlinewidth": 0,
              "ticks": ""
             }
            },
            "type": "scattercarpet"
           }
          ],
          "scattergeo": [
           {
            "marker": {
             "colorbar": {
              "outlinewidth": 0,
              "ticks": ""
             }
            },
            "type": "scattergeo"
           }
          ],
          "scattergl": [
           {
            "marker": {
             "colorbar": {
              "outlinewidth": 0,
              "ticks": ""
             }
            },
            "type": "scattergl"
           }
          ],
          "scattermapbox": [
           {
            "marker": {
             "colorbar": {
              "outlinewidth": 0,
              "ticks": ""
             }
            },
            "type": "scattermapbox"
           }
          ],
          "scatterpolar": [
           {
            "marker": {
             "colorbar": {
              "outlinewidth": 0,
              "ticks": ""
             }
            },
            "type": "scatterpolar"
           }
          ],
          "scatterpolargl": [
           {
            "marker": {
             "colorbar": {
              "outlinewidth": 0,
              "ticks": ""
             }
            },
            "type": "scatterpolargl"
           }
          ],
          "scatterternary": [
           {
            "marker": {
             "colorbar": {
              "outlinewidth": 0,
              "ticks": ""
             }
            },
            "type": "scatterternary"
           }
          ],
          "surface": [
           {
            "colorbar": {
             "outlinewidth": 0,
             "ticks": ""
            },
            "colorscale": [
             [
              0,
              "#0d0887"
             ],
             [
              0.1111111111111111,
              "#46039f"
             ],
             [
              0.2222222222222222,
              "#7201a8"
             ],
             [
              0.3333333333333333,
              "#9c179e"
             ],
             [
              0.4444444444444444,
              "#bd3786"
             ],
             [
              0.5555555555555556,
              "#d8576b"
             ],
             [
              0.6666666666666666,
              "#ed7953"
             ],
             [
              0.7777777777777778,
              "#fb9f3a"
             ],
             [
              0.8888888888888888,
              "#fdca26"
             ],
             [
              1,
              "#f0f921"
             ]
            ],
            "type": "surface"
           }
          ],
          "table": [
           {
            "cells": {
             "fill": {
              "color": "#EBF0F8"
             },
             "line": {
              "color": "white"
             }
            },
            "header": {
             "fill": {
              "color": "#C8D4E3"
             },
             "line": {
              "color": "white"
             }
            },
            "type": "table"
           }
          ]
         },
         "layout": {
          "annotationdefaults": {
           "arrowcolor": "#2a3f5f",
           "arrowhead": 0,
           "arrowwidth": 1
          },
          "autotypenumbers": "strict",
          "coloraxis": {
           "colorbar": {
            "outlinewidth": 0,
            "ticks": ""
           }
          },
          "colorscale": {
           "diverging": [
            [
             0,
             "#8e0152"
            ],
            [
             0.1,
             "#c51b7d"
            ],
            [
             0.2,
             "#de77ae"
            ],
            [
             0.3,
             "#f1b6da"
            ],
            [
             0.4,
             "#fde0ef"
            ],
            [
             0.5,
             "#f7f7f7"
            ],
            [
             0.6,
             "#e6f5d0"
            ],
            [
             0.7,
             "#b8e186"
            ],
            [
             0.8,
             "#7fbc41"
            ],
            [
             0.9,
             "#4d9221"
            ],
            [
             1,
             "#276419"
            ]
           ],
           "sequential": [
            [
             0,
             "#0d0887"
            ],
            [
             0.1111111111111111,
             "#46039f"
            ],
            [
             0.2222222222222222,
             "#7201a8"
            ],
            [
             0.3333333333333333,
             "#9c179e"
            ],
            [
             0.4444444444444444,
             "#bd3786"
            ],
            [
             0.5555555555555556,
             "#d8576b"
            ],
            [
             0.6666666666666666,
             "#ed7953"
            ],
            [
             0.7777777777777778,
             "#fb9f3a"
            ],
            [
             0.8888888888888888,
             "#fdca26"
            ],
            [
             1,
             "#f0f921"
            ]
           ],
           "sequentialminus": [
            [
             0,
             "#0d0887"
            ],
            [
             0.1111111111111111,
             "#46039f"
            ],
            [
             0.2222222222222222,
             "#7201a8"
            ],
            [
             0.3333333333333333,
             "#9c179e"
            ],
            [
             0.4444444444444444,
             "#bd3786"
            ],
            [
             0.5555555555555556,
             "#d8576b"
            ],
            [
             0.6666666666666666,
             "#ed7953"
            ],
            [
             0.7777777777777778,
             "#fb9f3a"
            ],
            [
             0.8888888888888888,
             "#fdca26"
            ],
            [
             1,
             "#f0f921"
            ]
           ]
          },
          "colorway": [
           "#636efa",
           "#EF553B",
           "#00cc96",
           "#ab63fa",
           "#FFA15A",
           "#19d3f3",
           "#FF6692",
           "#B6E880",
           "#FF97FF",
           "#FECB52"
          ],
          "font": {
           "color": "#2a3f5f"
          },
          "geo": {
           "bgcolor": "white",
           "lakecolor": "white",
           "landcolor": "#E5ECF6",
           "showlakes": true,
           "showland": true,
           "subunitcolor": "white"
          },
          "hoverlabel": {
           "align": "left"
          },
          "hovermode": "closest",
          "mapbox": {
           "style": "light"
          },
          "paper_bgcolor": "white",
          "plot_bgcolor": "#E5ECF6",
          "polar": {
           "angularaxis": {
            "gridcolor": "white",
            "linecolor": "white",
            "ticks": ""
           },
           "bgcolor": "#E5ECF6",
           "radialaxis": {
            "gridcolor": "white",
            "linecolor": "white",
            "ticks": ""
           }
          },
          "scene": {
           "xaxis": {
            "backgroundcolor": "#E5ECF6",
            "gridcolor": "white",
            "gridwidth": 2,
            "linecolor": "white",
            "showbackground": true,
            "ticks": "",
            "zerolinecolor": "white"
           },
           "yaxis": {
            "backgroundcolor": "#E5ECF6",
            "gridcolor": "white",
            "gridwidth": 2,
            "linecolor": "white",
            "showbackground": true,
            "ticks": "",
            "zerolinecolor": "white"
           },
           "zaxis": {
            "backgroundcolor": "#E5ECF6",
            "gridcolor": "white",
            "gridwidth": 2,
            "linecolor": "white",
            "showbackground": true,
            "ticks": "",
            "zerolinecolor": "white"
           }
          },
          "shapedefaults": {
           "line": {
            "color": "#2a3f5f"
           }
          },
          "ternary": {
           "aaxis": {
            "gridcolor": "white",
            "linecolor": "white",
            "ticks": ""
           },
           "baxis": {
            "gridcolor": "white",
            "linecolor": "white",
            "ticks": ""
           },
           "bgcolor": "#E5ECF6",
           "caxis": {
            "gridcolor": "white",
            "linecolor": "white",
            "ticks": ""
           }
          },
          "title": {
           "x": 0.05
          },
          "xaxis": {
           "automargin": true,
           "gridcolor": "white",
           "linecolor": "white",
           "ticks": "",
           "title": {
            "standoff": 15
           },
           "zerolinecolor": "white",
           "zerolinewidth": 2
          },
          "yaxis": {
           "automargin": true,
           "gridcolor": "white",
           "linecolor": "white",
           "ticks": "",
           "title": {
            "standoff": 15
           },
           "zerolinecolor": "white",
           "zerolinewidth": 2
          }
         }
        },
        "title": {
         "text": "<b>Spotify</b>: <i> How much time did I spend on Spotify each month?"
        },
        "xaxis": {
         "anchor": "y",
         "domain": [
          0,
          1
         ],
         "nticks": 5,
         "tickformat": "%b %y",
         "title": {
          "text": ""
         }
        },
        "yaxis": {
         "anchor": "x",
         "domain": [
          0,
          1
         ],
         "rangemode": "tozero",
         "ticksuffix": "%",
         "title": {
          "text": "% of total month time listening to music"
         }
        }
       }
      },
      "text/html": [
       "<div>                            <div id=\"098c1efb-1f43-4569-8dd6-5c25484d9132\" class=\"plotly-graph-div\" style=\"height:525px; width:100%;\"></div>            <script type=\"text/javascript\">                require([\"plotly\"], function(Plotly) {                    window.PLOTLYENV=window.PLOTLYENV || {};                                    if (document.getElementById(\"098c1efb-1f43-4569-8dd6-5c25484d9132\")) {                    Plotly.newPlot(                        \"098c1efb-1f43-4569-8dd6-5c25484d9132\",                        [{\"hovertemplate\":\"month=%{x}<br>perc=%{y}<br>text=%{text}<extra></extra>\",\"legendgroup\":\"\",\"line\":{\"color\":\"#1DB954\",\"dash\":\"solid\",\"shape\":\"spline\",\"width\":2.5},\"marker\":{\"symbol\":\"circle\"},\"mode\":\"lines+markers+text\",\"name\":\"\",\"orientation\":\"v\",\"showlegend\":false,\"text\":[\"\",\"\",\"\",\"\",\"\",\"\",\"\",\"\",\"\",\"\",\"\",\"Oct\",\"\"],\"x\":[\"2020-11-01T00:00:00\",\"2020-12-01T00:00:00\",\"2021-01-01T00:00:00\",\"2021-02-01T00:00:00\",\"2021-03-01T00:00:00\",\"2021-04-01T00:00:00\",\"2021-05-01T00:00:00\",\"2021-06-01T00:00:00\",\"2021-07-01T00:00:00\",\"2021-08-01T00:00:00\",\"2021-09-01T00:00:00\",\"2021-10-01T00:00:00\",\"2021-11-01T00:00:00\"],\"xaxis\":\"x\",\"y\":[23.85669930555556,24.193788866487445,18.92895683990441,21.580635540674617,23.68420168757466,20.206412075617287,23.1977825194146,16.646285262345668,18.219871415770605,18.472683057049,16.37097411265432,24.781410804958167,18.97551361331568],\"yaxis\":\"y\",\"type\":\"scatter\",\"textposition\":\"top center\"}],                        {\"template\":{\"data\":{\"bar\":[{\"error_x\":{\"color\":\"#2a3f5f\"},\"error_y\":{\"color\":\"#2a3f5f\"},\"marker\":{\"line\":{\"color\":\"#E5ECF6\",\"width\":0.5},\"pattern\":{\"fillmode\":\"overlay\",\"size\":10,\"solidity\":0.2}},\"type\":\"bar\"}],\"barpolar\":[{\"marker\":{\"line\":{\"color\":\"#E5ECF6\",\"width\":0.5},\"pattern\":{\"fillmode\":\"overlay\",\"size\":10,\"solidity\":0.2}},\"type\":\"barpolar\"}],\"carpet\":[{\"aaxis\":{\"endlinecolor\":\"#2a3f5f\",\"gridcolor\":\"white\",\"linecolor\":\"white\",\"minorgridcolor\":\"white\",\"startlinecolor\":\"#2a3f5f\"},\"baxis\":{\"endlinecolor\":\"#2a3f5f\",\"gridcolor\":\"white\",\"linecolor\":\"white\",\"minorgridcolor\":\"white\",\"startlinecolor\":\"#2a3f5f\"},\"type\":\"carpet\"}],\"choropleth\":[{\"colorbar\":{\"outlinewidth\":0,\"ticks\":\"\"},\"type\":\"choropleth\"}],\"contour\":[{\"colorbar\":{\"outlinewidth\":0,\"ticks\":\"\"},\"colorscale\":[[0.0,\"#0d0887\"],[0.1111111111111111,\"#46039f\"],[0.2222222222222222,\"#7201a8\"],[0.3333333333333333,\"#9c179e\"],[0.4444444444444444,\"#bd3786\"],[0.5555555555555556,\"#d8576b\"],[0.6666666666666666,\"#ed7953\"],[0.7777777777777778,\"#fb9f3a\"],[0.8888888888888888,\"#fdca26\"],[1.0,\"#f0f921\"]],\"type\":\"contour\"}],\"contourcarpet\":[{\"colorbar\":{\"outlinewidth\":0,\"ticks\":\"\"},\"type\":\"contourcarpet\"}],\"heatmap\":[{\"colorbar\":{\"outlinewidth\":0,\"ticks\":\"\"},\"colorscale\":[[0.0,\"#0d0887\"],[0.1111111111111111,\"#46039f\"],[0.2222222222222222,\"#7201a8\"],[0.3333333333333333,\"#9c179e\"],[0.4444444444444444,\"#bd3786\"],[0.5555555555555556,\"#d8576b\"],[0.6666666666666666,\"#ed7953\"],[0.7777777777777778,\"#fb9f3a\"],[0.8888888888888888,\"#fdca26\"],[1.0,\"#f0f921\"]],\"type\":\"heatmap\"}],\"heatmapgl\":[{\"colorbar\":{\"outlinewidth\":0,\"ticks\":\"\"},\"colorscale\":[[0.0,\"#0d0887\"],[0.1111111111111111,\"#46039f\"],[0.2222222222222222,\"#7201a8\"],[0.3333333333333333,\"#9c179e\"],[0.4444444444444444,\"#bd3786\"],[0.5555555555555556,\"#d8576b\"],[0.6666666666666666,\"#ed7953\"],[0.7777777777777778,\"#fb9f3a\"],[0.8888888888888888,\"#fdca26\"],[1.0,\"#f0f921\"]],\"type\":\"heatmapgl\"}],\"histogram\":[{\"marker\":{\"pattern\":{\"fillmode\":\"overlay\",\"size\":10,\"solidity\":0.2}},\"type\":\"histogram\"}],\"histogram2d\":[{\"colorbar\":{\"outlinewidth\":0,\"ticks\":\"\"},\"colorscale\":[[0.0,\"#0d0887\"],[0.1111111111111111,\"#46039f\"],[0.2222222222222222,\"#7201a8\"],[0.3333333333333333,\"#9c179e\"],[0.4444444444444444,\"#bd3786\"],[0.5555555555555556,\"#d8576b\"],[0.6666666666666666,\"#ed7953\"],[0.7777777777777778,\"#fb9f3a\"],[0.8888888888888888,\"#fdca26\"],[1.0,\"#f0f921\"]],\"type\":\"histogram2d\"}],\"histogram2dcontour\":[{\"colorbar\":{\"outlinewidth\":0,\"ticks\":\"\"},\"colorscale\":[[0.0,\"#0d0887\"],[0.1111111111111111,\"#46039f\"],[0.2222222222222222,\"#7201a8\"],[0.3333333333333333,\"#9c179e\"],[0.4444444444444444,\"#bd3786\"],[0.5555555555555556,\"#d8576b\"],[0.6666666666666666,\"#ed7953\"],[0.7777777777777778,\"#fb9f3a\"],[0.8888888888888888,\"#fdca26\"],[1.0,\"#f0f921\"]],\"type\":\"histogram2dcontour\"}],\"mesh3d\":[{\"colorbar\":{\"outlinewidth\":0,\"ticks\":\"\"},\"type\":\"mesh3d\"}],\"parcoords\":[{\"line\":{\"colorbar\":{\"outlinewidth\":0,\"ticks\":\"\"}},\"type\":\"parcoords\"}],\"pie\":[{\"automargin\":true,\"type\":\"pie\"}],\"scatter\":[{\"marker\":{\"colorbar\":{\"outlinewidth\":0,\"ticks\":\"\"}},\"type\":\"scatter\"}],\"scatter3d\":[{\"line\":{\"colorbar\":{\"outlinewidth\":0,\"ticks\":\"\"}},\"marker\":{\"colorbar\":{\"outlinewidth\":0,\"ticks\":\"\"}},\"type\":\"scatter3d\"}],\"scattercarpet\":[{\"marker\":{\"colorbar\":{\"outlinewidth\":0,\"ticks\":\"\"}},\"type\":\"scattercarpet\"}],\"scattergeo\":[{\"marker\":{\"colorbar\":{\"outlinewidth\":0,\"ticks\":\"\"}},\"type\":\"scattergeo\"}],\"scattergl\":[{\"marker\":{\"colorbar\":{\"outlinewidth\":0,\"ticks\":\"\"}},\"type\":\"scattergl\"}],\"scattermapbox\":[{\"marker\":{\"colorbar\":{\"outlinewidth\":0,\"ticks\":\"\"}},\"type\":\"scattermapbox\"}],\"scatterpolar\":[{\"marker\":{\"colorbar\":{\"outlinewidth\":0,\"ticks\":\"\"}},\"type\":\"scatterpolar\"}],\"scatterpolargl\":[{\"marker\":{\"colorbar\":{\"outlinewidth\":0,\"ticks\":\"\"}},\"type\":\"scatterpolargl\"}],\"scatterternary\":[{\"marker\":{\"colorbar\":{\"outlinewidth\":0,\"ticks\":\"\"}},\"type\":\"scatterternary\"}],\"surface\":[{\"colorbar\":{\"outlinewidth\":0,\"ticks\":\"\"},\"colorscale\":[[0.0,\"#0d0887\"],[0.1111111111111111,\"#46039f\"],[0.2222222222222222,\"#7201a8\"],[0.3333333333333333,\"#9c179e\"],[0.4444444444444444,\"#bd3786\"],[0.5555555555555556,\"#d8576b\"],[0.6666666666666666,\"#ed7953\"],[0.7777777777777778,\"#fb9f3a\"],[0.8888888888888888,\"#fdca26\"],[1.0,\"#f0f921\"]],\"type\":\"surface\"}],\"table\":[{\"cells\":{\"fill\":{\"color\":\"#EBF0F8\"},\"line\":{\"color\":\"white\"}},\"header\":{\"fill\":{\"color\":\"#C8D4E3\"},\"line\":{\"color\":\"white\"}},\"type\":\"table\"}]},\"layout\":{\"annotationdefaults\":{\"arrowcolor\":\"#2a3f5f\",\"arrowhead\":0,\"arrowwidth\":1},\"autotypenumbers\":\"strict\",\"coloraxis\":{\"colorbar\":{\"outlinewidth\":0,\"ticks\":\"\"}},\"colorscale\":{\"diverging\":[[0,\"#8e0152\"],[0.1,\"#c51b7d\"],[0.2,\"#de77ae\"],[0.3,\"#f1b6da\"],[0.4,\"#fde0ef\"],[0.5,\"#f7f7f7\"],[0.6,\"#e6f5d0\"],[0.7,\"#b8e186\"],[0.8,\"#7fbc41\"],[0.9,\"#4d9221\"],[1,\"#276419\"]],\"sequential\":[[0.0,\"#0d0887\"],[0.1111111111111111,\"#46039f\"],[0.2222222222222222,\"#7201a8\"],[0.3333333333333333,\"#9c179e\"],[0.4444444444444444,\"#bd3786\"],[0.5555555555555556,\"#d8576b\"],[0.6666666666666666,\"#ed7953\"],[0.7777777777777778,\"#fb9f3a\"],[0.8888888888888888,\"#fdca26\"],[1.0,\"#f0f921\"]],\"sequentialminus\":[[0.0,\"#0d0887\"],[0.1111111111111111,\"#46039f\"],[0.2222222222222222,\"#7201a8\"],[0.3333333333333333,\"#9c179e\"],[0.4444444444444444,\"#bd3786\"],[0.5555555555555556,\"#d8576b\"],[0.6666666666666666,\"#ed7953\"],[0.7777777777777778,\"#fb9f3a\"],[0.8888888888888888,\"#fdca26\"],[1.0,\"#f0f921\"]]},\"colorway\":[\"#636efa\",\"#EF553B\",\"#00cc96\",\"#ab63fa\",\"#FFA15A\",\"#19d3f3\",\"#FF6692\",\"#B6E880\",\"#FF97FF\",\"#FECB52\"],\"font\":{\"color\":\"#2a3f5f\"},\"geo\":{\"bgcolor\":\"white\",\"lakecolor\":\"white\",\"landcolor\":\"#E5ECF6\",\"showlakes\":true,\"showland\":true,\"subunitcolor\":\"white\"},\"hoverlabel\":{\"align\":\"left\"},\"hovermode\":\"closest\",\"mapbox\":{\"style\":\"light\"},\"paper_bgcolor\":\"white\",\"plot_bgcolor\":\"#E5ECF6\",\"polar\":{\"angularaxis\":{\"gridcolor\":\"white\",\"linecolor\":\"white\",\"ticks\":\"\"},\"bgcolor\":\"#E5ECF6\",\"radialaxis\":{\"gridcolor\":\"white\",\"linecolor\":\"white\",\"ticks\":\"\"}},\"scene\":{\"xaxis\":{\"backgroundcolor\":\"#E5ECF6\",\"gridcolor\":\"white\",\"gridwidth\":2,\"linecolor\":\"white\",\"showbackground\":true,\"ticks\":\"\",\"zerolinecolor\":\"white\"},\"yaxis\":{\"backgroundcolor\":\"#E5ECF6\",\"gridcolor\":\"white\",\"gridwidth\":2,\"linecolor\":\"white\",\"showbackground\":true,\"ticks\":\"\",\"zerolinecolor\":\"white\"},\"zaxis\":{\"backgroundcolor\":\"#E5ECF6\",\"gridcolor\":\"white\",\"gridwidth\":2,\"linecolor\":\"white\",\"showbackground\":true,\"ticks\":\"\",\"zerolinecolor\":\"white\"}},\"shapedefaults\":{\"line\":{\"color\":\"#2a3f5f\"}},\"ternary\":{\"aaxis\":{\"gridcolor\":\"white\",\"linecolor\":\"white\",\"ticks\":\"\"},\"baxis\":{\"gridcolor\":\"white\",\"linecolor\":\"white\",\"ticks\":\"\"},\"bgcolor\":\"#E5ECF6\",\"caxis\":{\"gridcolor\":\"white\",\"linecolor\":\"white\",\"ticks\":\"\"}},\"title\":{\"x\":0.05},\"xaxis\":{\"automargin\":true,\"gridcolor\":\"white\",\"linecolor\":\"white\",\"ticks\":\"\",\"title\":{\"standoff\":15},\"zerolinecolor\":\"white\",\"zerolinewidth\":2},\"yaxis\":{\"automargin\":true,\"gridcolor\":\"white\",\"linecolor\":\"white\",\"ticks\":\"\",\"title\":{\"standoff\":15},\"zerolinecolor\":\"white\",\"zerolinewidth\":2}}},\"xaxis\":{\"anchor\":\"y\",\"domain\":[0.0,1.0],\"title\":{\"text\":\"\"},\"tickformat\":\"%b %y\",\"nticks\":5},\"yaxis\":{\"anchor\":\"x\",\"domain\":[0.0,1.0],\"title\":{\"text\":\"% of total month time listening to music\"},\"rangemode\":\"tozero\",\"ticksuffix\":\"%\"},\"legend\":{\"tracegroupgap\":0},\"margin\":{\"t\":60},\"title\":{\"text\":\"<b>Spotify</b>: <i> How much time did I spend on Spotify each month?\"}},                        {\"responsive\": true}                    ).then(function(){\n",
       "                            \n",
       "var gd = document.getElementById('098c1efb-1f43-4569-8dd6-5c25484d9132');\n",
       "var x = new MutationObserver(function (mutations, observer) {{\n",
       "        var display = window.getComputedStyle(gd).display;\n",
       "        if (!display || display === 'none') {{\n",
       "            console.log([gd, 'removed!']);\n",
       "            Plotly.purge(gd);\n",
       "            observer.disconnect();\n",
       "        }}\n",
       "}});\n",
       "\n",
       "// Listen for the removal of the full notebook cells\n",
       "var notebookContainer = gd.closest('#notebook-container');\n",
       "if (notebookContainer) {{\n",
       "    x.observe(notebookContainer, {childList: true});\n",
       "}}\n",
       "\n",
       "// Listen for the clearing of the current output cell\n",
       "var outputEl = gd.closest('.output');\n",
       "if (outputEl) {{\n",
       "    x.observe(outputEl, {childList: true});\n",
       "}}\n",
       "\n",
       "                        })                };                });            </script>        </div>"
      ]
     },
     "metadata": {},
     "output_type": "display_data"
    }
   ],
   "source": []
  },
  {
   "cell_type": "code",
   "execution_count": 45,
   "id": "05c6ead8",
   "metadata": {},
   "outputs": [
    {
     "data": {
      "application/vnd.plotly.v1+json": {
       "config": {
        "plotlyServerURL": "https://plot.ly"
       },
       "data": [
        {
         "hovertemplate": "day=%{x}<br>value=%{y}<extra></extra>",
         "legendgroup": "",
         "line": {
          "color": "#1DB954",
          "dash": "solid",
          "shape": "spline"
         },
         "marker": {
          "symbol": "circle"
         },
         "mode": "lines+markers+text",
         "name": "",
         "orientation": "v",
         "showlegend": false,
         "textposition": "top center",
         "texttemplate": "%{y:.1f}h",
         "type": "scatter",
         "x": [
          "Mon",
          "Tue",
          "Wed",
          "Thu",
          "Fri",
          "Sat",
          "Sun"
         ],
         "xaxis": "x",
         "y": [
          5.152083130341881,
          4.722124107905985,
          5.067768851495725,
          5.022075438034188,
          4.988784252136751,
          5.171202227463311,
          4.462363883647798
         ],
         "yaxis": "y"
        }
       ],
       "layout": {
        "legend": {
         "tracegroupgap": 0
        },
        "margin": {
         "t": 60
        },
        "template": {
         "data": {
          "bar": [
           {
            "error_x": {
             "color": "#2a3f5f"
            },
            "error_y": {
             "color": "#2a3f5f"
            },
            "marker": {
             "line": {
              "color": "#E5ECF6",
              "width": 0.5
             },
             "pattern": {
              "fillmode": "overlay",
              "size": 10,
              "solidity": 0.2
             }
            },
            "type": "bar"
           }
          ],
          "barpolar": [
           {
            "marker": {
             "line": {
              "color": "#E5ECF6",
              "width": 0.5
             },
             "pattern": {
              "fillmode": "overlay",
              "size": 10,
              "solidity": 0.2
             }
            },
            "type": "barpolar"
           }
          ],
          "carpet": [
           {
            "aaxis": {
             "endlinecolor": "#2a3f5f",
             "gridcolor": "white",
             "linecolor": "white",
             "minorgridcolor": "white",
             "startlinecolor": "#2a3f5f"
            },
            "baxis": {
             "endlinecolor": "#2a3f5f",
             "gridcolor": "white",
             "linecolor": "white",
             "minorgridcolor": "white",
             "startlinecolor": "#2a3f5f"
            },
            "type": "carpet"
           }
          ],
          "choropleth": [
           {
            "colorbar": {
             "outlinewidth": 0,
             "ticks": ""
            },
            "type": "choropleth"
           }
          ],
          "contour": [
           {
            "colorbar": {
             "outlinewidth": 0,
             "ticks": ""
            },
            "colorscale": [
             [
              0,
              "#0d0887"
             ],
             [
              0.1111111111111111,
              "#46039f"
             ],
             [
              0.2222222222222222,
              "#7201a8"
             ],
             [
              0.3333333333333333,
              "#9c179e"
             ],
             [
              0.4444444444444444,
              "#bd3786"
             ],
             [
              0.5555555555555556,
              "#d8576b"
             ],
             [
              0.6666666666666666,
              "#ed7953"
             ],
             [
              0.7777777777777778,
              "#fb9f3a"
             ],
             [
              0.8888888888888888,
              "#fdca26"
             ],
             [
              1,
              "#f0f921"
             ]
            ],
            "type": "contour"
           }
          ],
          "contourcarpet": [
           {
            "colorbar": {
             "outlinewidth": 0,
             "ticks": ""
            },
            "type": "contourcarpet"
           }
          ],
          "heatmap": [
           {
            "colorbar": {
             "outlinewidth": 0,
             "ticks": ""
            },
            "colorscale": [
             [
              0,
              "#0d0887"
             ],
             [
              0.1111111111111111,
              "#46039f"
             ],
             [
              0.2222222222222222,
              "#7201a8"
             ],
             [
              0.3333333333333333,
              "#9c179e"
             ],
             [
              0.4444444444444444,
              "#bd3786"
             ],
             [
              0.5555555555555556,
              "#d8576b"
             ],
             [
              0.6666666666666666,
              "#ed7953"
             ],
             [
              0.7777777777777778,
              "#fb9f3a"
             ],
             [
              0.8888888888888888,
              "#fdca26"
             ],
             [
              1,
              "#f0f921"
             ]
            ],
            "type": "heatmap"
           }
          ],
          "heatmapgl": [
           {
            "colorbar": {
             "outlinewidth": 0,
             "ticks": ""
            },
            "colorscale": [
             [
              0,
              "#0d0887"
             ],
             [
              0.1111111111111111,
              "#46039f"
             ],
             [
              0.2222222222222222,
              "#7201a8"
             ],
             [
              0.3333333333333333,
              "#9c179e"
             ],
             [
              0.4444444444444444,
              "#bd3786"
             ],
             [
              0.5555555555555556,
              "#d8576b"
             ],
             [
              0.6666666666666666,
              "#ed7953"
             ],
             [
              0.7777777777777778,
              "#fb9f3a"
             ],
             [
              0.8888888888888888,
              "#fdca26"
             ],
             [
              1,
              "#f0f921"
             ]
            ],
            "type": "heatmapgl"
           }
          ],
          "histogram": [
           {
            "marker": {
             "pattern": {
              "fillmode": "overlay",
              "size": 10,
              "solidity": 0.2
             }
            },
            "type": "histogram"
           }
          ],
          "histogram2d": [
           {
            "colorbar": {
             "outlinewidth": 0,
             "ticks": ""
            },
            "colorscale": [
             [
              0,
              "#0d0887"
             ],
             [
              0.1111111111111111,
              "#46039f"
             ],
             [
              0.2222222222222222,
              "#7201a8"
             ],
             [
              0.3333333333333333,
              "#9c179e"
             ],
             [
              0.4444444444444444,
              "#bd3786"
             ],
             [
              0.5555555555555556,
              "#d8576b"
             ],
             [
              0.6666666666666666,
              "#ed7953"
             ],
             [
              0.7777777777777778,
              "#fb9f3a"
             ],
             [
              0.8888888888888888,
              "#fdca26"
             ],
             [
              1,
              "#f0f921"
             ]
            ],
            "type": "histogram2d"
           }
          ],
          "histogram2dcontour": [
           {
            "colorbar": {
             "outlinewidth": 0,
             "ticks": ""
            },
            "colorscale": [
             [
              0,
              "#0d0887"
             ],
             [
              0.1111111111111111,
              "#46039f"
             ],
             [
              0.2222222222222222,
              "#7201a8"
             ],
             [
              0.3333333333333333,
              "#9c179e"
             ],
             [
              0.4444444444444444,
              "#bd3786"
             ],
             [
              0.5555555555555556,
              "#d8576b"
             ],
             [
              0.6666666666666666,
              "#ed7953"
             ],
             [
              0.7777777777777778,
              "#fb9f3a"
             ],
             [
              0.8888888888888888,
              "#fdca26"
             ],
             [
              1,
              "#f0f921"
             ]
            ],
            "type": "histogram2dcontour"
           }
          ],
          "mesh3d": [
           {
            "colorbar": {
             "outlinewidth": 0,
             "ticks": ""
            },
            "type": "mesh3d"
           }
          ],
          "parcoords": [
           {
            "line": {
             "colorbar": {
              "outlinewidth": 0,
              "ticks": ""
             }
            },
            "type": "parcoords"
           }
          ],
          "pie": [
           {
            "automargin": true,
            "type": "pie"
           }
          ],
          "scatter": [
           {
            "marker": {
             "colorbar": {
              "outlinewidth": 0,
              "ticks": ""
             }
            },
            "type": "scatter"
           }
          ],
          "scatter3d": [
           {
            "line": {
             "colorbar": {
              "outlinewidth": 0,
              "ticks": ""
             }
            },
            "marker": {
             "colorbar": {
              "outlinewidth": 0,
              "ticks": ""
             }
            },
            "type": "scatter3d"
           }
          ],
          "scattercarpet": [
           {
            "marker": {
             "colorbar": {
              "outlinewidth": 0,
              "ticks": ""
             }
            },
            "type": "scattercarpet"
           }
          ],
          "scattergeo": [
           {
            "marker": {
             "colorbar": {
              "outlinewidth": 0,
              "ticks": ""
             }
            },
            "type": "scattergeo"
           }
          ],
          "scattergl": [
           {
            "marker": {
             "colorbar": {
              "outlinewidth": 0,
              "ticks": ""
             }
            },
            "type": "scattergl"
           }
          ],
          "scattermapbox": [
           {
            "marker": {
             "colorbar": {
              "outlinewidth": 0,
              "ticks": ""
             }
            },
            "type": "scattermapbox"
           }
          ],
          "scatterpolar": [
           {
            "marker": {
             "colorbar": {
              "outlinewidth": 0,
              "ticks": ""
             }
            },
            "type": "scatterpolar"
           }
          ],
          "scatterpolargl": [
           {
            "marker": {
             "colorbar": {
              "outlinewidth": 0,
              "ticks": ""
             }
            },
            "type": "scatterpolargl"
           }
          ],
          "scatterternary": [
           {
            "marker": {
             "colorbar": {
              "outlinewidth": 0,
              "ticks": ""
             }
            },
            "type": "scatterternary"
           }
          ],
          "surface": [
           {
            "colorbar": {
             "outlinewidth": 0,
             "ticks": ""
            },
            "colorscale": [
             [
              0,
              "#0d0887"
             ],
             [
              0.1111111111111111,
              "#46039f"
             ],
             [
              0.2222222222222222,
              "#7201a8"
             ],
             [
              0.3333333333333333,
              "#9c179e"
             ],
             [
              0.4444444444444444,
              "#bd3786"
             ],
             [
              0.5555555555555556,
              "#d8576b"
             ],
             [
              0.6666666666666666,
              "#ed7953"
             ],
             [
              0.7777777777777778,
              "#fb9f3a"
             ],
             [
              0.8888888888888888,
              "#fdca26"
             ],
             [
              1,
              "#f0f921"
             ]
            ],
            "type": "surface"
           }
          ],
          "table": [
           {
            "cells": {
             "fill": {
              "color": "#EBF0F8"
             },
             "line": {
              "color": "white"
             }
            },
            "header": {
             "fill": {
              "color": "#C8D4E3"
             },
             "line": {
              "color": "white"
             }
            },
            "type": "table"
           }
          ]
         },
         "layout": {
          "annotationdefaults": {
           "arrowcolor": "#2a3f5f",
           "arrowhead": 0,
           "arrowwidth": 1
          },
          "autotypenumbers": "strict",
          "coloraxis": {
           "colorbar": {
            "outlinewidth": 0,
            "ticks": ""
           }
          },
          "colorscale": {
           "diverging": [
            [
             0,
             "#8e0152"
            ],
            [
             0.1,
             "#c51b7d"
            ],
            [
             0.2,
             "#de77ae"
            ],
            [
             0.3,
             "#f1b6da"
            ],
            [
             0.4,
             "#fde0ef"
            ],
            [
             0.5,
             "#f7f7f7"
            ],
            [
             0.6,
             "#e6f5d0"
            ],
            [
             0.7,
             "#b8e186"
            ],
            [
             0.8,
             "#7fbc41"
            ],
            [
             0.9,
             "#4d9221"
            ],
            [
             1,
             "#276419"
            ]
           ],
           "sequential": [
            [
             0,
             "#0d0887"
            ],
            [
             0.1111111111111111,
             "#46039f"
            ],
            [
             0.2222222222222222,
             "#7201a8"
            ],
            [
             0.3333333333333333,
             "#9c179e"
            ],
            [
             0.4444444444444444,
             "#bd3786"
            ],
            [
             0.5555555555555556,
             "#d8576b"
            ],
            [
             0.6666666666666666,
             "#ed7953"
            ],
            [
             0.7777777777777778,
             "#fb9f3a"
            ],
            [
             0.8888888888888888,
             "#fdca26"
            ],
            [
             1,
             "#f0f921"
            ]
           ],
           "sequentialminus": [
            [
             0,
             "#0d0887"
            ],
            [
             0.1111111111111111,
             "#46039f"
            ],
            [
             0.2222222222222222,
             "#7201a8"
            ],
            [
             0.3333333333333333,
             "#9c179e"
            ],
            [
             0.4444444444444444,
             "#bd3786"
            ],
            [
             0.5555555555555556,
             "#d8576b"
            ],
            [
             0.6666666666666666,
             "#ed7953"
            ],
            [
             0.7777777777777778,
             "#fb9f3a"
            ],
            [
             0.8888888888888888,
             "#fdca26"
            ],
            [
             1,
             "#f0f921"
            ]
           ]
          },
          "colorway": [
           "#636efa",
           "#EF553B",
           "#00cc96",
           "#ab63fa",
           "#FFA15A",
           "#19d3f3",
           "#FF6692",
           "#B6E880",
           "#FF97FF",
           "#FECB52"
          ],
          "font": {
           "color": "#2a3f5f"
          },
          "geo": {
           "bgcolor": "white",
           "lakecolor": "white",
           "landcolor": "#E5ECF6",
           "showlakes": true,
           "showland": true,
           "subunitcolor": "white"
          },
          "hoverlabel": {
           "align": "left"
          },
          "hovermode": "closest",
          "mapbox": {
           "style": "light"
          },
          "paper_bgcolor": "white",
          "plot_bgcolor": "#E5ECF6",
          "polar": {
           "angularaxis": {
            "gridcolor": "white",
            "linecolor": "white",
            "ticks": ""
           },
           "bgcolor": "#E5ECF6",
           "radialaxis": {
            "gridcolor": "white",
            "linecolor": "white",
            "ticks": ""
           }
          },
          "scene": {
           "xaxis": {
            "backgroundcolor": "#E5ECF6",
            "gridcolor": "white",
            "gridwidth": 2,
            "linecolor": "white",
            "showbackground": true,
            "ticks": "",
            "zerolinecolor": "white"
           },
           "yaxis": {
            "backgroundcolor": "#E5ECF6",
            "gridcolor": "white",
            "gridwidth": 2,
            "linecolor": "white",
            "showbackground": true,
            "ticks": "",
            "zerolinecolor": "white"
           },
           "zaxis": {
            "backgroundcolor": "#E5ECF6",
            "gridcolor": "white",
            "gridwidth": 2,
            "linecolor": "white",
            "showbackground": true,
            "ticks": "",
            "zerolinecolor": "white"
           }
          },
          "shapedefaults": {
           "line": {
            "color": "#2a3f5f"
           }
          },
          "ternary": {
           "aaxis": {
            "gridcolor": "white",
            "linecolor": "white",
            "ticks": ""
           },
           "baxis": {
            "gridcolor": "white",
            "linecolor": "white",
            "ticks": ""
           },
           "bgcolor": "#E5ECF6",
           "caxis": {
            "gridcolor": "white",
            "linecolor": "white",
            "ticks": ""
           }
          },
          "title": {
           "x": 0.05
          },
          "xaxis": {
           "automargin": true,
           "gridcolor": "white",
           "linecolor": "white",
           "ticks": "",
           "title": {
            "standoff": 15
           },
           "zerolinecolor": "white",
           "zerolinewidth": 2
          },
          "yaxis": {
           "automargin": true,
           "gridcolor": "white",
           "linecolor": "white",
           "ticks": "",
           "title": {
            "standoff": 15
           },
           "zerolinecolor": "white",
           "zerolinewidth": 2
          }
         }
        },
        "title": {
         "text": "<b>Spotify (un)Wrapped</b>: <i>When in the week do I listen to music the most?</i>"
        },
        "xaxis": {
         "anchor": "y",
         "domain": [
          0,
          1
         ],
         "title": {
          "text": "Day of the week"
         }
        },
        "yaxis": {
         "anchor": "x",
         "domain": [
          0,
          1
         ],
         "nticks": 2,
         "rangemode": "tozero",
         "ticksuffix": "h",
         "title": {
          "text": "Average hours listened per day"
         }
        }
       }
      },
      "text/html": [
       "<div>                            <div id=\"fe23e70e-3b6e-471c-a007-d24f3cb3a389\" class=\"plotly-graph-div\" style=\"height:525px; width:100%;\"></div>            <script type=\"text/javascript\">                require([\"plotly\"], function(Plotly) {                    window.PLOTLYENV=window.PLOTLYENV || {};                                    if (document.getElementById(\"fe23e70e-3b6e-471c-a007-d24f3cb3a389\")) {                    Plotly.newPlot(                        \"fe23e70e-3b6e-471c-a007-d24f3cb3a389\",                        [{\"hovertemplate\":\"day=%{x}<br>value=%{y}<extra></extra>\",\"legendgroup\":\"\",\"line\":{\"color\":\"#1DB954\",\"dash\":\"solid\",\"shape\":\"spline\"},\"marker\":{\"symbol\":\"circle\"},\"mode\":\"lines+markers+text\",\"name\":\"\",\"orientation\":\"v\",\"showlegend\":false,\"x\":[\"Mon\",\"Tue\",\"Wed\",\"Thu\",\"Fri\",\"Sat\",\"Sun\"],\"xaxis\":\"x\",\"y\":[5.152083130341881,4.722124107905985,5.067768851495725,5.022075438034188,4.988784252136751,5.171202227463311,4.462363883647798],\"yaxis\":\"y\",\"type\":\"scatter\",\"textposition\":\"top center\",\"texttemplate\":\"%{y:.1f}h\"}],                        {\"template\":{\"data\":{\"bar\":[{\"error_x\":{\"color\":\"#2a3f5f\"},\"error_y\":{\"color\":\"#2a3f5f\"},\"marker\":{\"line\":{\"color\":\"#E5ECF6\",\"width\":0.5},\"pattern\":{\"fillmode\":\"overlay\",\"size\":10,\"solidity\":0.2}},\"type\":\"bar\"}],\"barpolar\":[{\"marker\":{\"line\":{\"color\":\"#E5ECF6\",\"width\":0.5},\"pattern\":{\"fillmode\":\"overlay\",\"size\":10,\"solidity\":0.2}},\"type\":\"barpolar\"}],\"carpet\":[{\"aaxis\":{\"endlinecolor\":\"#2a3f5f\",\"gridcolor\":\"white\",\"linecolor\":\"white\",\"minorgridcolor\":\"white\",\"startlinecolor\":\"#2a3f5f\"},\"baxis\":{\"endlinecolor\":\"#2a3f5f\",\"gridcolor\":\"white\",\"linecolor\":\"white\",\"minorgridcolor\":\"white\",\"startlinecolor\":\"#2a3f5f\"},\"type\":\"carpet\"}],\"choropleth\":[{\"colorbar\":{\"outlinewidth\":0,\"ticks\":\"\"},\"type\":\"choropleth\"}],\"contour\":[{\"colorbar\":{\"outlinewidth\":0,\"ticks\":\"\"},\"colorscale\":[[0.0,\"#0d0887\"],[0.1111111111111111,\"#46039f\"],[0.2222222222222222,\"#7201a8\"],[0.3333333333333333,\"#9c179e\"],[0.4444444444444444,\"#bd3786\"],[0.5555555555555556,\"#d8576b\"],[0.6666666666666666,\"#ed7953\"],[0.7777777777777778,\"#fb9f3a\"],[0.8888888888888888,\"#fdca26\"],[1.0,\"#f0f921\"]],\"type\":\"contour\"}],\"contourcarpet\":[{\"colorbar\":{\"outlinewidth\":0,\"ticks\":\"\"},\"type\":\"contourcarpet\"}],\"heatmap\":[{\"colorbar\":{\"outlinewidth\":0,\"ticks\":\"\"},\"colorscale\":[[0.0,\"#0d0887\"],[0.1111111111111111,\"#46039f\"],[0.2222222222222222,\"#7201a8\"],[0.3333333333333333,\"#9c179e\"],[0.4444444444444444,\"#bd3786\"],[0.5555555555555556,\"#d8576b\"],[0.6666666666666666,\"#ed7953\"],[0.7777777777777778,\"#fb9f3a\"],[0.8888888888888888,\"#fdca26\"],[1.0,\"#f0f921\"]],\"type\":\"heatmap\"}],\"heatmapgl\":[{\"colorbar\":{\"outlinewidth\":0,\"ticks\":\"\"},\"colorscale\":[[0.0,\"#0d0887\"],[0.1111111111111111,\"#46039f\"],[0.2222222222222222,\"#7201a8\"],[0.3333333333333333,\"#9c179e\"],[0.4444444444444444,\"#bd3786\"],[0.5555555555555556,\"#d8576b\"],[0.6666666666666666,\"#ed7953\"],[0.7777777777777778,\"#fb9f3a\"],[0.8888888888888888,\"#fdca26\"],[1.0,\"#f0f921\"]],\"type\":\"heatmapgl\"}],\"histogram\":[{\"marker\":{\"pattern\":{\"fillmode\":\"overlay\",\"size\":10,\"solidity\":0.2}},\"type\":\"histogram\"}],\"histogram2d\":[{\"colorbar\":{\"outlinewidth\":0,\"ticks\":\"\"},\"colorscale\":[[0.0,\"#0d0887\"],[0.1111111111111111,\"#46039f\"],[0.2222222222222222,\"#7201a8\"],[0.3333333333333333,\"#9c179e\"],[0.4444444444444444,\"#bd3786\"],[0.5555555555555556,\"#d8576b\"],[0.6666666666666666,\"#ed7953\"],[0.7777777777777778,\"#fb9f3a\"],[0.8888888888888888,\"#fdca26\"],[1.0,\"#f0f921\"]],\"type\":\"histogram2d\"}],\"histogram2dcontour\":[{\"colorbar\":{\"outlinewidth\":0,\"ticks\":\"\"},\"colorscale\":[[0.0,\"#0d0887\"],[0.1111111111111111,\"#46039f\"],[0.2222222222222222,\"#7201a8\"],[0.3333333333333333,\"#9c179e\"],[0.4444444444444444,\"#bd3786\"],[0.5555555555555556,\"#d8576b\"],[0.6666666666666666,\"#ed7953\"],[0.7777777777777778,\"#fb9f3a\"],[0.8888888888888888,\"#fdca26\"],[1.0,\"#f0f921\"]],\"type\":\"histogram2dcontour\"}],\"mesh3d\":[{\"colorbar\":{\"outlinewidth\":0,\"ticks\":\"\"},\"type\":\"mesh3d\"}],\"parcoords\":[{\"line\":{\"colorbar\":{\"outlinewidth\":0,\"ticks\":\"\"}},\"type\":\"parcoords\"}],\"pie\":[{\"automargin\":true,\"type\":\"pie\"}],\"scatter\":[{\"marker\":{\"colorbar\":{\"outlinewidth\":0,\"ticks\":\"\"}},\"type\":\"scatter\"}],\"scatter3d\":[{\"line\":{\"colorbar\":{\"outlinewidth\":0,\"ticks\":\"\"}},\"marker\":{\"colorbar\":{\"outlinewidth\":0,\"ticks\":\"\"}},\"type\":\"scatter3d\"}],\"scattercarpet\":[{\"marker\":{\"colorbar\":{\"outlinewidth\":0,\"ticks\":\"\"}},\"type\":\"scattercarpet\"}],\"scattergeo\":[{\"marker\":{\"colorbar\":{\"outlinewidth\":0,\"ticks\":\"\"}},\"type\":\"scattergeo\"}],\"scattergl\":[{\"marker\":{\"colorbar\":{\"outlinewidth\":0,\"ticks\":\"\"}},\"type\":\"scattergl\"}],\"scattermapbox\":[{\"marker\":{\"colorbar\":{\"outlinewidth\":0,\"ticks\":\"\"}},\"type\":\"scattermapbox\"}],\"scatterpolar\":[{\"marker\":{\"colorbar\":{\"outlinewidth\":0,\"ticks\":\"\"}},\"type\":\"scatterpolar\"}],\"scatterpolargl\":[{\"marker\":{\"colorbar\":{\"outlinewidth\":0,\"ticks\":\"\"}},\"type\":\"scatterpolargl\"}],\"scatterternary\":[{\"marker\":{\"colorbar\":{\"outlinewidth\":0,\"ticks\":\"\"}},\"type\":\"scatterternary\"}],\"surface\":[{\"colorbar\":{\"outlinewidth\":0,\"ticks\":\"\"},\"colorscale\":[[0.0,\"#0d0887\"],[0.1111111111111111,\"#46039f\"],[0.2222222222222222,\"#7201a8\"],[0.3333333333333333,\"#9c179e\"],[0.4444444444444444,\"#bd3786\"],[0.5555555555555556,\"#d8576b\"],[0.6666666666666666,\"#ed7953\"],[0.7777777777777778,\"#fb9f3a\"],[0.8888888888888888,\"#fdca26\"],[1.0,\"#f0f921\"]],\"type\":\"surface\"}],\"table\":[{\"cells\":{\"fill\":{\"color\":\"#EBF0F8\"},\"line\":{\"color\":\"white\"}},\"header\":{\"fill\":{\"color\":\"#C8D4E3\"},\"line\":{\"color\":\"white\"}},\"type\":\"table\"}]},\"layout\":{\"annotationdefaults\":{\"arrowcolor\":\"#2a3f5f\",\"arrowhead\":0,\"arrowwidth\":1},\"autotypenumbers\":\"strict\",\"coloraxis\":{\"colorbar\":{\"outlinewidth\":0,\"ticks\":\"\"}},\"colorscale\":{\"diverging\":[[0,\"#8e0152\"],[0.1,\"#c51b7d\"],[0.2,\"#de77ae\"],[0.3,\"#f1b6da\"],[0.4,\"#fde0ef\"],[0.5,\"#f7f7f7\"],[0.6,\"#e6f5d0\"],[0.7,\"#b8e186\"],[0.8,\"#7fbc41\"],[0.9,\"#4d9221\"],[1,\"#276419\"]],\"sequential\":[[0.0,\"#0d0887\"],[0.1111111111111111,\"#46039f\"],[0.2222222222222222,\"#7201a8\"],[0.3333333333333333,\"#9c179e\"],[0.4444444444444444,\"#bd3786\"],[0.5555555555555556,\"#d8576b\"],[0.6666666666666666,\"#ed7953\"],[0.7777777777777778,\"#fb9f3a\"],[0.8888888888888888,\"#fdca26\"],[1.0,\"#f0f921\"]],\"sequentialminus\":[[0.0,\"#0d0887\"],[0.1111111111111111,\"#46039f\"],[0.2222222222222222,\"#7201a8\"],[0.3333333333333333,\"#9c179e\"],[0.4444444444444444,\"#bd3786\"],[0.5555555555555556,\"#d8576b\"],[0.6666666666666666,\"#ed7953\"],[0.7777777777777778,\"#fb9f3a\"],[0.8888888888888888,\"#fdca26\"],[1.0,\"#f0f921\"]]},\"colorway\":[\"#636efa\",\"#EF553B\",\"#00cc96\",\"#ab63fa\",\"#FFA15A\",\"#19d3f3\",\"#FF6692\",\"#B6E880\",\"#FF97FF\",\"#FECB52\"],\"font\":{\"color\":\"#2a3f5f\"},\"geo\":{\"bgcolor\":\"white\",\"lakecolor\":\"white\",\"landcolor\":\"#E5ECF6\",\"showlakes\":true,\"showland\":true,\"subunitcolor\":\"white\"},\"hoverlabel\":{\"align\":\"left\"},\"hovermode\":\"closest\",\"mapbox\":{\"style\":\"light\"},\"paper_bgcolor\":\"white\",\"plot_bgcolor\":\"#E5ECF6\",\"polar\":{\"angularaxis\":{\"gridcolor\":\"white\",\"linecolor\":\"white\",\"ticks\":\"\"},\"bgcolor\":\"#E5ECF6\",\"radialaxis\":{\"gridcolor\":\"white\",\"linecolor\":\"white\",\"ticks\":\"\"}},\"scene\":{\"xaxis\":{\"backgroundcolor\":\"#E5ECF6\",\"gridcolor\":\"white\",\"gridwidth\":2,\"linecolor\":\"white\",\"showbackground\":true,\"ticks\":\"\",\"zerolinecolor\":\"white\"},\"yaxis\":{\"backgroundcolor\":\"#E5ECF6\",\"gridcolor\":\"white\",\"gridwidth\":2,\"linecolor\":\"white\",\"showbackground\":true,\"ticks\":\"\",\"zerolinecolor\":\"white\"},\"zaxis\":{\"backgroundcolor\":\"#E5ECF6\",\"gridcolor\":\"white\",\"gridwidth\":2,\"linecolor\":\"white\",\"showbackground\":true,\"ticks\":\"\",\"zerolinecolor\":\"white\"}},\"shapedefaults\":{\"line\":{\"color\":\"#2a3f5f\"}},\"ternary\":{\"aaxis\":{\"gridcolor\":\"white\",\"linecolor\":\"white\",\"ticks\":\"\"},\"baxis\":{\"gridcolor\":\"white\",\"linecolor\":\"white\",\"ticks\":\"\"},\"bgcolor\":\"#E5ECF6\",\"caxis\":{\"gridcolor\":\"white\",\"linecolor\":\"white\",\"ticks\":\"\"}},\"title\":{\"x\":0.05},\"xaxis\":{\"automargin\":true,\"gridcolor\":\"white\",\"linecolor\":\"white\",\"ticks\":\"\",\"title\":{\"standoff\":15},\"zerolinecolor\":\"white\",\"zerolinewidth\":2},\"yaxis\":{\"automargin\":true,\"gridcolor\":\"white\",\"linecolor\":\"white\",\"ticks\":\"\",\"title\":{\"standoff\":15},\"zerolinecolor\":\"white\",\"zerolinewidth\":2}}},\"xaxis\":{\"anchor\":\"y\",\"domain\":[0.0,1.0],\"title\":{\"text\":\"Day of the week\"}},\"yaxis\":{\"anchor\":\"x\",\"domain\":[0.0,1.0],\"title\":{\"text\":\"Average hours listened per day\"},\"rangemode\":\"tozero\",\"ticksuffix\":\"h\",\"nticks\":2},\"legend\":{\"tracegroupgap\":0},\"margin\":{\"t\":60},\"title\":{\"text\":\"<b>Spotify (un)Wrapped</b>: <i>When in the week do I listen to music the most?</i>\"}},                        {\"responsive\": true}                    ).then(function(){\n",
       "                            \n",
       "var gd = document.getElementById('fe23e70e-3b6e-471c-a007-d24f3cb3a389');\n",
       "var x = new MutationObserver(function (mutations, observer) {{\n",
       "        var display = window.getComputedStyle(gd).display;\n",
       "        if (!display || display === 'none') {{\n",
       "            console.log([gd, 'removed!']);\n",
       "            Plotly.purge(gd);\n",
       "            observer.disconnect();\n",
       "        }}\n",
       "}});\n",
       "\n",
       "// Listen for the removal of the full notebook cells\n",
       "var notebookContainer = gd.closest('#notebook-container');\n",
       "if (notebookContainer) {{\n",
       "    x.observe(notebookContainer, {childList: true});\n",
       "}}\n",
       "\n",
       "// Listen for the clearing of the current output cell\n",
       "var outputEl = gd.closest('.output');\n",
       "if (outputEl) {{\n",
       "    x.observe(outputEl, {childList: true});\n",
       "}}\n",
       "\n",
       "                        })                };                });            </script>        </div>"
      ]
     },
     "metadata": {},
     "output_type": "display_data"
    }
   ],
   "source": [
    "# Dow x Hours\n",
    "df = hour_df\\\n",
    "        .groupby(['date', 'dow', 'day'], as_index=False)\\\n",
    "        .agg({'value':'sum'})\n",
    "\n",
    "df = df\\\n",
    "        .groupby(['dow', 'day'], as_index=False)\\\n",
    "        .agg({'value':'mean'})\\\n",
    "        .sort_values(by='dow')\n",
    "\n",
    "# df.loc[:, 'dow'] = df['date'].dt.dayofweek\n",
    "# df.loc[:, 'day'] = df['date'].dt.day_name()\n",
    "\n",
    "\n",
    "fig = px.line(df, x='day', y='value', color_discrete_sequence=spotify_colors, line_shape='spline')\n",
    "fig.update_traces(mode='lines+markers+text', texttemplate='%{y:.1f}h', textposition='top center')\n",
    "fig.update_yaxes(rangemode='tozero', ticksuffix='h', nticks=2)\n",
    "\n",
    "fig.update_layout(\n",
    "    title='<b>Spotify (un)Wrapped</b>: <i>When in the week do I listen to music the most?</i>',\n",
    "    yaxis_title='Average hours listened per day',\n",
    "    xaxis_title='Day of the week'\n",
    ")\n",
    "fig.show()"
   ]
  },
  {
   "cell_type": "code",
   "execution_count": 33,
   "id": "a3728d3d",
   "metadata": {},
   "outputs": [
    {
     "data": {
      "application/vnd.plotly.v1+json": {
       "config": {
        "plotlyServerURL": "https://plot.ly"
       },
       "data": [
        {
         "hovertemplate": "week_period=Weekdays<br>hour_disc=%{x}<br>hour_percentage=%{y}<br>text=%{text}<extra></extra>",
         "legendgroup": "Weekdays",
         "line": {
          "color": "#1DB954",
          "dash": "solid",
          "shape": "spline",
          "width": 2.5
         },
         "marker": {
          "symbol": "circle"
         },
         "mode": "lines+markers+text",
         "name": "Weekdays",
         "orientation": "v",
         "showlegend": true,
         "text": [
          "",
          "1h",
          "",
          "",
          "",
          "",
          "",
          "",
          "",
          "",
          "",
          "",
          "",
          "",
          "14h",
          "",
          "",
          "",
          "18h",
          "",
          "",
          "21h",
          "",
          ""
         ],
         "textposition": "top center",
         "type": "scatter",
         "x": [
          0,
          1,
          2,
          3,
          4,
          5,
          6,
          7,
          8,
          9,
          10,
          11,
          12,
          13,
          14,
          15,
          16,
          17,
          18,
          19,
          20,
          21,
          22,
          23
         ],
         "xaxis": "x",
         "y": [
          1.1676548062015506,
          0.5467681395348837,
          0.48724124031007754,
          0.39282984496124035,
          0.30382682170542635,
          0.370902480620155,
          3.587668527131783,
          18.48852341085271,
          29.148804031007746,
          17.728434341085276,
          13.952201007751937,
          17.016457364341086,
          18.515294651162794,
          17.135096899224806,
          15.996958217054264,
          15.486681472868217,
          15.450101395348847,
          17.590072480620154,
          22.195908449612393,
          19.30272612403101,
          16.89621186046511,
          14.889889302325583,
          12.624972093023256,
          4.975133720930234
         ],
         "yaxis": "y"
        },
        {
         "hovertemplate": "week_period=Weekend<br>hour_disc=%{x}<br>hour_percentage=%{y}<br>text=%{text}<extra></extra>",
         "legendgroup": "Weekend",
         "line": {
          "color": "#191414",
          "dash": "solid",
          "shape": "spline",
          "width": 2.5
         },
         "marker": {
          "symbol": "circle"
         },
         "mode": "lines+markers+text",
         "name": "Weekend",
         "orientation": "v",
         "showlegend": true,
         "text": [
          "",
          "",
          "",
          "",
          "",
          "",
          "",
          "",
          "",
          "",
          "",
          "",
          "",
          "",
          "",
          "",
          "16h",
          "",
          "",
          "",
          "",
          "21h",
          "",
          ""
         ],
         "textposition": "top center",
         "type": "scatter",
         "x": [
          0,
          1,
          2,
          3,
          4,
          5,
          6,
          7,
          8,
          9,
          10,
          11,
          12,
          13,
          14,
          15,
          16,
          17,
          18,
          19,
          20,
          21,
          22,
          23
         ],
         "xaxis": "x",
         "y": [
          1.5627280303030302,
          0,
          0.21457064393939396,
          0.15943276515151517,
          0,
          0,
          1.0621725378787878,
          3.997096969696969,
          11.727433333333332,
          22.670311174242425,
          27.114569886363636,
          25.616043371212115,
          23.59920568181818,
          18.895144696969698,
          20.371295454545454,
          18.172686931818184,
          16.453690530303028,
          13.786594507575757,
          10.8344125,
          15.166999621212117,
          12.980548295454541,
          16.650707007575758,
          16.591889772727274,
          7.5534522727272755
         ],
         "yaxis": "y"
        }
       ],
       "layout": {
        "legend": {
         "orientation": "h",
         "title": {
          "text": "Week period"
         },
         "tracegroupgap": 0
        },
        "margin": {
         "t": 60
        },
        "template": {
         "data": {
          "bar": [
           {
            "error_x": {
             "color": "#2a3f5f"
            },
            "error_y": {
             "color": "#2a3f5f"
            },
            "marker": {
             "line": {
              "color": "#E5ECF6",
              "width": 0.5
             },
             "pattern": {
              "fillmode": "overlay",
              "size": 10,
              "solidity": 0.2
             }
            },
            "type": "bar"
           }
          ],
          "barpolar": [
           {
            "marker": {
             "line": {
              "color": "#E5ECF6",
              "width": 0.5
             },
             "pattern": {
              "fillmode": "overlay",
              "size": 10,
              "solidity": 0.2
             }
            },
            "type": "barpolar"
           }
          ],
          "carpet": [
           {
            "aaxis": {
             "endlinecolor": "#2a3f5f",
             "gridcolor": "white",
             "linecolor": "white",
             "minorgridcolor": "white",
             "startlinecolor": "#2a3f5f"
            },
            "baxis": {
             "endlinecolor": "#2a3f5f",
             "gridcolor": "white",
             "linecolor": "white",
             "minorgridcolor": "white",
             "startlinecolor": "#2a3f5f"
            },
            "type": "carpet"
           }
          ],
          "choropleth": [
           {
            "colorbar": {
             "outlinewidth": 0,
             "ticks": ""
            },
            "type": "choropleth"
           }
          ],
          "contour": [
           {
            "colorbar": {
             "outlinewidth": 0,
             "ticks": ""
            },
            "colorscale": [
             [
              0,
              "#0d0887"
             ],
             [
              0.1111111111111111,
              "#46039f"
             ],
             [
              0.2222222222222222,
              "#7201a8"
             ],
             [
              0.3333333333333333,
              "#9c179e"
             ],
             [
              0.4444444444444444,
              "#bd3786"
             ],
             [
              0.5555555555555556,
              "#d8576b"
             ],
             [
              0.6666666666666666,
              "#ed7953"
             ],
             [
              0.7777777777777778,
              "#fb9f3a"
             ],
             [
              0.8888888888888888,
              "#fdca26"
             ],
             [
              1,
              "#f0f921"
             ]
            ],
            "type": "contour"
           }
          ],
          "contourcarpet": [
           {
            "colorbar": {
             "outlinewidth": 0,
             "ticks": ""
            },
            "type": "contourcarpet"
           }
          ],
          "heatmap": [
           {
            "colorbar": {
             "outlinewidth": 0,
             "ticks": ""
            },
            "colorscale": [
             [
              0,
              "#0d0887"
             ],
             [
              0.1111111111111111,
              "#46039f"
             ],
             [
              0.2222222222222222,
              "#7201a8"
             ],
             [
              0.3333333333333333,
              "#9c179e"
             ],
             [
              0.4444444444444444,
              "#bd3786"
             ],
             [
              0.5555555555555556,
              "#d8576b"
             ],
             [
              0.6666666666666666,
              "#ed7953"
             ],
             [
              0.7777777777777778,
              "#fb9f3a"
             ],
             [
              0.8888888888888888,
              "#fdca26"
             ],
             [
              1,
              "#f0f921"
             ]
            ],
            "type": "heatmap"
           }
          ],
          "heatmapgl": [
           {
            "colorbar": {
             "outlinewidth": 0,
             "ticks": ""
            },
            "colorscale": [
             [
              0,
              "#0d0887"
             ],
             [
              0.1111111111111111,
              "#46039f"
             ],
             [
              0.2222222222222222,
              "#7201a8"
             ],
             [
              0.3333333333333333,
              "#9c179e"
             ],
             [
              0.4444444444444444,
              "#bd3786"
             ],
             [
              0.5555555555555556,
              "#d8576b"
             ],
             [
              0.6666666666666666,
              "#ed7953"
             ],
             [
              0.7777777777777778,
              "#fb9f3a"
             ],
             [
              0.8888888888888888,
              "#fdca26"
             ],
             [
              1,
              "#f0f921"
             ]
            ],
            "type": "heatmapgl"
           }
          ],
          "histogram": [
           {
            "marker": {
             "pattern": {
              "fillmode": "overlay",
              "size": 10,
              "solidity": 0.2
             }
            },
            "type": "histogram"
           }
          ],
          "histogram2d": [
           {
            "colorbar": {
             "outlinewidth": 0,
             "ticks": ""
            },
            "colorscale": [
             [
              0,
              "#0d0887"
             ],
             [
              0.1111111111111111,
              "#46039f"
             ],
             [
              0.2222222222222222,
              "#7201a8"
             ],
             [
              0.3333333333333333,
              "#9c179e"
             ],
             [
              0.4444444444444444,
              "#bd3786"
             ],
             [
              0.5555555555555556,
              "#d8576b"
             ],
             [
              0.6666666666666666,
              "#ed7953"
             ],
             [
              0.7777777777777778,
              "#fb9f3a"
             ],
             [
              0.8888888888888888,
              "#fdca26"
             ],
             [
              1,
              "#f0f921"
             ]
            ],
            "type": "histogram2d"
           }
          ],
          "histogram2dcontour": [
           {
            "colorbar": {
             "outlinewidth": 0,
             "ticks": ""
            },
            "colorscale": [
             [
              0,
              "#0d0887"
             ],
             [
              0.1111111111111111,
              "#46039f"
             ],
             [
              0.2222222222222222,
              "#7201a8"
             ],
             [
              0.3333333333333333,
              "#9c179e"
             ],
             [
              0.4444444444444444,
              "#bd3786"
             ],
             [
              0.5555555555555556,
              "#d8576b"
             ],
             [
              0.6666666666666666,
              "#ed7953"
             ],
             [
              0.7777777777777778,
              "#fb9f3a"
             ],
             [
              0.8888888888888888,
              "#fdca26"
             ],
             [
              1,
              "#f0f921"
             ]
            ],
            "type": "histogram2dcontour"
           }
          ],
          "mesh3d": [
           {
            "colorbar": {
             "outlinewidth": 0,
             "ticks": ""
            },
            "type": "mesh3d"
           }
          ],
          "parcoords": [
           {
            "line": {
             "colorbar": {
              "outlinewidth": 0,
              "ticks": ""
             }
            },
            "type": "parcoords"
           }
          ],
          "pie": [
           {
            "automargin": true,
            "type": "pie"
           }
          ],
          "scatter": [
           {
            "marker": {
             "colorbar": {
              "outlinewidth": 0,
              "ticks": ""
             }
            },
            "type": "scatter"
           }
          ],
          "scatter3d": [
           {
            "line": {
             "colorbar": {
              "outlinewidth": 0,
              "ticks": ""
             }
            },
            "marker": {
             "colorbar": {
              "outlinewidth": 0,
              "ticks": ""
             }
            },
            "type": "scatter3d"
           }
          ],
          "scattercarpet": [
           {
            "marker": {
             "colorbar": {
              "outlinewidth": 0,
              "ticks": ""
             }
            },
            "type": "scattercarpet"
           }
          ],
          "scattergeo": [
           {
            "marker": {
             "colorbar": {
              "outlinewidth": 0,
              "ticks": ""
             }
            },
            "type": "scattergeo"
           }
          ],
          "scattergl": [
           {
            "marker": {
             "colorbar": {
              "outlinewidth": 0,
              "ticks": ""
             }
            },
            "type": "scattergl"
           }
          ],
          "scattermapbox": [
           {
            "marker": {
             "colorbar": {
              "outlinewidth": 0,
              "ticks": ""
             }
            },
            "type": "scattermapbox"
           }
          ],
          "scatterpolar": [
           {
            "marker": {
             "colorbar": {
              "outlinewidth": 0,
              "ticks": ""
             }
            },
            "type": "scatterpolar"
           }
          ],
          "scatterpolargl": [
           {
            "marker": {
             "colorbar": {
              "outlinewidth": 0,
              "ticks": ""
             }
            },
            "type": "scatterpolargl"
           }
          ],
          "scatterternary": [
           {
            "marker": {
             "colorbar": {
              "outlinewidth": 0,
              "ticks": ""
             }
            },
            "type": "scatterternary"
           }
          ],
          "surface": [
           {
            "colorbar": {
             "outlinewidth": 0,
             "ticks": ""
            },
            "colorscale": [
             [
              0,
              "#0d0887"
             ],
             [
              0.1111111111111111,
              "#46039f"
             ],
             [
              0.2222222222222222,
              "#7201a8"
             ],
             [
              0.3333333333333333,
              "#9c179e"
             ],
             [
              0.4444444444444444,
              "#bd3786"
             ],
             [
              0.5555555555555556,
              "#d8576b"
             ],
             [
              0.6666666666666666,
              "#ed7953"
             ],
             [
              0.7777777777777778,
              "#fb9f3a"
             ],
             [
              0.8888888888888888,
              "#fdca26"
             ],
             [
              1,
              "#f0f921"
             ]
            ],
            "type": "surface"
           }
          ],
          "table": [
           {
            "cells": {
             "fill": {
              "color": "#EBF0F8"
             },
             "line": {
              "color": "white"
             }
            },
            "header": {
             "fill": {
              "color": "#C8D4E3"
             },
             "line": {
              "color": "white"
             }
            },
            "type": "table"
           }
          ]
         },
         "layout": {
          "annotationdefaults": {
           "arrowcolor": "#2a3f5f",
           "arrowhead": 0,
           "arrowwidth": 1
          },
          "autotypenumbers": "strict",
          "coloraxis": {
           "colorbar": {
            "outlinewidth": 0,
            "ticks": ""
           }
          },
          "colorscale": {
           "diverging": [
            [
             0,
             "#8e0152"
            ],
            [
             0.1,
             "#c51b7d"
            ],
            [
             0.2,
             "#de77ae"
            ],
            [
             0.3,
             "#f1b6da"
            ],
            [
             0.4,
             "#fde0ef"
            ],
            [
             0.5,
             "#f7f7f7"
            ],
            [
             0.6,
             "#e6f5d0"
            ],
            [
             0.7,
             "#b8e186"
            ],
            [
             0.8,
             "#7fbc41"
            ],
            [
             0.9,
             "#4d9221"
            ],
            [
             1,
             "#276419"
            ]
           ],
           "sequential": [
            [
             0,
             "#0d0887"
            ],
            [
             0.1111111111111111,
             "#46039f"
            ],
            [
             0.2222222222222222,
             "#7201a8"
            ],
            [
             0.3333333333333333,
             "#9c179e"
            ],
            [
             0.4444444444444444,
             "#bd3786"
            ],
            [
             0.5555555555555556,
             "#d8576b"
            ],
            [
             0.6666666666666666,
             "#ed7953"
            ],
            [
             0.7777777777777778,
             "#fb9f3a"
            ],
            [
             0.8888888888888888,
             "#fdca26"
            ],
            [
             1,
             "#f0f921"
            ]
           ],
           "sequentialminus": [
            [
             0,
             "#0d0887"
            ],
            [
             0.1111111111111111,
             "#46039f"
            ],
            [
             0.2222222222222222,
             "#7201a8"
            ],
            [
             0.3333333333333333,
             "#9c179e"
            ],
            [
             0.4444444444444444,
             "#bd3786"
            ],
            [
             0.5555555555555556,
             "#d8576b"
            ],
            [
             0.6666666666666666,
             "#ed7953"
            ],
            [
             0.7777777777777778,
             "#fb9f3a"
            ],
            [
             0.8888888888888888,
             "#fdca26"
            ],
            [
             1,
             "#f0f921"
            ]
           ]
          },
          "colorway": [
           "#636efa",
           "#EF553B",
           "#00cc96",
           "#ab63fa",
           "#FFA15A",
           "#19d3f3",
           "#FF6692",
           "#B6E880",
           "#FF97FF",
           "#FECB52"
          ],
          "font": {
           "color": "#2a3f5f"
          },
          "geo": {
           "bgcolor": "white",
           "lakecolor": "white",
           "landcolor": "#E5ECF6",
           "showlakes": true,
           "showland": true,
           "subunitcolor": "white"
          },
          "hoverlabel": {
           "align": "left"
          },
          "hovermode": "closest",
          "mapbox": {
           "style": "light"
          },
          "paper_bgcolor": "white",
          "plot_bgcolor": "#E5ECF6",
          "polar": {
           "angularaxis": {
            "gridcolor": "white",
            "linecolor": "white",
            "ticks": ""
           },
           "bgcolor": "#E5ECF6",
           "radialaxis": {
            "gridcolor": "white",
            "linecolor": "white",
            "ticks": ""
           }
          },
          "scene": {
           "xaxis": {
            "backgroundcolor": "#E5ECF6",
            "gridcolor": "white",
            "gridwidth": 2,
            "linecolor": "white",
            "showbackground": true,
            "ticks": "",
            "zerolinecolor": "white"
           },
           "yaxis": {
            "backgroundcolor": "#E5ECF6",
            "gridcolor": "white",
            "gridwidth": 2,
            "linecolor": "white",
            "showbackground": true,
            "ticks": "",
            "zerolinecolor": "white"
           },
           "zaxis": {
            "backgroundcolor": "#E5ECF6",
            "gridcolor": "white",
            "gridwidth": 2,
            "linecolor": "white",
            "showbackground": true,
            "ticks": "",
            "zerolinecolor": "white"
           }
          },
          "shapedefaults": {
           "line": {
            "color": "#2a3f5f"
           }
          },
          "ternary": {
           "aaxis": {
            "gridcolor": "white",
            "linecolor": "white",
            "ticks": ""
           },
           "baxis": {
            "gridcolor": "white",
            "linecolor": "white",
            "ticks": ""
           },
           "bgcolor": "#E5ECF6",
           "caxis": {
            "gridcolor": "white",
            "linecolor": "white",
            "ticks": ""
           }
          },
          "title": {
           "x": 0.05
          },
          "xaxis": {
           "automargin": true,
           "gridcolor": "white",
           "linecolor": "white",
           "ticks": "",
           "title": {
            "standoff": 15
           },
           "zerolinecolor": "white",
           "zerolinewidth": 2
          },
          "yaxis": {
           "automargin": true,
           "gridcolor": "white",
           "linecolor": "white",
           "ticks": "",
           "title": {
            "standoff": 15
           },
           "zerolinecolor": "white",
           "zerolinewidth": 2
          }
         }
        },
        "title": {
         "text": "<b>Spotify (un)Wrapped</b>: <i>At what time did I listen to music?</i>"
        },
        "xaxis": {
         "anchor": "y",
         "domain": [
          0,
          1
         ],
         "tickangle": 45,
         "ticksuffix": "h",
         "title": {
          "text": ""
         }
        },
        "yaxis": {
         "anchor": "x",
         "domain": [
          0,
          1
         ],
         "nticks": 5,
         "rangemode": "tozero",
         "ticksuffix": "min",
         "title": {
          "text": "Average time listening to music (min)"
         }
        }
       }
      },
      "text/html": [
       "<div>                            <div id=\"17e009b5-099f-430b-8dec-93e20b2b5f9e\" class=\"plotly-graph-div\" style=\"height:525px; width:100%;\"></div>            <script type=\"text/javascript\">                require([\"plotly\"], function(Plotly) {                    window.PLOTLYENV=window.PLOTLYENV || {};                                    if (document.getElementById(\"17e009b5-099f-430b-8dec-93e20b2b5f9e\")) {                    Plotly.newPlot(                        \"17e009b5-099f-430b-8dec-93e20b2b5f9e\",                        [{\"hovertemplate\":\"week_period=Weekdays<br>hour_disc=%{x}<br>hour_percentage=%{y}<br>text=%{text}<extra></extra>\",\"legendgroup\":\"Weekdays\",\"line\":{\"color\":\"#1DB954\",\"dash\":\"solid\",\"shape\":\"spline\",\"width\":2.5},\"marker\":{\"symbol\":\"circle\"},\"mode\":\"lines+markers+text\",\"name\":\"Weekdays\",\"orientation\":\"v\",\"showlegend\":true,\"text\":[\"\",\"1h\",\"\",\"\",\"\",\"\",\"\",\"\",\"\",\"\",\"\",\"\",\"\",\"\",\"14h\",\"\",\"\",\"\",\"18h\",\"\",\"\",\"21h\",\"\",\"\"],\"x\":[0,1,2,3,4,5,6,7,8,9,10,11,12,13,14,15,16,17,18,19,20,21,22,23],\"xaxis\":\"x\",\"y\":[1.1676548062015506,0.5467681395348837,0.48724124031007754,0.39282984496124035,0.30382682170542635,0.370902480620155,3.587668527131783,18.48852341085271,29.148804031007746,17.728434341085276,13.952201007751937,17.016457364341086,18.515294651162794,17.135096899224806,15.996958217054264,15.486681472868217,15.450101395348847,17.590072480620154,22.195908449612393,19.30272612403101,16.89621186046511,14.889889302325583,12.624972093023256,4.975133720930234],\"yaxis\":\"y\",\"type\":\"scatter\",\"textposition\":\"top center\"},{\"hovertemplate\":\"week_period=Weekend<br>hour_disc=%{x}<br>hour_percentage=%{y}<br>text=%{text}<extra></extra>\",\"legendgroup\":\"Weekend\",\"line\":{\"color\":\"#191414\",\"dash\":\"solid\",\"shape\":\"spline\",\"width\":2.5},\"marker\":{\"symbol\":\"circle\"},\"mode\":\"lines+markers+text\",\"name\":\"Weekend\",\"orientation\":\"v\",\"showlegend\":true,\"text\":[\"\",\"\",\"\",\"\",\"\",\"\",\"\",\"\",\"\",\"\",\"\",\"\",\"\",\"\",\"\",\"\",\"16h\",\"\",\"\",\"\",\"\",\"21h\",\"\",\"\"],\"x\":[0,1,2,3,4,5,6,7,8,9,10,11,12,13,14,15,16,17,18,19,20,21,22,23],\"xaxis\":\"x\",\"y\":[1.5627280303030302,0.0,0.21457064393939396,0.15943276515151517,0.0,0.0,1.0621725378787878,3.997096969696969,11.727433333333332,22.670311174242425,27.114569886363636,25.616043371212115,23.59920568181818,18.895144696969698,20.371295454545454,18.172686931818184,16.453690530303028,13.786594507575757,10.8344125,15.166999621212117,12.980548295454541,16.650707007575758,16.591889772727274,7.5534522727272755],\"yaxis\":\"y\",\"type\":\"scatter\",\"textposition\":\"top center\"}],                        {\"template\":{\"data\":{\"bar\":[{\"error_x\":{\"color\":\"#2a3f5f\"},\"error_y\":{\"color\":\"#2a3f5f\"},\"marker\":{\"line\":{\"color\":\"#E5ECF6\",\"width\":0.5},\"pattern\":{\"fillmode\":\"overlay\",\"size\":10,\"solidity\":0.2}},\"type\":\"bar\"}],\"barpolar\":[{\"marker\":{\"line\":{\"color\":\"#E5ECF6\",\"width\":0.5},\"pattern\":{\"fillmode\":\"overlay\",\"size\":10,\"solidity\":0.2}},\"type\":\"barpolar\"}],\"carpet\":[{\"aaxis\":{\"endlinecolor\":\"#2a3f5f\",\"gridcolor\":\"white\",\"linecolor\":\"white\",\"minorgridcolor\":\"white\",\"startlinecolor\":\"#2a3f5f\"},\"baxis\":{\"endlinecolor\":\"#2a3f5f\",\"gridcolor\":\"white\",\"linecolor\":\"white\",\"minorgridcolor\":\"white\",\"startlinecolor\":\"#2a3f5f\"},\"type\":\"carpet\"}],\"choropleth\":[{\"colorbar\":{\"outlinewidth\":0,\"ticks\":\"\"},\"type\":\"choropleth\"}],\"contour\":[{\"colorbar\":{\"outlinewidth\":0,\"ticks\":\"\"},\"colorscale\":[[0.0,\"#0d0887\"],[0.1111111111111111,\"#46039f\"],[0.2222222222222222,\"#7201a8\"],[0.3333333333333333,\"#9c179e\"],[0.4444444444444444,\"#bd3786\"],[0.5555555555555556,\"#d8576b\"],[0.6666666666666666,\"#ed7953\"],[0.7777777777777778,\"#fb9f3a\"],[0.8888888888888888,\"#fdca26\"],[1.0,\"#f0f921\"]],\"type\":\"contour\"}],\"contourcarpet\":[{\"colorbar\":{\"outlinewidth\":0,\"ticks\":\"\"},\"type\":\"contourcarpet\"}],\"heatmap\":[{\"colorbar\":{\"outlinewidth\":0,\"ticks\":\"\"},\"colorscale\":[[0.0,\"#0d0887\"],[0.1111111111111111,\"#46039f\"],[0.2222222222222222,\"#7201a8\"],[0.3333333333333333,\"#9c179e\"],[0.4444444444444444,\"#bd3786\"],[0.5555555555555556,\"#d8576b\"],[0.6666666666666666,\"#ed7953\"],[0.7777777777777778,\"#fb9f3a\"],[0.8888888888888888,\"#fdca26\"],[1.0,\"#f0f921\"]],\"type\":\"heatmap\"}],\"heatmapgl\":[{\"colorbar\":{\"outlinewidth\":0,\"ticks\":\"\"},\"colorscale\":[[0.0,\"#0d0887\"],[0.1111111111111111,\"#46039f\"],[0.2222222222222222,\"#7201a8\"],[0.3333333333333333,\"#9c179e\"],[0.4444444444444444,\"#bd3786\"],[0.5555555555555556,\"#d8576b\"],[0.6666666666666666,\"#ed7953\"],[0.7777777777777778,\"#fb9f3a\"],[0.8888888888888888,\"#fdca26\"],[1.0,\"#f0f921\"]],\"type\":\"heatmapgl\"}],\"histogram\":[{\"marker\":{\"pattern\":{\"fillmode\":\"overlay\",\"size\":10,\"solidity\":0.2}},\"type\":\"histogram\"}],\"histogram2d\":[{\"colorbar\":{\"outlinewidth\":0,\"ticks\":\"\"},\"colorscale\":[[0.0,\"#0d0887\"],[0.1111111111111111,\"#46039f\"],[0.2222222222222222,\"#7201a8\"],[0.3333333333333333,\"#9c179e\"],[0.4444444444444444,\"#bd3786\"],[0.5555555555555556,\"#d8576b\"],[0.6666666666666666,\"#ed7953\"],[0.7777777777777778,\"#fb9f3a\"],[0.8888888888888888,\"#fdca26\"],[1.0,\"#f0f921\"]],\"type\":\"histogram2d\"}],\"histogram2dcontour\":[{\"colorbar\":{\"outlinewidth\":0,\"ticks\":\"\"},\"colorscale\":[[0.0,\"#0d0887\"],[0.1111111111111111,\"#46039f\"],[0.2222222222222222,\"#7201a8\"],[0.3333333333333333,\"#9c179e\"],[0.4444444444444444,\"#bd3786\"],[0.5555555555555556,\"#d8576b\"],[0.6666666666666666,\"#ed7953\"],[0.7777777777777778,\"#fb9f3a\"],[0.8888888888888888,\"#fdca26\"],[1.0,\"#f0f921\"]],\"type\":\"histogram2dcontour\"}],\"mesh3d\":[{\"colorbar\":{\"outlinewidth\":0,\"ticks\":\"\"},\"type\":\"mesh3d\"}],\"parcoords\":[{\"line\":{\"colorbar\":{\"outlinewidth\":0,\"ticks\":\"\"}},\"type\":\"parcoords\"}],\"pie\":[{\"automargin\":true,\"type\":\"pie\"}],\"scatter\":[{\"marker\":{\"colorbar\":{\"outlinewidth\":0,\"ticks\":\"\"}},\"type\":\"scatter\"}],\"scatter3d\":[{\"line\":{\"colorbar\":{\"outlinewidth\":0,\"ticks\":\"\"}},\"marker\":{\"colorbar\":{\"outlinewidth\":0,\"ticks\":\"\"}},\"type\":\"scatter3d\"}],\"scattercarpet\":[{\"marker\":{\"colorbar\":{\"outlinewidth\":0,\"ticks\":\"\"}},\"type\":\"scattercarpet\"}],\"scattergeo\":[{\"marker\":{\"colorbar\":{\"outlinewidth\":0,\"ticks\":\"\"}},\"type\":\"scattergeo\"}],\"scattergl\":[{\"marker\":{\"colorbar\":{\"outlinewidth\":0,\"ticks\":\"\"}},\"type\":\"scattergl\"}],\"scattermapbox\":[{\"marker\":{\"colorbar\":{\"outlinewidth\":0,\"ticks\":\"\"}},\"type\":\"scattermapbox\"}],\"scatterpolar\":[{\"marker\":{\"colorbar\":{\"outlinewidth\":0,\"ticks\":\"\"}},\"type\":\"scatterpolar\"}],\"scatterpolargl\":[{\"marker\":{\"colorbar\":{\"outlinewidth\":0,\"ticks\":\"\"}},\"type\":\"scatterpolargl\"}],\"scatterternary\":[{\"marker\":{\"colorbar\":{\"outlinewidth\":0,\"ticks\":\"\"}},\"type\":\"scatterternary\"}],\"surface\":[{\"colorbar\":{\"outlinewidth\":0,\"ticks\":\"\"},\"colorscale\":[[0.0,\"#0d0887\"],[0.1111111111111111,\"#46039f\"],[0.2222222222222222,\"#7201a8\"],[0.3333333333333333,\"#9c179e\"],[0.4444444444444444,\"#bd3786\"],[0.5555555555555556,\"#d8576b\"],[0.6666666666666666,\"#ed7953\"],[0.7777777777777778,\"#fb9f3a\"],[0.8888888888888888,\"#fdca26\"],[1.0,\"#f0f921\"]],\"type\":\"surface\"}],\"table\":[{\"cells\":{\"fill\":{\"color\":\"#EBF0F8\"},\"line\":{\"color\":\"white\"}},\"header\":{\"fill\":{\"color\":\"#C8D4E3\"},\"line\":{\"color\":\"white\"}},\"type\":\"table\"}]},\"layout\":{\"annotationdefaults\":{\"arrowcolor\":\"#2a3f5f\",\"arrowhead\":0,\"arrowwidth\":1},\"autotypenumbers\":\"strict\",\"coloraxis\":{\"colorbar\":{\"outlinewidth\":0,\"ticks\":\"\"}},\"colorscale\":{\"diverging\":[[0,\"#8e0152\"],[0.1,\"#c51b7d\"],[0.2,\"#de77ae\"],[0.3,\"#f1b6da\"],[0.4,\"#fde0ef\"],[0.5,\"#f7f7f7\"],[0.6,\"#e6f5d0\"],[0.7,\"#b8e186\"],[0.8,\"#7fbc41\"],[0.9,\"#4d9221\"],[1,\"#276419\"]],\"sequential\":[[0.0,\"#0d0887\"],[0.1111111111111111,\"#46039f\"],[0.2222222222222222,\"#7201a8\"],[0.3333333333333333,\"#9c179e\"],[0.4444444444444444,\"#bd3786\"],[0.5555555555555556,\"#d8576b\"],[0.6666666666666666,\"#ed7953\"],[0.7777777777777778,\"#fb9f3a\"],[0.8888888888888888,\"#fdca26\"],[1.0,\"#f0f921\"]],\"sequentialminus\":[[0.0,\"#0d0887\"],[0.1111111111111111,\"#46039f\"],[0.2222222222222222,\"#7201a8\"],[0.3333333333333333,\"#9c179e\"],[0.4444444444444444,\"#bd3786\"],[0.5555555555555556,\"#d8576b\"],[0.6666666666666666,\"#ed7953\"],[0.7777777777777778,\"#fb9f3a\"],[0.8888888888888888,\"#fdca26\"],[1.0,\"#f0f921\"]]},\"colorway\":[\"#636efa\",\"#EF553B\",\"#00cc96\",\"#ab63fa\",\"#FFA15A\",\"#19d3f3\",\"#FF6692\",\"#B6E880\",\"#FF97FF\",\"#FECB52\"],\"font\":{\"color\":\"#2a3f5f\"},\"geo\":{\"bgcolor\":\"white\",\"lakecolor\":\"white\",\"landcolor\":\"#E5ECF6\",\"showlakes\":true,\"showland\":true,\"subunitcolor\":\"white\"},\"hoverlabel\":{\"align\":\"left\"},\"hovermode\":\"closest\",\"mapbox\":{\"style\":\"light\"},\"paper_bgcolor\":\"white\",\"plot_bgcolor\":\"#E5ECF6\",\"polar\":{\"angularaxis\":{\"gridcolor\":\"white\",\"linecolor\":\"white\",\"ticks\":\"\"},\"bgcolor\":\"#E5ECF6\",\"radialaxis\":{\"gridcolor\":\"white\",\"linecolor\":\"white\",\"ticks\":\"\"}},\"scene\":{\"xaxis\":{\"backgroundcolor\":\"#E5ECF6\",\"gridcolor\":\"white\",\"gridwidth\":2,\"linecolor\":\"white\",\"showbackground\":true,\"ticks\":\"\",\"zerolinecolor\":\"white\"},\"yaxis\":{\"backgroundcolor\":\"#E5ECF6\",\"gridcolor\":\"white\",\"gridwidth\":2,\"linecolor\":\"white\",\"showbackground\":true,\"ticks\":\"\",\"zerolinecolor\":\"white\"},\"zaxis\":{\"backgroundcolor\":\"#E5ECF6\",\"gridcolor\":\"white\",\"gridwidth\":2,\"linecolor\":\"white\",\"showbackground\":true,\"ticks\":\"\",\"zerolinecolor\":\"white\"}},\"shapedefaults\":{\"line\":{\"color\":\"#2a3f5f\"}},\"ternary\":{\"aaxis\":{\"gridcolor\":\"white\",\"linecolor\":\"white\",\"ticks\":\"\"},\"baxis\":{\"gridcolor\":\"white\",\"linecolor\":\"white\",\"ticks\":\"\"},\"bgcolor\":\"#E5ECF6\",\"caxis\":{\"gridcolor\":\"white\",\"linecolor\":\"white\",\"ticks\":\"\"}},\"title\":{\"x\":0.05},\"xaxis\":{\"automargin\":true,\"gridcolor\":\"white\",\"linecolor\":\"white\",\"ticks\":\"\",\"title\":{\"standoff\":15},\"zerolinecolor\":\"white\",\"zerolinewidth\":2},\"yaxis\":{\"automargin\":true,\"gridcolor\":\"white\",\"linecolor\":\"white\",\"ticks\":\"\",\"title\":{\"standoff\":15},\"zerolinecolor\":\"white\",\"zerolinewidth\":2}}},\"xaxis\":{\"anchor\":\"y\",\"domain\":[0.0,1.0],\"title\":{\"text\":\"\"},\"ticksuffix\":\"h\",\"tickangle\":45},\"yaxis\":{\"anchor\":\"x\",\"domain\":[0.0,1.0],\"title\":{\"text\":\"Average time listening to music (min)\"},\"rangemode\":\"tozero\",\"ticksuffix\":\"min\",\"nticks\":5},\"legend\":{\"title\":{\"text\":\"Week period\"},\"tracegroupgap\":0,\"orientation\":\"h\"},\"margin\":{\"t\":60},\"title\":{\"text\":\"<b>Spotify (un)Wrapped</b>: <i>At what time did I listen to music?</i>\"}},                        {\"responsive\": true}                    ).then(function(){\n",
       "                            \n",
       "var gd = document.getElementById('17e009b5-099f-430b-8dec-93e20b2b5f9e');\n",
       "var x = new MutationObserver(function (mutations, observer) {{\n",
       "        var display = window.getComputedStyle(gd).display;\n",
       "        if (!display || display === 'none') {{\n",
       "            console.log([gd, 'removed!']);\n",
       "            Plotly.purge(gd);\n",
       "            observer.disconnect();\n",
       "        }}\n",
       "}});\n",
       "\n",
       "// Listen for the removal of the full notebook cells\n",
       "var notebookContainer = gd.closest('#notebook-container');\n",
       "if (notebookContainer) {{\n",
       "    x.observe(notebookContainer, {childList: true});\n",
       "}}\n",
       "\n",
       "// Listen for the clearing of the current output cell\n",
       "var outputEl = gd.closest('.output');\n",
       "if (outputEl) {{\n",
       "    x.observe(outputEl, {childList: true});\n",
       "}}\n",
       "\n",
       "                        })                };                });            </script>        </div>"
      ]
     },
     "metadata": {},
     "output_type": "display_data"
    }
   ],
   "source": [
    "df = hour_df.copy()\n",
    "df.loc[:, 'hour_disc'] = np.floor(df['hour']/1)*1\n",
    "\n",
    "df.loc[:, 'week_period'] = df['dow'].apply(lambda x: 'Weekend' if x >= 5 else 'Weekdays')\n",
    "\n",
    "df = df\\\n",
    "        .groupby(['hour_disc', 'week_period'], as_index=False)\\\n",
    "        .agg({'value':'mean'})\\\n",
    "        .sort_values(by=['week_period', 'hour_disc'])\n",
    "\n",
    "df.loc[:, 'hour_percentage'] = df['value']*60\n",
    "df.loc[:, 'text'] = ''\n",
    "df.loc[(df['week_period'] == 'Weekdays') & (df['hour_disc'].isin([1, 14, 18, 21])), 'text'] = df['hour_disc'].apply(lambda x: \"{:.0f}h\".format(x))\n",
    "df.loc[(df['week_period'] == 'Weekend') & (df['hour_disc'].isin([16, 21])), 'text'] = df['hour_disc'].apply(lambda x: \"{:.0f}h\".format(x))\n",
    "\n",
    "\n",
    "fig = px.line(df, x='hour_disc', y='hour_percentage', color='week_period', text='text',\n",
    "              line_shape='spline', color_discrete_sequence=spotify_colors)\n",
    "fig.update_traces(mode='lines+markers+text', textposition='top center', line_width=2.5)\n",
    "fig.update_yaxes(rangemode='tozero', ticksuffix='min', nticks=5)\n",
    "fig.update_xaxes(title='', ticksuffix='h', tickangle=45)\n",
    "fig.update_layout(\n",
    "#     legend_orientation='h',\n",
    "    title='<b>Spotify (un)Wrapped</b>: <i>At what time did I listen to music?</i>',\n",
    "    legend_title='Week period',\n",
    "    legend_orientation='h',\n",
    "    yaxis_title='Average time listening to music (min)',\n",
    ")\n",
    "fig.show()"
   ]
  },
  {
   "cell_type": "code",
   "execution_count": null,
   "id": "7539e699",
   "metadata": {},
   "outputs": [],
   "source": []
  }
 ],
 "metadata": {
  "kernelspec": {
   "display_name": "Python 3",
   "language": "python",
   "name": "python3"
  },
  "language_info": {
   "codemirror_mode": {
    "name": "ipython",
    "version": 3
   },
   "file_extension": ".py",
   "mimetype": "text/x-python",
   "name": "python",
   "nbconvert_exporter": "python",
   "pygments_lexer": "ipython3",
   "version": "3.8.8"
  }
 },
 "nbformat": 4,
 "nbformat_minor": 5
}
